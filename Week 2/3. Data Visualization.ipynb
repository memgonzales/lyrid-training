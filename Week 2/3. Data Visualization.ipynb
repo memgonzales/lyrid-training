{
 "cells": [
  {
   "cell_type": "markdown",
   "metadata": {},
   "source": [
    "### This project features interactive maps and HTML markup. Since Github does not support dynamic displays for notebooks, it is necessary to download the project to render the elements and to manipulate the data visualizations.\n",
    "\n",
    "# Data Visualization\n",
    "\n",
    "This is the <b>third in a series of three Jupyter notebooks</b> on the 2018 Food Consumption and CO<sub>2</sub> Emissions. This activity is in partial fulfillment of the Tidy Tuesdays deliverables for probationary Lyrids of the <b>Center for Complexity and Emerging Technologies, College of Computer Studies, De La Salle University</b>.\n",
    "\n",
    "<b>Climate change and global warming are pressing environmental issues &mdash; and among the foremost drivers of these are human-induced Emissions of greenhouse gases, such as carbon dioxide (CO<sub>2</sub>)</b>. While this project does not seek to present a professional or rigorous statistical analysis, the author of this series of Jupyter notebooks would like to increase awareness on the importance of data-driven policy directions and to hopefully contribute to the present discourse on how food consumption can greatly impact our carbon footprint. \n",
    "\n",
    "<hr/>\n",
    "\n",
    "The required dataset for this Tidy Tuesdays activity is the 2018 Food Consumption and CO<sub>2</sub> Emissions from the R Community's Tidy Tuesdays (Github): https://github.com/rfordatascience/tidytuesday/tree/master/data/2020/2020-02-18. \n",
    "\n",
    "To enrich the analysis and visualization, the following datasets were integrated:\n",
    "\n",
    "- Country Codes and Names - http://country.io/names.json\n",
    "- World Bank Country and Lending Groups (Classification for the 2018 Fiscal Year) - https://datahelpdesk.worldbank.org/knowledgebase/articles/906519-world-bank-country-and-lending-groups\n",
    "\n",
    "These datasets are stored in the folder <code>data</code> of the repository."
   ]
  },
  {
   "cell_type": "markdown",
   "metadata": {},
   "source": [
    "# PRELIMINARIES *(Lifted from Data Preparation)*"
   ]
  },
  {
   "cell_type": "markdown",
   "metadata": {},
   "source": [
    "<b>Due to restrictions related to the size of files in Github repositories, the project had to be divided into separate notebooks. In this regard, this section is just a repeat of pertinent code excerpts from the data preparation and analysis phases. </b> \n",
    "\n",
    "For the complete documentation, please refer to these notebooks: <code>1. Data Preparation.ipynb</code> and <code>2. Data Analysis.ipynb</code>."
   ]
  },
  {
   "cell_type": "code",
   "execution_count": 1,
   "metadata": {},
   "outputs": [
    {
     "data": {
      "text/html": [
       "        <script type=\"text/javascript\">\n",
       "        window.PlotlyConfig = {MathJaxConfig: 'local'};\n",
       "        if (window.MathJax) {MathJax.Hub.Config({SVG: {font: \"STIX-Web\"}});}\n",
       "        if (typeof require !== 'undefined') {\n",
       "        require.undef(\"plotly\");\n",
       "        requirejs.config({\n",
       "            paths: {\n",
       "                'plotly': ['https://cdn.plot.ly/plotly-latest.min']\n",
       "            }\n",
       "        });\n",
       "        require(['plotly'], function(Plotly) {\n",
       "            window._Plotly = Plotly;\n",
       "        });\n",
       "        }\n",
       "        </script>\n",
       "        "
      ]
     },
     "metadata": {},
     "output_type": "display_data"
    }
   ],
   "source": [
    "import re\n",
    "import json\n",
    "\n",
    "import pandas as pd\n",
    "import numpy as np\n",
    "import scipy.stats\n",
    "import matplotlib.pyplot as plt\n",
    "from pywaffle import Waffle\n",
    "\n",
    "import plotly.express as px\n",
    "import plotly.graph_objs as go\n",
    "from plotly.subplots import make_subplots\n",
    "from plotly.offline import iplot, init_notebook_mode\n",
    "init_notebook_mode(connected = True)\n",
    "\n",
    "pd.options.mode.chained_assignment = None  \n",
    "\n",
    "NUM_ROWS = 10\n",
    "\n",
    "pd.set_option('display.max_rows', NUM_ROWS)\n",
    "pd.set_option('display.min_rows', NUM_ROWS)"
   ]
  },
  {
   "cell_type": "code",
   "execution_count": 2,
   "metadata": {},
   "outputs": [],
   "source": [
    "standardized_names = [(\"Taiwan. ROC\", \"Taiwan\"),\n",
    "                      (\"USA\", \"United States\"),\n",
    "                      (\"Hong Kong SAR. China\", \"Hong Kong\"),\n",
    "                      (\"Congo\", \"Republic of the Congo\")]\n",
    "\n",
    "standardized_categories = [(\"Milk - inc. cheese\", \"Milk & Cheese\"),\n",
    "                           (\"Wheat and Wheat Products\", \"Wheat & Wheat Products\"),\n",
    "                           (\"Nuts inc. Peanut Butter\", \"Nuts & Peanut Butter\")]"
   ]
  },
  {
   "cell_type": "code",
   "execution_count": 3,
   "metadata": {},
   "outputs": [],
   "source": [
    "data_raw = pd.read_csv('data/food_consumption.csv')\n",
    "data = data_raw.copy(deep = True)\n",
    "\n",
    "for name in standardized_names:\n",
    "    data['country'] = data['country'].str.replace(re.escape(name[0]), name[1])\n",
    "    \n",
    "for category in standardized_categories:\n",
    "    data['food_category'] = data['food_category'].str.replace(re.escape(category[0]), category[1])"
   ]
  },
  {
   "cell_type": "code",
   "execution_count": 4,
   "metadata": {},
   "outputs": [],
   "source": [
    "animal_products = ['country', 'Beef', 'Eggs', 'Fish', 'Lamb & Goat', 'Milk & Cheese', 'Pork', 'Poultry']\n",
    "plant_products = ['country', 'Nuts & Peanut Butter', 'Rice', 'Soybeans', 'Wheat & Wheat Products']"
   ]
  },
  {
   "cell_type": "code",
   "execution_count": 5,
   "metadata": {},
   "outputs": [],
   "source": [
    "country_data = data.pivot(index = 'country', columns = 'food_category', values = 'consumption').reset_index()\n",
    "\n",
    "country_data['TOTAL'] = country_data['Beef'] + country_data['Eggs'] + country_data['Fish'] \\\n",
    "                        + country_data['Lamb & Goat'] + country_data['Milk & Cheese'] \\\n",
    "                        + country_data['Nuts & Peanut Butter'] + country_data['Pork'] + country_data['Poultry'] \\\n",
    "                        + country_data['Rice'] + country_data['Soybeans'] + country_data['Wheat & Wheat Products']"
   ]
  },
  {
   "cell_type": "code",
   "execution_count": 6,
   "metadata": {},
   "outputs": [],
   "source": [
    "sorted_country_data = country_data.sort_values(by = 'TOTAL', ascending = False).reset_index(drop = True)\n",
    "sorted_country_data = sorted_country_data.head(20)"
   ]
  },
  {
   "cell_type": "code",
   "execution_count": 7,
   "metadata": {},
   "outputs": [],
   "source": [
    "co2_data = data.pivot(index = 'country', columns = 'food_category', values = 'co2_emmission').reset_index()\n",
    "\n",
    "co2_data['TOTAL'] = co2_data['Beef'] + co2_data['Eggs'] + co2_data['Fish'] \\\n",
    "                    + co2_data['Lamb & Goat'] + co2_data['Milk & Cheese'] \\\n",
    "                    + co2_data['Nuts & Peanut Butter'] + co2_data['Pork'] + co2_data['Poultry'] \\\n",
    "                    + co2_data['Rice'] + co2_data['Soybeans'] + co2_data['Wheat & Wheat Products']\n",
    "\n",
    "animal_co2_data = co2_data[animal_products]\n",
    "animal_co2_data['TOTAL'] = animal_co2_data['Beef'] + animal_co2_data['Eggs'] + animal_co2_data['Fish'] \\\n",
    "                               + animal_co2_data['Lamb & Goat'] + animal_co2_data['Milk & Cheese'] \\\n",
    "                               + animal_co2_data['Pork'] + animal_co2_data['Poultry']\n",
    "    \n",
    "plant_co2_data = co2_data[plant_products]\n",
    "plant_co2_data['TOTAL'] = plant_co2_data['Nuts & Peanut Butter'] \\\n",
    "                              + plant_co2_data['Rice'] + plant_co2_data['Soybeans'] \\\n",
    "                              + plant_co2_data['Wheat & Wheat Products']"
   ]
  },
  {
   "cell_type": "code",
   "execution_count": 8,
   "metadata": {},
   "outputs": [],
   "source": [
    "sorted_co2_data = co2_data.sort_values(by = 'TOTAL', ascending = False).reset_index(drop = True)\n",
    "sorted_co2_data = sorted_co2_data.head(20)"
   ]
  },
  {
   "cell_type": "code",
   "execution_count": 9,
   "metadata": {},
   "outputs": [],
   "source": [
    "animal_plant = animal_co2_data[['country', 'TOTAL']]\n",
    "animal_plant = animal_plant.rename(columns = {\"TOTAL\": \"Animal-Based Food Product Emission\"})\n",
    "\n",
    "animal_plant['Plant-Based Food Product Emission'] = plant_co2_data['TOTAL']\n",
    "animal_plant['Total'] = animal_plant['Animal-Based Food Product Emission'] + animal_plant['Plant-Based Food Product Emission']\n",
    "animal_plant['Difference'] = animal_plant['Animal-Based Food Product Emission'] - animal_plant['Plant-Based Food Product Emission']"
   ]
  },
  {
   "cell_type": "code",
   "execution_count": 10,
   "metadata": {},
   "outputs": [],
   "source": [
    "food_data = data.groupby(['food_category'], as_index = False).sum()"
   ]
  },
  {
   "cell_type": "code",
   "execution_count": 11,
   "metadata": {},
   "outputs": [],
   "source": [
    "consumption_co2 = country_data[['country','TOTAL']]\n",
    "consumption_co2 = consumption_co2.rename(columns = {\"TOTAL\": \"Total Consumption\"})\n",
    "\n",
    "consumption_co2['Total CO2 Emission'] = co2_data['TOTAL']"
   ]
  },
  {
   "cell_type": "markdown",
   "metadata": {},
   "source": [
    "## *More Data Preparation*"
   ]
  },
  {
   "cell_type": "markdown",
   "metadata": {},
   "source": [
    "In the interest of generating the data visualizations, additional data preparation has to be performed."
   ]
  },
  {
   "cell_type": "markdown",
   "metadata": {},
   "source": [
    "### *For Animal-Based vs. Plant-Based Sources*"
   ]
  },
  {
   "cell_type": "markdown",
   "metadata": {},
   "source": [
    "In order to manage the size of the data visualization, we filter the entries to the highest ten and the ten five animal-to-plant-based emission difference. The code below prepares the reference table for this visualization:"
   ]
  },
  {
   "cell_type": "code",
   "execution_count": 12,
   "metadata": {},
   "outputs": [],
   "source": [
    "sorted_animal_plant = animal_plant.sort_values(by = 'Difference', ascending = False).reset_index(drop = True)\n",
    "sorted_animal_plant_head = sorted_animal_plant.head(10)\n",
    "sorted_animal_plant_tail = sorted_animal_plant.tail(10)"
   ]
  },
  {
   "cell_type": "markdown",
   "metadata": {},
   "source": [
    "### *For Economics & Mileage of Carbon Footprints*"
   ]
  },
  {
   "cell_type": "markdown",
   "metadata": {},
   "source": [
    "In order to enrich our analysis and visualization of the economics and mileage of carbon footprints, we import the following CSV file, which we constructed from the data provided by the World Bank on country and lending groups, accessible via this link: https://datahelpdesk.worldbank.org/knowledgebase/articles/906519-world-bank-country-and-lending-groups. \n",
    "\n",
    "Essentially, countries are tagged depending on their economy:\n",
    "- Low income\n",
    "- Lower middle income\n",
    "- Upper middle income\n",
    "- High income"
   ]
  },
  {
   "cell_type": "code",
   "execution_count": 13,
   "metadata": {},
   "outputs": [
    {
     "data": {
      "text/html": [
       "<div>\n",
       "<style scoped>\n",
       "    .dataframe tbody tr th:only-of-type {\n",
       "        vertical-align: middle;\n",
       "    }\n",
       "\n",
       "    .dataframe tbody tr th {\n",
       "        vertical-align: top;\n",
       "    }\n",
       "\n",
       "    .dataframe thead th {\n",
       "        text-align: right;\n",
       "    }\n",
       "</style>\n",
       "<table border=\"1\" class=\"dataframe\">\n",
       "  <thead>\n",
       "    <tr style=\"text-align: right;\">\n",
       "      <th></th>\n",
       "      <th>country</th>\n",
       "      <th>code</th>\n",
       "      <th>geography</th>\n",
       "      <th>economy</th>\n",
       "    </tr>\n",
       "  </thead>\n",
       "  <tbody>\n",
       "    <tr>\n",
       "      <th>0</th>\n",
       "      <td>Afghanistan</td>\n",
       "      <td>AFG</td>\n",
       "      <td>South Asia</td>\n",
       "      <td>Low income</td>\n",
       "    </tr>\n",
       "    <tr>\n",
       "      <th>1</th>\n",
       "      <td>Albania</td>\n",
       "      <td>ALB</td>\n",
       "      <td>Europe &amp; Central Asia</td>\n",
       "      <td>Upper middle income</td>\n",
       "    </tr>\n",
       "    <tr>\n",
       "      <th>2</th>\n",
       "      <td>Algeria</td>\n",
       "      <td>DZA</td>\n",
       "      <td>Middle East &amp; North Africa</td>\n",
       "      <td>Lower middle income</td>\n",
       "    </tr>\n",
       "    <tr>\n",
       "      <th>3</th>\n",
       "      <td>American Samoa</td>\n",
       "      <td>ASM</td>\n",
       "      <td>East Asia &amp; Pacific</td>\n",
       "      <td>Upper middle income</td>\n",
       "    </tr>\n",
       "    <tr>\n",
       "      <th>4</th>\n",
       "      <td>Andorra</td>\n",
       "      <td>AND</td>\n",
       "      <td>Europe &amp; Central Asia</td>\n",
       "      <td>High income</td>\n",
       "    </tr>\n",
       "    <tr>\n",
       "      <th>...</th>\n",
       "      <td>...</td>\n",
       "      <td>...</td>\n",
       "      <td>...</td>\n",
       "      <td>...</td>\n",
       "    </tr>\n",
       "    <tr>\n",
       "      <th>213</th>\n",
       "      <td>Virgin Islands (U.S.)</td>\n",
       "      <td>VIR</td>\n",
       "      <td>Latin America &amp; Caribbean</td>\n",
       "      <td>High income</td>\n",
       "    </tr>\n",
       "    <tr>\n",
       "      <th>214</th>\n",
       "      <td>West Bank and Gaza</td>\n",
       "      <td>PSE</td>\n",
       "      <td>Middle East &amp; North Africa</td>\n",
       "      <td>Lower middle income</td>\n",
       "    </tr>\n",
       "    <tr>\n",
       "      <th>215</th>\n",
       "      <td>Yemen, Rep.</td>\n",
       "      <td>YEM</td>\n",
       "      <td>Middle East &amp; North Africa</td>\n",
       "      <td>Low income</td>\n",
       "    </tr>\n",
       "    <tr>\n",
       "      <th>216</th>\n",
       "      <td>Zambia</td>\n",
       "      <td>ZMB</td>\n",
       "      <td>Sub-Saharan Africa</td>\n",
       "      <td>Lower middle income</td>\n",
       "    </tr>\n",
       "    <tr>\n",
       "      <th>217</th>\n",
       "      <td>Zimbabwe</td>\n",
       "      <td>ZWE</td>\n",
       "      <td>Sub-Saharan Africa</td>\n",
       "      <td>Lower middle income</td>\n",
       "    </tr>\n",
       "  </tbody>\n",
       "</table>\n",
       "<p>218 rows × 4 columns</p>\n",
       "</div>"
      ],
      "text/plain": [
       "                   country code                   geography  \\\n",
       "0              Afghanistan  AFG                  South Asia   \n",
       "1                  Albania  ALB       Europe & Central Asia   \n",
       "2                  Algeria  DZA  Middle East & North Africa   \n",
       "3           American Samoa  ASM         East Asia & Pacific   \n",
       "4                  Andorra  AND       Europe & Central Asia   \n",
       "..                     ...  ...                         ...   \n",
       "213  Virgin Islands (U.S.)  VIR   Latin America & Caribbean   \n",
       "214     West Bank and Gaza  PSE  Middle East & North Africa   \n",
       "215            Yemen, Rep.  YEM  Middle East & North Africa   \n",
       "216                 Zambia  ZMB          Sub-Saharan Africa   \n",
       "217               Zimbabwe  ZWE          Sub-Saharan Africa   \n",
       "\n",
       "                 economy  \n",
       "0             Low income  \n",
       "1    Upper middle income  \n",
       "2    Lower middle income  \n",
       "3    Upper middle income  \n",
       "4            High income  \n",
       "..                   ...  \n",
       "213          High income  \n",
       "214  Lower middle income  \n",
       "215           Low income  \n",
       "216  Lower middle income  \n",
       "217  Lower middle income  \n",
       "\n",
       "[218 rows x 4 columns]"
      ]
     },
     "execution_count": 13,
     "metadata": {},
     "output_type": "execute_result"
    }
   ],
   "source": [
    "economies = pd.read_csv('data/countries_by_income.csv', encoding = 'ISO-8859-1')\n",
    "economies"
   ]
  },
  {
   "cell_type": "markdown",
   "metadata": {},
   "source": [
    "We merge this World Bank classification with our current dataset. \n",
    "\n",
    "*Since we are expecting discrepancies between country names, we will use **right join** in order to identify the country names in our dataset that are different from those in the World Bank classification.*"
   ]
  },
  {
   "cell_type": "code",
   "execution_count": 14,
   "metadata": {},
   "outputs": [
    {
     "data": {
      "text/html": [
       "<div>\n",
       "<style scoped>\n",
       "    .dataframe tbody tr th:only-of-type {\n",
       "        vertical-align: middle;\n",
       "    }\n",
       "\n",
       "    .dataframe tbody tr th {\n",
       "        vertical-align: top;\n",
       "    }\n",
       "\n",
       "    .dataframe thead th {\n",
       "        text-align: right;\n",
       "    }\n",
       "</style>\n",
       "<table border=\"1\" class=\"dataframe\">\n",
       "  <thead>\n",
       "    <tr style=\"text-align: right;\">\n",
       "      <th></th>\n",
       "      <th>country</th>\n",
       "      <th>code</th>\n",
       "      <th>geography</th>\n",
       "      <th>economy</th>\n",
       "      <th>Beef</th>\n",
       "      <th>Eggs</th>\n",
       "      <th>Fish</th>\n",
       "      <th>Lamb &amp; Goat</th>\n",
       "      <th>Milk &amp; Cheese</th>\n",
       "      <th>Nuts &amp; Peanut Butter</th>\n",
       "      <th>Pork</th>\n",
       "      <th>Poultry</th>\n",
       "      <th>Rice</th>\n",
       "      <th>Soybeans</th>\n",
       "      <th>Wheat &amp; Wheat Products</th>\n",
       "      <th>TOTAL</th>\n",
       "    </tr>\n",
       "  </thead>\n",
       "  <tbody>\n",
       "    <tr>\n",
       "      <th>0</th>\n",
       "      <td>Albania</td>\n",
       "      <td>ALB</td>\n",
       "      <td>Europe &amp; Central Asia</td>\n",
       "      <td>Upper middle income</td>\n",
       "      <td>22.50</td>\n",
       "      <td>12.45</td>\n",
       "      <td>3.85</td>\n",
       "      <td>15.32</td>\n",
       "      <td>303.72</td>\n",
       "      <td>4.36</td>\n",
       "      <td>10.88</td>\n",
       "      <td>13.23</td>\n",
       "      <td>7.78</td>\n",
       "      <td>0.00</td>\n",
       "      <td>138.64</td>\n",
       "      <td>532.73</td>\n",
       "    </tr>\n",
       "    <tr>\n",
       "      <th>1</th>\n",
       "      <td>Algeria</td>\n",
       "      <td>DZA</td>\n",
       "      <td>Middle East &amp; North Africa</td>\n",
       "      <td>Lower middle income</td>\n",
       "      <td>5.60</td>\n",
       "      <td>8.06</td>\n",
       "      <td>3.74</td>\n",
       "      <td>7.69</td>\n",
       "      <td>141.53</td>\n",
       "      <td>2.08</td>\n",
       "      <td>0.00</td>\n",
       "      <td>7.42</td>\n",
       "      <td>2.97</td>\n",
       "      <td>0.00</td>\n",
       "      <td>185.42</td>\n",
       "      <td>364.51</td>\n",
       "    </tr>\n",
       "    <tr>\n",
       "      <th>2</th>\n",
       "      <td>Angola</td>\n",
       "      <td>AGO</td>\n",
       "      <td>Sub-Saharan Africa</td>\n",
       "      <td>Lower middle income</td>\n",
       "      <td>8.42</td>\n",
       "      <td>1.11</td>\n",
       "      <td>15.24</td>\n",
       "      <td>1.08</td>\n",
       "      <td>12.30</td>\n",
       "      <td>2.26</td>\n",
       "      <td>8.89</td>\n",
       "      <td>17.33</td>\n",
       "      <td>8.12</td>\n",
       "      <td>0.52</td>\n",
       "      <td>40.72</td>\n",
       "      <td>115.99</td>\n",
       "    </tr>\n",
       "    <tr>\n",
       "      <th>3</th>\n",
       "      <td>Argentina</td>\n",
       "      <td>ARG</td>\n",
       "      <td>Latin America &amp; Caribbean</td>\n",
       "      <td>Upper middle income</td>\n",
       "      <td>55.48</td>\n",
       "      <td>11.39</td>\n",
       "      <td>4.36</td>\n",
       "      <td>1.56</td>\n",
       "      <td>195.08</td>\n",
       "      <td>0.49</td>\n",
       "      <td>10.51</td>\n",
       "      <td>38.66</td>\n",
       "      <td>8.77</td>\n",
       "      <td>0.00</td>\n",
       "      <td>103.11</td>\n",
       "      <td>429.41</td>\n",
       "    </tr>\n",
       "    <tr>\n",
       "      <th>4</th>\n",
       "      <td>Armenia</td>\n",
       "      <td>ARM</td>\n",
       "      <td>Europe &amp; Central Asia</td>\n",
       "      <td>Upper middle income</td>\n",
       "      <td>19.66</td>\n",
       "      <td>11.69</td>\n",
       "      <td>4.36</td>\n",
       "      <td>3.02</td>\n",
       "      <td>209.03</td>\n",
       "      <td>2.55</td>\n",
       "      <td>9.67</td>\n",
       "      <td>13.35</td>\n",
       "      <td>3.18</td>\n",
       "      <td>0.00</td>\n",
       "      <td>130.60</td>\n",
       "      <td>407.11</td>\n",
       "    </tr>\n",
       "    <tr>\n",
       "      <th>...</th>\n",
       "      <td>...</td>\n",
       "      <td>...</td>\n",
       "      <td>...</td>\n",
       "      <td>...</td>\n",
       "      <td>...</td>\n",
       "      <td>...</td>\n",
       "      <td>...</td>\n",
       "      <td>...</td>\n",
       "      <td>...</td>\n",
       "      <td>...</td>\n",
       "      <td>...</td>\n",
       "      <td>...</td>\n",
       "      <td>...</td>\n",
       "      <td>...</td>\n",
       "      <td>...</td>\n",
       "      <td>...</td>\n",
       "    </tr>\n",
       "    <tr>\n",
       "      <th>125</th>\n",
       "      <td>Slovakia</td>\n",
       "      <td>NaN</td>\n",
       "      <td>NaN</td>\n",
       "      <td>NaN</td>\n",
       "      <td>5.19</td>\n",
       "      <td>16.05</td>\n",
       "      <td>8.39</td>\n",
       "      <td>0.16</td>\n",
       "      <td>143.14</td>\n",
       "      <td>3.70</td>\n",
       "      <td>31.78</td>\n",
       "      <td>15.13</td>\n",
       "      <td>2.88</td>\n",
       "      <td>0.02</td>\n",
       "      <td>123.62</td>\n",
       "      <td>350.06</td>\n",
       "    </tr>\n",
       "    <tr>\n",
       "      <th>126</th>\n",
       "      <td>South Korea</td>\n",
       "      <td>NaN</td>\n",
       "      <td>NaN</td>\n",
       "      <td>NaN</td>\n",
       "      <td>14.53</td>\n",
       "      <td>11.24</td>\n",
       "      <td>33.09</td>\n",
       "      <td>0.14</td>\n",
       "      <td>29.05</td>\n",
       "      <td>4.88</td>\n",
       "      <td>32.76</td>\n",
       "      <td>16.00</td>\n",
       "      <td>85.18</td>\n",
       "      <td>8.35</td>\n",
       "      <td>50.84</td>\n",
       "      <td>286.06</td>\n",
       "    </tr>\n",
       "    <tr>\n",
       "      <th>127</th>\n",
       "      <td>Swaziland</td>\n",
       "      <td>NaN</td>\n",
       "      <td>NaN</td>\n",
       "      <td>NaN</td>\n",
       "      <td>15.10</td>\n",
       "      <td>1.50</td>\n",
       "      <td>1.26</td>\n",
       "      <td>1.94</td>\n",
       "      <td>56.60</td>\n",
       "      <td>6.44</td>\n",
       "      <td>2.43</td>\n",
       "      <td>6.18</td>\n",
       "      <td>21.15</td>\n",
       "      <td>0.55</td>\n",
       "      <td>37.15</td>\n",
       "      <td>150.30</td>\n",
       "    </tr>\n",
       "    <tr>\n",
       "      <th>128</th>\n",
       "      <td>Taiwan</td>\n",
       "      <td>NaN</td>\n",
       "      <td>NaN</td>\n",
       "      <td>NaN</td>\n",
       "      <td>5.21</td>\n",
       "      <td>13.08</td>\n",
       "      <td>18.29</td>\n",
       "      <td>0.92</td>\n",
       "      <td>41.72</td>\n",
       "      <td>9.06</td>\n",
       "      <td>39.37</td>\n",
       "      <td>32.13</td>\n",
       "      <td>45.85</td>\n",
       "      <td>16.95</td>\n",
       "      <td>50.92</td>\n",
       "      <td>273.50</td>\n",
       "    </tr>\n",
       "    <tr>\n",
       "      <th>129</th>\n",
       "      <td>Venezuela</td>\n",
       "      <td>NaN</td>\n",
       "      <td>NaN</td>\n",
       "      <td>NaN</td>\n",
       "      <td>25.89</td>\n",
       "      <td>5.63</td>\n",
       "      <td>8.34</td>\n",
       "      <td>0.32</td>\n",
       "      <td>117.79</td>\n",
       "      <td>0.35</td>\n",
       "      <td>7.23</td>\n",
       "      <td>39.28</td>\n",
       "      <td>23.39</td>\n",
       "      <td>0.00</td>\n",
       "      <td>49.17</td>\n",
       "      <td>277.39</td>\n",
       "    </tr>\n",
       "  </tbody>\n",
       "</table>\n",
       "<p>130 rows × 16 columns</p>\n",
       "</div>"
      ],
      "text/plain": [
       "         country code                   geography              economy   Beef  \\\n",
       "0        Albania  ALB       Europe & Central Asia  Upper middle income  22.50   \n",
       "1        Algeria  DZA  Middle East & North Africa  Lower middle income   5.60   \n",
       "2         Angola  AGO          Sub-Saharan Africa  Lower middle income   8.42   \n",
       "3      Argentina  ARG   Latin America & Caribbean  Upper middle income  55.48   \n",
       "4        Armenia  ARM       Europe & Central Asia  Upper middle income  19.66   \n",
       "..           ...  ...                         ...                  ...    ...   \n",
       "125     Slovakia  NaN                         NaN                  NaN   5.19   \n",
       "126  South Korea  NaN                         NaN                  NaN  14.53   \n",
       "127    Swaziland  NaN                         NaN                  NaN  15.10   \n",
       "128       Taiwan  NaN                         NaN                  NaN   5.21   \n",
       "129    Venezuela  NaN                         NaN                  NaN  25.89   \n",
       "\n",
       "      Eggs   Fish  Lamb & Goat  Milk & Cheese  Nuts & Peanut Butter   Pork  \\\n",
       "0    12.45   3.85        15.32         303.72                  4.36  10.88   \n",
       "1     8.06   3.74         7.69         141.53                  2.08   0.00   \n",
       "2     1.11  15.24         1.08          12.30                  2.26   8.89   \n",
       "3    11.39   4.36         1.56         195.08                  0.49  10.51   \n",
       "4    11.69   4.36         3.02         209.03                  2.55   9.67   \n",
       "..     ...    ...          ...            ...                   ...    ...   \n",
       "125  16.05   8.39         0.16         143.14                  3.70  31.78   \n",
       "126  11.24  33.09         0.14          29.05                  4.88  32.76   \n",
       "127   1.50   1.26         1.94          56.60                  6.44   2.43   \n",
       "128  13.08  18.29         0.92          41.72                  9.06  39.37   \n",
       "129   5.63   8.34         0.32         117.79                  0.35   7.23   \n",
       "\n",
       "     Poultry   Rice  Soybeans  Wheat & Wheat Products   TOTAL  \n",
       "0      13.23   7.78      0.00                  138.64  532.73  \n",
       "1       7.42   2.97      0.00                  185.42  364.51  \n",
       "2      17.33   8.12      0.52                   40.72  115.99  \n",
       "3      38.66   8.77      0.00                  103.11  429.41  \n",
       "4      13.35   3.18      0.00                  130.60  407.11  \n",
       "..       ...    ...       ...                     ...     ...  \n",
       "125    15.13   2.88      0.02                  123.62  350.06  \n",
       "126    16.00  85.18      8.35                   50.84  286.06  \n",
       "127     6.18  21.15      0.55                   37.15  150.30  \n",
       "128    32.13  45.85     16.95                   50.92  273.50  \n",
       "129    39.28  23.39      0.00                   49.17  277.39  \n",
       "\n",
       "[130 rows x 16 columns]"
      ]
     },
     "execution_count": 14,
     "metadata": {},
     "output_type": "execute_result"
    }
   ],
   "source": [
    "countries_economies = pd.merge(economies, country_data, on = ['country', 'country'], how = 'right')\n",
    "countries_economies"
   ]
  },
  {
   "cell_type": "markdown",
   "metadata": {},
   "source": [
    "Entries with null values correspond to the country names in our dataset that are different from those in the World Bank classification."
   ]
  },
  {
   "cell_type": "code",
   "execution_count": 15,
   "metadata": {},
   "outputs": [
    {
     "name": "stdout",
     "output_type": "stream",
     "text": [
      "['Bahamas', 'Egypt', 'Gambia', 'Hong Kong', 'Iran', 'Macedonia', 'Republic of the Congo', 'Russia', 'Slovakia', 'South Korea', 'Swaziland', 'Taiwan', 'Venezuela']\n"
     ]
    }
   ],
   "source": [
    "countries_economies_null = countries_economies[countries_economies.isna().any(axis = 1)]\n",
    "print(list(countries_economies_null['country']))"
   ]
  },
  {
   "cell_type": "markdown",
   "metadata": {},
   "source": [
    "In this regard, a list, <code>standardized_names_economies</code>, consisting of tuples is constructed. The first element in each tuple refers to the name in the World Bank classification while the second element refers to the name in our dataset. We will use this list in order to update the values in the World Bank classification."
   ]
  },
  {
   "cell_type": "code",
   "execution_count": 16,
   "metadata": {},
   "outputs": [
    {
     "name": "stdout",
     "output_type": "stream",
     "text": [
      "['Afghanistan' 'Albania' 'Algeria' 'American Samoa' 'Andorra' 'Angola'\n",
      " 'Antigua and Barbuda' 'Argentina' 'Armenia' 'Aruba' 'Australia' 'Austria'\n",
      " 'Azerbaijan' 'Bahamas' 'Bahrain' 'Bangladesh' 'Barbados' 'Belarus'\n",
      " 'Belgium' 'Belize' 'Benin' 'Bermuda' 'Bhutan' 'Bolivia'\n",
      " 'Bosnia and Herzegovina' 'Botswana' 'Brazil' 'British Virgin Islands'\n",
      " 'Brunei Darussalam' 'Bulgaria' 'Burkina Faso' 'Burundi' 'Cabo Verde'\n",
      " 'Cambodia' 'Cameroon' 'Canada' 'Cayman Islands'\n",
      " 'Central African Republic' 'Chad' 'Channel Islands' 'Chile' 'China'\n",
      " 'Colombia' 'Comoros' 'Congo, Dem. Rep.' 'Republic of the Congo'\n",
      " 'Costa Rica' \"Côte d'Ivoire\" 'Croatia' 'Cuba' 'Curaçao' 'Cyprus'\n",
      " 'Czech Republic' 'Denmark' 'Djibouti' 'Dominica' 'Dominican Republic'\n",
      " 'Ecuador' 'Egypt' 'El Salvador' 'Equatorial Guinea' 'Eritrea' 'Estonia'\n",
      " 'Swaziland' 'Ethiopia' 'Faroe Islands' 'Fiji' 'Finland' 'France'\n",
      " 'French Polynesia' 'Gabon' 'Gambia' 'Georgia' 'Germany' 'Ghana'\n",
      " 'Gibraltar' 'Greece' 'Greenland' 'Grenada' 'Guam' 'Guatemala' 'Guinea'\n",
      " 'Guinea-Bissau' 'Guyana' 'Haiti' 'Honduras' 'Hong Kong' 'Hungary'\n",
      " 'Iceland' 'India' 'Indonesia' 'Iran' 'Iraq' 'Ireland' 'Isle of Man'\n",
      " 'Israel' 'Italy' 'Jamaica' 'Japan' 'Jordan' 'Kazakhstan' 'Kenya'\n",
      " 'Kiribati' \"Korea, Dem. People's Rep.\" 'South Korea' 'Kosovo' 'Kuwait'\n",
      " 'Kyrgyz Republic' 'Lao PDR' 'Latvia' 'Lebanon' 'Lesotho' 'Liberia'\n",
      " 'Libya' 'Liechtenstein' 'Lithuania' 'Luxembourg' 'Macao SAR, China'\n",
      " 'Madagascar' 'Malawi' 'Malaysia' 'Maldives' 'Mali' 'Malta'\n",
      " 'Marshall Islands' 'Mauritania' 'Mauritius' 'Mexico'\n",
      " 'Micronesia, Fed. Sts.' 'Moldova' 'Monaco' 'Mongolia' 'Montenegro'\n",
      " 'Morocco' 'Mozambique' 'Myanmar' 'Namibia' 'Nauru' 'Nepal' 'Netherlands'\n",
      " 'New Caledonia' 'New Zealand' 'Nicaragua' 'Niger' 'Nigeria' 'Macedonia'\n",
      " 'Northern Mariana Islands' 'Norway' 'Oman' 'Pakistan' 'Palau' 'Panama'\n",
      " 'Papua New Guinea' 'Paraguay' 'Peru' 'Philippines' 'Poland' 'Portugal'\n",
      " 'Puerto Rico' 'Qatar' 'Romania' 'Russia' 'Rwanda' 'Samoa' 'San Marino'\n",
      " 'São Tomé and Principe' 'Saudi Arabia' 'Senegal' 'Serbia' 'Seychelles'\n",
      " 'Sierra Leone' 'Singapore' 'Sint Maarten (Dutch part)' 'Slovakia'\n",
      " 'Slovenia' 'Solomon Islands' 'Somalia' 'South Africa' 'South Sudan'\n",
      " 'Spain' 'Sri Lanka' 'St. Kitts and Nevis' 'St. Lucia'\n",
      " 'St. Martin (French part)' 'St. Vincent and the Grenadines' 'Sudan'\n",
      " 'Suriname' 'Sweden' 'Switzerland' 'Syrian Arab Republic' 'Taiwan'\n",
      " 'Tajikistan' 'Tanzania' 'Thailand' 'Timor-Leste' 'Togo' 'Tonga'\n",
      " 'Trinidad and Tobago' 'Tunisia' 'Turkey' 'Turkmenistan'\n",
      " 'Turks and Caicos Islands' 'Tuvalu' 'Uganda' 'Ukraine'\n",
      " 'United Arab Emirates' 'United Kingdom' 'United States' 'Uruguay'\n",
      " 'Uzbekistan' 'Vanuatu' 'Venezuela' 'Vietnam' 'Virgin Islands (U.S.)'\n",
      " 'West Bank and Gaza' 'Yemen, Rep.' 'Zambia' 'Zimbabwe']\n"
     ]
    }
   ],
   "source": [
    "standardized_names_economies = [(\"Bahamas, The\", \"Bahamas\"),\n",
    "                               (\"Egypt, Arab Rep.\", \"Egypt\"),\n",
    "                               (\"Gambia, The\", \"Gambia\"),\n",
    "                               (\"Hong Kong SAR, China\", \"Hong Kong\"),\n",
    "                               (\"Iran, Islamic Rep.\", \"Iran\"),\n",
    "                               (\"North Macedonia\", \"Macedonia\"),\n",
    "                               (\"Congo, Rep.\", \"Republic of the Congo\"),\n",
    "                               (\"Russian Federation\", \"Russia\"),\n",
    "                               (\"Slovak Republic\", \"Slovakia\"),\n",
    "                               ( \"Korea, Rep.\", \"South Korea\"),\n",
    "                               (\"Eswatini\", \"Swaziland\"),\n",
    "                               (\"Taiwan, China\", \"Taiwan\"),\n",
    "                               (\"Venezuela, RB\", \"Venezuela\")]\n",
    "\n",
    "for name in standardized_names_economies:\n",
    "    economies['country'] = economies['country'].str.replace(re.escape(name[0]), name[1])\n",
    "    \n",
    "print(economies['country'].unique())"
   ]
  },
  {
   "cell_type": "markdown",
   "metadata": {},
   "source": [
    "Finally, we merge the two datasets, remove unneeded columns (e.g., the country code and the geographical classification), and confirm that there are no null values."
   ]
  },
  {
   "cell_type": "code",
   "execution_count": 17,
   "metadata": {},
   "outputs": [
    {
     "data": {
      "text/html": [
       "<div>\n",
       "<style scoped>\n",
       "    .dataframe tbody tr th:only-of-type {\n",
       "        vertical-align: middle;\n",
       "    }\n",
       "\n",
       "    .dataframe tbody tr th {\n",
       "        vertical-align: top;\n",
       "    }\n",
       "\n",
       "    .dataframe thead th {\n",
       "        text-align: right;\n",
       "    }\n",
       "</style>\n",
       "<table border=\"1\" class=\"dataframe\">\n",
       "  <thead>\n",
       "    <tr style=\"text-align: right;\">\n",
       "      <th></th>\n",
       "      <th>country</th>\n",
       "      <th>economy</th>\n",
       "      <th>Beef</th>\n",
       "      <th>Eggs</th>\n",
       "      <th>Fish</th>\n",
       "      <th>Lamb &amp; Goat</th>\n",
       "      <th>Milk &amp; Cheese</th>\n",
       "      <th>Nuts &amp; Peanut Butter</th>\n",
       "      <th>Pork</th>\n",
       "      <th>Poultry</th>\n",
       "      <th>Rice</th>\n",
       "      <th>Soybeans</th>\n",
       "      <th>Wheat &amp; Wheat Products</th>\n",
       "      <th>TOTAL</th>\n",
       "    </tr>\n",
       "  </thead>\n",
       "  <tbody>\n",
       "    <tr>\n",
       "      <th>0</th>\n",
       "      <td>Albania</td>\n",
       "      <td>Upper middle income</td>\n",
       "      <td>22.50</td>\n",
       "      <td>12.45</td>\n",
       "      <td>3.85</td>\n",
       "      <td>15.32</td>\n",
       "      <td>303.72</td>\n",
       "      <td>4.36</td>\n",
       "      <td>10.88</td>\n",
       "      <td>13.23</td>\n",
       "      <td>7.78</td>\n",
       "      <td>0.00</td>\n",
       "      <td>138.64</td>\n",
       "      <td>532.73</td>\n",
       "    </tr>\n",
       "    <tr>\n",
       "      <th>1</th>\n",
       "      <td>Algeria</td>\n",
       "      <td>Lower middle income</td>\n",
       "      <td>5.60</td>\n",
       "      <td>8.06</td>\n",
       "      <td>3.74</td>\n",
       "      <td>7.69</td>\n",
       "      <td>141.53</td>\n",
       "      <td>2.08</td>\n",
       "      <td>0.00</td>\n",
       "      <td>7.42</td>\n",
       "      <td>2.97</td>\n",
       "      <td>0.00</td>\n",
       "      <td>185.42</td>\n",
       "      <td>364.51</td>\n",
       "    </tr>\n",
       "    <tr>\n",
       "      <th>2</th>\n",
       "      <td>Angola</td>\n",
       "      <td>Lower middle income</td>\n",
       "      <td>8.42</td>\n",
       "      <td>1.11</td>\n",
       "      <td>15.24</td>\n",
       "      <td>1.08</td>\n",
       "      <td>12.30</td>\n",
       "      <td>2.26</td>\n",
       "      <td>8.89</td>\n",
       "      <td>17.33</td>\n",
       "      <td>8.12</td>\n",
       "      <td>0.52</td>\n",
       "      <td>40.72</td>\n",
       "      <td>115.99</td>\n",
       "    </tr>\n",
       "    <tr>\n",
       "      <th>3</th>\n",
       "      <td>Argentina</td>\n",
       "      <td>Upper middle income</td>\n",
       "      <td>55.48</td>\n",
       "      <td>11.39</td>\n",
       "      <td>4.36</td>\n",
       "      <td>1.56</td>\n",
       "      <td>195.08</td>\n",
       "      <td>0.49</td>\n",
       "      <td>10.51</td>\n",
       "      <td>38.66</td>\n",
       "      <td>8.77</td>\n",
       "      <td>0.00</td>\n",
       "      <td>103.11</td>\n",
       "      <td>429.41</td>\n",
       "    </tr>\n",
       "    <tr>\n",
       "      <th>4</th>\n",
       "      <td>Armenia</td>\n",
       "      <td>Upper middle income</td>\n",
       "      <td>19.66</td>\n",
       "      <td>11.69</td>\n",
       "      <td>4.36</td>\n",
       "      <td>3.02</td>\n",
       "      <td>209.03</td>\n",
       "      <td>2.55</td>\n",
       "      <td>9.67</td>\n",
       "      <td>13.35</td>\n",
       "      <td>3.18</td>\n",
       "      <td>0.00</td>\n",
       "      <td>130.60</td>\n",
       "      <td>407.11</td>\n",
       "    </tr>\n",
       "    <tr>\n",
       "      <th>...</th>\n",
       "      <td>...</td>\n",
       "      <td>...</td>\n",
       "      <td>...</td>\n",
       "      <td>...</td>\n",
       "      <td>...</td>\n",
       "      <td>...</td>\n",
       "      <td>...</td>\n",
       "      <td>...</td>\n",
       "      <td>...</td>\n",
       "      <td>...</td>\n",
       "      <td>...</td>\n",
       "      <td>...</td>\n",
       "      <td>...</td>\n",
       "      <td>...</td>\n",
       "    </tr>\n",
       "    <tr>\n",
       "      <th>125</th>\n",
       "      <td>Uruguay</td>\n",
       "      <td>High income</td>\n",
       "      <td>29.10</td>\n",
       "      <td>13.14</td>\n",
       "      <td>6.53</td>\n",
       "      <td>8.23</td>\n",
       "      <td>210.54</td>\n",
       "      <td>0.95</td>\n",
       "      <td>16.84</td>\n",
       "      <td>27.45</td>\n",
       "      <td>11.50</td>\n",
       "      <td>0.01</td>\n",
       "      <td>109.31</td>\n",
       "      <td>433.60</td>\n",
       "    </tr>\n",
       "    <tr>\n",
       "      <th>126</th>\n",
       "      <td>Venezuela</td>\n",
       "      <td>Upper middle income</td>\n",
       "      <td>25.89</td>\n",
       "      <td>5.63</td>\n",
       "      <td>8.34</td>\n",
       "      <td>0.32</td>\n",
       "      <td>117.79</td>\n",
       "      <td>0.35</td>\n",
       "      <td>7.23</td>\n",
       "      <td>39.28</td>\n",
       "      <td>23.39</td>\n",
       "      <td>0.00</td>\n",
       "      <td>49.17</td>\n",
       "      <td>277.39</td>\n",
       "    </tr>\n",
       "    <tr>\n",
       "      <th>127</th>\n",
       "      <td>Vietnam</td>\n",
       "      <td>Lower middle income</td>\n",
       "      <td>7.44</td>\n",
       "      <td>3.84</td>\n",
       "      <td>26.52</td>\n",
       "      <td>0.14</td>\n",
       "      <td>16.36</td>\n",
       "      <td>6.28</td>\n",
       "      <td>35.00</td>\n",
       "      <td>12.36</td>\n",
       "      <td>144.56</td>\n",
       "      <td>5.75</td>\n",
       "      <td>10.49</td>\n",
       "      <td>268.74</td>\n",
       "    </tr>\n",
       "    <tr>\n",
       "      <th>128</th>\n",
       "      <td>Zambia</td>\n",
       "      <td>Lower middle income</td>\n",
       "      <td>4.76</td>\n",
       "      <td>3.32</td>\n",
       "      <td>6.20</td>\n",
       "      <td>0.68</td>\n",
       "      <td>9.71</td>\n",
       "      <td>5.04</td>\n",
       "      <td>1.66</td>\n",
       "      <td>3.29</td>\n",
       "      <td>3.05</td>\n",
       "      <td>7.30</td>\n",
       "      <td>12.10</td>\n",
       "      <td>57.11</td>\n",
       "    </tr>\n",
       "    <tr>\n",
       "      <th>129</th>\n",
       "      <td>Zimbabwe</td>\n",
       "      <td>Lower middle income</td>\n",
       "      <td>7.37</td>\n",
       "      <td>1.75</td>\n",
       "      <td>2.80</td>\n",
       "      <td>0.96</td>\n",
       "      <td>31.90</td>\n",
       "      <td>2.22</td>\n",
       "      <td>2.65</td>\n",
       "      <td>4.97</td>\n",
       "      <td>10.09</td>\n",
       "      <td>0.54</td>\n",
       "      <td>31.31</td>\n",
       "      <td>96.56</td>\n",
       "    </tr>\n",
       "  </tbody>\n",
       "</table>\n",
       "<p>130 rows × 14 columns</p>\n",
       "</div>"
      ],
      "text/plain": [
       "       country              economy   Beef   Eggs   Fish  Lamb & Goat  \\\n",
       "0      Albania  Upper middle income  22.50  12.45   3.85        15.32   \n",
       "1      Algeria  Lower middle income   5.60   8.06   3.74         7.69   \n",
       "2       Angola  Lower middle income   8.42   1.11  15.24         1.08   \n",
       "3    Argentina  Upper middle income  55.48  11.39   4.36         1.56   \n",
       "4      Armenia  Upper middle income  19.66  11.69   4.36         3.02   \n",
       "..         ...                  ...    ...    ...    ...          ...   \n",
       "125    Uruguay          High income  29.10  13.14   6.53         8.23   \n",
       "126  Venezuela  Upper middle income  25.89   5.63   8.34         0.32   \n",
       "127    Vietnam  Lower middle income   7.44   3.84  26.52         0.14   \n",
       "128     Zambia  Lower middle income   4.76   3.32   6.20         0.68   \n",
       "129   Zimbabwe  Lower middle income   7.37   1.75   2.80         0.96   \n",
       "\n",
       "     Milk & Cheese  Nuts & Peanut Butter   Pork  Poultry    Rice  Soybeans  \\\n",
       "0           303.72                  4.36  10.88    13.23    7.78      0.00   \n",
       "1           141.53                  2.08   0.00     7.42    2.97      0.00   \n",
       "2            12.30                  2.26   8.89    17.33    8.12      0.52   \n",
       "3           195.08                  0.49  10.51    38.66    8.77      0.00   \n",
       "4           209.03                  2.55   9.67    13.35    3.18      0.00   \n",
       "..             ...                   ...    ...      ...     ...       ...   \n",
       "125         210.54                  0.95  16.84    27.45   11.50      0.01   \n",
       "126         117.79                  0.35   7.23    39.28   23.39      0.00   \n",
       "127          16.36                  6.28  35.00    12.36  144.56      5.75   \n",
       "128           9.71                  5.04   1.66     3.29    3.05      7.30   \n",
       "129          31.90                  2.22   2.65     4.97   10.09      0.54   \n",
       "\n",
       "     Wheat & Wheat Products   TOTAL  \n",
       "0                    138.64  532.73  \n",
       "1                    185.42  364.51  \n",
       "2                     40.72  115.99  \n",
       "3                    103.11  429.41  \n",
       "4                    130.60  407.11  \n",
       "..                      ...     ...  \n",
       "125                  109.31  433.60  \n",
       "126                   49.17  277.39  \n",
       "127                   10.49  268.74  \n",
       "128                   12.10   57.11  \n",
       "129                   31.31   96.56  \n",
       "\n",
       "[130 rows x 14 columns]"
      ]
     },
     "execution_count": 17,
     "metadata": {},
     "output_type": "execute_result"
    }
   ],
   "source": [
    "countries_economies = pd.merge(economies, country_data, on = ['country', 'country'], how = 'right')\n",
    "countries_economies.drop(columns = ['code', 'geography'], axis = 1, inplace = True)\n",
    "\n",
    "countries_economies"
   ]
  },
  {
   "cell_type": "markdown",
   "metadata": {},
   "source": [
    "<hr/>"
   ]
  },
  {
   "cell_type": "markdown",
   "metadata": {},
   "source": [
    "## A. Global Map of Food Consumption & CO<sub>2</sub> Emissions"
   ]
  },
  {
   "cell_type": "markdown",
   "metadata": {},
   "source": [
    "For our first data visualization, we construct a dynamic choropleth map of the food consumption of countries around the world. \n",
    "\n",
    "*Note that this is an interactive map. Hovering allows for a more granular look at the data.*"
   ]
  },
  {
   "cell_type": "code",
   "execution_count": 18,
   "metadata": {},
   "outputs": [
    {
     "data": {
      "application/vnd.plotly.v1+json": {
       "config": {
        "plotlyServerURL": "https://plot.ly"
       },
       "data": [
        {
         "coloraxis": "coloraxis",
         "customdata": [
          [
           "Albania",
           22.5,
           12.45,
           3.85,
           15.32,
           303.72,
           10.88,
           13.23,
           "Albania",
           4.3599999999999985,
           7.78,
           0,
           138.64
          ],
          [
           "Algeria",
           5.6,
           8.06,
           3.74,
           7.689999999999999,
           141.53,
           0,
           7.42,
           "Algeria",
           2.08,
           2.97,
           0,
           185.42
          ],
          [
           "Angola",
           8.42,
           1.11,
           15.239999999999998,
           1.08,
           12.3,
           8.89,
           17.330000000000002,
           "Angola",
           2.26,
           8.12,
           0.52,
           40.72000000000001
          ],
          [
           "Argentina",
           55.48,
           11.39,
           4.3599999999999985,
           1.56,
           195.08,
           10.51,
           38.66,
           "Argentina",
           0.49,
           8.77,
           0,
           103.11
          ],
          [
           "Armenia",
           19.66,
           11.69,
           4.3599999999999985,
           3.02,
           209.03,
           9.67,
           13.35,
           "Armenia",
           2.55,
           3.18,
           0,
           130.6
          ],
          [
           "Australia",
           33.86,
           8.51,
           17.69,
           9.87,
           234.49,
           24.14,
           46.12000000000001,
           "Australia",
           8.729999999999999,
           11.03,
           0.19,
           70.46000000000002
          ],
          [
           "Austria",
           17.14,
           14.68,
           12.16,
           1.16,
           258.09,
           52.56,
           18.610000000000007,
           "Austria",
           7.88,
           3.7,
           2.06,
           81.1
          ],
          [
           "Bahamas",
           19.92,
           6.2,
           18.8,
           5.22,
           104.76,
           32.74,
           45.74,
           "Bahamas",
           4.03,
           23.97,
           0.09,
           39.98
          ],
          [
           "Bangladesh",
           1.28,
           2.08,
           18.07,
           1.33,
           21.91,
           0,
           1.4,
           "Bangladesh",
           0.72,
           171.73,
           0.61,
           17.47
          ],
          [
           "Barbados",
           13.13,
           9.61,
           37.41,
           4.08,
           110.48,
           8.3,
           42.62000000000001,
           "Barbados",
           4.159999999999998,
           15.66,
           0.1,
           65.71000000000001
          ],
          [
           "Belarus",
           17.110000000000007,
           15.86,
           15.75,
           0.11,
           133.73,
           40.37,
           31.29,
           "Belarus",
           3.36,
           3.17,
           0.3,
           60.48
          ],
          [
           "Belgium",
           15.63,
           12.59,
           18.97,
           1.32,
           236.19,
           38.65,
           12.2,
           "Belgium",
           7.3199999999999985,
           8.61,
           0.07,
           111.91
          ],
          [
           "Belize",
           4.8599999999999985,
           4.85,
           7.57,
           0.14,
           80.3,
           16.8,
           28.31,
           "Belize",
           5.58,
           28.42,
           1.88,
           54.06
          ],
          [
           "Bermuda",
           33.15,
           14.92,
           33.22000000000001,
           2.71,
           95.56,
           28.24,
           32.620000000000005,
           "Bermuda",
           5.72,
           5.38,
           0.22,
           54.88
          ],
          [
           "Bolivia",
           19.78,
           5.18,
           2.18,
           1.72,
           46.04,
           8.89,
           34.309999999999995,
           "Bolivia",
           9.16,
           26.99,
           0.01,
           49.99
          ],
          [
           "Bosnia and Herzegovina",
           9.12,
           4.49,
           4.06,
           0.47,
           174.03,
           9.38,
           13.17,
           "Bosnia and Herzegovina",
           2,
           1.88,
           1.48,
           93.56
          ],
          [
           "Botswana",
           7.85,
           1.95,
           3.98,
           3.76,
           117.74,
           0.74,
           5.33,
           "Botswana",
           1.08,
           7.06,
           1.16,
           38.2
          ],
          [
           "Brazil",
           39.25,
           8.98,
           10.01,
           0.62,
           149.28,
           12.6,
           45,
           "Brazil",
           0.6699999999999999,
           32.13,
           3.62,
           53
          ],
          [
           "Bulgaria",
           3.84,
           8.360000000000001,
           6.24,
           1.63,
           155.70999999999995,
           26.26,
           20.68,
           "Bulgaria",
           2.26,
           2.24,
           0.04,
           121.17
          ],
          [
           "Cambodia",
           4.85,
           1.37,
           39.59,
           0,
           3.47,
           6.52,
           1.84,
           "Cambodia",
           1.25,
           159.1,
           4.33,
           2.74
          ],
          [
           "Cameroon",
           4.17,
           0.4,
           14.71,
           1.4,
           15.27,
           1.47,
           3.29,
           "Cameroon",
           9.29,
           23.85,
           0.64,
           22.6
          ],
          [
           "Canada",
           30.25,
           12.95,
           14.56,
           0.97,
           187.77,
           22.81,
           36.68,
           "Canada",
           8.01,
           12.65,
           0.94,
           84.96000000000002
          ],
          [
           "Chile",
           23.86,
           9.97,
           7.649999999999999,
           0.42,
           116.11,
           24.68,
           36.52,
           "Chile",
           2.22,
           8.850000000000003,
           0.04,
           104.74
          ],
          [
           "China",
           5.119999999999999,
           18.76,
           21.01,
           3.13,
           32.660000000000004,
           38.43,
           13.2,
           "China",
           6.39,
           78.17999999999998,
           3.66,
           63.36
          ],
          [
           "Colombia",
           16.36,
           10.78,
           6.01,
           0.21,
           108.47,
           6.51,
           27.57,
           "Colombia",
           0.42,
           28.02,
           0.89,
           29.79
          ],
          [
           "Costa Rica",
           15.23,
           10.55,
           11.32,
           0.02,
           183.28,
           10.28,
           24.47,
           "Costa Rica",
           1.38,
           45.69000000000001,
           1.54,
           39.31
          ],
          [
           "Croatia",
           12.41,
           8.48,
           15.83,
           1.71,
           231.02,
           42.790000000000006,
           8.52,
           "Croatia",
           3.88,
           2.64,
           0,
           106.59
          ],
          [
           "Cuba",
           6.39,
           9.82,
           4.76,
           1.24,
           99.94,
           19.82,
           20.15,
           "Cuba",
           0.23,
           67.7,
           6.34,
           54.62000000000001
          ],
          [
           "Cyprus",
           5.79,
           8.98,
           14.86,
           5.05,
           113.31,
           38.38,
           24.45,
           "Cyprus",
           4.6,
           4.94,
           0.04,
           83.25
          ],
          [
           "Czech Republic",
           8.15,
           11.66,
           8.25,
           0.34,
           195.2,
           41.17,
           19.09,
           "Czech Republic",
           2.47,
           4.79,
           0.8200000000000001,
           92.67
          ],
          [
           "Denmark",
           28.46,
           15.35,
           16.49,
           0.92,
           277.3,
           24.87,
           26.75,
           "Denmark",
           5.94,
           4.96,
           0.03,
           98
          ],
          [
           "Ecuador",
           16.610000000000007,
           8.01,
           5.17,
           0.44,
           139.6,
           14.44,
           21.85,
           "Ecuador",
           0.98,
           45.07,
           0,
           39.19000000000001
          ],
          [
           "Egypt",
           12.88,
           4.59,
           21.46,
           1.58,
           59.46,
           0.02,
           14.43,
           "Egypt",
           1.82,
           39.77,
           0.64,
           146.83
          ],
          [
           "El Salvador",
           5.95,
           9.51,
           6.25,
           0.02,
           124.34,
           3.23,
           19.84,
           "El Salvador",
           1.1,
           10.53,
           0.8,
           28.19
          ],
          [
           "Estonia",
           7.19,
           12.66,
           12.78,
           0.44,
           284.85,
           29.68,
           21.110000000000007,
           "Estonia",
           4.29,
           2.56,
           0.04,
           89.36
          ],
          [
           "Ethiopia",
           3.61,
           0.36,
           0.24,
           1.57,
           44.14,
           0.02,
           0.6599999999999999,
           "Ethiopia",
           1.21,
           2.25,
           0.45,
           31.26
          ],
          [
           "Fiji",
           8.96,
           6.44,
           35.01,
           5.9,
           40.2,
           4.31,
           20.26,
           "Fiji",
           1.3,
           45.62000000000001,
           0.3,
           84.22
          ],
          [
           "Finland",
           19.22,
           9.55,
           33.8,
           0.53,
           430.76,
           36.14,
           19.87,
           "Finland",
           3.43,
           4.42,
           0.08,
           81.99000000000002
          ],
          [
           "France",
           23.81,
           13.13,
           22.91,
           3.28,
           241.31,
           33.05,
           22.93,
           "France",
           5.39,
           4.88,
           0.05,
           108.43
          ],
          [
           "French Polynesia",
           30.9,
           8.75,
           38.95,
           2.83,
           93.56,
           14.75,
           49.55,
           "French Polynesia",
           2.34,
           35.59,
           0.77,
           68.66999999999999
          ],
          [
           "Gambia",
           2.16,
           0.99,
           23.130000000000006,
           0.71,
           45.71,
           0.18,
           2.66,
           "Gambia",
           5.2700000000000005,
           61.84,
           0,
           37.91
          ],
          [
           "Georgia",
           6.04,
           6.119999999999999,
           10.42,
           0.63,
           149.26,
           8.93,
           12.28,
           "Georgia",
           2.47,
           2.64,
           0,
           163.43
          ],
          [
           "Germany",
           13.16,
           12.2,
           11.16,
           0.73,
           258.7,
           51.81,
           17.75,
           "Germany",
           7.96,
           3.34,
           0.88,
           83.41000000000003
          ],
          [
           "Ghana",
           1.09,
           1.21,
           26.05,
           1.74,
           9.08,
           1.36,
           8.629999999999999,
           "Ghana",
           5.56,
           32.03,
           0.01,
           14.45
          ],
          [
           "Greece",
           16.1,
           10.13,
           14.42,
           12.47,
           255.26,
           28.31,
           15.739999999999998,
           "Greece",
           10.5,
           6.64,
           0.02,
           124.04
          ],
          [
           "Grenada",
           3.46,
           10.34,
           27.95,
           1.25,
           86.88,
           11.52,
           43.51,
           "Grenada",
           0.18,
           9.56,
           0.01,
           59.59
          ],
          [
           "Guatemala",
           5.6,
           14.61,
           1.08,
           0.23,
           46.6,
           4.85,
           16.45,
           "Guatemala",
           2,
           5.659999999999998,
           0.32,
           35.9
          ],
          [
           "Guinea",
           6.26,
           1.95,
           9.18,
           1.6,
           20.62,
           0.16,
           1.83,
           "Guinea",
           4.14,
           97.12,
           0,
           18.55
          ],
          [
           "Honduras",
           7.19,
           5.19,
           2.7,
           0.04,
           91.33,
           6.48,
           20.29,
           "Honduras",
           0.75,
           14.42,
           0.01,
           37.36
          ],
          [
           "Hong Kong",
           25.82,
           14.5,
           42.44,
           2.22,
           105.85,
           67.11,
           54.86,
           "Hong Kong",
           13.81,
           43.48,
           2.79,
           53.14
          ],
          [
           "Hungary",
           4.96,
           12.45,
           4.9300000000000015,
           0.11,
           159.05,
           34.93,
           23.78,
           "Hungary",
           0.64,
           2.15,
           0.01,
           109.98
          ],
          [
           "Iceland",
           13.36,
           8.239999999999998,
           74.41000000000003,
           21.12,
           225.82,
           21.69,
           26.87,
           "Iceland",
           3.88,
           3.89,
           0.11,
           72.92
          ],
          [
           "India",
           0.81,
           2.58,
           4.71,
           0.58,
           84.5,
           0.28,
           1.88,
           "India",
           1.92,
           69.49000000000001,
           0.39,
           60.56
          ],
          [
           "Indonesia",
           2.59,
           4.88,
           25.65,
           0.46,
           14.82,
           2.98,
           7.5,
           "Indonesia",
           4.92,
           134.62,
           1.12,
           25.45
          ],
          [
           "Iran",
           3.58,
           7.7,
           9.8,
           3.69,
           46.69000000000001,
           0,
           25.38,
           "Iran",
           12.16,
           29.95,
           0,
           153.31
          ],
          [
           "Ireland",
           22.35,
           8.96,
           17.39,
           4.1,
           291.86,
           32.4,
           26.26,
           "Ireland",
           4.1,
           3,
           0.25,
           107.98
          ],
          [
           "Israel",
           28.78,
           11.35,
           22.18,
           1.87,
           193.6,
           1.99,
           62.5,
           "Israel",
           7.71,
           16.810000000000002,
           0.1,
           110.86
          ],
          [
           "Italy",
           18.6,
           13.34,
           15.6,
           0.92,
           246.88,
           40.28,
           18.610000000000007,
           "Italy",
           7.63,
           5.74,
           0.01,
           146.37
          ],
          [
           "Jamaica",
           3.97,
           2.27,
           21.95,
           1.26,
           91.13,
           3.99,
           52.51,
           "Jamaica",
           1.82,
           23.45,
           0,
           70.66999999999999
          ],
          [
           "Japan",
           9.15,
           19.15,
           31.1,
           0.14,
           72.06,
           20.62,
           19.42,
           "Japan",
           2.59,
           59.85,
           7.34,
           45.04
          ],
          [
           "Jordan",
           5.6099999999999985,
           3.92,
           5.13,
           5.68,
           77.67999999999998,
           0.02,
           33.39,
           "Jordan",
           3.56,
           19.67,
           0.02,
           136.73999999999998
          ],
          [
           "Kazakhstan",
           23.38,
           8.29,
           5.21,
           9.56,
           288.12,
           10.36,
           18.38,
           "Kazakhstan",
           5.14,
           7.3199999999999985,
           0.03,
           92.31
          ],
          [
           "Kenya",
           9.54,
           1.84,
           4.2700000000000005,
           1.86,
           94.86,
           0.29000000000000004,
           0.47,
           "Kenya",
           1.64,
           12.94,
           0.2,
           34.65
          ],
          [
           "Kuwait",
           13.03,
           12.6,
           11.99,
           15.61,
           157.66,
           0,
           53.61,
           "Kuwait",
           5.23,
           43.83,
           0.06,
           96.76
          ],
          [
           "Latvia",
           5.1099999999999985,
           14.03,
           21.3,
           0.34,
           174.11,
           34.96,
           20.53,
           "Latvia",
           3.78,
           2.21,
           0.04,
           72.13
          ],
          [
           "Liberia",
           0.7799999999999999,
           2.05,
           4.13,
           0.48,
           3.04,
           4.01,
           8.91,
           "Liberia",
           1.31,
           94.75,
           0.63,
           10.95
          ],
          [
           "Lithuania",
           4.49,
           13.11,
           42.39,
           0.24,
           295.46,
           45.67,
           26.84,
           "Lithuania",
           2.13,
           3.07,
           0.02,
           121.59
          ],
          [
           "Luxembourg",
           29.88,
           14.64,
           23.09,
           1.6700000000000002,
           255.3,
           43.58,
           21.37,
           "Luxembourg",
           0.93,
           4.2,
           0.04,
           103.2
          ],
          [
           "Macedonia",
           7.689999999999999,
           6.38,
           5.4700000000000015,
           0.94,
           157.93,
           10.35,
           18.77,
           "Macedonia",
           5.87,
           2.81,
           0.46,
           104.8
          ],
          [
           "Madagascar",
           7.51,
           0.71,
           4.41,
           0.5700000000000001,
           24.84,
           2.56,
           3.14,
           "Madagascar",
           0.35,
           102.53,
           0,
           9.01
          ],
          [
           "Malawi",
           2.35,
           1.08,
           7.33,
           2.07,
           7.98,
           5.45,
           1.38,
           "Malawi",
           5.08,
           4.75,
           1.76,
           11.77
          ],
          [
           "Malaysia",
           6.52,
           16.57,
           49.43,
           0.94,
           25.28,
           7.76,
           41.01,
           "Malaysia",
           2.9,
           81.25,
           0.04,
           51.04
          ],
          [
           "Maldives",
           9.44,
           10.79,
           179.70999999999995,
           0.7,
           111.47,
           1.22,
           18.47,
           "Maldives",
           15.83,
           50.73,
           0.2,
           77.77
          ],
          [
           "Malta",
           19.22,
           11.64,
           24.58,
           1.1900000000000002,
           190.06,
           34.24,
           26.4,
           "Malta",
           5.619999999999999,
           4.96,
           0.05,
           139.58
          ],
          [
           "Mauritius",
           5.99,
           6.3199999999999985,
           19.66,
           4.08,
           117.27,
           4.08,
           38.51,
           "Mauritius",
           2.33,
           45.56,
           0.3,
           114.02
          ],
          [
           "Mexico",
           15.33,
           18.34,
           7.56,
           0.89,
           111.87,
           15.23,
           30.12,
           "Mexico",
           2.51,
           5.64,
           0.02,
           35.21
          ],
          [
           "Morocco",
           8.04,
           6.68,
           17.439999999999998,
           4.3599999999999985,
           54.68,
           0.01,
           20.77,
           "Morocco",
           3.23,
           1.1,
           0,
           179.7
          ],
          [
           "Mozambique",
           1.04,
           1.7,
           7.74,
           0.9,
           4.79,
           5.13,
           1.41,
           "Mozambique",
           2.61,
           23.41,
           0.03,
           14.65
          ],
          [
           "Myanmar",
           4.94,
           6.45,
           54.26000000000001,
           0.89,
           31.48,
           11.31,
           21.87,
           "Myanmar",
           4.5,
           132.8,
           0.38,
           6.22
          ],
          [
           "Namibia",
           3.75,
           1.63,
           10.7,
           2.27,
           73.05,
           4.21,
           12.19,
           "Namibia",
           0.71,
           6.31,
           0.07,
           36.26000000000001
          ],
          [
           "Nepal",
           7.89,
           1.42,
           2.17,
           2.1,
           52.1,
           0.6699999999999999,
           1.56,
           "Nepal",
           2.42,
           87.75,
           0.01,
           50.46
          ],
          [
           "Netherlands",
           17.67,
           14.03,
           18.64,
           0.94,
           341.47,
           36.36,
           23.9,
           "Netherlands",
           7.94,
           2.93,
           0.12,
           70.16999999999999
          ],
          [
           "New Caledonia",
           16.07,
           8.850000000000003,
           19.38,
           1.95,
           108,
           19.9,
           44.36,
           "New Caledonia",
           2.96,
           17.47,
           0.55,
           81.75
          ],
          [
           "New Zealand",
           22.49,
           9.91,
           20.36,
           18.91,
           137.25,
           22.29,
           34.98,
           "New Zealand",
           8.219999999999999,
           9.16,
           0.44,
           76.91000000000003
          ],
          [
           "Nicaragua",
           4.73,
           4.9,
           3.59,
           0.01,
           85.16,
           3.38,
           21.31,
           "Nicaragua",
           2.36,
           43.33,
           0.01,
           28.17
          ],
          [
           "Niger",
           8.97,
           0.3,
           2.7,
           4.17,
           58.92,
           0.09,
           1.08,
           "Niger",
           6.95,
           13.17,
           0,
           4.79
          ],
          [
           "Nigeria",
           2.33,
           3.46,
           16.03,
           2.72,
           7.91,
           1.47,
           1.73,
           "Nigeria",
           6.9300000000000015,
           28.23,
           2.6,
           20.82
          ],
          [
           "Norway",
           19.83,
           11.41,
           38.18,
           5.34,
           261.34000000000003,
           23.51,
           21.01,
           "Norway",
           5.28,
           4.3599999999999985,
           0.11,
           97.12
          ],
          [
           "Oman",
           15.1,
           7.8,
           21.56,
           12.87,
           152.28,
           0.01,
           31.51,
           "Oman",
           1.6800000000000002,
           56.55,
           0.21,
           64.1
          ],
          [
           "Pakistan",
           8.82,
           2.95,
           1.87,
           2.46,
           183.13,
           0,
           5.01,
           "Pakistan",
           0.8300000000000001,
           12.25,
           0,
           113.63
          ],
          [
           "Panama",
           20.4,
           4.53,
           11.05,
           0.01,
           70.29,
           13.48,
           30.81,
           "Panama",
           1.05,
           66.42,
           3.53,
           38.96
          ],
          [
           "Paraguay",
           19.81,
           18.83,
           3.6,
           0.56,
           75.72,
           26.24,
           6.39,
           "Paraguay",
           1.6,
           4.91,
           0,
           31.51
          ],
          [
           "Peru",
           4.69,
           8.76,
           15.739999999999998,
           1,
           62.15,
           3.85,
           11.72,
           "Peru",
           0.65,
           48.92,
           1.59,
           56.12000000000001
          ],
          [
           "Philippines",
           4.06,
           4.02,
           28.51,
           0.56,
           15.66,
           18.4,
           11.91,
           "Philippines",
           2.08,
           119.44,
           0.03,
           23.12
          ],
          [
           "Poland",
           2.32,
           7.53,
           10.49,
           0.02,
           205.39,
           46.19000000000001,
           27.41,
           "Poland",
           2.23,
           0.95,
           0.06,
           108.83
          ],
          [
           "Portugal",
           16.45,
           9.05,
           45.39,
           2.38,
           205.04,
           37.91,
           30.14,
           "Portugal",
           3.91,
           14.86,
           0.01,
           94.3
          ],
          [
           "Republic of the Congo",
           4.35,
           0.6,
           26.22,
           0.4,
           10.69,
           2.39,
           13.02,
           "Republic of the Congo",
           3.08,
           16.51,
           0,
           40.07
          ],
          [
           "Romania",
           4.78,
           12.94,
           6.07,
           3.41,
           238.33,
           25.31,
           15.38,
           "Romania",
           1.8,
           2.59,
           0.01,
           134.87
          ],
          [
           "Russia",
           16.979999999999997,
           15.43,
           20.82,
           1.4,
           163.57,
           25.66,
           27.5,
           "Russia",
           1.62,
           4.71,
           0.05,
           130.99
          ],
          [
           "Rwanda",
           2.53,
           0.16,
           3.88,
           1.93,
           7.23,
           0.76,
           1.34,
           "Rwanda",
           0.58,
           8.7,
           1.93,
           11.34
          ],
          [
           "Saudi Arabia",
           6.45,
           5.37,
           11.99,
           6.54,
           83.64999999999998,
           0,
           49.05,
           "Saudi Arabia",
           3.23,
           36.02,
           0.05,
           89.47
          ],
          [
           "Senegal",
           5.85,
           1.63,
           22.94,
           3.19,
           16.86,
           0.94,
           4.619999999999999,
           "Senegal",
           4.03,
           72.29,
           0,
           37.32
          ],
          [
           "Serbia",
           7.05,
           8.89,
           5.59,
           3.56,
           148.53,
           32.04,
           10.64,
           "Serbia",
           3.31,
           1.22,
           0,
           105.88
          ],
          [
           "Sierra Leone",
           1.99,
           1.92,
           32.03,
           0.65,
           7,
           1.22,
           4.9700000000000015,
           "Sierra Leone",
           5.57,
           103.3,
           0,
           8.719999999999999
          ],
          [
           "Slovakia",
           5.19,
           16.05,
           8.39,
           0.16,
           143.14,
           31.78,
           15.13,
           "Slovakia",
           3.7,
           2.88,
           0.02,
           123.62
          ],
          [
           "Slovenia",
           18.43,
           9.36,
           7.76,
           0.7899999999999999,
           235.01,
           28.19,
           23.46,
           "Slovenia",
           5.28,
           3.95,
           0.75,
           103.43
          ],
          [
           "South Africa",
           18.03,
           7.21,
           5.56,
           4.28,
           55.75,
           4.159999999999998,
           37.57,
           "South Africa",
           1.04,
           17.41,
           1.27,
           60.13
          ],
          [
           "South Korea",
           14.53,
           11.239999999999998,
           33.09,
           0.14,
           29.05,
           32.760000000000005,
           16,
           "South Korea",
           4.88,
           85.17999999999998,
           8.350000000000001,
           50.84
          ],
          [
           "Spain",
           12.15,
           13.32,
           28.83,
           2.16,
           164.29,
           48.92,
           28.630000000000006,
           "Spain",
           7.44,
           8.32,
           0.02,
           93.88
          ],
          [
           "Sri Lanka",
           1.38,
           4.57,
           24.92,
           0.09,
           34.98,
           0.05,
           4.96,
           "Sri Lanka",
           1.09,
           109.72,
           0,
           37.01
          ],
          [
           "Swaziland",
           15.1,
           1.5,
           1.26,
           1.94,
           56.6,
           2.43,
           6.18,
           "Swaziland",
           6.44,
           21.15,
           0.55,
           37.15
          ],
          [
           "Sweden",
           24.58,
           13.37,
           23.86,
           1.41,
           341.23,
           37,
           16.64,
           "Sweden",
           6.23,
           5.96,
           0.13,
           79.59
          ],
          [
           "Switzerland",
           21.26,
           10.53,
           13.48,
           1.42,
           318.69,
           31.49,
           16.38,
           "Switzerland",
           9.27,
           2.43,
           0.44,
           89.51
          ],
          [
           "Taiwan",
           5.21,
           13.08,
           18.29,
           0.92,
           41.72000000000001,
           39.37,
           32.13,
           "Taiwan",
           9.06,
           45.85,
           16.95,
           50.92
          ],
          [
           "Tanzania",
           6.09,
           0.58,
           5.5,
           1.28,
           40.290000000000006,
           0.32,
           1.84,
           "Tanzania",
           5.94,
           21.01,
           0.04,
           15.94
          ],
          [
           "Thailand",
           2.56,
           12.35,
           19.45,
           0.05,
           29.35,
           13,
           13.69,
           "Thailand",
           1.5,
           114.57,
           2.13,
           10.93
          ],
          [
           "Togo",
           1.53,
           0.8600000000000001,
           11.69,
           1.58,
           7.96,
           1.57,
           6.63,
           "Togo",
           3.59,
           25.99,
           0.01,
           12.91
          ],
          [
           "Trinidad and Tobago",
           6.13,
           4.2,
           20.54,
           2.79,
           103.8,
           8.92,
           58.27,
           "Trinidad and Tobago",
           3.78,
           16.38,
           0.04,
           90.17
          ],
          [
           "Tunisia",
           5.53,
           7.67,
           12.63,
           5.34,
           114.47,
           0,
           18.5,
           "Tunisia",
           6.34,
           1.07,
           1.88,
           197.5
          ],
          [
           "Turkey",
           11.64,
           8.2,
           5.58,
           4.68,
           193.94,
           0.01,
           18.78,
           "Turkey",
           7.9700000000000015,
           10.739999999999998,
           1.71,
           169.96
          ],
          [
           "Uganda",
           5.15,
           0.97,
           12.5,
           1.25,
           37.27,
           3.37,
           1.51,
           "Uganda",
           3.77,
           4.64,
           0.01,
           10.14
          ],
          [
           "Ukraine",
           8.96,
           18.01,
           15.23,
           0.41,
           145.03,
           20.56,
           24.23,
           "Ukraine",
           2.68,
           3,
           0.02,
           105.15
          ],
          [
           "United Arab Emirates",
           5.64,
           8.229999999999999,
           20.41,
           9.08,
           132.66,
           0,
           41.04,
           "United Arab Emirates",
           23.03,
           56.25,
           0.08,
           101.29
          ],
          [
           "United Kingdom",
           18.12,
           11.08,
           15.49,
           4.49,
           232.2,
           25.79,
           31.55,
           "United Kingdom",
           4.18,
           6.39,
           0.05,
           98.63
          ],
          [
           "United States",
           36.24,
           14.58,
           12.35,
           0.4300000000000001,
           254.69,
           27.64,
           50.01,
           "United States",
           7.8599999999999985,
           6.88,
           0.04,
           80.43
          ],
          [
           "Uruguay",
           29.1,
           13.14,
           6.53,
           8.229999999999999,
           210.54,
           16.84,
           27.45,
           "Uruguay",
           0.95,
           11.5,
           0.01,
           109.31
          ],
          [
           "Venezuela",
           25.89,
           5.63,
           8.34,
           0.32,
           117.79,
           7.23,
           39.28,
           "Venezuela",
           0.35,
           23.39,
           0,
           49.17
          ],
          [
           "Vietnam",
           7.44,
           3.84,
           26.52,
           0.14,
           16.36,
           35,
           12.36,
           "Vietnam",
           6.28,
           144.56,
           5.75,
           10.49
          ],
          [
           "Zambia",
           4.76,
           3.32,
           6.2,
           0.6799999999999999,
           9.71,
           1.66,
           3.29,
           "Zambia",
           5.04,
           3.05,
           7.3,
           12.1
          ],
          [
           "Zimbabwe",
           7.37,
           1.75,
           2.8,
           0.96,
           31.9,
           2.65,
           4.9700000000000015,
           "Zimbabwe",
           2.22,
           10.09,
           0.54,
           31.31
          ]
         ],
         "geo": "geo",
         "hovertemplate": "<b>%{hovertext}</b><br><br>country=%{customdata[8]}<br>Beef=%{customdata[1]}<br>Eggs=%{customdata[2]}<br>Fish=%{customdata[3]}<br>Lamb & Goat=%{customdata[4]}<br>Milk & Cheese=%{customdata[5]}<br>Pork=%{customdata[6]}<br>Poultry=%{customdata[7]}<br>Nuts & Peanut Butter=%{customdata[9]}<br>Rice=%{customdata[10]}<br>Soybeans=%{customdata[11]}<br>Wheat & Wheat Products=%{customdata[12]}<br>TOTAL=%{z}<extra></extra>",
         "hovertext": [
          "Albania",
          "Algeria",
          "Angola",
          "Argentina",
          "Armenia",
          "Australia",
          "Austria",
          "Bahamas",
          "Bangladesh",
          "Barbados",
          "Belarus",
          "Belgium",
          "Belize",
          "Bermuda",
          "Bolivia",
          "Bosnia and Herzegovina",
          "Botswana",
          "Brazil",
          "Bulgaria",
          "Cambodia",
          "Cameroon",
          "Canada",
          "Chile",
          "China",
          "Colombia",
          "Costa Rica",
          "Croatia",
          "Cuba",
          "Cyprus",
          "Czech Republic",
          "Denmark",
          "Ecuador",
          "Egypt",
          "El Salvador",
          "Estonia",
          "Ethiopia",
          "Fiji",
          "Finland",
          "France",
          "French Polynesia",
          "Gambia",
          "Georgia",
          "Germany",
          "Ghana",
          "Greece",
          "Grenada",
          "Guatemala",
          "Guinea",
          "Honduras",
          "Hong Kong",
          "Hungary",
          "Iceland",
          "India",
          "Indonesia",
          "Iran",
          "Ireland",
          "Israel",
          "Italy",
          "Jamaica",
          "Japan",
          "Jordan",
          "Kazakhstan",
          "Kenya",
          "Kuwait",
          "Latvia",
          "Liberia",
          "Lithuania",
          "Luxembourg",
          "Macedonia",
          "Madagascar",
          "Malawi",
          "Malaysia",
          "Maldives",
          "Malta",
          "Mauritius",
          "Mexico",
          "Morocco",
          "Mozambique",
          "Myanmar",
          "Namibia",
          "Nepal",
          "Netherlands",
          "New Caledonia",
          "New Zealand",
          "Nicaragua",
          "Niger",
          "Nigeria",
          "Norway",
          "Oman",
          "Pakistan",
          "Panama",
          "Paraguay",
          "Peru",
          "Philippines",
          "Poland",
          "Portugal",
          "Republic of the Congo",
          "Romania",
          "Russia",
          "Rwanda",
          "Saudi Arabia",
          "Senegal",
          "Serbia",
          "Sierra Leone",
          "Slovakia",
          "Slovenia",
          "South Africa",
          "South Korea",
          "Spain",
          "Sri Lanka",
          "Swaziland",
          "Sweden",
          "Switzerland",
          "Taiwan",
          "Tanzania",
          "Thailand",
          "Togo",
          "Trinidad and Tobago",
          "Tunisia",
          "Turkey",
          "Uganda",
          "Ukraine",
          "United Arab Emirates",
          "United Kingdom",
          "United States",
          "Uruguay",
          "Venezuela",
          "Vietnam",
          "Zambia",
          "Zimbabwe"
         ],
         "locationmode": "country names",
         "locations": [
          "Albania",
          "Algeria",
          "Angola",
          "Argentina",
          "Armenia",
          "Australia",
          "Austria",
          "Bahamas",
          "Bangladesh",
          "Barbados",
          "Belarus",
          "Belgium",
          "Belize",
          "Bermuda",
          "Bolivia",
          "Bosnia and Herzegovina",
          "Botswana",
          "Brazil",
          "Bulgaria",
          "Cambodia",
          "Cameroon",
          "Canada",
          "Chile",
          "China",
          "Colombia",
          "Costa Rica",
          "Croatia",
          "Cuba",
          "Cyprus",
          "Czech Republic",
          "Denmark",
          "Ecuador",
          "Egypt",
          "El Salvador",
          "Estonia",
          "Ethiopia",
          "Fiji",
          "Finland",
          "France",
          "French Polynesia",
          "Gambia",
          "Georgia",
          "Germany",
          "Ghana",
          "Greece",
          "Grenada",
          "Guatemala",
          "Guinea",
          "Honduras",
          "Hong Kong",
          "Hungary",
          "Iceland",
          "India",
          "Indonesia",
          "Iran",
          "Ireland",
          "Israel",
          "Italy",
          "Jamaica",
          "Japan",
          "Jordan",
          "Kazakhstan",
          "Kenya",
          "Kuwait",
          "Latvia",
          "Liberia",
          "Lithuania",
          "Luxembourg",
          "Macedonia",
          "Madagascar",
          "Malawi",
          "Malaysia",
          "Maldives",
          "Malta",
          "Mauritius",
          "Mexico",
          "Morocco",
          "Mozambique",
          "Myanmar",
          "Namibia",
          "Nepal",
          "Netherlands",
          "New Caledonia",
          "New Zealand",
          "Nicaragua",
          "Niger",
          "Nigeria",
          "Norway",
          "Oman",
          "Pakistan",
          "Panama",
          "Paraguay",
          "Peru",
          "Philippines",
          "Poland",
          "Portugal",
          "Republic of the Congo",
          "Romania",
          "Russia",
          "Rwanda",
          "Saudi Arabia",
          "Senegal",
          "Serbia",
          "Sierra Leone",
          "Slovakia",
          "Slovenia",
          "South Africa",
          "South Korea",
          "Spain",
          "Sri Lanka",
          "Swaziland",
          "Sweden",
          "Switzerland",
          "Taiwan",
          "Tanzania",
          "Thailand",
          "Togo",
          "Trinidad and Tobago",
          "Tunisia",
          "Turkey",
          "Uganda",
          "Ukraine",
          "United Arab Emirates",
          "United Kingdom",
          "United States",
          "Uruguay",
          "Venezuela",
          "Vietnam",
          "Zambia",
          "Zimbabwe"
         ],
         "name": "",
         "type": "choropleth",
         "z": [
          532.73,
          364.51,
          115.99000000000001,
          429.40999999999997,
          407.11,
          465.09000000000003,
          469.14,
          301.45,
          236.6,
          311.26,
          321.5300000000001,
          463.4599999999999,
          232.76999999999998,
          306.62,
          204.25,
          313.64,
          188.85000000000002,
          355.15999999999997,
          348.42999999999995,
          225.06000000000003,
          97.09,
          412.55,
          335.06,
          283.9,
          235.02999999999994,
          343.07,
          433.87,
          291.01000000000005,
          303.65,
          384.61,
          499.06999999999994,
          291.36,
          303.48,
          209.76,
          464.9600000000001,
          85.77000000000001,
          252.52,
          639.7900000000001,
          479.17,
          346.65999999999997,
          180.56000000000003,
          362.22,
          461.09999999999997,
          101.21000000000001,
          493.63,
          254.25,
          133.29999999999998,
          161.41000000000003,
          185.76,
          426.02000000000004,
          352.99,
          472.31000000000006,
          227.7,
          224.99,
          292.26,
          518.65,
          457.75,
          513.98,
          273.02,
          286.46000000000004,
          291.41999999999996,
          468.09999999999997,
          162.56,
          410.37999999999994,
          348.54,
          131.04,
          555.01,
          497.90000000000003,
          321.47,
          155.63,
          51,
          282.74,
          476.32999999999987,
          457.53999999999996,
          358.12,
          242.72,
          296.01,
          63.410000000000004,
          275.1,
          151.14999999999998,
          208.55,
          534.17,
          321.24,
          360.9200000000001,
          196.95,
          101.14000000000001,
          94.22999999999999,
          487.49,
          363.66999999999996,
          330.95,
          260.53000000000003,
          189.17,
          215.19000000000003,
          227.79,
          411.42,
          459.44,
          117.33000000000001,
          445.49,
          408.73,
          40.379999999999995,
          291.82,
          169.67,
          326.71000000000004,
          167.36999999999998,
          350.05999999999995,
          436.4099999999999,
          212.41,
          286.05999999999995,
          407.96,
          218.76999999999998,
          150.3,
          550,
          514.9,
          273.5,
          98.83000000000001,
          219.57999999999998,
          74.32000000000001,
          315.02,
          370.92999999999995,
          433.2099999999999,
          80.58000000000001,
          343.28,
          397.71,
          447.97,
          491.15000000000003,
          433.5999999999999,
          277.39,
          268.74,
          57.11,
          96.56
         ]
        }
       ],
       "layout": {
        "coloraxis": {
         "colorbar": {
          "title": {
           "text": "TOTAL"
          }
         },
         "colorscale": [
          [
           0,
           "rgb(255,247,251)"
          ],
          [
           0.125,
           "rgb(236,226,240)"
          ],
          [
           0.25,
           "rgb(208,209,230)"
          ],
          [
           0.375,
           "rgb(166,189,219)"
          ],
          [
           0.5,
           "rgb(103,169,207)"
          ],
          [
           0.625,
           "rgb(54,144,192)"
          ],
          [
           0.75,
           "rgb(2,129,138)"
          ],
          [
           0.875,
           "rgb(1,108,89)"
          ],
          [
           1,
           "rgb(1,70,54)"
          ]
         ]
        },
        "geo": {
         "center": {},
         "domain": {
          "x": [
           0,
           1
          ],
          "y": [
           0,
           1
          ]
         }
        },
        "height": 700,
        "legend": {
         "tracegroupgap": 0
        },
        "margin": {
         "t": 60
        },
        "template": {
         "data": {
          "bar": [
           {
            "error_x": {
             "color": "#2a3f5f"
            },
            "error_y": {
             "color": "#2a3f5f"
            },
            "marker": {
             "line": {
              "color": "#E5ECF6",
              "width": 0.5
             }
            },
            "type": "bar"
           }
          ],
          "barpolar": [
           {
            "marker": {
             "line": {
              "color": "#E5ECF6",
              "width": 0.5
             }
            },
            "type": "barpolar"
           }
          ],
          "carpet": [
           {
            "aaxis": {
             "endlinecolor": "#2a3f5f",
             "gridcolor": "white",
             "linecolor": "white",
             "minorgridcolor": "white",
             "startlinecolor": "#2a3f5f"
            },
            "baxis": {
             "endlinecolor": "#2a3f5f",
             "gridcolor": "white",
             "linecolor": "white",
             "minorgridcolor": "white",
             "startlinecolor": "#2a3f5f"
            },
            "type": "carpet"
           }
          ],
          "choropleth": [
           {
            "colorbar": {
             "outlinewidth": 0,
             "ticks": ""
            },
            "type": "choropleth"
           }
          ],
          "contour": [
           {
            "colorbar": {
             "outlinewidth": 0,
             "ticks": ""
            },
            "colorscale": [
             [
              0,
              "#0d0887"
             ],
             [
              0.1111111111111111,
              "#46039f"
             ],
             [
              0.2222222222222222,
              "#7201a8"
             ],
             [
              0.3333333333333333,
              "#9c179e"
             ],
             [
              0.4444444444444444,
              "#bd3786"
             ],
             [
              0.5555555555555556,
              "#d8576b"
             ],
             [
              0.6666666666666666,
              "#ed7953"
             ],
             [
              0.7777777777777778,
              "#fb9f3a"
             ],
             [
              0.8888888888888888,
              "#fdca26"
             ],
             [
              1,
              "#f0f921"
             ]
            ],
            "type": "contour"
           }
          ],
          "contourcarpet": [
           {
            "colorbar": {
             "outlinewidth": 0,
             "ticks": ""
            },
            "type": "contourcarpet"
           }
          ],
          "heatmap": [
           {
            "colorbar": {
             "outlinewidth": 0,
             "ticks": ""
            },
            "colorscale": [
             [
              0,
              "#0d0887"
             ],
             [
              0.1111111111111111,
              "#46039f"
             ],
             [
              0.2222222222222222,
              "#7201a8"
             ],
             [
              0.3333333333333333,
              "#9c179e"
             ],
             [
              0.4444444444444444,
              "#bd3786"
             ],
             [
              0.5555555555555556,
              "#d8576b"
             ],
             [
              0.6666666666666666,
              "#ed7953"
             ],
             [
              0.7777777777777778,
              "#fb9f3a"
             ],
             [
              0.8888888888888888,
              "#fdca26"
             ],
             [
              1,
              "#f0f921"
             ]
            ],
            "type": "heatmap"
           }
          ],
          "heatmapgl": [
           {
            "colorbar": {
             "outlinewidth": 0,
             "ticks": ""
            },
            "colorscale": [
             [
              0,
              "#0d0887"
             ],
             [
              0.1111111111111111,
              "#46039f"
             ],
             [
              0.2222222222222222,
              "#7201a8"
             ],
             [
              0.3333333333333333,
              "#9c179e"
             ],
             [
              0.4444444444444444,
              "#bd3786"
             ],
             [
              0.5555555555555556,
              "#d8576b"
             ],
             [
              0.6666666666666666,
              "#ed7953"
             ],
             [
              0.7777777777777778,
              "#fb9f3a"
             ],
             [
              0.8888888888888888,
              "#fdca26"
             ],
             [
              1,
              "#f0f921"
             ]
            ],
            "type": "heatmapgl"
           }
          ],
          "histogram": [
           {
            "marker": {
             "colorbar": {
              "outlinewidth": 0,
              "ticks": ""
             }
            },
            "type": "histogram"
           }
          ],
          "histogram2d": [
           {
            "colorbar": {
             "outlinewidth": 0,
             "ticks": ""
            },
            "colorscale": [
             [
              0,
              "#0d0887"
             ],
             [
              0.1111111111111111,
              "#46039f"
             ],
             [
              0.2222222222222222,
              "#7201a8"
             ],
             [
              0.3333333333333333,
              "#9c179e"
             ],
             [
              0.4444444444444444,
              "#bd3786"
             ],
             [
              0.5555555555555556,
              "#d8576b"
             ],
             [
              0.6666666666666666,
              "#ed7953"
             ],
             [
              0.7777777777777778,
              "#fb9f3a"
             ],
             [
              0.8888888888888888,
              "#fdca26"
             ],
             [
              1,
              "#f0f921"
             ]
            ],
            "type": "histogram2d"
           }
          ],
          "histogram2dcontour": [
           {
            "colorbar": {
             "outlinewidth": 0,
             "ticks": ""
            },
            "colorscale": [
             [
              0,
              "#0d0887"
             ],
             [
              0.1111111111111111,
              "#46039f"
             ],
             [
              0.2222222222222222,
              "#7201a8"
             ],
             [
              0.3333333333333333,
              "#9c179e"
             ],
             [
              0.4444444444444444,
              "#bd3786"
             ],
             [
              0.5555555555555556,
              "#d8576b"
             ],
             [
              0.6666666666666666,
              "#ed7953"
             ],
             [
              0.7777777777777778,
              "#fb9f3a"
             ],
             [
              0.8888888888888888,
              "#fdca26"
             ],
             [
              1,
              "#f0f921"
             ]
            ],
            "type": "histogram2dcontour"
           }
          ],
          "mesh3d": [
           {
            "colorbar": {
             "outlinewidth": 0,
             "ticks": ""
            },
            "type": "mesh3d"
           }
          ],
          "parcoords": [
           {
            "line": {
             "colorbar": {
              "outlinewidth": 0,
              "ticks": ""
             }
            },
            "type": "parcoords"
           }
          ],
          "pie": [
           {
            "automargin": true,
            "type": "pie"
           }
          ],
          "scatter": [
           {
            "marker": {
             "colorbar": {
              "outlinewidth": 0,
              "ticks": ""
             }
            },
            "type": "scatter"
           }
          ],
          "scatter3d": [
           {
            "line": {
             "colorbar": {
              "outlinewidth": 0,
              "ticks": ""
             }
            },
            "marker": {
             "colorbar": {
              "outlinewidth": 0,
              "ticks": ""
             }
            },
            "type": "scatter3d"
           }
          ],
          "scattercarpet": [
           {
            "marker": {
             "colorbar": {
              "outlinewidth": 0,
              "ticks": ""
             }
            },
            "type": "scattercarpet"
           }
          ],
          "scattergeo": [
           {
            "marker": {
             "colorbar": {
              "outlinewidth": 0,
              "ticks": ""
             }
            },
            "type": "scattergeo"
           }
          ],
          "scattergl": [
           {
            "marker": {
             "colorbar": {
              "outlinewidth": 0,
              "ticks": ""
             }
            },
            "type": "scattergl"
           }
          ],
          "scattermapbox": [
           {
            "marker": {
             "colorbar": {
              "outlinewidth": 0,
              "ticks": ""
             }
            },
            "type": "scattermapbox"
           }
          ],
          "scatterpolar": [
           {
            "marker": {
             "colorbar": {
              "outlinewidth": 0,
              "ticks": ""
             }
            },
            "type": "scatterpolar"
           }
          ],
          "scatterpolargl": [
           {
            "marker": {
             "colorbar": {
              "outlinewidth": 0,
              "ticks": ""
             }
            },
            "type": "scatterpolargl"
           }
          ],
          "scatterternary": [
           {
            "marker": {
             "colorbar": {
              "outlinewidth": 0,
              "ticks": ""
             }
            },
            "type": "scatterternary"
           }
          ],
          "surface": [
           {
            "colorbar": {
             "outlinewidth": 0,
             "ticks": ""
            },
            "colorscale": [
             [
              0,
              "#0d0887"
             ],
             [
              0.1111111111111111,
              "#46039f"
             ],
             [
              0.2222222222222222,
              "#7201a8"
             ],
             [
              0.3333333333333333,
              "#9c179e"
             ],
             [
              0.4444444444444444,
              "#bd3786"
             ],
             [
              0.5555555555555556,
              "#d8576b"
             ],
             [
              0.6666666666666666,
              "#ed7953"
             ],
             [
              0.7777777777777778,
              "#fb9f3a"
             ],
             [
              0.8888888888888888,
              "#fdca26"
             ],
             [
              1,
              "#f0f921"
             ]
            ],
            "type": "surface"
           }
          ],
          "table": [
           {
            "cells": {
             "fill": {
              "color": "#EBF0F8"
             },
             "line": {
              "color": "white"
             }
            },
            "header": {
             "fill": {
              "color": "#C8D4E3"
             },
             "line": {
              "color": "white"
             }
            },
            "type": "table"
           }
          ]
         },
         "layout": {
          "annotationdefaults": {
           "arrowcolor": "#2a3f5f",
           "arrowhead": 0,
           "arrowwidth": 1
          },
          "autotypenumbers": "strict",
          "coloraxis": {
           "colorbar": {
            "outlinewidth": 0,
            "ticks": ""
           }
          },
          "colorscale": {
           "diverging": [
            [
             0,
             "#8e0152"
            ],
            [
             0.1,
             "#c51b7d"
            ],
            [
             0.2,
             "#de77ae"
            ],
            [
             0.3,
             "#f1b6da"
            ],
            [
             0.4,
             "#fde0ef"
            ],
            [
             0.5,
             "#f7f7f7"
            ],
            [
             0.6,
             "#e6f5d0"
            ],
            [
             0.7,
             "#b8e186"
            ],
            [
             0.8,
             "#7fbc41"
            ],
            [
             0.9,
             "#4d9221"
            ],
            [
             1,
             "#276419"
            ]
           ],
           "sequential": [
            [
             0,
             "#0d0887"
            ],
            [
             0.1111111111111111,
             "#46039f"
            ],
            [
             0.2222222222222222,
             "#7201a8"
            ],
            [
             0.3333333333333333,
             "#9c179e"
            ],
            [
             0.4444444444444444,
             "#bd3786"
            ],
            [
             0.5555555555555556,
             "#d8576b"
            ],
            [
             0.6666666666666666,
             "#ed7953"
            ],
            [
             0.7777777777777778,
             "#fb9f3a"
            ],
            [
             0.8888888888888888,
             "#fdca26"
            ],
            [
             1,
             "#f0f921"
            ]
           ],
           "sequentialminus": [
            [
             0,
             "#0d0887"
            ],
            [
             0.1111111111111111,
             "#46039f"
            ],
            [
             0.2222222222222222,
             "#7201a8"
            ],
            [
             0.3333333333333333,
             "#9c179e"
            ],
            [
             0.4444444444444444,
             "#bd3786"
            ],
            [
             0.5555555555555556,
             "#d8576b"
            ],
            [
             0.6666666666666666,
             "#ed7953"
            ],
            [
             0.7777777777777778,
             "#fb9f3a"
            ],
            [
             0.8888888888888888,
             "#fdca26"
            ],
            [
             1,
             "#f0f921"
            ]
           ]
          },
          "colorway": [
           "#636efa",
           "#EF553B",
           "#00cc96",
           "#ab63fa",
           "#FFA15A",
           "#19d3f3",
           "#FF6692",
           "#B6E880",
           "#FF97FF",
           "#FECB52"
          ],
          "font": {
           "color": "#2a3f5f"
          },
          "geo": {
           "bgcolor": "white",
           "lakecolor": "white",
           "landcolor": "#E5ECF6",
           "showlakes": true,
           "showland": true,
           "subunitcolor": "white"
          },
          "hoverlabel": {
           "align": "left"
          },
          "hovermode": "closest",
          "mapbox": {
           "style": "light"
          },
          "paper_bgcolor": "white",
          "plot_bgcolor": "#E5ECF6",
          "polar": {
           "angularaxis": {
            "gridcolor": "white",
            "linecolor": "white",
            "ticks": ""
           },
           "bgcolor": "#E5ECF6",
           "radialaxis": {
            "gridcolor": "white",
            "linecolor": "white",
            "ticks": ""
           }
          },
          "scene": {
           "xaxis": {
            "backgroundcolor": "#E5ECF6",
            "gridcolor": "white",
            "gridwidth": 2,
            "linecolor": "white",
            "showbackground": true,
            "ticks": "",
            "zerolinecolor": "white"
           },
           "yaxis": {
            "backgroundcolor": "#E5ECF6",
            "gridcolor": "white",
            "gridwidth": 2,
            "linecolor": "white",
            "showbackground": true,
            "ticks": "",
            "zerolinecolor": "white"
           },
           "zaxis": {
            "backgroundcolor": "#E5ECF6",
            "gridcolor": "white",
            "gridwidth": 2,
            "linecolor": "white",
            "showbackground": true,
            "ticks": "",
            "zerolinecolor": "white"
           }
          },
          "shapedefaults": {
           "line": {
            "color": "#2a3f5f"
           }
          },
          "ternary": {
           "aaxis": {
            "gridcolor": "white",
            "linecolor": "white",
            "ticks": ""
           },
           "baxis": {
            "gridcolor": "white",
            "linecolor": "white",
            "ticks": ""
           },
           "bgcolor": "#E5ECF6",
           "caxis": {
            "gridcolor": "white",
            "linecolor": "white",
            "ticks": ""
           }
          },
          "title": {
           "x": 0.05
          },
          "xaxis": {
           "automargin": true,
           "gridcolor": "white",
           "linecolor": "white",
           "ticks": "",
           "title": {
            "standoff": 15
           },
           "zerolinecolor": "white",
           "zerolinewidth": 2
          },
          "yaxis": {
           "automargin": true,
           "gridcolor": "white",
           "linecolor": "white",
           "ticks": "",
           "title": {
            "standoff": 15
           },
           "zerolinecolor": "white",
           "zerolinewidth": 2
          }
         }
        },
        "title": {
         "text": "Global Food Consumption (in kg/person/year)"
        }
       }
      },
      "text/html": [
       "<div>                            <div id=\"af6c2b7b-34c6-43f6-8a09-698dcade3e82\" class=\"plotly-graph-div\" style=\"height:700px; width:100%;\"></div>            <script type=\"text/javascript\">                require([\"plotly\"], function(Plotly) {                    window.PLOTLYENV=window.PLOTLYENV || {};                                    if (document.getElementById(\"af6c2b7b-34c6-43f6-8a09-698dcade3e82\")) {                    Plotly.newPlot(                        \"af6c2b7b-34c6-43f6-8a09-698dcade3e82\",                        [{\"coloraxis\": \"coloraxis\", \"customdata\": [[\"Albania\", 22.5, 12.45, 3.85, 15.32, 303.72, 10.88, 13.23, \"Albania\", 4.3599999999999985, 7.78, 0.0, 138.64], [\"Algeria\", 5.6, 8.06, 3.74, 7.689999999999999, 141.53, 0.0, 7.42, \"Algeria\", 2.08, 2.97, 0.0, 185.42], [\"Angola\", 8.42, 1.11, 15.239999999999998, 1.08, 12.3, 8.89, 17.330000000000002, \"Angola\", 2.26, 8.12, 0.52, 40.72000000000001], [\"Argentina\", 55.48, 11.39, 4.3599999999999985, 1.56, 195.08, 10.51, 38.66, \"Argentina\", 0.49, 8.77, 0.0, 103.11], [\"Armenia\", 19.66, 11.69, 4.3599999999999985, 3.02, 209.03, 9.67, 13.35, \"Armenia\", 2.55, 3.18, 0.0, 130.6], [\"Australia\", 33.86, 8.51, 17.69, 9.87, 234.49, 24.14, 46.12000000000001, \"Australia\", 8.729999999999999, 11.03, 0.19, 70.46000000000002], [\"Austria\", 17.14, 14.68, 12.16, 1.16, 258.09, 52.56, 18.610000000000007, \"Austria\", 7.88, 3.7, 2.06, 81.1], [\"Bahamas\", 19.92, 6.2, 18.8, 5.22, 104.76, 32.74, 45.74, \"Bahamas\", 4.03, 23.97, 0.09, 39.98], [\"Bangladesh\", 1.28, 2.08, 18.07, 1.33, 21.91, 0.0, 1.4, \"Bangladesh\", 0.72, 171.73, 0.61, 17.47], [\"Barbados\", 13.13, 9.61, 37.41, 4.08, 110.48, 8.3, 42.62000000000001, \"Barbados\", 4.159999999999998, 15.66, 0.1, 65.71000000000001], [\"Belarus\", 17.110000000000007, 15.86, 15.75, 0.11, 133.73, 40.37, 31.29, \"Belarus\", 3.36, 3.17, 0.3, 60.48], [\"Belgium\", 15.63, 12.59, 18.97, 1.32, 236.19, 38.65, 12.2, \"Belgium\", 7.3199999999999985, 8.61, 0.07, 111.91], [\"Belize\", 4.8599999999999985, 4.85, 7.57, 0.14, 80.3, 16.8, 28.31, \"Belize\", 5.58, 28.42, 1.88, 54.06], [\"Bermuda\", 33.15, 14.92, 33.22000000000001, 2.71, 95.56, 28.24, 32.620000000000005, \"Bermuda\", 5.72, 5.38, 0.22, 54.88], [\"Bolivia\", 19.78, 5.18, 2.18, 1.72, 46.04, 8.89, 34.309999999999995, \"Bolivia\", 9.16, 26.99, 0.01, 49.99], [\"Bosnia and Herzegovina\", 9.12, 4.49, 4.06, 0.47, 174.03, 9.38, 13.17, \"Bosnia and Herzegovina\", 2.0, 1.88, 1.48, 93.56], [\"Botswana\", 7.85, 1.95, 3.98, 3.76, 117.74, 0.74, 5.33, \"Botswana\", 1.08, 7.06, 1.16, 38.2], [\"Brazil\", 39.25, 8.98, 10.01, 0.62, 149.28, 12.6, 45.0, \"Brazil\", 0.6699999999999999, 32.13, 3.62, 53.0], [\"Bulgaria\", 3.84, 8.360000000000001, 6.24, 1.63, 155.70999999999995, 26.26, 20.68, \"Bulgaria\", 2.26, 2.24, 0.04, 121.17], [\"Cambodia\", 4.85, 1.37, 39.59, 0.0, 3.47, 6.52, 1.84, \"Cambodia\", 1.25, 159.1, 4.33, 2.74], [\"Cameroon\", 4.17, 0.4, 14.71, 1.4, 15.27, 1.47, 3.29, \"Cameroon\", 9.29, 23.85, 0.64, 22.6], [\"Canada\", 30.25, 12.95, 14.56, 0.97, 187.77, 22.81, 36.68, \"Canada\", 8.01, 12.65, 0.94, 84.96000000000002], [\"Chile\", 23.86, 9.97, 7.649999999999999, 0.42, 116.11, 24.68, 36.52, \"Chile\", 2.22, 8.850000000000003, 0.04, 104.74], [\"China\", 5.119999999999999, 18.76, 21.01, 3.13, 32.660000000000004, 38.43, 13.2, \"China\", 6.39, 78.17999999999998, 3.66, 63.36], [\"Colombia\", 16.36, 10.78, 6.01, 0.21, 108.47, 6.51, 27.57, \"Colombia\", 0.42, 28.02, 0.89, 29.79], [\"Costa Rica\", 15.23, 10.55, 11.32, 0.02, 183.28, 10.28, 24.47, \"Costa Rica\", 1.38, 45.69000000000001, 1.54, 39.31], [\"Croatia\", 12.41, 8.48, 15.83, 1.71, 231.02, 42.790000000000006, 8.52, \"Croatia\", 3.88, 2.64, 0.0, 106.59], [\"Cuba\", 6.39, 9.82, 4.76, 1.24, 99.94, 19.82, 20.15, \"Cuba\", 0.23, 67.7, 6.34, 54.62000000000001], [\"Cyprus\", 5.79, 8.98, 14.86, 5.05, 113.31, 38.38, 24.45, \"Cyprus\", 4.6, 4.94, 0.04, 83.25], [\"Czech Republic\", 8.15, 11.66, 8.25, 0.34, 195.2, 41.17, 19.09, \"Czech Republic\", 2.47, 4.79, 0.8200000000000001, 92.67], [\"Denmark\", 28.46, 15.35, 16.49, 0.92, 277.3, 24.87, 26.75, \"Denmark\", 5.94, 4.96, 0.03, 98.0], [\"Ecuador\", 16.610000000000007, 8.01, 5.17, 0.44, 139.6, 14.44, 21.85, \"Ecuador\", 0.98, 45.07, 0.0, 39.19000000000001], [\"Egypt\", 12.88, 4.59, 21.46, 1.58, 59.46, 0.02, 14.43, \"Egypt\", 1.82, 39.77, 0.64, 146.83], [\"El Salvador\", 5.95, 9.51, 6.25, 0.02, 124.34, 3.23, 19.84, \"El Salvador\", 1.1, 10.53, 0.8, 28.19], [\"Estonia\", 7.19, 12.66, 12.78, 0.44, 284.85, 29.68, 21.110000000000007, \"Estonia\", 4.29, 2.56, 0.04, 89.36], [\"Ethiopia\", 3.61, 0.36, 0.24, 1.57, 44.14, 0.02, 0.6599999999999999, \"Ethiopia\", 1.21, 2.25, 0.45, 31.26], [\"Fiji\", 8.96, 6.44, 35.01, 5.9, 40.2, 4.31, 20.26, \"Fiji\", 1.3, 45.62000000000001, 0.3, 84.22], [\"Finland\", 19.22, 9.55, 33.8, 0.53, 430.76, 36.14, 19.87, \"Finland\", 3.43, 4.42, 0.08, 81.99000000000002], [\"France\", 23.81, 13.13, 22.91, 3.28, 241.31, 33.05, 22.93, \"France\", 5.39, 4.88, 0.05, 108.43], [\"French Polynesia\", 30.9, 8.75, 38.95, 2.83, 93.56, 14.75, 49.55, \"French Polynesia\", 2.34, 35.59, 0.77, 68.66999999999999], [\"Gambia\", 2.16, 0.99, 23.130000000000006, 0.71, 45.71, 0.18, 2.66, \"Gambia\", 5.2700000000000005, 61.84, 0.0, 37.91], [\"Georgia\", 6.04, 6.119999999999999, 10.42, 0.63, 149.26, 8.93, 12.28, \"Georgia\", 2.47, 2.64, 0.0, 163.43], [\"Germany\", 13.16, 12.2, 11.16, 0.73, 258.7, 51.81, 17.75, \"Germany\", 7.96, 3.34, 0.88, 83.41000000000003], [\"Ghana\", 1.09, 1.21, 26.05, 1.74, 9.08, 1.36, 8.629999999999999, \"Ghana\", 5.56, 32.03, 0.01, 14.45], [\"Greece\", 16.1, 10.13, 14.42, 12.47, 255.26, 28.31, 15.739999999999998, \"Greece\", 10.5, 6.64, 0.02, 124.04], [\"Grenada\", 3.46, 10.34, 27.95, 1.25, 86.88, 11.52, 43.51, \"Grenada\", 0.18, 9.56, 0.01, 59.59], [\"Guatemala\", 5.6, 14.61, 1.08, 0.23, 46.6, 4.85, 16.45, \"Guatemala\", 2.0, 5.659999999999998, 0.32, 35.9], [\"Guinea\", 6.26, 1.95, 9.18, 1.6, 20.62, 0.16, 1.83, \"Guinea\", 4.14, 97.12, 0.0, 18.55], [\"Honduras\", 7.19, 5.19, 2.7, 0.04, 91.33, 6.48, 20.29, \"Honduras\", 0.75, 14.42, 0.01, 37.36], [\"Hong Kong\", 25.82, 14.5, 42.44, 2.22, 105.85, 67.11, 54.86, \"Hong Kong\", 13.81, 43.48, 2.79, 53.14], [\"Hungary\", 4.96, 12.45, 4.9300000000000015, 0.11, 159.05, 34.93, 23.78, \"Hungary\", 0.64, 2.15, 0.01, 109.98], [\"Iceland\", 13.36, 8.239999999999998, 74.41000000000003, 21.12, 225.82, 21.69, 26.87, \"Iceland\", 3.88, 3.89, 0.11, 72.92], [\"India\", 0.81, 2.58, 4.71, 0.58, 84.5, 0.28, 1.88, \"India\", 1.92, 69.49000000000001, 0.39, 60.56], [\"Indonesia\", 2.59, 4.88, 25.65, 0.46, 14.82, 2.98, 7.5, \"Indonesia\", 4.92, 134.62, 1.12, 25.45], [\"Iran\", 3.58, 7.7, 9.8, 3.69, 46.69000000000001, 0.0, 25.38, \"Iran\", 12.16, 29.95, 0.0, 153.31], [\"Ireland\", 22.35, 8.96, 17.39, 4.1, 291.86, 32.4, 26.26, \"Ireland\", 4.1, 3.0, 0.25, 107.98], [\"Israel\", 28.78, 11.35, 22.18, 1.87, 193.6, 1.99, 62.5, \"Israel\", 7.71, 16.810000000000002, 0.1, 110.86], [\"Italy\", 18.6, 13.34, 15.6, 0.92, 246.88, 40.28, 18.610000000000007, \"Italy\", 7.63, 5.74, 0.01, 146.37], [\"Jamaica\", 3.97, 2.27, 21.95, 1.26, 91.13, 3.99, 52.51, \"Jamaica\", 1.82, 23.45, 0.0, 70.66999999999999], [\"Japan\", 9.15, 19.15, 31.1, 0.14, 72.06, 20.62, 19.42, \"Japan\", 2.59, 59.85, 7.34, 45.04], [\"Jordan\", 5.6099999999999985, 3.92, 5.13, 5.68, 77.67999999999998, 0.02, 33.39, \"Jordan\", 3.56, 19.67, 0.02, 136.73999999999998], [\"Kazakhstan\", 23.38, 8.29, 5.21, 9.56, 288.12, 10.36, 18.38, \"Kazakhstan\", 5.14, 7.3199999999999985, 0.03, 92.31], [\"Kenya\", 9.54, 1.84, 4.2700000000000005, 1.86, 94.86, 0.29000000000000004, 0.47, \"Kenya\", 1.64, 12.94, 0.2, 34.65], [\"Kuwait\", 13.03, 12.6, 11.99, 15.61, 157.66, 0.0, 53.61, \"Kuwait\", 5.23, 43.83, 0.06, 96.76], [\"Latvia\", 5.1099999999999985, 14.03, 21.3, 0.34, 174.11, 34.96, 20.53, \"Latvia\", 3.78, 2.21, 0.04, 72.13], [\"Liberia\", 0.7799999999999999, 2.05, 4.13, 0.48, 3.04, 4.01, 8.91, \"Liberia\", 1.31, 94.75, 0.63, 10.95], [\"Lithuania\", 4.49, 13.11, 42.39, 0.24, 295.46, 45.67, 26.84, \"Lithuania\", 2.13, 3.07, 0.02, 121.59], [\"Luxembourg\", 29.88, 14.64, 23.09, 1.6700000000000002, 255.3, 43.58, 21.37, \"Luxembourg\", 0.93, 4.2, 0.04, 103.2], [\"Macedonia\", 7.689999999999999, 6.38, 5.4700000000000015, 0.94, 157.93, 10.35, 18.77, \"Macedonia\", 5.87, 2.81, 0.46, 104.8], [\"Madagascar\", 7.51, 0.71, 4.41, 0.5700000000000001, 24.84, 2.56, 3.14, \"Madagascar\", 0.35, 102.53, 0.0, 9.01], [\"Malawi\", 2.35, 1.08, 7.33, 2.07, 7.98, 5.45, 1.38, \"Malawi\", 5.08, 4.75, 1.76, 11.77], [\"Malaysia\", 6.52, 16.57, 49.43, 0.94, 25.28, 7.76, 41.01, \"Malaysia\", 2.9, 81.25, 0.04, 51.04], [\"Maldives\", 9.44, 10.79, 179.70999999999995, 0.7, 111.47, 1.22, 18.47, \"Maldives\", 15.83, 50.73, 0.2, 77.77], [\"Malta\", 19.22, 11.64, 24.58, 1.1900000000000002, 190.06, 34.24, 26.4, \"Malta\", 5.619999999999999, 4.96, 0.05, 139.58], [\"Mauritius\", 5.99, 6.3199999999999985, 19.66, 4.08, 117.27, 4.08, 38.51, \"Mauritius\", 2.33, 45.56, 0.3, 114.02], [\"Mexico\", 15.33, 18.34, 7.56, 0.89, 111.87, 15.23, 30.12, \"Mexico\", 2.51, 5.64, 0.02, 35.21], [\"Morocco\", 8.04, 6.68, 17.439999999999998, 4.3599999999999985, 54.68, 0.01, 20.77, \"Morocco\", 3.23, 1.1, 0.0, 179.7], [\"Mozambique\", 1.04, 1.7, 7.74, 0.9, 4.79, 5.13, 1.41, \"Mozambique\", 2.61, 23.41, 0.03, 14.65], [\"Myanmar\", 4.94, 6.45, 54.26000000000001, 0.89, 31.48, 11.31, 21.87, \"Myanmar\", 4.5, 132.8, 0.38, 6.22], [\"Namibia\", 3.75, 1.63, 10.7, 2.27, 73.05, 4.21, 12.19, \"Namibia\", 0.71, 6.31, 0.07, 36.26000000000001], [\"Nepal\", 7.89, 1.42, 2.17, 2.1, 52.1, 0.6699999999999999, 1.56, \"Nepal\", 2.42, 87.75, 0.01, 50.46], [\"Netherlands\", 17.67, 14.03, 18.64, 0.94, 341.47, 36.36, 23.9, \"Netherlands\", 7.94, 2.93, 0.12, 70.16999999999999], [\"New Caledonia\", 16.07, 8.850000000000003, 19.38, 1.95, 108.0, 19.9, 44.36, \"New Caledonia\", 2.96, 17.47, 0.55, 81.75], [\"New Zealand\", 22.49, 9.91, 20.36, 18.91, 137.25, 22.29, 34.98, \"New Zealand\", 8.219999999999999, 9.16, 0.44, 76.91000000000003], [\"Nicaragua\", 4.73, 4.9, 3.59, 0.01, 85.16, 3.38, 21.31, \"Nicaragua\", 2.36, 43.33, 0.01, 28.17], [\"Niger\", 8.97, 0.3, 2.7, 4.17, 58.92, 0.09, 1.08, \"Niger\", 6.95, 13.17, 0.0, 4.79], [\"Nigeria\", 2.33, 3.46, 16.03, 2.72, 7.91, 1.47, 1.73, \"Nigeria\", 6.9300000000000015, 28.23, 2.6, 20.82], [\"Norway\", 19.83, 11.41, 38.18, 5.34, 261.34000000000003, 23.51, 21.01, \"Norway\", 5.28, 4.3599999999999985, 0.11, 97.12], [\"Oman\", 15.1, 7.8, 21.56, 12.87, 152.28, 0.01, 31.51, \"Oman\", 1.6800000000000002, 56.55, 0.21, 64.1], [\"Pakistan\", 8.82, 2.95, 1.87, 2.46, 183.13, 0.0, 5.01, \"Pakistan\", 0.8300000000000001, 12.25, 0.0, 113.63], [\"Panama\", 20.4, 4.53, 11.05, 0.01, 70.29, 13.48, 30.81, \"Panama\", 1.05, 66.42, 3.53, 38.96], [\"Paraguay\", 19.81, 18.83, 3.6, 0.56, 75.72, 26.24, 6.39, \"Paraguay\", 1.6, 4.91, 0.0, 31.51], [\"Peru\", 4.69, 8.76, 15.739999999999998, 1.0, 62.15, 3.85, 11.72, \"Peru\", 0.65, 48.92, 1.59, 56.12000000000001], [\"Philippines\", 4.06, 4.02, 28.51, 0.56, 15.66, 18.4, 11.91, \"Philippines\", 2.08, 119.44, 0.03, 23.12], [\"Poland\", 2.32, 7.53, 10.49, 0.02, 205.39, 46.19000000000001, 27.41, \"Poland\", 2.23, 0.95, 0.06, 108.83], [\"Portugal\", 16.45, 9.05, 45.39, 2.38, 205.04, 37.91, 30.14, \"Portugal\", 3.91, 14.86, 0.01, 94.3], [\"Republic of the Congo\", 4.35, 0.6, 26.22, 0.4, 10.69, 2.39, 13.02, \"Republic of the Congo\", 3.08, 16.51, 0.0, 40.07], [\"Romania\", 4.78, 12.94, 6.07, 3.41, 238.33, 25.31, 15.38, \"Romania\", 1.8, 2.59, 0.01, 134.87], [\"Russia\", 16.979999999999997, 15.43, 20.82, 1.4, 163.57, 25.66, 27.5, \"Russia\", 1.62, 4.71, 0.05, 130.99], [\"Rwanda\", 2.53, 0.16, 3.88, 1.93, 7.23, 0.76, 1.34, \"Rwanda\", 0.58, 8.7, 1.93, 11.34], [\"Saudi Arabia\", 6.45, 5.37, 11.99, 6.54, 83.64999999999998, 0.0, 49.05, \"Saudi Arabia\", 3.23, 36.02, 0.05, 89.47], [\"Senegal\", 5.85, 1.63, 22.94, 3.19, 16.86, 0.94, 4.619999999999999, \"Senegal\", 4.03, 72.29, 0.0, 37.32], [\"Serbia\", 7.05, 8.89, 5.59, 3.56, 148.53, 32.04, 10.64, \"Serbia\", 3.31, 1.22, 0.0, 105.88], [\"Sierra Leone\", 1.99, 1.92, 32.03, 0.65, 7.0, 1.22, 4.9700000000000015, \"Sierra Leone\", 5.57, 103.3, 0.0, 8.719999999999999], [\"Slovakia\", 5.19, 16.05, 8.39, 0.16, 143.14, 31.78, 15.13, \"Slovakia\", 3.7, 2.88, 0.02, 123.62], [\"Slovenia\", 18.43, 9.36, 7.76, 0.7899999999999999, 235.01, 28.19, 23.46, \"Slovenia\", 5.28, 3.95, 0.75, 103.43], [\"South Africa\", 18.03, 7.21, 5.56, 4.28, 55.75, 4.159999999999998, 37.57, \"South Africa\", 1.04, 17.41, 1.27, 60.13], [\"South Korea\", 14.53, 11.239999999999998, 33.09, 0.14, 29.05, 32.760000000000005, 16.0, \"South Korea\", 4.88, 85.17999999999998, 8.350000000000001, 50.84], [\"Spain\", 12.15, 13.32, 28.83, 2.16, 164.29, 48.92, 28.630000000000006, \"Spain\", 7.44, 8.32, 0.02, 93.88], [\"Sri Lanka\", 1.38, 4.57, 24.92, 0.09, 34.98, 0.05, 4.96, \"Sri Lanka\", 1.09, 109.72, 0.0, 37.01], [\"Swaziland\", 15.1, 1.5, 1.26, 1.94, 56.6, 2.43, 6.18, \"Swaziland\", 6.44, 21.15, 0.55, 37.15], [\"Sweden\", 24.58, 13.37, 23.86, 1.41, 341.23, 37.0, 16.64, \"Sweden\", 6.23, 5.96, 0.13, 79.59], [\"Switzerland\", 21.26, 10.53, 13.48, 1.42, 318.69, 31.49, 16.38, \"Switzerland\", 9.27, 2.43, 0.44, 89.51], [\"Taiwan\", 5.21, 13.08, 18.29, 0.92, 41.72000000000001, 39.37, 32.13, \"Taiwan\", 9.06, 45.85, 16.95, 50.92], [\"Tanzania\", 6.09, 0.58, 5.5, 1.28, 40.290000000000006, 0.32, 1.84, \"Tanzania\", 5.94, 21.01, 0.04, 15.94], [\"Thailand\", 2.56, 12.35, 19.45, 0.05, 29.35, 13.0, 13.69, \"Thailand\", 1.5, 114.57, 2.13, 10.93], [\"Togo\", 1.53, 0.8600000000000001, 11.69, 1.58, 7.96, 1.57, 6.63, \"Togo\", 3.59, 25.99, 0.01, 12.91], [\"Trinidad and Tobago\", 6.13, 4.2, 20.54, 2.79, 103.8, 8.92, 58.27, \"Trinidad and Tobago\", 3.78, 16.38, 0.04, 90.17], [\"Tunisia\", 5.53, 7.67, 12.63, 5.34, 114.47, 0.0, 18.5, \"Tunisia\", 6.34, 1.07, 1.88, 197.5], [\"Turkey\", 11.64, 8.2, 5.58, 4.68, 193.94, 0.01, 18.78, \"Turkey\", 7.9700000000000015, 10.739999999999998, 1.71, 169.96], [\"Uganda\", 5.15, 0.97, 12.5, 1.25, 37.27, 3.37, 1.51, \"Uganda\", 3.77, 4.64, 0.01, 10.14], [\"Ukraine\", 8.96, 18.01, 15.23, 0.41, 145.03, 20.56, 24.23, \"Ukraine\", 2.68, 3.0, 0.02, 105.15], [\"United Arab Emirates\", 5.64, 8.229999999999999, 20.41, 9.08, 132.66, 0.0, 41.04, \"United Arab Emirates\", 23.03, 56.25, 0.08, 101.29], [\"United Kingdom\", 18.12, 11.08, 15.49, 4.49, 232.2, 25.79, 31.55, \"United Kingdom\", 4.18, 6.39, 0.05, 98.63], [\"United States\", 36.24, 14.58, 12.35, 0.4300000000000001, 254.69, 27.64, 50.01, \"United States\", 7.8599999999999985, 6.88, 0.04, 80.43], [\"Uruguay\", 29.1, 13.14, 6.53, 8.229999999999999, 210.54, 16.84, 27.45, \"Uruguay\", 0.95, 11.5, 0.01, 109.31], [\"Venezuela\", 25.89, 5.63, 8.34, 0.32, 117.79, 7.23, 39.28, \"Venezuela\", 0.35, 23.39, 0.0, 49.17], [\"Vietnam\", 7.44, 3.84, 26.52, 0.14, 16.36, 35.0, 12.36, \"Vietnam\", 6.28, 144.56, 5.75, 10.49], [\"Zambia\", 4.76, 3.32, 6.2, 0.6799999999999999, 9.71, 1.66, 3.29, \"Zambia\", 5.04, 3.05, 7.3, 12.1], [\"Zimbabwe\", 7.37, 1.75, 2.8, 0.96, 31.9, 2.65, 4.9700000000000015, \"Zimbabwe\", 2.22, 10.09, 0.54, 31.31]], \"geo\": \"geo\", \"hovertemplate\": \"<b>%{hovertext}</b><br><br>country=%{customdata[8]}<br>Beef=%{customdata[1]}<br>Eggs=%{customdata[2]}<br>Fish=%{customdata[3]}<br>Lamb & Goat=%{customdata[4]}<br>Milk & Cheese=%{customdata[5]}<br>Pork=%{customdata[6]}<br>Poultry=%{customdata[7]}<br>Nuts & Peanut Butter=%{customdata[9]}<br>Rice=%{customdata[10]}<br>Soybeans=%{customdata[11]}<br>Wheat & Wheat Products=%{customdata[12]}<br>TOTAL=%{z}<extra></extra>\", \"hovertext\": [\"Albania\", \"Algeria\", \"Angola\", \"Argentina\", \"Armenia\", \"Australia\", \"Austria\", \"Bahamas\", \"Bangladesh\", \"Barbados\", \"Belarus\", \"Belgium\", \"Belize\", \"Bermuda\", \"Bolivia\", \"Bosnia and Herzegovina\", \"Botswana\", \"Brazil\", \"Bulgaria\", \"Cambodia\", \"Cameroon\", \"Canada\", \"Chile\", \"China\", \"Colombia\", \"Costa Rica\", \"Croatia\", \"Cuba\", \"Cyprus\", \"Czech Republic\", \"Denmark\", \"Ecuador\", \"Egypt\", \"El Salvador\", \"Estonia\", \"Ethiopia\", \"Fiji\", \"Finland\", \"France\", \"French Polynesia\", \"Gambia\", \"Georgia\", \"Germany\", \"Ghana\", \"Greece\", \"Grenada\", \"Guatemala\", \"Guinea\", \"Honduras\", \"Hong Kong\", \"Hungary\", \"Iceland\", \"India\", \"Indonesia\", \"Iran\", \"Ireland\", \"Israel\", \"Italy\", \"Jamaica\", \"Japan\", \"Jordan\", \"Kazakhstan\", \"Kenya\", \"Kuwait\", \"Latvia\", \"Liberia\", \"Lithuania\", \"Luxembourg\", \"Macedonia\", \"Madagascar\", \"Malawi\", \"Malaysia\", \"Maldives\", \"Malta\", \"Mauritius\", \"Mexico\", \"Morocco\", \"Mozambique\", \"Myanmar\", \"Namibia\", \"Nepal\", \"Netherlands\", \"New Caledonia\", \"New Zealand\", \"Nicaragua\", \"Niger\", \"Nigeria\", \"Norway\", \"Oman\", \"Pakistan\", \"Panama\", \"Paraguay\", \"Peru\", \"Philippines\", \"Poland\", \"Portugal\", \"Republic of the Congo\", \"Romania\", \"Russia\", \"Rwanda\", \"Saudi Arabia\", \"Senegal\", \"Serbia\", \"Sierra Leone\", \"Slovakia\", \"Slovenia\", \"South Africa\", \"South Korea\", \"Spain\", \"Sri Lanka\", \"Swaziland\", \"Sweden\", \"Switzerland\", \"Taiwan\", \"Tanzania\", \"Thailand\", \"Togo\", \"Trinidad and Tobago\", \"Tunisia\", \"Turkey\", \"Uganda\", \"Ukraine\", \"United Arab Emirates\", \"United Kingdom\", \"United States\", \"Uruguay\", \"Venezuela\", \"Vietnam\", \"Zambia\", \"Zimbabwe\"], \"locationmode\": \"country names\", \"locations\": [\"Albania\", \"Algeria\", \"Angola\", \"Argentina\", \"Armenia\", \"Australia\", \"Austria\", \"Bahamas\", \"Bangladesh\", \"Barbados\", \"Belarus\", \"Belgium\", \"Belize\", \"Bermuda\", \"Bolivia\", \"Bosnia and Herzegovina\", \"Botswana\", \"Brazil\", \"Bulgaria\", \"Cambodia\", \"Cameroon\", \"Canada\", \"Chile\", \"China\", \"Colombia\", \"Costa Rica\", \"Croatia\", \"Cuba\", \"Cyprus\", \"Czech Republic\", \"Denmark\", \"Ecuador\", \"Egypt\", \"El Salvador\", \"Estonia\", \"Ethiopia\", \"Fiji\", \"Finland\", \"France\", \"French Polynesia\", \"Gambia\", \"Georgia\", \"Germany\", \"Ghana\", \"Greece\", \"Grenada\", \"Guatemala\", \"Guinea\", \"Honduras\", \"Hong Kong\", \"Hungary\", \"Iceland\", \"India\", \"Indonesia\", \"Iran\", \"Ireland\", \"Israel\", \"Italy\", \"Jamaica\", \"Japan\", \"Jordan\", \"Kazakhstan\", \"Kenya\", \"Kuwait\", \"Latvia\", \"Liberia\", \"Lithuania\", \"Luxembourg\", \"Macedonia\", \"Madagascar\", \"Malawi\", \"Malaysia\", \"Maldives\", \"Malta\", \"Mauritius\", \"Mexico\", \"Morocco\", \"Mozambique\", \"Myanmar\", \"Namibia\", \"Nepal\", \"Netherlands\", \"New Caledonia\", \"New Zealand\", \"Nicaragua\", \"Niger\", \"Nigeria\", \"Norway\", \"Oman\", \"Pakistan\", \"Panama\", \"Paraguay\", \"Peru\", \"Philippines\", \"Poland\", \"Portugal\", \"Republic of the Congo\", \"Romania\", \"Russia\", \"Rwanda\", \"Saudi Arabia\", \"Senegal\", \"Serbia\", \"Sierra Leone\", \"Slovakia\", \"Slovenia\", \"South Africa\", \"South Korea\", \"Spain\", \"Sri Lanka\", \"Swaziland\", \"Sweden\", \"Switzerland\", \"Taiwan\", \"Tanzania\", \"Thailand\", \"Togo\", \"Trinidad and Tobago\", \"Tunisia\", \"Turkey\", \"Uganda\", \"Ukraine\", \"United Arab Emirates\", \"United Kingdom\", \"United States\", \"Uruguay\", \"Venezuela\", \"Vietnam\", \"Zambia\", \"Zimbabwe\"], \"name\": \"\", \"type\": \"choropleth\", \"z\": [532.73, 364.51, 115.99000000000001, 429.40999999999997, 407.11, 465.09000000000003, 469.14, 301.45, 236.6, 311.26, 321.5300000000001, 463.4599999999999, 232.76999999999998, 306.62, 204.25, 313.64, 188.85000000000002, 355.15999999999997, 348.42999999999995, 225.06000000000003, 97.09, 412.55, 335.06, 283.9, 235.02999999999994, 343.07, 433.87, 291.01000000000005, 303.65, 384.61, 499.06999999999994, 291.36, 303.48, 209.76, 464.9600000000001, 85.77000000000001, 252.52, 639.7900000000001, 479.17, 346.65999999999997, 180.56000000000003, 362.22, 461.09999999999997, 101.21000000000001, 493.63, 254.25, 133.29999999999998, 161.41000000000003, 185.76, 426.02000000000004, 352.99, 472.31000000000006, 227.7, 224.99, 292.26, 518.65, 457.75, 513.98, 273.02, 286.46000000000004, 291.41999999999996, 468.09999999999997, 162.56, 410.37999999999994, 348.54, 131.04, 555.01, 497.90000000000003, 321.47, 155.63, 51.0, 282.74, 476.32999999999987, 457.53999999999996, 358.12, 242.72, 296.01, 63.410000000000004, 275.1, 151.14999999999998, 208.55, 534.17, 321.24, 360.9200000000001, 196.95, 101.14000000000001, 94.22999999999999, 487.49, 363.66999999999996, 330.95, 260.53000000000003, 189.17, 215.19000000000003, 227.79, 411.42, 459.44, 117.33000000000001, 445.49, 408.73, 40.379999999999995, 291.82, 169.67, 326.71000000000004, 167.36999999999998, 350.05999999999995, 436.4099999999999, 212.41, 286.05999999999995, 407.96, 218.76999999999998, 150.3, 550.0, 514.9, 273.5, 98.83000000000001, 219.57999999999998, 74.32000000000001, 315.02, 370.92999999999995, 433.2099999999999, 80.58000000000001, 343.28, 397.71, 447.97, 491.15000000000003, 433.5999999999999, 277.39, 268.74, 57.11, 96.56]}],                        {\"coloraxis\": {\"colorbar\": {\"title\": {\"text\": \"TOTAL\"}}, \"colorscale\": [[0.0, \"rgb(255,247,251)\"], [0.125, \"rgb(236,226,240)\"], [0.25, \"rgb(208,209,230)\"], [0.375, \"rgb(166,189,219)\"], [0.5, \"rgb(103,169,207)\"], [0.625, \"rgb(54,144,192)\"], [0.75, \"rgb(2,129,138)\"], [0.875, \"rgb(1,108,89)\"], [1.0, \"rgb(1,70,54)\"]]}, \"geo\": {\"center\": {}, \"domain\": {\"x\": [0.0, 1.0], \"y\": [0.0, 1.0]}}, \"height\": 700, \"legend\": {\"tracegroupgap\": 0}, \"margin\": {\"t\": 60}, \"template\": {\"data\": {\"bar\": [{\"error_x\": {\"color\": \"#2a3f5f\"}, \"error_y\": {\"color\": \"#2a3f5f\"}, \"marker\": {\"line\": {\"color\": \"#E5ECF6\", \"width\": 0.5}}, \"type\": \"bar\"}], \"barpolar\": [{\"marker\": {\"line\": {\"color\": \"#E5ECF6\", \"width\": 0.5}}, \"type\": \"barpolar\"}], \"carpet\": [{\"aaxis\": {\"endlinecolor\": \"#2a3f5f\", \"gridcolor\": \"white\", \"linecolor\": \"white\", \"minorgridcolor\": \"white\", \"startlinecolor\": \"#2a3f5f\"}, \"baxis\": {\"endlinecolor\": \"#2a3f5f\", \"gridcolor\": \"white\", \"linecolor\": \"white\", \"minorgridcolor\": \"white\", \"startlinecolor\": \"#2a3f5f\"}, \"type\": \"carpet\"}], \"choropleth\": [{\"colorbar\": {\"outlinewidth\": 0, \"ticks\": \"\"}, \"type\": \"choropleth\"}], \"contour\": [{\"colorbar\": {\"outlinewidth\": 0, \"ticks\": \"\"}, \"colorscale\": [[0.0, \"#0d0887\"], [0.1111111111111111, \"#46039f\"], [0.2222222222222222, \"#7201a8\"], [0.3333333333333333, \"#9c179e\"], [0.4444444444444444, \"#bd3786\"], [0.5555555555555556, \"#d8576b\"], [0.6666666666666666, \"#ed7953\"], [0.7777777777777778, \"#fb9f3a\"], [0.8888888888888888, \"#fdca26\"], [1.0, \"#f0f921\"]], \"type\": \"contour\"}], \"contourcarpet\": [{\"colorbar\": {\"outlinewidth\": 0, \"ticks\": \"\"}, \"type\": \"contourcarpet\"}], \"heatmap\": [{\"colorbar\": {\"outlinewidth\": 0, \"ticks\": \"\"}, \"colorscale\": [[0.0, \"#0d0887\"], [0.1111111111111111, \"#46039f\"], [0.2222222222222222, \"#7201a8\"], [0.3333333333333333, \"#9c179e\"], [0.4444444444444444, \"#bd3786\"], [0.5555555555555556, \"#d8576b\"], [0.6666666666666666, \"#ed7953\"], [0.7777777777777778, \"#fb9f3a\"], [0.8888888888888888, \"#fdca26\"], [1.0, \"#f0f921\"]], \"type\": \"heatmap\"}], \"heatmapgl\": [{\"colorbar\": {\"outlinewidth\": 0, \"ticks\": \"\"}, \"colorscale\": [[0.0, \"#0d0887\"], [0.1111111111111111, \"#46039f\"], [0.2222222222222222, \"#7201a8\"], [0.3333333333333333, \"#9c179e\"], [0.4444444444444444, \"#bd3786\"], [0.5555555555555556, \"#d8576b\"], [0.6666666666666666, \"#ed7953\"], [0.7777777777777778, \"#fb9f3a\"], [0.8888888888888888, \"#fdca26\"], [1.0, \"#f0f921\"]], \"type\": \"heatmapgl\"}], \"histogram\": [{\"marker\": {\"colorbar\": {\"outlinewidth\": 0, \"ticks\": \"\"}}, \"type\": \"histogram\"}], \"histogram2d\": [{\"colorbar\": {\"outlinewidth\": 0, \"ticks\": \"\"}, \"colorscale\": [[0.0, \"#0d0887\"], [0.1111111111111111, \"#46039f\"], [0.2222222222222222, \"#7201a8\"], [0.3333333333333333, \"#9c179e\"], [0.4444444444444444, \"#bd3786\"], [0.5555555555555556, \"#d8576b\"], [0.6666666666666666, \"#ed7953\"], [0.7777777777777778, \"#fb9f3a\"], [0.8888888888888888, \"#fdca26\"], [1.0, \"#f0f921\"]], \"type\": \"histogram2d\"}], \"histogram2dcontour\": [{\"colorbar\": {\"outlinewidth\": 0, \"ticks\": \"\"}, \"colorscale\": [[0.0, \"#0d0887\"], [0.1111111111111111, \"#46039f\"], [0.2222222222222222, \"#7201a8\"], [0.3333333333333333, \"#9c179e\"], [0.4444444444444444, \"#bd3786\"], [0.5555555555555556, \"#d8576b\"], [0.6666666666666666, \"#ed7953\"], [0.7777777777777778, \"#fb9f3a\"], [0.8888888888888888, \"#fdca26\"], [1.0, \"#f0f921\"]], \"type\": \"histogram2dcontour\"}], \"mesh3d\": [{\"colorbar\": {\"outlinewidth\": 0, \"ticks\": \"\"}, \"type\": \"mesh3d\"}], \"parcoords\": [{\"line\": {\"colorbar\": {\"outlinewidth\": 0, \"ticks\": \"\"}}, \"type\": \"parcoords\"}], \"pie\": [{\"automargin\": true, \"type\": \"pie\"}], \"scatter\": [{\"marker\": {\"colorbar\": {\"outlinewidth\": 0, \"ticks\": \"\"}}, \"type\": \"scatter\"}], \"scatter3d\": [{\"line\": {\"colorbar\": {\"outlinewidth\": 0, \"ticks\": \"\"}}, \"marker\": {\"colorbar\": {\"outlinewidth\": 0, \"ticks\": \"\"}}, \"type\": \"scatter3d\"}], \"scattercarpet\": [{\"marker\": {\"colorbar\": {\"outlinewidth\": 0, \"ticks\": \"\"}}, \"type\": \"scattercarpet\"}], \"scattergeo\": [{\"marker\": {\"colorbar\": {\"outlinewidth\": 0, \"ticks\": \"\"}}, \"type\": \"scattergeo\"}], \"scattergl\": [{\"marker\": {\"colorbar\": {\"outlinewidth\": 0, \"ticks\": \"\"}}, \"type\": \"scattergl\"}], \"scattermapbox\": [{\"marker\": {\"colorbar\": {\"outlinewidth\": 0, \"ticks\": \"\"}}, \"type\": \"scattermapbox\"}], \"scatterpolar\": [{\"marker\": {\"colorbar\": {\"outlinewidth\": 0, \"ticks\": \"\"}}, \"type\": \"scatterpolar\"}], \"scatterpolargl\": [{\"marker\": {\"colorbar\": {\"outlinewidth\": 0, \"ticks\": \"\"}}, \"type\": \"scatterpolargl\"}], \"scatterternary\": [{\"marker\": {\"colorbar\": {\"outlinewidth\": 0, \"ticks\": \"\"}}, \"type\": \"scatterternary\"}], \"surface\": [{\"colorbar\": {\"outlinewidth\": 0, \"ticks\": \"\"}, \"colorscale\": [[0.0, \"#0d0887\"], [0.1111111111111111, \"#46039f\"], [0.2222222222222222, \"#7201a8\"], [0.3333333333333333, \"#9c179e\"], [0.4444444444444444, \"#bd3786\"], [0.5555555555555556, \"#d8576b\"], [0.6666666666666666, \"#ed7953\"], [0.7777777777777778, \"#fb9f3a\"], [0.8888888888888888, \"#fdca26\"], [1.0, \"#f0f921\"]], \"type\": \"surface\"}], \"table\": [{\"cells\": {\"fill\": {\"color\": \"#EBF0F8\"}, \"line\": {\"color\": \"white\"}}, \"header\": {\"fill\": {\"color\": \"#C8D4E3\"}, \"line\": {\"color\": \"white\"}}, \"type\": \"table\"}]}, \"layout\": {\"annotationdefaults\": {\"arrowcolor\": \"#2a3f5f\", \"arrowhead\": 0, \"arrowwidth\": 1}, \"autotypenumbers\": \"strict\", \"coloraxis\": {\"colorbar\": {\"outlinewidth\": 0, \"ticks\": \"\"}}, \"colorscale\": {\"diverging\": [[0, \"#8e0152\"], [0.1, \"#c51b7d\"], [0.2, \"#de77ae\"], [0.3, \"#f1b6da\"], [0.4, \"#fde0ef\"], [0.5, \"#f7f7f7\"], [0.6, \"#e6f5d0\"], [0.7, \"#b8e186\"], [0.8, \"#7fbc41\"], [0.9, \"#4d9221\"], [1, \"#276419\"]], \"sequential\": [[0.0, \"#0d0887\"], [0.1111111111111111, \"#46039f\"], [0.2222222222222222, \"#7201a8\"], [0.3333333333333333, \"#9c179e\"], [0.4444444444444444, \"#bd3786\"], [0.5555555555555556, \"#d8576b\"], [0.6666666666666666, \"#ed7953\"], [0.7777777777777778, \"#fb9f3a\"], [0.8888888888888888, \"#fdca26\"], [1.0, \"#f0f921\"]], \"sequentialminus\": [[0.0, \"#0d0887\"], [0.1111111111111111, \"#46039f\"], [0.2222222222222222, \"#7201a8\"], [0.3333333333333333, \"#9c179e\"], [0.4444444444444444, \"#bd3786\"], [0.5555555555555556, \"#d8576b\"], [0.6666666666666666, \"#ed7953\"], [0.7777777777777778, \"#fb9f3a\"], [0.8888888888888888, \"#fdca26\"], [1.0, \"#f0f921\"]]}, \"colorway\": [\"#636efa\", \"#EF553B\", \"#00cc96\", \"#ab63fa\", \"#FFA15A\", \"#19d3f3\", \"#FF6692\", \"#B6E880\", \"#FF97FF\", \"#FECB52\"], \"font\": {\"color\": \"#2a3f5f\"}, \"geo\": {\"bgcolor\": \"white\", \"lakecolor\": \"white\", \"landcolor\": \"#E5ECF6\", \"showlakes\": true, \"showland\": true, \"subunitcolor\": \"white\"}, \"hoverlabel\": {\"align\": \"left\"}, \"hovermode\": \"closest\", \"mapbox\": {\"style\": \"light\"}, \"paper_bgcolor\": \"white\", \"plot_bgcolor\": \"#E5ECF6\", \"polar\": {\"angularaxis\": {\"gridcolor\": \"white\", \"linecolor\": \"white\", \"ticks\": \"\"}, \"bgcolor\": \"#E5ECF6\", \"radialaxis\": {\"gridcolor\": \"white\", \"linecolor\": \"white\", \"ticks\": \"\"}}, \"scene\": {\"xaxis\": {\"backgroundcolor\": \"#E5ECF6\", \"gridcolor\": \"white\", \"gridwidth\": 2, \"linecolor\": \"white\", \"showbackground\": true, \"ticks\": \"\", \"zerolinecolor\": \"white\"}, \"yaxis\": {\"backgroundcolor\": \"#E5ECF6\", \"gridcolor\": \"white\", \"gridwidth\": 2, \"linecolor\": \"white\", \"showbackground\": true, \"ticks\": \"\", \"zerolinecolor\": \"white\"}, \"zaxis\": {\"backgroundcolor\": \"#E5ECF6\", \"gridcolor\": \"white\", \"gridwidth\": 2, \"linecolor\": \"white\", \"showbackground\": true, \"ticks\": \"\", \"zerolinecolor\": \"white\"}}, \"shapedefaults\": {\"line\": {\"color\": \"#2a3f5f\"}}, \"ternary\": {\"aaxis\": {\"gridcolor\": \"white\", \"linecolor\": \"white\", \"ticks\": \"\"}, \"baxis\": {\"gridcolor\": \"white\", \"linecolor\": \"white\", \"ticks\": \"\"}, \"bgcolor\": \"#E5ECF6\", \"caxis\": {\"gridcolor\": \"white\", \"linecolor\": \"white\", \"ticks\": \"\"}}, \"title\": {\"x\": 0.05}, \"xaxis\": {\"automargin\": true, \"gridcolor\": \"white\", \"linecolor\": \"white\", \"ticks\": \"\", \"title\": {\"standoff\": 15}, \"zerolinecolor\": \"white\", \"zerolinewidth\": 2}, \"yaxis\": {\"automargin\": true, \"gridcolor\": \"white\", \"linecolor\": \"white\", \"ticks\": \"\", \"title\": {\"standoff\": 15}, \"zerolinecolor\": \"white\", \"zerolinewidth\": 2}}}, \"title\": {\"text\": \"Global Food Consumption (in kg/person/year)\"}},                        {\"responsive\": true}                    ).then(function(){\n",
       "                            \n",
       "var gd = document.getElementById('af6c2b7b-34c6-43f6-8a09-698dcade3e82');\n",
       "var x = new MutationObserver(function (mutations, observer) {{\n",
       "        var display = window.getComputedStyle(gd).display;\n",
       "        if (!display || display === 'none') {{\n",
       "            console.log([gd, 'removed!']);\n",
       "            Plotly.purge(gd);\n",
       "            observer.disconnect();\n",
       "        }}\n",
       "}});\n",
       "\n",
       "// Listen for the removal of the full notebook cells\n",
       "var notebookContainer = gd.closest('#notebook-container');\n",
       "if (notebookContainer) {{\n",
       "    x.observe(notebookContainer, {childList: true});\n",
       "}}\n",
       "\n",
       "// Listen for the clearing of the current output cell\n",
       "var outputEl = gd.closest('.output');\n",
       "if (outputEl) {{\n",
       "    x.observe(outputEl, {childList: true});\n",
       "}}\n",
       "\n",
       "                        })                };                });            </script>        </div>"
      ]
     },
     "metadata": {},
     "output_type": "display_data"
    }
   ],
   "source": [
    "fig = px.choropleth(country_data,\n",
    "                    locations = \"country\",\n",
    "                    locationmode = \"country names\",\n",
    "                    color = \"TOTAL\",\n",
    "                    hover_name = \"country\",\n",
    "                    hover_data = animal_products + plant_products,\n",
    "                    height = 700,\n",
    "                    color_continuous_scale = \"PuBuGn\")\n",
    "\n",
    "fig.update_layout(title = \"Global Food Consumption (in kg/person/year)\")\n",
    "\n",
    "fig.show()"
   ]
  },
  {
   "cell_type": "markdown",
   "metadata": {},
   "source": [
    "Countries with the highest record of food product consumption are concentrated in Europe &mdash; as evidenced by the dark gradient on this continent &mdash; with Finland being the top consumer (639.79 kg/person/year). It is to be noted that the European Union is the biggest cheese and skin milk powder exporter globally, as well as the second-largest producer and the foremost exporter of pork in the world (European Union, 2021).\n",
    "\n",
    "On the other hand, the countries with the lowest record of food product consumption are concentrated in Africa &mdash; as evidenced by the paler gradient on this region &mdash; with Rwanda being the lowest consumer (40 kg/person/year). This trend may possibly indicate a relationship between the economy of a country and consumption. Consumption is intrinsically tied with the available resources of a country. In particular, countries with enough or above-adequate resources for the production and even participate in the trade of goods also tend to have a more ample supply of food products (either locally produced or imported) for the consumption of their citizens. "
   ]
  },
  {
   "cell_type": "markdown",
   "metadata": {},
   "source": [
    "These observations are further supported by the supplementary bar graph visualization below.\n",
    "\n",
    "*Note that this is an interactive graph. Hovering allows for a more granular look at the data.*"
   ]
  },
  {
   "cell_type": "code",
   "execution_count": 19,
   "metadata": {},
   "outputs": [
    {
     "data": {
      "application/vnd.plotly.v1+json": {
       "config": {
        "plotlyServerURL": "https://plot.ly"
       },
       "data": [
        {
         "name": "Beef",
         "orientation": "h",
         "type": "bar",
         "x": [
          19.22,
          4.49,
          24.58,
          17.67,
          22.5,
          22.35,
          21.26,
          18.6,
          28.46,
          29.88,
          16.1,
          36.24,
          19.83,
          23.81,
          9.44,
          13.36,
          17.14,
          23.38,
          33.86,
          7.19
         ],
         "y": [
          "Finland",
          "Lithuania",
          "Sweden",
          "Netherlands",
          "Albania",
          "Ireland",
          "Switzerland",
          "Italy",
          "Denmark",
          "Luxembourg",
          "Greece",
          "United States",
          "Norway",
          "France",
          "Maldives",
          "Iceland",
          "Austria",
          "Kazakhstan",
          "Australia",
          "Estonia"
         ]
        },
        {
         "name": "Eggs",
         "orientation": "h",
         "type": "bar",
         "x": [
          9.55,
          13.11,
          13.37,
          14.03,
          12.45,
          8.96,
          10.53,
          13.34,
          15.35,
          14.64,
          10.13,
          14.58,
          11.41,
          13.13,
          10.79,
          8.239999999999998,
          14.68,
          8.29,
          8.51,
          12.66
         ],
         "y": [
          "Finland",
          "Lithuania",
          "Sweden",
          "Netherlands",
          "Albania",
          "Ireland",
          "Switzerland",
          "Italy",
          "Denmark",
          "Luxembourg",
          "Greece",
          "United States",
          "Norway",
          "France",
          "Maldives",
          "Iceland",
          "Austria",
          "Kazakhstan",
          "Australia",
          "Estonia"
         ]
        },
        {
         "name": "Fish",
         "orientation": "h",
         "type": "bar",
         "x": [
          33.8,
          42.39,
          23.86,
          18.64,
          3.85,
          17.39,
          13.48,
          15.6,
          16.49,
          23.09,
          14.42,
          12.35,
          38.18,
          22.91,
          179.70999999999995,
          74.41000000000003,
          12.16,
          5.21,
          17.69,
          12.78
         ],
         "y": [
          "Finland",
          "Lithuania",
          "Sweden",
          "Netherlands",
          "Albania",
          "Ireland",
          "Switzerland",
          "Italy",
          "Denmark",
          "Luxembourg",
          "Greece",
          "United States",
          "Norway",
          "France",
          "Maldives",
          "Iceland",
          "Austria",
          "Kazakhstan",
          "Australia",
          "Estonia"
         ]
        },
        {
         "name": "Lamb & Goat",
         "orientation": "h",
         "type": "bar",
         "x": [
          0.53,
          0.24,
          1.41,
          0.94,
          15.32,
          4.1,
          1.42,
          0.92,
          0.92,
          1.6700000000000002,
          12.47,
          0.4300000000000001,
          5.34,
          3.28,
          0.7,
          21.12,
          1.16,
          9.56,
          9.87,
          0.44
         ],
         "y": [
          "Finland",
          "Lithuania",
          "Sweden",
          "Netherlands",
          "Albania",
          "Ireland",
          "Switzerland",
          "Italy",
          "Denmark",
          "Luxembourg",
          "Greece",
          "United States",
          "Norway",
          "France",
          "Maldives",
          "Iceland",
          "Austria",
          "Kazakhstan",
          "Australia",
          "Estonia"
         ]
        },
        {
         "name": "Milk & Cheese",
         "orientation": "h",
         "type": "bar",
         "x": [
          430.76,
          295.46,
          341.23,
          341.47,
          303.72,
          291.86,
          318.69,
          246.88,
          277.3,
          255.3,
          255.26,
          254.69,
          261.34000000000003,
          241.31,
          111.47,
          225.82,
          258.09,
          288.12,
          234.49,
          284.85
         ],
         "y": [
          "Finland",
          "Lithuania",
          "Sweden",
          "Netherlands",
          "Albania",
          "Ireland",
          "Switzerland",
          "Italy",
          "Denmark",
          "Luxembourg",
          "Greece",
          "United States",
          "Norway",
          "France",
          "Maldives",
          "Iceland",
          "Austria",
          "Kazakhstan",
          "Australia",
          "Estonia"
         ]
        },
        {
         "name": "Pork",
         "orientation": "h",
         "type": "bar",
         "x": [
          36.14,
          45.67,
          37,
          36.36,
          10.88,
          32.4,
          31.49,
          40.28,
          24.87,
          43.58,
          28.31,
          27.64,
          23.51,
          33.05,
          1.22,
          21.69,
          52.56,
          10.36,
          24.14,
          29.68
         ],
         "y": [
          "Finland",
          "Lithuania",
          "Sweden",
          "Netherlands",
          "Albania",
          "Ireland",
          "Switzerland",
          "Italy",
          "Denmark",
          "Luxembourg",
          "Greece",
          "United States",
          "Norway",
          "France",
          "Maldives",
          "Iceland",
          "Austria",
          "Kazakhstan",
          "Australia",
          "Estonia"
         ]
        },
        {
         "name": "Poultry",
         "orientation": "h",
         "type": "bar",
         "x": [
          19.87,
          26.84,
          16.64,
          23.9,
          13.23,
          26.26,
          16.38,
          18.610000000000007,
          26.75,
          21.37,
          15.739999999999998,
          50.01,
          21.01,
          22.93,
          18.47,
          26.87,
          18.610000000000007,
          18.38,
          46.12000000000001,
          21.110000000000007
         ],
         "y": [
          "Finland",
          "Lithuania",
          "Sweden",
          "Netherlands",
          "Albania",
          "Ireland",
          "Switzerland",
          "Italy",
          "Denmark",
          "Luxembourg",
          "Greece",
          "United States",
          "Norway",
          "France",
          "Maldives",
          "Iceland",
          "Austria",
          "Kazakhstan",
          "Australia",
          "Estonia"
         ]
        },
        {
         "name": "Nuts & Peanut Butter",
         "orientation": "h",
         "type": "bar",
         "x": [
          3.43,
          2.13,
          6.23,
          7.94,
          4.3599999999999985,
          4.1,
          9.27,
          7.63,
          5.94,
          0.93,
          10.5,
          7.8599999999999985,
          5.28,
          5.39,
          15.83,
          3.88,
          7.88,
          5.14,
          8.729999999999999,
          4.29
         ],
         "y": [
          "Finland",
          "Lithuania",
          "Sweden",
          "Netherlands",
          "Albania",
          "Ireland",
          "Switzerland",
          "Italy",
          "Denmark",
          "Luxembourg",
          "Greece",
          "United States",
          "Norway",
          "France",
          "Maldives",
          "Iceland",
          "Austria",
          "Kazakhstan",
          "Australia",
          "Estonia"
         ]
        },
        {
         "name": "Rice",
         "orientation": "h",
         "type": "bar",
         "x": [
          4.42,
          3.07,
          5.96,
          2.93,
          7.78,
          3,
          2.43,
          5.74,
          4.96,
          4.2,
          6.64,
          6.88,
          4.3599999999999985,
          4.88,
          50.73,
          3.89,
          3.7,
          7.3199999999999985,
          11.03,
          2.56
         ],
         "y": [
          "Finland",
          "Lithuania",
          "Sweden",
          "Netherlands",
          "Albania",
          "Ireland",
          "Switzerland",
          "Italy",
          "Denmark",
          "Luxembourg",
          "Greece",
          "United States",
          "Norway",
          "France",
          "Maldives",
          "Iceland",
          "Austria",
          "Kazakhstan",
          "Australia",
          "Estonia"
         ]
        },
        {
         "name": "Soybeans",
         "orientation": "h",
         "type": "bar",
         "x": [
          0.08,
          0.02,
          0.13,
          0.12,
          0,
          0.25,
          0.44,
          0.01,
          0.03,
          0.04,
          0.02,
          0.04,
          0.11,
          0.05,
          0.2,
          0.11,
          2.06,
          0.03,
          0.19,
          0.04
         ],
         "y": [
          "Finland",
          "Lithuania",
          "Sweden",
          "Netherlands",
          "Albania",
          "Ireland",
          "Switzerland",
          "Italy",
          "Denmark",
          "Luxembourg",
          "Greece",
          "United States",
          "Norway",
          "France",
          "Maldives",
          "Iceland",
          "Austria",
          "Kazakhstan",
          "Australia",
          "Estonia"
         ]
        },
        {
         "marker": {
          "color": "sandybrown"
         },
         "name": "Wheat & Wheat Products",
         "orientation": "h",
         "type": "bar",
         "x": [
          81.99000000000002,
          121.59,
          79.59,
          70.16999999999999,
          138.64,
          107.98,
          89.51,
          146.37,
          98,
          103.2,
          124.04,
          80.43,
          97.12,
          108.43,
          77.77,
          72.92,
          81.1,
          92.31,
          70.46000000000002,
          89.36
         ],
         "y": [
          "Finland",
          "Lithuania",
          "Sweden",
          "Netherlands",
          "Albania",
          "Ireland",
          "Switzerland",
          "Italy",
          "Denmark",
          "Luxembourg",
          "Greece",
          "United States",
          "Norway",
          "France",
          "Maldives",
          "Iceland",
          "Austria",
          "Kazakhstan",
          "Australia",
          "Estonia"
         ]
        }
       ],
       "layout": {
        "barmode": "stack",
        "template": {
         "data": {
          "bar": [
           {
            "error_x": {
             "color": "#2a3f5f"
            },
            "error_y": {
             "color": "#2a3f5f"
            },
            "marker": {
             "line": {
              "color": "#E5ECF6",
              "width": 0.5
             }
            },
            "type": "bar"
           }
          ],
          "barpolar": [
           {
            "marker": {
             "line": {
              "color": "#E5ECF6",
              "width": 0.5
             }
            },
            "type": "barpolar"
           }
          ],
          "carpet": [
           {
            "aaxis": {
             "endlinecolor": "#2a3f5f",
             "gridcolor": "white",
             "linecolor": "white",
             "minorgridcolor": "white",
             "startlinecolor": "#2a3f5f"
            },
            "baxis": {
             "endlinecolor": "#2a3f5f",
             "gridcolor": "white",
             "linecolor": "white",
             "minorgridcolor": "white",
             "startlinecolor": "#2a3f5f"
            },
            "type": "carpet"
           }
          ],
          "choropleth": [
           {
            "colorbar": {
             "outlinewidth": 0,
             "ticks": ""
            },
            "type": "choropleth"
           }
          ],
          "contour": [
           {
            "colorbar": {
             "outlinewidth": 0,
             "ticks": ""
            },
            "colorscale": [
             [
              0,
              "#0d0887"
             ],
             [
              0.1111111111111111,
              "#46039f"
             ],
             [
              0.2222222222222222,
              "#7201a8"
             ],
             [
              0.3333333333333333,
              "#9c179e"
             ],
             [
              0.4444444444444444,
              "#bd3786"
             ],
             [
              0.5555555555555556,
              "#d8576b"
             ],
             [
              0.6666666666666666,
              "#ed7953"
             ],
             [
              0.7777777777777778,
              "#fb9f3a"
             ],
             [
              0.8888888888888888,
              "#fdca26"
             ],
             [
              1,
              "#f0f921"
             ]
            ],
            "type": "contour"
           }
          ],
          "contourcarpet": [
           {
            "colorbar": {
             "outlinewidth": 0,
             "ticks": ""
            },
            "type": "contourcarpet"
           }
          ],
          "heatmap": [
           {
            "colorbar": {
             "outlinewidth": 0,
             "ticks": ""
            },
            "colorscale": [
             [
              0,
              "#0d0887"
             ],
             [
              0.1111111111111111,
              "#46039f"
             ],
             [
              0.2222222222222222,
              "#7201a8"
             ],
             [
              0.3333333333333333,
              "#9c179e"
             ],
             [
              0.4444444444444444,
              "#bd3786"
             ],
             [
              0.5555555555555556,
              "#d8576b"
             ],
             [
              0.6666666666666666,
              "#ed7953"
             ],
             [
              0.7777777777777778,
              "#fb9f3a"
             ],
             [
              0.8888888888888888,
              "#fdca26"
             ],
             [
              1,
              "#f0f921"
             ]
            ],
            "type": "heatmap"
           }
          ],
          "heatmapgl": [
           {
            "colorbar": {
             "outlinewidth": 0,
             "ticks": ""
            },
            "colorscale": [
             [
              0,
              "#0d0887"
             ],
             [
              0.1111111111111111,
              "#46039f"
             ],
             [
              0.2222222222222222,
              "#7201a8"
             ],
             [
              0.3333333333333333,
              "#9c179e"
             ],
             [
              0.4444444444444444,
              "#bd3786"
             ],
             [
              0.5555555555555556,
              "#d8576b"
             ],
             [
              0.6666666666666666,
              "#ed7953"
             ],
             [
              0.7777777777777778,
              "#fb9f3a"
             ],
             [
              0.8888888888888888,
              "#fdca26"
             ],
             [
              1,
              "#f0f921"
             ]
            ],
            "type": "heatmapgl"
           }
          ],
          "histogram": [
           {
            "marker": {
             "colorbar": {
              "outlinewidth": 0,
              "ticks": ""
             }
            },
            "type": "histogram"
           }
          ],
          "histogram2d": [
           {
            "colorbar": {
             "outlinewidth": 0,
             "ticks": ""
            },
            "colorscale": [
             [
              0,
              "#0d0887"
             ],
             [
              0.1111111111111111,
              "#46039f"
             ],
             [
              0.2222222222222222,
              "#7201a8"
             ],
             [
              0.3333333333333333,
              "#9c179e"
             ],
             [
              0.4444444444444444,
              "#bd3786"
             ],
             [
              0.5555555555555556,
              "#d8576b"
             ],
             [
              0.6666666666666666,
              "#ed7953"
             ],
             [
              0.7777777777777778,
              "#fb9f3a"
             ],
             [
              0.8888888888888888,
              "#fdca26"
             ],
             [
              1,
              "#f0f921"
             ]
            ],
            "type": "histogram2d"
           }
          ],
          "histogram2dcontour": [
           {
            "colorbar": {
             "outlinewidth": 0,
             "ticks": ""
            },
            "colorscale": [
             [
              0,
              "#0d0887"
             ],
             [
              0.1111111111111111,
              "#46039f"
             ],
             [
              0.2222222222222222,
              "#7201a8"
             ],
             [
              0.3333333333333333,
              "#9c179e"
             ],
             [
              0.4444444444444444,
              "#bd3786"
             ],
             [
              0.5555555555555556,
              "#d8576b"
             ],
             [
              0.6666666666666666,
              "#ed7953"
             ],
             [
              0.7777777777777778,
              "#fb9f3a"
             ],
             [
              0.8888888888888888,
              "#fdca26"
             ],
             [
              1,
              "#f0f921"
             ]
            ],
            "type": "histogram2dcontour"
           }
          ],
          "mesh3d": [
           {
            "colorbar": {
             "outlinewidth": 0,
             "ticks": ""
            },
            "type": "mesh3d"
           }
          ],
          "parcoords": [
           {
            "line": {
             "colorbar": {
              "outlinewidth": 0,
              "ticks": ""
             }
            },
            "type": "parcoords"
           }
          ],
          "pie": [
           {
            "automargin": true,
            "type": "pie"
           }
          ],
          "scatter": [
           {
            "marker": {
             "colorbar": {
              "outlinewidth": 0,
              "ticks": ""
             }
            },
            "type": "scatter"
           }
          ],
          "scatter3d": [
           {
            "line": {
             "colorbar": {
              "outlinewidth": 0,
              "ticks": ""
             }
            },
            "marker": {
             "colorbar": {
              "outlinewidth": 0,
              "ticks": ""
             }
            },
            "type": "scatter3d"
           }
          ],
          "scattercarpet": [
           {
            "marker": {
             "colorbar": {
              "outlinewidth": 0,
              "ticks": ""
             }
            },
            "type": "scattercarpet"
           }
          ],
          "scattergeo": [
           {
            "marker": {
             "colorbar": {
              "outlinewidth": 0,
              "ticks": ""
             }
            },
            "type": "scattergeo"
           }
          ],
          "scattergl": [
           {
            "marker": {
             "colorbar": {
              "outlinewidth": 0,
              "ticks": ""
             }
            },
            "type": "scattergl"
           }
          ],
          "scattermapbox": [
           {
            "marker": {
             "colorbar": {
              "outlinewidth": 0,
              "ticks": ""
             }
            },
            "type": "scattermapbox"
           }
          ],
          "scatterpolar": [
           {
            "marker": {
             "colorbar": {
              "outlinewidth": 0,
              "ticks": ""
             }
            },
            "type": "scatterpolar"
           }
          ],
          "scatterpolargl": [
           {
            "marker": {
             "colorbar": {
              "outlinewidth": 0,
              "ticks": ""
             }
            },
            "type": "scatterpolargl"
           }
          ],
          "scatterternary": [
           {
            "marker": {
             "colorbar": {
              "outlinewidth": 0,
              "ticks": ""
             }
            },
            "type": "scatterternary"
           }
          ],
          "surface": [
           {
            "colorbar": {
             "outlinewidth": 0,
             "ticks": ""
            },
            "colorscale": [
             [
              0,
              "#0d0887"
             ],
             [
              0.1111111111111111,
              "#46039f"
             ],
             [
              0.2222222222222222,
              "#7201a8"
             ],
             [
              0.3333333333333333,
              "#9c179e"
             ],
             [
              0.4444444444444444,
              "#bd3786"
             ],
             [
              0.5555555555555556,
              "#d8576b"
             ],
             [
              0.6666666666666666,
              "#ed7953"
             ],
             [
              0.7777777777777778,
              "#fb9f3a"
             ],
             [
              0.8888888888888888,
              "#fdca26"
             ],
             [
              1,
              "#f0f921"
             ]
            ],
            "type": "surface"
           }
          ],
          "table": [
           {
            "cells": {
             "fill": {
              "color": "#EBF0F8"
             },
             "line": {
              "color": "white"
             }
            },
            "header": {
             "fill": {
              "color": "#C8D4E3"
             },
             "line": {
              "color": "white"
             }
            },
            "type": "table"
           }
          ]
         },
         "layout": {
          "annotationdefaults": {
           "arrowcolor": "#2a3f5f",
           "arrowhead": 0,
           "arrowwidth": 1
          },
          "autotypenumbers": "strict",
          "coloraxis": {
           "colorbar": {
            "outlinewidth": 0,
            "ticks": ""
           }
          },
          "colorscale": {
           "diverging": [
            [
             0,
             "#8e0152"
            ],
            [
             0.1,
             "#c51b7d"
            ],
            [
             0.2,
             "#de77ae"
            ],
            [
             0.3,
             "#f1b6da"
            ],
            [
             0.4,
             "#fde0ef"
            ],
            [
             0.5,
             "#f7f7f7"
            ],
            [
             0.6,
             "#e6f5d0"
            ],
            [
             0.7,
             "#b8e186"
            ],
            [
             0.8,
             "#7fbc41"
            ],
            [
             0.9,
             "#4d9221"
            ],
            [
             1,
             "#276419"
            ]
           ],
           "sequential": [
            [
             0,
             "#0d0887"
            ],
            [
             0.1111111111111111,
             "#46039f"
            ],
            [
             0.2222222222222222,
             "#7201a8"
            ],
            [
             0.3333333333333333,
             "#9c179e"
            ],
            [
             0.4444444444444444,
             "#bd3786"
            ],
            [
             0.5555555555555556,
             "#d8576b"
            ],
            [
             0.6666666666666666,
             "#ed7953"
            ],
            [
             0.7777777777777778,
             "#fb9f3a"
            ],
            [
             0.8888888888888888,
             "#fdca26"
            ],
            [
             1,
             "#f0f921"
            ]
           ],
           "sequentialminus": [
            [
             0,
             "#0d0887"
            ],
            [
             0.1111111111111111,
             "#46039f"
            ],
            [
             0.2222222222222222,
             "#7201a8"
            ],
            [
             0.3333333333333333,
             "#9c179e"
            ],
            [
             0.4444444444444444,
             "#bd3786"
            ],
            [
             0.5555555555555556,
             "#d8576b"
            ],
            [
             0.6666666666666666,
             "#ed7953"
            ],
            [
             0.7777777777777778,
             "#fb9f3a"
            ],
            [
             0.8888888888888888,
             "#fdca26"
            ],
            [
             1,
             "#f0f921"
            ]
           ]
          },
          "colorway": [
           "#636efa",
           "#EF553B",
           "#00cc96",
           "#ab63fa",
           "#FFA15A",
           "#19d3f3",
           "#FF6692",
           "#B6E880",
           "#FF97FF",
           "#FECB52"
          ],
          "font": {
           "color": "#2a3f5f"
          },
          "geo": {
           "bgcolor": "white",
           "lakecolor": "white",
           "landcolor": "#E5ECF6",
           "showlakes": true,
           "showland": true,
           "subunitcolor": "white"
          },
          "hoverlabel": {
           "align": "left"
          },
          "hovermode": "closest",
          "mapbox": {
           "style": "light"
          },
          "paper_bgcolor": "white",
          "plot_bgcolor": "#E5ECF6",
          "polar": {
           "angularaxis": {
            "gridcolor": "white",
            "linecolor": "white",
            "ticks": ""
           },
           "bgcolor": "#E5ECF6",
           "radialaxis": {
            "gridcolor": "white",
            "linecolor": "white",
            "ticks": ""
           }
          },
          "scene": {
           "xaxis": {
            "backgroundcolor": "#E5ECF6",
            "gridcolor": "white",
            "gridwidth": 2,
            "linecolor": "white",
            "showbackground": true,
            "ticks": "",
            "zerolinecolor": "white"
           },
           "yaxis": {
            "backgroundcolor": "#E5ECF6",
            "gridcolor": "white",
            "gridwidth": 2,
            "linecolor": "white",
            "showbackground": true,
            "ticks": "",
            "zerolinecolor": "white"
           },
           "zaxis": {
            "backgroundcolor": "#E5ECF6",
            "gridcolor": "white",
            "gridwidth": 2,
            "linecolor": "white",
            "showbackground": true,
            "ticks": "",
            "zerolinecolor": "white"
           }
          },
          "shapedefaults": {
           "line": {
            "color": "#2a3f5f"
           }
          },
          "ternary": {
           "aaxis": {
            "gridcolor": "white",
            "linecolor": "white",
            "ticks": ""
           },
           "baxis": {
            "gridcolor": "white",
            "linecolor": "white",
            "ticks": ""
           },
           "bgcolor": "#E5ECF6",
           "caxis": {
            "gridcolor": "white",
            "linecolor": "white",
            "ticks": ""
           }
          },
          "title": {
           "x": 0.05
          },
          "xaxis": {
           "automargin": true,
           "gridcolor": "white",
           "linecolor": "white",
           "ticks": "",
           "title": {
            "standoff": 15
           },
           "zerolinecolor": "white",
           "zerolinewidth": 2
          },
          "yaxis": {
           "automargin": true,
           "gridcolor": "white",
           "linecolor": "white",
           "ticks": "",
           "title": {
            "standoff": 15
           },
           "zerolinecolor": "white",
           "zerolinewidth": 2
          }
         }
        },
        "title": {
         "text": "Food Product Consumption of Top 20 Consumers"
        },
        "xaxis": {
         "title": {
          "text": "Consumption (kg/person/year)"
         }
        },
        "yaxis": {
         "autorange": "reversed",
         "title": {
          "text": "Country"
         }
        }
       }
      },
      "text/html": [
       "<div>                            <div id=\"7634431e-e504-4dbe-b851-23f348140b96\" class=\"plotly-graph-div\" style=\"height:525px; width:100%;\"></div>            <script type=\"text/javascript\">                require([\"plotly\"], function(Plotly) {                    window.PLOTLYENV=window.PLOTLYENV || {};                                    if (document.getElementById(\"7634431e-e504-4dbe-b851-23f348140b96\")) {                    Plotly.newPlot(                        \"7634431e-e504-4dbe-b851-23f348140b96\",                        [{\"name\": \"Beef\", \"orientation\": \"h\", \"type\": \"bar\", \"x\": [19.22, 4.49, 24.58, 17.67, 22.5, 22.35, 21.26, 18.6, 28.46, 29.88, 16.1, 36.24, 19.83, 23.81, 9.44, 13.36, 17.14, 23.38, 33.86, 7.19], \"y\": [\"Finland\", \"Lithuania\", \"Sweden\", \"Netherlands\", \"Albania\", \"Ireland\", \"Switzerland\", \"Italy\", \"Denmark\", \"Luxembourg\", \"Greece\", \"United States\", \"Norway\", \"France\", \"Maldives\", \"Iceland\", \"Austria\", \"Kazakhstan\", \"Australia\", \"Estonia\"]}, {\"name\": \"Eggs\", \"orientation\": \"h\", \"type\": \"bar\", \"x\": [9.55, 13.11, 13.37, 14.03, 12.45, 8.96, 10.53, 13.34, 15.35, 14.64, 10.13, 14.58, 11.41, 13.13, 10.79, 8.239999999999998, 14.68, 8.29, 8.51, 12.66], \"y\": [\"Finland\", \"Lithuania\", \"Sweden\", \"Netherlands\", \"Albania\", \"Ireland\", \"Switzerland\", \"Italy\", \"Denmark\", \"Luxembourg\", \"Greece\", \"United States\", \"Norway\", \"France\", \"Maldives\", \"Iceland\", \"Austria\", \"Kazakhstan\", \"Australia\", \"Estonia\"]}, {\"name\": \"Fish\", \"orientation\": \"h\", \"type\": \"bar\", \"x\": [33.8, 42.39, 23.86, 18.64, 3.85, 17.39, 13.48, 15.6, 16.49, 23.09, 14.42, 12.35, 38.18, 22.91, 179.70999999999995, 74.41000000000003, 12.16, 5.21, 17.69, 12.78], \"y\": [\"Finland\", \"Lithuania\", \"Sweden\", \"Netherlands\", \"Albania\", \"Ireland\", \"Switzerland\", \"Italy\", \"Denmark\", \"Luxembourg\", \"Greece\", \"United States\", \"Norway\", \"France\", \"Maldives\", \"Iceland\", \"Austria\", \"Kazakhstan\", \"Australia\", \"Estonia\"]}, {\"name\": \"Lamb & Goat\", \"orientation\": \"h\", \"type\": \"bar\", \"x\": [0.53, 0.24, 1.41, 0.94, 15.32, 4.1, 1.42, 0.92, 0.92, 1.6700000000000002, 12.47, 0.4300000000000001, 5.34, 3.28, 0.7, 21.12, 1.16, 9.56, 9.87, 0.44], \"y\": [\"Finland\", \"Lithuania\", \"Sweden\", \"Netherlands\", \"Albania\", \"Ireland\", \"Switzerland\", \"Italy\", \"Denmark\", \"Luxembourg\", \"Greece\", \"United States\", \"Norway\", \"France\", \"Maldives\", \"Iceland\", \"Austria\", \"Kazakhstan\", \"Australia\", \"Estonia\"]}, {\"name\": \"Milk & Cheese\", \"orientation\": \"h\", \"type\": \"bar\", \"x\": [430.76, 295.46, 341.23, 341.47, 303.72, 291.86, 318.69, 246.88, 277.3, 255.3, 255.26, 254.69, 261.34000000000003, 241.31, 111.47, 225.82, 258.09, 288.12, 234.49, 284.85], \"y\": [\"Finland\", \"Lithuania\", \"Sweden\", \"Netherlands\", \"Albania\", \"Ireland\", \"Switzerland\", \"Italy\", \"Denmark\", \"Luxembourg\", \"Greece\", \"United States\", \"Norway\", \"France\", \"Maldives\", \"Iceland\", \"Austria\", \"Kazakhstan\", \"Australia\", \"Estonia\"]}, {\"name\": \"Pork\", \"orientation\": \"h\", \"type\": \"bar\", \"x\": [36.14, 45.67, 37.0, 36.36, 10.88, 32.4, 31.49, 40.28, 24.87, 43.58, 28.31, 27.64, 23.51, 33.05, 1.22, 21.69, 52.56, 10.36, 24.14, 29.68], \"y\": [\"Finland\", \"Lithuania\", \"Sweden\", \"Netherlands\", \"Albania\", \"Ireland\", \"Switzerland\", \"Italy\", \"Denmark\", \"Luxembourg\", \"Greece\", \"United States\", \"Norway\", \"France\", \"Maldives\", \"Iceland\", \"Austria\", \"Kazakhstan\", \"Australia\", \"Estonia\"]}, {\"name\": \"Poultry\", \"orientation\": \"h\", \"type\": \"bar\", \"x\": [19.87, 26.84, 16.64, 23.9, 13.23, 26.26, 16.38, 18.610000000000007, 26.75, 21.37, 15.739999999999998, 50.01, 21.01, 22.93, 18.47, 26.87, 18.610000000000007, 18.38, 46.12000000000001, 21.110000000000007], \"y\": [\"Finland\", \"Lithuania\", \"Sweden\", \"Netherlands\", \"Albania\", \"Ireland\", \"Switzerland\", \"Italy\", \"Denmark\", \"Luxembourg\", \"Greece\", \"United States\", \"Norway\", \"France\", \"Maldives\", \"Iceland\", \"Austria\", \"Kazakhstan\", \"Australia\", \"Estonia\"]}, {\"name\": \"Nuts & Peanut Butter\", \"orientation\": \"h\", \"type\": \"bar\", \"x\": [3.43, 2.13, 6.23, 7.94, 4.3599999999999985, 4.1, 9.27, 7.63, 5.94, 0.93, 10.5, 7.8599999999999985, 5.28, 5.39, 15.83, 3.88, 7.88, 5.14, 8.729999999999999, 4.29], \"y\": [\"Finland\", \"Lithuania\", \"Sweden\", \"Netherlands\", \"Albania\", \"Ireland\", \"Switzerland\", \"Italy\", \"Denmark\", \"Luxembourg\", \"Greece\", \"United States\", \"Norway\", \"France\", \"Maldives\", \"Iceland\", \"Austria\", \"Kazakhstan\", \"Australia\", \"Estonia\"]}, {\"name\": \"Rice\", \"orientation\": \"h\", \"type\": \"bar\", \"x\": [4.42, 3.07, 5.96, 2.93, 7.78, 3.0, 2.43, 5.74, 4.96, 4.2, 6.64, 6.88, 4.3599999999999985, 4.88, 50.73, 3.89, 3.7, 7.3199999999999985, 11.03, 2.56], \"y\": [\"Finland\", \"Lithuania\", \"Sweden\", \"Netherlands\", \"Albania\", \"Ireland\", \"Switzerland\", \"Italy\", \"Denmark\", \"Luxembourg\", \"Greece\", \"United States\", \"Norway\", \"France\", \"Maldives\", \"Iceland\", \"Austria\", \"Kazakhstan\", \"Australia\", \"Estonia\"]}, {\"name\": \"Soybeans\", \"orientation\": \"h\", \"type\": \"bar\", \"x\": [0.08, 0.02, 0.13, 0.12, 0.0, 0.25, 0.44, 0.01, 0.03, 0.04, 0.02, 0.04, 0.11, 0.05, 0.2, 0.11, 2.06, 0.03, 0.19, 0.04], \"y\": [\"Finland\", \"Lithuania\", \"Sweden\", \"Netherlands\", \"Albania\", \"Ireland\", \"Switzerland\", \"Italy\", \"Denmark\", \"Luxembourg\", \"Greece\", \"United States\", \"Norway\", \"France\", \"Maldives\", \"Iceland\", \"Austria\", \"Kazakhstan\", \"Australia\", \"Estonia\"]}, {\"marker\": {\"color\": \"sandybrown\"}, \"name\": \"Wheat & Wheat Products\", \"orientation\": \"h\", \"type\": \"bar\", \"x\": [81.99000000000002, 121.59, 79.59, 70.16999999999999, 138.64, 107.98, 89.51, 146.37, 98.0, 103.2, 124.04, 80.43, 97.12, 108.43, 77.77, 72.92, 81.1, 92.31, 70.46000000000002, 89.36], \"y\": [\"Finland\", \"Lithuania\", \"Sweden\", \"Netherlands\", \"Albania\", \"Ireland\", \"Switzerland\", \"Italy\", \"Denmark\", \"Luxembourg\", \"Greece\", \"United States\", \"Norway\", \"France\", \"Maldives\", \"Iceland\", \"Austria\", \"Kazakhstan\", \"Australia\", \"Estonia\"]}],                        {\"barmode\": \"stack\", \"template\": {\"data\": {\"bar\": [{\"error_x\": {\"color\": \"#2a3f5f\"}, \"error_y\": {\"color\": \"#2a3f5f\"}, \"marker\": {\"line\": {\"color\": \"#E5ECF6\", \"width\": 0.5}}, \"type\": \"bar\"}], \"barpolar\": [{\"marker\": {\"line\": {\"color\": \"#E5ECF6\", \"width\": 0.5}}, \"type\": \"barpolar\"}], \"carpet\": [{\"aaxis\": {\"endlinecolor\": \"#2a3f5f\", \"gridcolor\": \"white\", \"linecolor\": \"white\", \"minorgridcolor\": \"white\", \"startlinecolor\": \"#2a3f5f\"}, \"baxis\": {\"endlinecolor\": \"#2a3f5f\", \"gridcolor\": \"white\", \"linecolor\": \"white\", \"minorgridcolor\": \"white\", \"startlinecolor\": \"#2a3f5f\"}, \"type\": \"carpet\"}], \"choropleth\": [{\"colorbar\": {\"outlinewidth\": 0, \"ticks\": \"\"}, \"type\": \"choropleth\"}], \"contour\": [{\"colorbar\": {\"outlinewidth\": 0, \"ticks\": \"\"}, \"colorscale\": [[0.0, \"#0d0887\"], [0.1111111111111111, \"#46039f\"], [0.2222222222222222, \"#7201a8\"], [0.3333333333333333, \"#9c179e\"], [0.4444444444444444, \"#bd3786\"], [0.5555555555555556, \"#d8576b\"], [0.6666666666666666, \"#ed7953\"], [0.7777777777777778, \"#fb9f3a\"], [0.8888888888888888, \"#fdca26\"], [1.0, \"#f0f921\"]], \"type\": \"contour\"}], \"contourcarpet\": [{\"colorbar\": {\"outlinewidth\": 0, \"ticks\": \"\"}, \"type\": \"contourcarpet\"}], \"heatmap\": [{\"colorbar\": {\"outlinewidth\": 0, \"ticks\": \"\"}, \"colorscale\": [[0.0, \"#0d0887\"], [0.1111111111111111, \"#46039f\"], [0.2222222222222222, \"#7201a8\"], [0.3333333333333333, \"#9c179e\"], [0.4444444444444444, \"#bd3786\"], [0.5555555555555556, \"#d8576b\"], [0.6666666666666666, \"#ed7953\"], [0.7777777777777778, \"#fb9f3a\"], [0.8888888888888888, \"#fdca26\"], [1.0, \"#f0f921\"]], \"type\": \"heatmap\"}], \"heatmapgl\": [{\"colorbar\": {\"outlinewidth\": 0, \"ticks\": \"\"}, \"colorscale\": [[0.0, \"#0d0887\"], [0.1111111111111111, \"#46039f\"], [0.2222222222222222, \"#7201a8\"], [0.3333333333333333, \"#9c179e\"], [0.4444444444444444, \"#bd3786\"], [0.5555555555555556, \"#d8576b\"], [0.6666666666666666, \"#ed7953\"], [0.7777777777777778, \"#fb9f3a\"], [0.8888888888888888, \"#fdca26\"], [1.0, \"#f0f921\"]], \"type\": \"heatmapgl\"}], \"histogram\": [{\"marker\": {\"colorbar\": {\"outlinewidth\": 0, \"ticks\": \"\"}}, \"type\": \"histogram\"}], \"histogram2d\": [{\"colorbar\": {\"outlinewidth\": 0, \"ticks\": \"\"}, \"colorscale\": [[0.0, \"#0d0887\"], [0.1111111111111111, \"#46039f\"], [0.2222222222222222, \"#7201a8\"], [0.3333333333333333, \"#9c179e\"], [0.4444444444444444, \"#bd3786\"], [0.5555555555555556, \"#d8576b\"], [0.6666666666666666, \"#ed7953\"], [0.7777777777777778, \"#fb9f3a\"], [0.8888888888888888, \"#fdca26\"], [1.0, \"#f0f921\"]], \"type\": \"histogram2d\"}], \"histogram2dcontour\": [{\"colorbar\": {\"outlinewidth\": 0, \"ticks\": \"\"}, \"colorscale\": [[0.0, \"#0d0887\"], [0.1111111111111111, \"#46039f\"], [0.2222222222222222, \"#7201a8\"], [0.3333333333333333, \"#9c179e\"], [0.4444444444444444, \"#bd3786\"], [0.5555555555555556, \"#d8576b\"], [0.6666666666666666, \"#ed7953\"], [0.7777777777777778, \"#fb9f3a\"], [0.8888888888888888, \"#fdca26\"], [1.0, \"#f0f921\"]], \"type\": \"histogram2dcontour\"}], \"mesh3d\": [{\"colorbar\": {\"outlinewidth\": 0, \"ticks\": \"\"}, \"type\": \"mesh3d\"}], \"parcoords\": [{\"line\": {\"colorbar\": {\"outlinewidth\": 0, \"ticks\": \"\"}}, \"type\": \"parcoords\"}], \"pie\": [{\"automargin\": true, \"type\": \"pie\"}], \"scatter\": [{\"marker\": {\"colorbar\": {\"outlinewidth\": 0, \"ticks\": \"\"}}, \"type\": \"scatter\"}], \"scatter3d\": [{\"line\": {\"colorbar\": {\"outlinewidth\": 0, \"ticks\": \"\"}}, \"marker\": {\"colorbar\": {\"outlinewidth\": 0, \"ticks\": \"\"}}, \"type\": \"scatter3d\"}], \"scattercarpet\": [{\"marker\": {\"colorbar\": {\"outlinewidth\": 0, \"ticks\": \"\"}}, \"type\": \"scattercarpet\"}], \"scattergeo\": [{\"marker\": {\"colorbar\": {\"outlinewidth\": 0, \"ticks\": \"\"}}, \"type\": \"scattergeo\"}], \"scattergl\": [{\"marker\": {\"colorbar\": {\"outlinewidth\": 0, \"ticks\": \"\"}}, \"type\": \"scattergl\"}], \"scattermapbox\": [{\"marker\": {\"colorbar\": {\"outlinewidth\": 0, \"ticks\": \"\"}}, \"type\": \"scattermapbox\"}], \"scatterpolar\": [{\"marker\": {\"colorbar\": {\"outlinewidth\": 0, \"ticks\": \"\"}}, \"type\": \"scatterpolar\"}], \"scatterpolargl\": [{\"marker\": {\"colorbar\": {\"outlinewidth\": 0, \"ticks\": \"\"}}, \"type\": \"scatterpolargl\"}], \"scatterternary\": [{\"marker\": {\"colorbar\": {\"outlinewidth\": 0, \"ticks\": \"\"}}, \"type\": \"scatterternary\"}], \"surface\": [{\"colorbar\": {\"outlinewidth\": 0, \"ticks\": \"\"}, \"colorscale\": [[0.0, \"#0d0887\"], [0.1111111111111111, \"#46039f\"], [0.2222222222222222, \"#7201a8\"], [0.3333333333333333, \"#9c179e\"], [0.4444444444444444, \"#bd3786\"], [0.5555555555555556, \"#d8576b\"], [0.6666666666666666, \"#ed7953\"], [0.7777777777777778, \"#fb9f3a\"], [0.8888888888888888, \"#fdca26\"], [1.0, \"#f0f921\"]], \"type\": \"surface\"}], \"table\": [{\"cells\": {\"fill\": {\"color\": \"#EBF0F8\"}, \"line\": {\"color\": \"white\"}}, \"header\": {\"fill\": {\"color\": \"#C8D4E3\"}, \"line\": {\"color\": \"white\"}}, \"type\": \"table\"}]}, \"layout\": {\"annotationdefaults\": {\"arrowcolor\": \"#2a3f5f\", \"arrowhead\": 0, \"arrowwidth\": 1}, \"autotypenumbers\": \"strict\", \"coloraxis\": {\"colorbar\": {\"outlinewidth\": 0, \"ticks\": \"\"}}, \"colorscale\": {\"diverging\": [[0, \"#8e0152\"], [0.1, \"#c51b7d\"], [0.2, \"#de77ae\"], [0.3, \"#f1b6da\"], [0.4, \"#fde0ef\"], [0.5, \"#f7f7f7\"], [0.6, \"#e6f5d0\"], [0.7, \"#b8e186\"], [0.8, \"#7fbc41\"], [0.9, \"#4d9221\"], [1, \"#276419\"]], \"sequential\": [[0.0, \"#0d0887\"], [0.1111111111111111, \"#46039f\"], [0.2222222222222222, \"#7201a8\"], [0.3333333333333333, \"#9c179e\"], [0.4444444444444444, \"#bd3786\"], [0.5555555555555556, \"#d8576b\"], [0.6666666666666666, \"#ed7953\"], [0.7777777777777778, \"#fb9f3a\"], [0.8888888888888888, \"#fdca26\"], [1.0, \"#f0f921\"]], \"sequentialminus\": [[0.0, \"#0d0887\"], [0.1111111111111111, \"#46039f\"], [0.2222222222222222, \"#7201a8\"], [0.3333333333333333, \"#9c179e\"], [0.4444444444444444, \"#bd3786\"], [0.5555555555555556, \"#d8576b\"], [0.6666666666666666, \"#ed7953\"], [0.7777777777777778, \"#fb9f3a\"], [0.8888888888888888, \"#fdca26\"], [1.0, \"#f0f921\"]]}, \"colorway\": [\"#636efa\", \"#EF553B\", \"#00cc96\", \"#ab63fa\", \"#FFA15A\", \"#19d3f3\", \"#FF6692\", \"#B6E880\", \"#FF97FF\", \"#FECB52\"], \"font\": {\"color\": \"#2a3f5f\"}, \"geo\": {\"bgcolor\": \"white\", \"lakecolor\": \"white\", \"landcolor\": \"#E5ECF6\", \"showlakes\": true, \"showland\": true, \"subunitcolor\": \"white\"}, \"hoverlabel\": {\"align\": \"left\"}, \"hovermode\": \"closest\", \"mapbox\": {\"style\": \"light\"}, \"paper_bgcolor\": \"white\", \"plot_bgcolor\": \"#E5ECF6\", \"polar\": {\"angularaxis\": {\"gridcolor\": \"white\", \"linecolor\": \"white\", \"ticks\": \"\"}, \"bgcolor\": \"#E5ECF6\", \"radialaxis\": {\"gridcolor\": \"white\", \"linecolor\": \"white\", \"ticks\": \"\"}}, \"scene\": {\"xaxis\": {\"backgroundcolor\": \"#E5ECF6\", \"gridcolor\": \"white\", \"gridwidth\": 2, \"linecolor\": \"white\", \"showbackground\": true, \"ticks\": \"\", \"zerolinecolor\": \"white\"}, \"yaxis\": {\"backgroundcolor\": \"#E5ECF6\", \"gridcolor\": \"white\", \"gridwidth\": 2, \"linecolor\": \"white\", \"showbackground\": true, \"ticks\": \"\", \"zerolinecolor\": \"white\"}, \"zaxis\": {\"backgroundcolor\": \"#E5ECF6\", \"gridcolor\": \"white\", \"gridwidth\": 2, \"linecolor\": \"white\", \"showbackground\": true, \"ticks\": \"\", \"zerolinecolor\": \"white\"}}, \"shapedefaults\": {\"line\": {\"color\": \"#2a3f5f\"}}, \"ternary\": {\"aaxis\": {\"gridcolor\": \"white\", \"linecolor\": \"white\", \"ticks\": \"\"}, \"baxis\": {\"gridcolor\": \"white\", \"linecolor\": \"white\", \"ticks\": \"\"}, \"bgcolor\": \"#E5ECF6\", \"caxis\": {\"gridcolor\": \"white\", \"linecolor\": \"white\", \"ticks\": \"\"}}, \"title\": {\"x\": 0.05}, \"xaxis\": {\"automargin\": true, \"gridcolor\": \"white\", \"linecolor\": \"white\", \"ticks\": \"\", \"title\": {\"standoff\": 15}, \"zerolinecolor\": \"white\", \"zerolinewidth\": 2}, \"yaxis\": {\"automargin\": true, \"gridcolor\": \"white\", \"linecolor\": \"white\", \"ticks\": \"\", \"title\": {\"standoff\": 15}, \"zerolinecolor\": \"white\", \"zerolinewidth\": 2}}}, \"title\": {\"text\": \"Food Product Consumption of Top 20 Consumers\"}, \"xaxis\": {\"title\": {\"text\": \"Consumption (kg/person/year)\"}}, \"yaxis\": {\"autorange\": \"reversed\", \"title\": {\"text\": \"Country\"}}},                        {\"responsive\": true}                    ).then(function(){\n",
       "                            \n",
       "var gd = document.getElementById('7634431e-e504-4dbe-b851-23f348140b96');\n",
       "var x = new MutationObserver(function (mutations, observer) {{\n",
       "        var display = window.getComputedStyle(gd).display;\n",
       "        if (!display || display === 'none') {{\n",
       "            console.log([gd, 'removed!']);\n",
       "            Plotly.purge(gd);\n",
       "            observer.disconnect();\n",
       "        }}\n",
       "}});\n",
       "\n",
       "// Listen for the removal of the full notebook cells\n",
       "var notebookContainer = gd.closest('#notebook-container');\n",
       "if (notebookContainer) {{\n",
       "    x.observe(notebookContainer, {childList: true});\n",
       "}}\n",
       "\n",
       "// Listen for the clearing of the current output cell\n",
       "var outputEl = gd.closest('.output');\n",
       "if (outputEl) {{\n",
       "    x.observe(outputEl, {childList: true});\n",
       "}}\n",
       "\n",
       "                        })                };                });            </script>        </div>"
      ]
     },
     "metadata": {},
     "output_type": "display_data"
    }
   ],
   "source": [
    "fig = go.Figure(data = [\n",
    "    go.Bar(orientation = 'h',\n",
    "          y = sorted_country_data['country'],\n",
    "          x = sorted_country_data['Beef'],\n",
    "          name = 'Beef'),\n",
    "    go.Bar(orientation = 'h',\n",
    "          y = sorted_country_data['country'],\n",
    "          x = sorted_country_data['Eggs'],\n",
    "          name = 'Eggs'),\n",
    "    go.Bar(orientation = 'h',\n",
    "          y = sorted_country_data['country'],\n",
    "          x = sorted_country_data['Fish'],\n",
    "          name = 'Fish'),\n",
    "    go.Bar(orientation = 'h',\n",
    "          y = sorted_country_data['country'],\n",
    "          x = sorted_country_data['Lamb & Goat'],\n",
    "          name = 'Lamb & Goat'),\n",
    "    go.Bar(orientation = 'h',\n",
    "          y = sorted_country_data['country'],\n",
    "          x = sorted_country_data['Milk & Cheese'],\n",
    "          name = 'Milk & Cheese'),\n",
    "    go.Bar(orientation = 'h',\n",
    "          y = sorted_country_data['country'],\n",
    "          x = sorted_country_data['Pork'],\n",
    "          name = 'Pork'),\n",
    "    go.Bar(orientation = 'h',\n",
    "          y = sorted_country_data['country'],\n",
    "          x = sorted_country_data['Poultry'],\n",
    "          name = 'Poultry'),\n",
    "    go.Bar(orientation = 'h',\n",
    "          y = sorted_country_data['country'],\n",
    "          x = sorted_country_data['Nuts & Peanut Butter'],\n",
    "          name = 'Nuts & Peanut Butter'),\n",
    "    go.Bar(orientation = 'h',\n",
    "          y = sorted_country_data['country'],\n",
    "          x = sorted_country_data['Rice'],\n",
    "          name = 'Rice'),\n",
    "    go.Bar(orientation = 'h',\n",
    "          y = sorted_country_data['country'],\n",
    "          x = sorted_country_data['Soybeans'],\n",
    "          name = 'Soybeans'),\n",
    "    go.Bar(orientation = 'h',\n",
    "          y = sorted_country_data['country'],\n",
    "          x = sorted_country_data['Wheat & Wheat Products'],\n",
    "          name = 'Wheat & Wheat Products',\n",
    "          marker_color = 'sandybrown')\n",
    "])\n",
    "\n",
    "fig.update_layout(barmode = 'stack',\n",
    "                 yaxis = dict(autorange = 'reversed'),\n",
    "                 title = \"Food Product Consumption of Top 20 Consumers\",\n",
    "                 xaxis_title = \"Consumption (kg/person/year)\",\n",
    "                 yaxis_title = \"Country\")\n",
    "\n",
    "fig.show()"
   ]
  },
  {
   "cell_type": "markdown",
   "metadata": {},
   "source": [
    "Among these 20 states, there is a noticeably high consumption of milk and cheese, followed by wheat and wheat products (with the notable exception of the small archipelagic South Asian nation of Maldives, in which fish comes second), although the consumption of milk and cheese far outweighs the others, contributing to over half of these nations' total consumption. "
   ]
  },
  {
   "cell_type": "markdown",
   "metadata": {},
   "source": [
    "We are also interested in creating a choropleth map of the food product-related carbon dioxide emission of countries around the world.\n",
    "\n",
    "*Note that this is an interactive map. Hovering allows for a more granular look at the data.*"
   ]
  },
  {
   "cell_type": "code",
   "execution_count": 20,
   "metadata": {},
   "outputs": [
    {
     "data": {
      "application/vnd.plotly.v1+json": {
       "config": {
        "plotlyServerURL": "https://plot.ly"
       },
       "data": [
        {
         "coloraxis": "coloraxis",
         "customdata": [
          [
           "Albania",
           694.3,
           11.44,
           6.15,
           536.5,
           432.62,
           38.51,
           14.21,
           "Albania",
           7.72,
           9.96,
           0,
           26.44
          ],
          [
           "Algeria",
           172.8,
           7.4,
           5.9700000000000015,
           269.3,
           201.6,
           0,
           7.9700000000000015,
           "Algeria",
           3.68,
           3.8,
           0,
           35.36
          ],
          [
           "Angola",
           259.82,
           1.02,
           24.33,
           37.82,
           17.52,
           31.47,
           18.62,
           "Angola",
           4,
           10.39,
           0.23,
           7.77
          ],
          [
           "Argentina",
           1712,
           10.46,
           6.96,
           54.63,
           277.87,
           37.2,
           41.53,
           "Argentina",
           0.8700000000000001,
           11.22,
           0,
           19.66
          ],
          [
           "Armenia",
           606.6700000000002,
           10.739999999999998,
           6.96,
           105.76,
           297.74,
           34.230000000000004,
           14.34,
           "Armenia",
           4.51,
           4.07,
           0,
           24.91
          ],
          [
           "Australia",
           1044.85,
           7.8199999999999985,
           28.25,
           345.6500000000001,
           334.01,
           85.44000000000003,
           49.54,
           "Australia",
           15.45,
           14.12,
           0.09,
           13.44
          ],
          [
           "Austria",
           528.9,
           13.49,
           19.42,
           40.62000000000001,
           367.62,
           186.04,
           19.99,
           "Austria",
           13.95,
           4.73,
           0.93,
           15.47
          ],
          [
           "Bahamas",
           614.69,
           5.7,
           30.02,
           182.8,
           149.22,
           115.88,
           49.13,
           "Bahamas",
           7.13,
           30.67,
           0.04,
           7.619999999999999
          ],
          [
           "Bangladesh",
           39.5,
           1.91,
           28.85,
           46.58,
           31.21,
           0,
           1.5,
           "Bangladesh",
           1.27,
           219.76,
           0.27,
           3.33
          ],
          [
           "Barbados",
           405.16,
           8.83,
           59.73,
           142.88000000000005,
           157.37,
           29.38,
           45.78,
           "Barbados",
           7.3599999999999985,
           20.04,
           0.05,
           12.53
          ],
          [
           "Belarus",
           527.98,
           14.57,
           25.15,
           3.85,
           190.49,
           142.89,
           33.61,
           "Belarus",
           5.95,
           4.06,
           0.14,
           11.53
          ],
          [
           "Belgium",
           482.31,
           11.57,
           30.29,
           46.23,
           336.42999999999995,
           136.8,
           13.11,
           "Belgium",
           12.96,
           11.02,
           0.03,
           21.34
          ],
          [
           "Belize",
           149.97,
           4.46,
           12.09,
           4.9,
           114.38,
           59.46,
           30.41,
           "Belize",
           9.88,
           36.37,
           0.8500000000000001,
           10.31
          ],
          [
           "Bermuda",
           1022.94,
           13.71,
           53.04,
           94.9,
           136.12,
           99.96,
           35.04,
           "Bermuda",
           10.12,
           6.88,
           0.1,
           10.47
          ],
          [
           "Bolivia",
           610.37,
           4.76,
           3.48,
           60.23,
           65.58,
           31.47,
           36.86,
           "Bolivia",
           16.21,
           34.54,
           0,
           9.53
          ],
          [
           "Bosnia and Herzegovina",
           281.42,
           4.119999999999999,
           6.48,
           16.459999999999994,
           247.89,
           33.2,
           14.15,
           "Bosnia and Herzegovina",
           3.54,
           2.41,
           0.6699999999999999,
           17.84
          ],
          [
           "Botswana",
           242.23,
           1.79,
           6.35,
           131.67,
           167.70999999999995,
           2.62,
           5.73,
           "Botswana",
           1.91,
           9.03,
           0.52,
           7.28
          ],
          [
           "Brazil",
           1211.1699999999996,
           8.25,
           15.98,
           21.71,
           212.63,
           44.6,
           48.34,
           "Brazil",
           1.1900000000000002,
           41.12000000000001,
           1.63,
           10.11
          ],
          [
           "Bulgaria",
           118.49,
           7.68,
           9.96,
           57.08,
           221.79,
           92.95,
           22.21,
           "Bulgaria",
           4,
           2.87,
           0.02,
           23.110000000000007
          ],
          [
           "Cambodia",
           149.66,
           1.26,
           63.21,
           0,
           4.94,
           23.08,
           1.98,
           "Cambodia",
           2.21,
           203.6,
           1.95,
           0.52
          ],
          [
           "Cameroon",
           128.68,
           0.37,
           23.49,
           49.03,
           21.75,
           5.2,
           3.53,
           "Cameroon",
           16.439999999999998,
           30.52,
           0.29000000000000004,
           4.31
          ],
          [
           "Canada",
           933.45,
           11.9,
           23.25,
           33.97,
           267.46,
           80.74000000000002,
           39.4,
           "Canada",
           14.18,
           16.19,
           0.42,
           16.2
          ],
          [
           "Chile",
           736.2700000000002,
           9.16,
           12.21,
           14.71,
           165.39,
           87.35,
           39.23,
           "Chile",
           3.93,
           11.33,
           0.02,
           19.97
          ],
          [
           "China",
           157.99,
           17.23,
           33.55,
           109.61,
           46.52,
           136.02,
           14.18,
           "China",
           11.31,
           100.05,
           1.65,
           12.08
          ],
          [
           "Colombia",
           504.84,
           9.9,
           9.6,
           7.35,
           154.5,
           23.04,
           29.62,
           "Colombia",
           0.74,
           35.86,
           0.4,
           5.68
          ],
          [
           "Costa Rica",
           469.97,
           9.69,
           18.07,
           0.7,
           261.06,
           36.39,
           26.29,
           "Costa Rica",
           2.44,
           58.47,
           0.69,
           7.5
          ],
          [
           "Croatia",
           382.95,
           7.79,
           25.28,
           59.88,
           329.06,
           151.46,
           9.15,
           "Croatia",
           6.87,
           3.38,
           0,
           20.33
          ],
          [
           "Cuba",
           197.18,
           9.02,
           7.6,
           43.42,
           142.35000000000005,
           70.14999999999999,
           21.65,
           "Cuba",
           0.41,
           86.64,
           2.85,
           10.42
          ],
          [
           "Cyprus",
           178.67,
           8.25,
           23.73,
           176.85000000000005,
           161.4,
           135.85000000000002,
           26.26,
           "Cyprus",
           8.139999999999999,
           6.3199999999999985,
           0.02,
           15.88
          ],
          [
           "Czech Republic",
           251.49,
           10.71,
           13.17,
           11.91,
           278.04,
           145.72,
           20.51,
           "Czech Republic",
           4.37,
           6.13,
           0.37,
           17.67
          ],
          [
           "Denmark",
           878.22,
           14.1,
           26.33,
           32.22000000000001,
           394.99,
           88.03,
           28.73,
           "Denmark",
           10.51,
           6.35,
           0.01,
           18.69
          ],
          [
           "Ecuador",
           512.55,
           7.3599999999999985,
           8.25,
           15.41,
           198.85,
           51.11,
           23.47,
           "Ecuador",
           1.73,
           57.68,
           0,
           7.4700000000000015
          ],
          [
           "Egypt",
           397.45,
           4.22,
           34.260000000000005,
           55.33,
           84.69,
           0.07,
           15.5,
           "Egypt",
           3.22,
           50.89,
           0.29000000000000004,
           28
          ],
          [
           "El Salvador",
           183.6,
           8.739999999999998,
           9.98,
           0.7,
           177.11,
           11.43,
           21.31,
           "El Salvador",
           1.95,
           13.48,
           0.36,
           5.38
          ],
          [
           "Estonia",
           221.87,
           11.63,
           20.41,
           15.41,
           405.74,
           105.05,
           22.68,
           "Estonia",
           7.59,
           3.28,
           0.02,
           17.04
          ],
          [
           "Ethiopia",
           111.4,
           0.33,
           0.38,
           54.98,
           62.87,
           0.07,
           0.71,
           "Ethiopia",
           2.14,
           2.88,
           0.2,
           5.96
          ],
          [
           "Fiji",
           276.48999999999995,
           5.92,
           55.9,
           206.62,
           57.26000000000001,
           15.26,
           21.76,
           "Fiji",
           2.3,
           58.38,
           0.14,
           16.06
          ],
          [
           "Finland",
           593.09,
           8.77,
           53.97,
           18.56,
           613.57,
           127.92,
           21.34,
           "Finland",
           6.07,
           5.659999999999998,
           0.04,
           15.64
          ],
          [
           "France",
           734.73,
           12.06,
           36.58,
           114.87,
           343.72,
           116.98,
           24.630000000000006,
           "France",
           9.54,
           6.24,
           0.02,
           20.68
          ],
          [
           "French Polynesia",
           953.51,
           8.04,
           62.19000000000001,
           99.11,
           133.26999999999998,
           52.21,
           53.23,
           "French Polynesia",
           4.14,
           45.54,
           0.35,
           13.1
          ],
          [
           "Gambia",
           66.64999999999999,
           0.91,
           36.93,
           24.86,
           65.11,
           0.64,
           2.86,
           "Gambia",
           9.33,
           79.14,
           0,
           7.23
          ],
          [
           "Georgia",
           186.38,
           5.619999999999999,
           16.64,
           22.06,
           212.61,
           31.610000000000007,
           13.19,
           "Georgia",
           4.37,
           3.38,
           0,
           31.17
          ],
          [
           "Germany",
           406.09,
           11.21,
           17.82,
           25.56,
           368.49,
           183.38,
           19.07,
           "Germany",
           14.09,
           4.2700000000000005,
           0.4,
           15.91
          ],
          [
           "Ghana",
           33.64,
           1.11,
           41.59,
           60.93,
           12.93,
           4.81,
           9.27,
           "Ghana",
           9.84,
           40.99,
           0,
           2.76
          ],
          [
           "Greece",
           496.81,
           9.31,
           23.02,
           436.7,
           363.59,
           100.2,
           16.91,
           "Greece",
           18.59,
           8.5,
           0.01,
           23.65
          ],
          [
           "Grenada",
           106.77,
           9.5,
           44.63,
           43.77,
           123.75,
           40.78,
           46.74,
           "Grenada",
           0.32,
           12.23,
           0,
           11.36
          ],
          [
           "Guatemala",
           172.8,
           13.42,
           1.72,
           8.05,
           66.38,
           17.17,
           17.67,
           "Guatemala",
           3.54,
           7.24,
           0.14,
           6.85
          ],
          [
           "Guinea",
           193.17,
           1.79,
           14.66,
           56.03,
           29.37,
           0.5700000000000001,
           1.97,
           "Guinea",
           7.33,
           124.28,
           0,
           3.54
          ],
          [
           "Honduras",
           221.87,
           4.7700000000000005,
           4.31,
           1.4,
           130.09,
           22.94,
           21.8,
           "Honduras",
           1.33,
           18.45,
           0,
           7.119999999999999
          ],
          [
           "Hong Kong",
           796.75,
           13.32,
           67.76,
           77.74000000000002,
           150.76999999999995,
           237.54,
           58.93,
           "Hong Kong",
           24.44,
           55.64,
           1.26,
           10.13
          ],
          [
           "Hungary",
           153.06,
           11.44,
           7.87,
           3.85,
           226.55,
           123.63,
           25.54,
           "Hungary",
           1.13,
           2.75,
           0,
           20.97
          ],
          [
           "Iceland",
           412.26,
           7.57,
           118.81,
           739.62,
           321.66,
           76.77,
           28.86,
           "Iceland",
           6.87,
           4.98,
           0.05,
           13.91
          ],
          [
           "India",
           24.99,
           2.37,
           7.52,
           20.31,
           120.36,
           0.99,
           2.02,
           "India",
           3.4,
           88.93,
           0.18,
           11.55
          ],
          [
           "Indonesia",
           79.92,
           4.48,
           40.95,
           16.110000000000007,
           21.110000000000007,
           10.55,
           8.06,
           "Indonesia",
           8.709999999999999,
           172.26999999999995,
           0.5,
           4.85
          ],
          [
           "Iran",
           110.47,
           7.07,
           15.65,
           129.22,
           66.51,
           0,
           27.26,
           "Iran",
           21.52,
           38.33,
           0,
           29.24
          ],
          [
           "Ireland",
           689.6700000000002,
           8.229999999999999,
           27.77,
           143.58,
           415.73,
           114.68,
           28.21,
           "Ireland",
           7.26,
           3.84,
           0.11,
           20.59
          ],
          [
           "Israel",
           888.09,
           10.43,
           35.41,
           65.49000000000001,
           275.76,
           7.04,
           67.14,
           "Israel",
           13.65,
           21.51,
           0.05,
           21.14
          ],
          [
           "Italy",
           573.9599999999998,
           12.25,
           24.91,
           32.22000000000001,
           351.66,
           142.57,
           19.99,
           "Italy",
           13.51,
           7.35,
           0,
           27.91
          ],
          [
           "Jamaica",
           122.51,
           2.09,
           35.05,
           44.13,
           129.81,
           14.12,
           56.41,
           "Jamaica",
           3.22,
           30.01,
           0,
           13.48
          ],
          [
           "Japan",
           282.35,
           17.59,
           49.66,
           4.9,
           102.64,
           72.98,
           20.86,
           "Japan",
           4.58,
           76.59,
           3.3,
           8.59
          ],
          [
           "Jordan",
           173.11,
           3.6,
           8.19,
           198.91,
           110.65,
           0.07,
           35.87,
           "Jordan",
           6.3,
           25.17,
           0.01,
           26.08
          ],
          [
           "Kazakhstan",
           721.4599999999998,
           7.619999999999999,
           8.32,
           334.79,
           410.4,
           36.67,
           19.74,
           "Kazakhstan",
           9.1,
           9.37,
           0.01,
           17.6
          ],
          [
           "Kenya",
           294.38,
           1.6900000000000002,
           6.8199999999999985,
           65.14,
           135.12,
           1.03,
           0.5,
           "Kenya",
           2.9,
           16.56,
           0.09,
           6.6099999999999985
          ],
          [
           "Kuwait",
           402.08,
           11.57,
           19.14,
           546.66,
           224.57,
           0,
           57.59,
           "Kuwait",
           9.26,
           56.09,
           0.03,
           18.45
          ],
          [
           "Latvia",
           157.68,
           12.89,
           34.01,
           11.91,
           248,
           123.74,
           22.05,
           "Latvia",
           6.69,
           2.83,
           0.02,
           13.76
          ],
          [
           "Liberia",
           24.07,
           1.88,
           6.59,
           16.810000000000002,
           4.33,
           14.19,
           9.57,
           "Liberia",
           2.32,
           121.25,
           0.28,
           2.09
          ],
          [
           "Lithuania",
           138.55,
           12.04,
           67.67999999999999,
           8.4,
           420.85,
           161.65,
           28.83,
           "Lithuania",
           3.77,
           3.93,
           0.01,
           23.19
          ],
          [
           "Luxembourg",
           922.03,
           13.45,
           36.87,
           58.48,
           363.65,
           154.25,
           22.96,
           "Luxembourg",
           1.65,
           5.37,
           0.02,
           19.68
          ],
          [
           "Macedonia",
           237.3,
           5.8599999999999985,
           8.729999999999999,
           32.92,
           224.96,
           36.63,
           20.16,
           "Macedonia",
           10.39,
           3.6,
           0.21,
           19.99
          ],
          [
           "Madagascar",
           231.74,
           0.65,
           7.04,
           19.96,
           35.37999999999999,
           9.06,
           3.37,
           "Madagascar",
           0.62,
           131.20999999999998,
           0,
           1.72
          ],
          [
           "Malawi",
           72.52,
           0.99,
           11.7,
           72.49000000000002,
           11.37,
           19.29,
           1.48,
           "Malawi",
           8.99,
           6.08,
           0.7899999999999999,
           2.24
          ],
          [
           "Malaysia",
           201.19,
           15.22,
           78.92,
           32.92,
           36.01,
           27.47,
           44.05,
           "Malaysia",
           5.13,
           103.98,
           0.02,
           9.73
          ],
          [
           "Maldives",
           291.3,
           9.91,
           286.94,
           24.51,
           158.78,
           4.3199999999999985,
           19.84,
           "Maldives",
           28.02,
           64.92,
           0.09,
           14.83
          ],
          [
           "Malta",
           593.09,
           10.69,
           39.25,
           41.67,
           270.72,
           121.19,
           28.36,
           "Malta",
           9.95,
           6.35,
           0.02,
           26.62
          ],
          [
           "Mauritius",
           184.84,
           5.81,
           31.39,
           142.88000000000005,
           167.04,
           14.44,
           41.37,
           "Mauritius",
           4.119999999999999,
           58.3,
           0.14,
           21.74
          ],
          [
           "Mexico",
           473.05,
           16.85,
           12.07,
           31.17,
           159.35000000000005,
           53.91,
           32.349999999999994,
           "Mexico",
           4.44,
           7.22,
           0.01,
           6.71
          ],
          [
           "Morocco",
           248.1,
           6.14,
           27.85,
           152.69,
           77.89,
           0.04,
           22.31,
           "Morocco",
           5.72,
           1.41,
           0,
           34.27
          ],
          [
           "Mozambique",
           32.09,
           1.56,
           12.36,
           31.52,
           6.8199999999999985,
           18.16,
           1.51,
           "Mozambique",
           4.619999999999999,
           29.96,
           0.01,
           2.79
          ],
          [
           "Myanmar",
           152.44,
           5.92,
           86.64,
           31.17,
           44.84,
           40.03,
           23.49,
           "Myanmar",
           7.9700000000000015,
           169.94,
           0.17,
           1.1900000000000002
          ],
          [
           "Namibia",
           115.72,
           1.5,
           17.08,
           79.5,
           104.05,
           14.9,
           13.09,
           "Namibia",
           1.26,
           8.07,
           0.03,
           6.91
          ],
          [
           "Nepal",
           243.47,
           1.3,
           3.46,
           73.54,
           74.21000000000002,
           2.37,
           1.6800000000000002,
           "Nepal",
           4.28,
           112.29,
           0,
           9.62
          ],
          [
           "Netherlands",
           545.26,
           12.89,
           29.76,
           32.92,
           486.39,
           128.7,
           25.67,
           "Netherlands",
           14.05,
           3.75,
           0.05,
           13.38
          ],
          [
           "New Caledonia",
           495.89,
           8.129999999999999,
           30.94,
           68.29,
           153.84,
           70.44000000000003,
           47.65,
           "New Caledonia",
           5.24,
           22.36,
           0.25,
           15.59
          ],
          [
           "New Zealand",
           693.99,
           9.1,
           32.51,
           662.23,
           195.5,
           78.9,
           37.58,
           "New Zealand",
           14.55,
           11.72,
           0.2,
           14.67
          ],
          [
           "Nicaragua",
           145.96,
           4.5,
           5.73,
           0.35,
           121.3,
           11.96,
           22.89,
           "Nicaragua",
           4.18,
           55.45,
           0,
           5.37
          ],
          [
           "Niger",
           276.8,
           0.28,
           4.31,
           146.03,
           83.93,
           0.32,
           1.16,
           "Niger",
           12.3,
           16.85,
           0,
           0.91
          ],
          [
           "Nigeria",
           71.9,
           3.18,
           25.59,
           95.25,
           11.27,
           5.2,
           1.86,
           "Nigeria",
           12.27,
           36.13,
           1.1700000000000002,
           3.97
          ],
          [
           "Norway",
           611.91,
           10.48,
           60.96,
           187.01,
           372.25,
           83.21000000000002,
           22.57,
           "Norway",
           9.35,
           5.58,
           0.05,
           18.52
          ],
          [
           "Oman",
           465.95,
           7.17,
           34.42,
           450.71,
           216.91,
           0.04,
           33.849999999999994,
           "Oman",
           2.97,
           72.36999999999998,
           0.09,
           12.22
          ],
          [
           "Pakistan",
           272.17,
           2.71,
           2.99,
           86.14999999999998,
           260.85,
           0,
           5.38,
           "Pakistan",
           1.47,
           15.68,
           0,
           21.67
          ],
          [
           "Panama",
           629.5,
           4.159999999999998,
           17.64,
           0.35,
           100.12,
           47.71,
           33.1,
           "Panama",
           1.86,
           85,
           1.59,
           7.4300000000000015
          ],
          [
           "Paraguay",
           611.2900000000002,
           17.3,
           5.75,
           19.610000000000007,
           107.86,
           92.88,
           6.8599999999999985,
           "Paraguay",
           2.83,
           6.28,
           0,
           6.01
          ],
          [
           "Peru",
           144.72,
           8.05,
           25.130000000000006,
           35.02,
           88.53,
           13.63,
           12.59,
           "Peru",
           1.15,
           62.6,
           0.72,
           10.7
          ],
          [
           "Philippines",
           125.28,
           3.69,
           45.52,
           19.610000000000007,
           22.31,
           65.13,
           12.79,
           "Philippines",
           3.68,
           152.85000000000005,
           0.01,
           4.41
          ],
          [
           "Poland",
           71.59,
           6.92,
           16.75,
           0.7,
           292.56,
           163.49,
           29.44,
           "Poland",
           3.95,
           1.22,
           0.03,
           20.75
          ],
          [
           "Portugal",
           507.61,
           8.31,
           72.47,
           83.35,
           292.06,
           134.18,
           32.379999999999995,
           "Portugal",
           6.92,
           19.02,
           0,
           17.979999999999997
          ],
          [
           "Republic of the Congo",
           134.23,
           0.55,
           41.86,
           14.01,
           15.23,
           8.46,
           13.99,
           "Republic of the Congo",
           5.45,
           21.130000000000006,
           0,
           7.64
          ],
          [
           "Romania",
           147.5,
           11.89,
           9.69,
           119.42,
           339.48,
           89.58,
           16.52,
           "Romania",
           3.19,
           3.31,
           0,
           25.72
          ],
          [
           "Russia",
           523.97,
           14.17,
           33.24,
           49.03,
           232.99,
           90.82,
           29.54,
           "Russia",
           2.87,
           6.03,
           0.02,
           24.98
          ],
          [
           "Rwanda",
           78.07,
           0.15000000000000002,
           6.2,
           67.59,
           10.3,
           2.69,
           1.44,
           "Rwanda",
           1.03,
           11.13,
           0.8700000000000001,
           2.16
          ],
          [
           "Saudi Arabia",
           199.03,
           4.9300000000000015,
           19.14,
           229.03,
           119.15,
           0,
           52.69000000000001,
           "Saudi Arabia",
           5.72,
           46.09,
           0.02,
           17.06
          ],
          [
           "Senegal",
           180.52,
           1.5,
           36.63,
           111.71,
           24.02,
           3.33,
           4.96,
           "Senegal",
           7.13,
           92.51,
           0,
           7.119999999999999
          ],
          [
           "Serbia",
           217.55,
           8.17,
           8.93,
           124.67,
           211.57,
           113.41,
           11.43,
           "Serbia",
           5.8599999999999985,
           1.56,
           0,
           20.19
          ],
          [
           "Sierra Leone",
           61.41,
           1.76,
           51.14,
           22.76,
           9.97,
           4.3199999999999985,
           5.34,
           "Sierra Leone",
           9.86,
           132.19,
           0,
           1.66
          ],
          [
           "Slovakia",
           160.15,
           14.739999999999998,
           13.4,
           5.6,
           203.89,
           112.49,
           16.25,
           "Slovakia",
           6.55,
           3.69,
           0.01,
           23.57
          ],
          [
           "Slovenia",
           568.71,
           8.6,
           12.39,
           27.67,
           334.75,
           99.78,
           25.2,
           "Slovenia",
           9.35,
           5.05,
           0.34,
           19.72
          ],
          [
           "South Africa",
           556.37,
           6.619999999999999,
           8.88,
           149.89,
           79.41000000000003,
           14.72,
           40.36,
           "South Africa",
           1.84,
           22.28,
           0.5700000000000001,
           11.47
          ],
          [
           "South Korea",
           448.37,
           10.33,
           52.83,
           4.9,
           41.38,
           115.95,
           17.19,
           "South Korea",
           8.639999999999999,
           109,
           3.76,
           9.7
          ],
          [
           "Spain",
           374.92,
           12.239999999999998,
           46.03,
           75.64,
           234.01,
           173.15,
           30.75,
           "Spain",
           13.17,
           10.65,
           0.01,
           17.9
          ],
          [
           "Sri Lanka",
           42.58,
           4.2,
           39.790000000000006,
           3.15,
           49.83,
           0.18,
           5.33,
           "Sri Lanka",
           1.93,
           140.41,
           0,
           7.06
          ],
          [
           "Swaziland",
           465.95,
           1.38,
           2.01,
           67.94000000000001,
           80.61999999999998,
           8.6,
           6.64,
           "Swaziland",
           11.4,
           27.07,
           0.25,
           7.08
          ],
          [
           "Sweden",
           758.49,
           12.28,
           38.1,
           49.38,
           486.05,
           130.96,
           17.87,
           "Sweden",
           11.03,
           7.63,
           0.06,
           15.18
          ],
          [
           "Switzerland",
           656.04,
           9.67,
           21.52,
           49.73,
           453.94,
           111.46,
           17.6,
           "Switzerland",
           16.41,
           3.11,
           0.2,
           17.07
          ],
          [
           "Taiwan",
           160.76999999999995,
           12.02,
           29.2,
           32.22000000000001,
           59.43,
           139.35000000000002,
           34.51,
           "Taiwan",
           16.04,
           58.67,
           7.63,
           9.71
          ],
          [
           "Tanzania",
           187.92,
           0.53,
           8.78,
           44.83,
           57.39,
           1.13,
           1.98,
           "Tanzania",
           10.51,
           26.89,
           0.02,
           3.04
          ],
          [
           "Thailand",
           79,
           11.34,
           31.06,
           1.75,
           41.81,
           46.01,
           14.71,
           "Thailand",
           2.66,
           146.62,
           0.96,
           2.08
          ],
          [
           "Togo",
           47.21,
           0.7899999999999999,
           18.67,
           55.33,
           11.34,
           5.56,
           7.119999999999999,
           "Togo",
           6.35,
           33.260000000000005,
           0,
           2.46
          ],
          [
           "Trinidad and Tobago",
           189.16,
           3.86,
           32.8,
           97.71,
           147.85000000000005,
           31.57,
           62.59,
           "Trinidad and Tobago",
           6.69,
           20.96,
           0.02,
           17.2
          ],
          [
           "Tunisia",
           170.64,
           7.05,
           20.17,
           187.01,
           163.05,
           0,
           19.87,
           "Tunisia",
           11.22,
           1.37,
           0.8500000000000001,
           37.66
          ],
          [
           "Turkey",
           359.19,
           7.53,
           8.91,
           163.89,
           276.25,
           0.04,
           20.17,
           "Turkey",
           14.11,
           13.739999999999998,
           0.77,
           32.41
          ],
          [
           "Uganda",
           158.92000000000004,
           0.89,
           19.96,
           43.77,
           53.09,
           11.93,
           1.62,
           "Uganda",
           6.67,
           5.94,
           0,
           1.93
          ],
          [
           "Ukraine",
           276.48999999999995,
           16.54,
           24.32,
           14.36,
           206.58,
           72.77,
           26.03,
           "Ukraine",
           4.74,
           3.84,
           0.01,
           20.05
          ],
          [
           "United Arab Emirates",
           174.04,
           7.56,
           32.59,
           317.98,
           188.96,
           0,
           44.09,
           "United Arab Emirates",
           40.76000000000001,
           71.98,
           0.04,
           19.32
          ],
          [
           "United Kingdom",
           559.15,
           10.18,
           24.73,
           157.23999999999995,
           330.75,
           91.28,
           33.89,
           "United Kingdom",
           7.4,
           8.18,
           0.02,
           18.81
          ],
          [
           "United States",
           1118.29,
           13.39,
           19.72,
           15.06,
           362.78,
           97.83,
           53.72000000000001,
           "United States",
           13.91,
           8.8,
           0.02,
           15.34
          ],
          [
           "Uruguay",
           897.9599999999998,
           12.07,
           10.43,
           288.21,
           299.89,
           59.61,
           29.49,
           "Uruguay",
           1.6800000000000002,
           14.72,
           0,
           20.85
          ],
          [
           "Venezuela",
           798.91,
           5.17,
           13.32,
           11.21,
           167.78,
           25.59,
           42.19000000000001,
           "Venezuela",
           0.62,
           29.93,
           0,
           9.38
          ],
          [
           "Vietnam",
           229.58,
           3.53,
           42.34,
           4.9,
           23.3,
           123.88,
           13.28,
           "Vietnam",
           11.12,
           184.99,
           2.59,
           2
          ],
          [
           "Zambia",
           146.88000000000005,
           3.05,
           9.9,
           23.81,
           13.83,
           5.88,
           3.53,
           "Zambia",
           8.92,
           3.9,
           3.29,
           2.31
          ],
          [
           "Zimbabwe",
           227.42,
           1.61,
           4.4700000000000015,
           33.620000000000005,
           45.44,
           9.38,
           5.34,
           "Zimbabwe",
           3.93,
           12.91,
           0.24,
           5.9700000000000015
          ]
         ],
         "geo": "geo",
         "hovertemplate": "<b>%{hovertext}</b><br><br>country=%{customdata[8]}<br>Beef=%{customdata[1]}<br>Eggs=%{customdata[2]}<br>Fish=%{customdata[3]}<br>Lamb & Goat=%{customdata[4]}<br>Milk & Cheese=%{customdata[5]}<br>Pork=%{customdata[6]}<br>Poultry=%{customdata[7]}<br>Nuts & Peanut Butter=%{customdata[9]}<br>Rice=%{customdata[10]}<br>Soybeans=%{customdata[11]}<br>Wheat & Wheat Products=%{customdata[12]}<br>TOTAL=%{z}<extra></extra>",
         "hovertext": [
          "Albania",
          "Algeria",
          "Angola",
          "Argentina",
          "Armenia",
          "Australia",
          "Austria",
          "Bahamas",
          "Bangladesh",
          "Barbados",
          "Belarus",
          "Belgium",
          "Belize",
          "Bermuda",
          "Bolivia",
          "Bosnia and Herzegovina",
          "Botswana",
          "Brazil",
          "Bulgaria",
          "Cambodia",
          "Cameroon",
          "Canada",
          "Chile",
          "China",
          "Colombia",
          "Costa Rica",
          "Croatia",
          "Cuba",
          "Cyprus",
          "Czech Republic",
          "Denmark",
          "Ecuador",
          "Egypt",
          "El Salvador",
          "Estonia",
          "Ethiopia",
          "Fiji",
          "Finland",
          "France",
          "French Polynesia",
          "Gambia",
          "Georgia",
          "Germany",
          "Ghana",
          "Greece",
          "Grenada",
          "Guatemala",
          "Guinea",
          "Honduras",
          "Hong Kong",
          "Hungary",
          "Iceland",
          "India",
          "Indonesia",
          "Iran",
          "Ireland",
          "Israel",
          "Italy",
          "Jamaica",
          "Japan",
          "Jordan",
          "Kazakhstan",
          "Kenya",
          "Kuwait",
          "Latvia",
          "Liberia",
          "Lithuania",
          "Luxembourg",
          "Macedonia",
          "Madagascar",
          "Malawi",
          "Malaysia",
          "Maldives",
          "Malta",
          "Mauritius",
          "Mexico",
          "Morocco",
          "Mozambique",
          "Myanmar",
          "Namibia",
          "Nepal",
          "Netherlands",
          "New Caledonia",
          "New Zealand",
          "Nicaragua",
          "Niger",
          "Nigeria",
          "Norway",
          "Oman",
          "Pakistan",
          "Panama",
          "Paraguay",
          "Peru",
          "Philippines",
          "Poland",
          "Portugal",
          "Republic of the Congo",
          "Romania",
          "Russia",
          "Rwanda",
          "Saudi Arabia",
          "Senegal",
          "Serbia",
          "Sierra Leone",
          "Slovakia",
          "Slovenia",
          "South Africa",
          "South Korea",
          "Spain",
          "Sri Lanka",
          "Swaziland",
          "Sweden",
          "Switzerland",
          "Taiwan",
          "Tanzania",
          "Thailand",
          "Togo",
          "Trinidad and Tobago",
          "Tunisia",
          "Turkey",
          "Uganda",
          "Ukraine",
          "United Arab Emirates",
          "United Kingdom",
          "United States",
          "Uruguay",
          "Venezuela",
          "Vietnam",
          "Zambia",
          "Zimbabwe"
         ],
         "locationmode": "country names",
         "locations": [
          "Albania",
          "Algeria",
          "Angola",
          "Argentina",
          "Armenia",
          "Australia",
          "Austria",
          "Bahamas",
          "Bangladesh",
          "Barbados",
          "Belarus",
          "Belgium",
          "Belize",
          "Bermuda",
          "Bolivia",
          "Bosnia and Herzegovina",
          "Botswana",
          "Brazil",
          "Bulgaria",
          "Cambodia",
          "Cameroon",
          "Canada",
          "Chile",
          "China",
          "Colombia",
          "Costa Rica",
          "Croatia",
          "Cuba",
          "Cyprus",
          "Czech Republic",
          "Denmark",
          "Ecuador",
          "Egypt",
          "El Salvador",
          "Estonia",
          "Ethiopia",
          "Fiji",
          "Finland",
          "France",
          "French Polynesia",
          "Gambia",
          "Georgia",
          "Germany",
          "Ghana",
          "Greece",
          "Grenada",
          "Guatemala",
          "Guinea",
          "Honduras",
          "Hong Kong",
          "Hungary",
          "Iceland",
          "India",
          "Indonesia",
          "Iran",
          "Ireland",
          "Israel",
          "Italy",
          "Jamaica",
          "Japan",
          "Jordan",
          "Kazakhstan",
          "Kenya",
          "Kuwait",
          "Latvia",
          "Liberia",
          "Lithuania",
          "Luxembourg",
          "Macedonia",
          "Madagascar",
          "Malawi",
          "Malaysia",
          "Maldives",
          "Malta",
          "Mauritius",
          "Mexico",
          "Morocco",
          "Mozambique",
          "Myanmar",
          "Namibia",
          "Nepal",
          "Netherlands",
          "New Caledonia",
          "New Zealand",
          "Nicaragua",
          "Niger",
          "Nigeria",
          "Norway",
          "Oman",
          "Pakistan",
          "Panama",
          "Paraguay",
          "Peru",
          "Philippines",
          "Poland",
          "Portugal",
          "Republic of the Congo",
          "Romania",
          "Russia",
          "Rwanda",
          "Saudi Arabia",
          "Senegal",
          "Serbia",
          "Sierra Leone",
          "Slovakia",
          "Slovenia",
          "South Africa",
          "South Korea",
          "Spain",
          "Sri Lanka",
          "Swaziland",
          "Sweden",
          "Switzerland",
          "Taiwan",
          "Tanzania",
          "Thailand",
          "Togo",
          "Trinidad and Tobago",
          "Tunisia",
          "Turkey",
          "Uganda",
          "Ukraine",
          "United Arab Emirates",
          "United Kingdom",
          "United States",
          "Uruguay",
          "Venezuela",
          "Vietnam",
          "Zambia",
          "Zimbabwe"
         ],
         "name": "",
         "type": "choropleth",
         "z": [
          1777.85,
          707.88,
          412.9899999999999,
          2172.3999999999996,
          1109.9300000000003,
          1938.6599999999999,
          1211.16,
          1192.9,
          374.17999999999995,
          889.11,
          960.22,
          1102.0899999999997,
          433.08000000000004,
          1483.28,
          873.0300000000001,
          628.18,
          576.8399999999998,
          1616.7299999999998,
          560.16,
          452.40999999999997,
          283.61,
          1437.1600000000003,
          1099.5700000000002,
          640.1899999999999,
          781.53,
          891.2700000000001,
          996.1500000000001,
          591.69,
          741.37,
          760.09,
          1498.18,
          883.88,
          673.9200000000001,
          434.04,
          830.7199999999998,
          241.92,
          716.0899999999998,
          1464.63,
          1420.0500000000002,
          1424.6899999999998,
          293.66,
          527.03,
          1066.29,
          217.87000000000003,
          1497.29,
          439.85,
          314.9800000000001,
          432.71,
          434.08000000000004,
          1494.2800000000002,
          576.79,
          1731.36,
          282.62000000000006,
          367.51,
          445.2699999999999,
          1459.67,
          1405.71,
          1206.3299999999997,
          450.83000000000004,
          644.04,
          587.96,
          1575.0799999999995,
          530.8399999999999,
          1345.4399999999998,
          633.5799999999999,
          203.38,
          868.9,
          1598.41,
          600.75,
          440.75,
          207.94000000000003,
          554.64,
          903.4600000000002,
          1147.9099999999999,
          672.07,
          797.1300000000001,
          576.4199999999998,
          141.39999999999998,
          563.8000000000001,
          362.10999999999996,
          526.22,
          1292.82,
          918.6200000000001,
          1750.95,
          377.68999999999994,
          542.89,
          267.7900000000001,
          1381.8899999999999,
          1296.6999999999998,
          669.0699999999999,
          928.46,
          876.6700000000002,
          402.84000000000003,
          455.28000000000014,
          607.4000000000001,
          1174.2799999999997,
          262.54999999999995,
          766.3000000000001,
          1007.6599999999999,
          181.63,
          692.86,
          469.42999999999995,
          723.3399999999999,
          300.41,
          560.34,
          1111.56,
          892.4100000000002,
          822.0500000000001,
          988.4699999999999,
          294.46000000000004,
          678.94,
          1527.03,
          1356.7499999999998,
          559.5500000000001,
          343.02,
          378,
          188.09,
          610.4100000000001,
          618.8900000000001,
          897.0099999999999,
          304.7200000000001,
          665.7299999999999,
          897.3200000000002,
          1241.63,
          1718.86,
          1634.9099999999999,
          1104.1000000000001,
          641.5100000000001,
          225.30000000000007,
          350.33000000000004
         ]
        }
       ],
       "layout": {
        "coloraxis": {
         "colorbar": {
          "title": {
           "text": "TOTAL"
          }
         },
         "colorscale": [
          [
           0,
           "rgb(255,255,204)"
          ],
          [
           0.125,
           "rgb(255,237,160)"
          ],
          [
           0.25,
           "rgb(254,217,118)"
          ],
          [
           0.375,
           "rgb(254,178,76)"
          ],
          [
           0.5,
           "rgb(253,141,60)"
          ],
          [
           0.625,
           "rgb(252,78,42)"
          ],
          [
           0.75,
           "rgb(227,26,28)"
          ],
          [
           0.875,
           "rgb(189,0,38)"
          ],
          [
           1,
           "rgb(128,0,38)"
          ]
         ]
        },
        "geo": {
         "center": {},
         "domain": {
          "x": [
           0,
           1
          ],
          "y": [
           0,
           1
          ]
         }
        },
        "height": 700,
        "legend": {
         "tracegroupgap": 0
        },
        "margin": {
         "t": 60
        },
        "template": {
         "data": {
          "bar": [
           {
            "error_x": {
             "color": "#2a3f5f"
            },
            "error_y": {
             "color": "#2a3f5f"
            },
            "marker": {
             "line": {
              "color": "#E5ECF6",
              "width": 0.5
             }
            },
            "type": "bar"
           }
          ],
          "barpolar": [
           {
            "marker": {
             "line": {
              "color": "#E5ECF6",
              "width": 0.5
             }
            },
            "type": "barpolar"
           }
          ],
          "carpet": [
           {
            "aaxis": {
             "endlinecolor": "#2a3f5f",
             "gridcolor": "white",
             "linecolor": "white",
             "minorgridcolor": "white",
             "startlinecolor": "#2a3f5f"
            },
            "baxis": {
             "endlinecolor": "#2a3f5f",
             "gridcolor": "white",
             "linecolor": "white",
             "minorgridcolor": "white",
             "startlinecolor": "#2a3f5f"
            },
            "type": "carpet"
           }
          ],
          "choropleth": [
           {
            "colorbar": {
             "outlinewidth": 0,
             "ticks": ""
            },
            "type": "choropleth"
           }
          ],
          "contour": [
           {
            "colorbar": {
             "outlinewidth": 0,
             "ticks": ""
            },
            "colorscale": [
             [
              0,
              "#0d0887"
             ],
             [
              0.1111111111111111,
              "#46039f"
             ],
             [
              0.2222222222222222,
              "#7201a8"
             ],
             [
              0.3333333333333333,
              "#9c179e"
             ],
             [
              0.4444444444444444,
              "#bd3786"
             ],
             [
              0.5555555555555556,
              "#d8576b"
             ],
             [
              0.6666666666666666,
              "#ed7953"
             ],
             [
              0.7777777777777778,
              "#fb9f3a"
             ],
             [
              0.8888888888888888,
              "#fdca26"
             ],
             [
              1,
              "#f0f921"
             ]
            ],
            "type": "contour"
           }
          ],
          "contourcarpet": [
           {
            "colorbar": {
             "outlinewidth": 0,
             "ticks": ""
            },
            "type": "contourcarpet"
           }
          ],
          "heatmap": [
           {
            "colorbar": {
             "outlinewidth": 0,
             "ticks": ""
            },
            "colorscale": [
             [
              0,
              "#0d0887"
             ],
             [
              0.1111111111111111,
              "#46039f"
             ],
             [
              0.2222222222222222,
              "#7201a8"
             ],
             [
              0.3333333333333333,
              "#9c179e"
             ],
             [
              0.4444444444444444,
              "#bd3786"
             ],
             [
              0.5555555555555556,
              "#d8576b"
             ],
             [
              0.6666666666666666,
              "#ed7953"
             ],
             [
              0.7777777777777778,
              "#fb9f3a"
             ],
             [
              0.8888888888888888,
              "#fdca26"
             ],
             [
              1,
              "#f0f921"
             ]
            ],
            "type": "heatmap"
           }
          ],
          "heatmapgl": [
           {
            "colorbar": {
             "outlinewidth": 0,
             "ticks": ""
            },
            "colorscale": [
             [
              0,
              "#0d0887"
             ],
             [
              0.1111111111111111,
              "#46039f"
             ],
             [
              0.2222222222222222,
              "#7201a8"
             ],
             [
              0.3333333333333333,
              "#9c179e"
             ],
             [
              0.4444444444444444,
              "#bd3786"
             ],
             [
              0.5555555555555556,
              "#d8576b"
             ],
             [
              0.6666666666666666,
              "#ed7953"
             ],
             [
              0.7777777777777778,
              "#fb9f3a"
             ],
             [
              0.8888888888888888,
              "#fdca26"
             ],
             [
              1,
              "#f0f921"
             ]
            ],
            "type": "heatmapgl"
           }
          ],
          "histogram": [
           {
            "marker": {
             "colorbar": {
              "outlinewidth": 0,
              "ticks": ""
             }
            },
            "type": "histogram"
           }
          ],
          "histogram2d": [
           {
            "colorbar": {
             "outlinewidth": 0,
             "ticks": ""
            },
            "colorscale": [
             [
              0,
              "#0d0887"
             ],
             [
              0.1111111111111111,
              "#46039f"
             ],
             [
              0.2222222222222222,
              "#7201a8"
             ],
             [
              0.3333333333333333,
              "#9c179e"
             ],
             [
              0.4444444444444444,
              "#bd3786"
             ],
             [
              0.5555555555555556,
              "#d8576b"
             ],
             [
              0.6666666666666666,
              "#ed7953"
             ],
             [
              0.7777777777777778,
              "#fb9f3a"
             ],
             [
              0.8888888888888888,
              "#fdca26"
             ],
             [
              1,
              "#f0f921"
             ]
            ],
            "type": "histogram2d"
           }
          ],
          "histogram2dcontour": [
           {
            "colorbar": {
             "outlinewidth": 0,
             "ticks": ""
            },
            "colorscale": [
             [
              0,
              "#0d0887"
             ],
             [
              0.1111111111111111,
              "#46039f"
             ],
             [
              0.2222222222222222,
              "#7201a8"
             ],
             [
              0.3333333333333333,
              "#9c179e"
             ],
             [
              0.4444444444444444,
              "#bd3786"
             ],
             [
              0.5555555555555556,
              "#d8576b"
             ],
             [
              0.6666666666666666,
              "#ed7953"
             ],
             [
              0.7777777777777778,
              "#fb9f3a"
             ],
             [
              0.8888888888888888,
              "#fdca26"
             ],
             [
              1,
              "#f0f921"
             ]
            ],
            "type": "histogram2dcontour"
           }
          ],
          "mesh3d": [
           {
            "colorbar": {
             "outlinewidth": 0,
             "ticks": ""
            },
            "type": "mesh3d"
           }
          ],
          "parcoords": [
           {
            "line": {
             "colorbar": {
              "outlinewidth": 0,
              "ticks": ""
             }
            },
            "type": "parcoords"
           }
          ],
          "pie": [
           {
            "automargin": true,
            "type": "pie"
           }
          ],
          "scatter": [
           {
            "marker": {
             "colorbar": {
              "outlinewidth": 0,
              "ticks": ""
             }
            },
            "type": "scatter"
           }
          ],
          "scatter3d": [
           {
            "line": {
             "colorbar": {
              "outlinewidth": 0,
              "ticks": ""
             }
            },
            "marker": {
             "colorbar": {
              "outlinewidth": 0,
              "ticks": ""
             }
            },
            "type": "scatter3d"
           }
          ],
          "scattercarpet": [
           {
            "marker": {
             "colorbar": {
              "outlinewidth": 0,
              "ticks": ""
             }
            },
            "type": "scattercarpet"
           }
          ],
          "scattergeo": [
           {
            "marker": {
             "colorbar": {
              "outlinewidth": 0,
              "ticks": ""
             }
            },
            "type": "scattergeo"
           }
          ],
          "scattergl": [
           {
            "marker": {
             "colorbar": {
              "outlinewidth": 0,
              "ticks": ""
             }
            },
            "type": "scattergl"
           }
          ],
          "scattermapbox": [
           {
            "marker": {
             "colorbar": {
              "outlinewidth": 0,
              "ticks": ""
             }
            },
            "type": "scattermapbox"
           }
          ],
          "scatterpolar": [
           {
            "marker": {
             "colorbar": {
              "outlinewidth": 0,
              "ticks": ""
             }
            },
            "type": "scatterpolar"
           }
          ],
          "scatterpolargl": [
           {
            "marker": {
             "colorbar": {
              "outlinewidth": 0,
              "ticks": ""
             }
            },
            "type": "scatterpolargl"
           }
          ],
          "scatterternary": [
           {
            "marker": {
             "colorbar": {
              "outlinewidth": 0,
              "ticks": ""
             }
            },
            "type": "scatterternary"
           }
          ],
          "surface": [
           {
            "colorbar": {
             "outlinewidth": 0,
             "ticks": ""
            },
            "colorscale": [
             [
              0,
              "#0d0887"
             ],
             [
              0.1111111111111111,
              "#46039f"
             ],
             [
              0.2222222222222222,
              "#7201a8"
             ],
             [
              0.3333333333333333,
              "#9c179e"
             ],
             [
              0.4444444444444444,
              "#bd3786"
             ],
             [
              0.5555555555555556,
              "#d8576b"
             ],
             [
              0.6666666666666666,
              "#ed7953"
             ],
             [
              0.7777777777777778,
              "#fb9f3a"
             ],
             [
              0.8888888888888888,
              "#fdca26"
             ],
             [
              1,
              "#f0f921"
             ]
            ],
            "type": "surface"
           }
          ],
          "table": [
           {
            "cells": {
             "fill": {
              "color": "#EBF0F8"
             },
             "line": {
              "color": "white"
             }
            },
            "header": {
             "fill": {
              "color": "#C8D4E3"
             },
             "line": {
              "color": "white"
             }
            },
            "type": "table"
           }
          ]
         },
         "layout": {
          "annotationdefaults": {
           "arrowcolor": "#2a3f5f",
           "arrowhead": 0,
           "arrowwidth": 1
          },
          "autotypenumbers": "strict",
          "coloraxis": {
           "colorbar": {
            "outlinewidth": 0,
            "ticks": ""
           }
          },
          "colorscale": {
           "diverging": [
            [
             0,
             "#8e0152"
            ],
            [
             0.1,
             "#c51b7d"
            ],
            [
             0.2,
             "#de77ae"
            ],
            [
             0.3,
             "#f1b6da"
            ],
            [
             0.4,
             "#fde0ef"
            ],
            [
             0.5,
             "#f7f7f7"
            ],
            [
             0.6,
             "#e6f5d0"
            ],
            [
             0.7,
             "#b8e186"
            ],
            [
             0.8,
             "#7fbc41"
            ],
            [
             0.9,
             "#4d9221"
            ],
            [
             1,
             "#276419"
            ]
           ],
           "sequential": [
            [
             0,
             "#0d0887"
            ],
            [
             0.1111111111111111,
             "#46039f"
            ],
            [
             0.2222222222222222,
             "#7201a8"
            ],
            [
             0.3333333333333333,
             "#9c179e"
            ],
            [
             0.4444444444444444,
             "#bd3786"
            ],
            [
             0.5555555555555556,
             "#d8576b"
            ],
            [
             0.6666666666666666,
             "#ed7953"
            ],
            [
             0.7777777777777778,
             "#fb9f3a"
            ],
            [
             0.8888888888888888,
             "#fdca26"
            ],
            [
             1,
             "#f0f921"
            ]
           ],
           "sequentialminus": [
            [
             0,
             "#0d0887"
            ],
            [
             0.1111111111111111,
             "#46039f"
            ],
            [
             0.2222222222222222,
             "#7201a8"
            ],
            [
             0.3333333333333333,
             "#9c179e"
            ],
            [
             0.4444444444444444,
             "#bd3786"
            ],
            [
             0.5555555555555556,
             "#d8576b"
            ],
            [
             0.6666666666666666,
             "#ed7953"
            ],
            [
             0.7777777777777778,
             "#fb9f3a"
            ],
            [
             0.8888888888888888,
             "#fdca26"
            ],
            [
             1,
             "#f0f921"
            ]
           ]
          },
          "colorway": [
           "#636efa",
           "#EF553B",
           "#00cc96",
           "#ab63fa",
           "#FFA15A",
           "#19d3f3",
           "#FF6692",
           "#B6E880",
           "#FF97FF",
           "#FECB52"
          ],
          "font": {
           "color": "#2a3f5f"
          },
          "geo": {
           "bgcolor": "white",
           "lakecolor": "white",
           "landcolor": "#E5ECF6",
           "showlakes": true,
           "showland": true,
           "subunitcolor": "white"
          },
          "hoverlabel": {
           "align": "left"
          },
          "hovermode": "closest",
          "mapbox": {
           "style": "light"
          },
          "paper_bgcolor": "white",
          "plot_bgcolor": "#E5ECF6",
          "polar": {
           "angularaxis": {
            "gridcolor": "white",
            "linecolor": "white",
            "ticks": ""
           },
           "bgcolor": "#E5ECF6",
           "radialaxis": {
            "gridcolor": "white",
            "linecolor": "white",
            "ticks": ""
           }
          },
          "scene": {
           "xaxis": {
            "backgroundcolor": "#E5ECF6",
            "gridcolor": "white",
            "gridwidth": 2,
            "linecolor": "white",
            "showbackground": true,
            "ticks": "",
            "zerolinecolor": "white"
           },
           "yaxis": {
            "backgroundcolor": "#E5ECF6",
            "gridcolor": "white",
            "gridwidth": 2,
            "linecolor": "white",
            "showbackground": true,
            "ticks": "",
            "zerolinecolor": "white"
           },
           "zaxis": {
            "backgroundcolor": "#E5ECF6",
            "gridcolor": "white",
            "gridwidth": 2,
            "linecolor": "white",
            "showbackground": true,
            "ticks": "",
            "zerolinecolor": "white"
           }
          },
          "shapedefaults": {
           "line": {
            "color": "#2a3f5f"
           }
          },
          "ternary": {
           "aaxis": {
            "gridcolor": "white",
            "linecolor": "white",
            "ticks": ""
           },
           "baxis": {
            "gridcolor": "white",
            "linecolor": "white",
            "ticks": ""
           },
           "bgcolor": "#E5ECF6",
           "caxis": {
            "gridcolor": "white",
            "linecolor": "white",
            "ticks": ""
           }
          },
          "title": {
           "x": 0.05
          },
          "xaxis": {
           "automargin": true,
           "gridcolor": "white",
           "linecolor": "white",
           "ticks": "",
           "title": {
            "standoff": 15
           },
           "zerolinecolor": "white",
           "zerolinewidth": 2
          },
          "yaxis": {
           "automargin": true,
           "gridcolor": "white",
           "linecolor": "white",
           "ticks": "",
           "title": {
            "standoff": 15
           },
           "zerolinecolor": "white",
           "zerolinewidth": 2
          }
         }
        },
        "title": {
         "text": "Global Food Product-Related Carbon Dioxide Emission (in kg CO<sub>2</sub>/person/year)"
        }
       }
      },
      "text/html": [
       "<div>                            <div id=\"00fcd2ef-e18c-43bb-a8a0-ab0bc8d45b75\" class=\"plotly-graph-div\" style=\"height:700px; width:100%;\"></div>            <script type=\"text/javascript\">                require([\"plotly\"], function(Plotly) {                    window.PLOTLYENV=window.PLOTLYENV || {};                                    if (document.getElementById(\"00fcd2ef-e18c-43bb-a8a0-ab0bc8d45b75\")) {                    Plotly.newPlot(                        \"00fcd2ef-e18c-43bb-a8a0-ab0bc8d45b75\",                        [{\"coloraxis\": \"coloraxis\", \"customdata\": [[\"Albania\", 694.3, 11.44, 6.15, 536.5, 432.62, 38.51, 14.21, \"Albania\", 7.72, 9.96, 0.0, 26.44], [\"Algeria\", 172.8, 7.4, 5.9700000000000015, 269.3, 201.6, 0.0, 7.9700000000000015, \"Algeria\", 3.68, 3.8, 0.0, 35.36], [\"Angola\", 259.82, 1.02, 24.33, 37.82, 17.52, 31.47, 18.62, \"Angola\", 4.0, 10.39, 0.23, 7.77], [\"Argentina\", 1712.0, 10.46, 6.96, 54.63, 277.87, 37.2, 41.53, \"Argentina\", 0.8700000000000001, 11.22, 0.0, 19.66], [\"Armenia\", 606.6700000000002, 10.739999999999998, 6.96, 105.76, 297.74, 34.230000000000004, 14.34, \"Armenia\", 4.51, 4.07, 0.0, 24.91], [\"Australia\", 1044.85, 7.8199999999999985, 28.25, 345.6500000000001, 334.01, 85.44000000000003, 49.54, \"Australia\", 15.45, 14.12, 0.09, 13.44], [\"Austria\", 528.9, 13.49, 19.42, 40.62000000000001, 367.62, 186.04, 19.99, \"Austria\", 13.95, 4.73, 0.93, 15.47], [\"Bahamas\", 614.69, 5.7, 30.02, 182.8, 149.22, 115.88, 49.13, \"Bahamas\", 7.13, 30.67, 0.04, 7.619999999999999], [\"Bangladesh\", 39.5, 1.91, 28.85, 46.58, 31.21, 0.0, 1.5, \"Bangladesh\", 1.27, 219.76, 0.27, 3.33], [\"Barbados\", 405.16, 8.83, 59.73, 142.88000000000005, 157.37, 29.38, 45.78, \"Barbados\", 7.3599999999999985, 20.04, 0.05, 12.53], [\"Belarus\", 527.98, 14.57, 25.15, 3.85, 190.49, 142.89, 33.61, \"Belarus\", 5.95, 4.06, 0.14, 11.53], [\"Belgium\", 482.31, 11.57, 30.29, 46.23, 336.42999999999995, 136.8, 13.11, \"Belgium\", 12.96, 11.02, 0.03, 21.34], [\"Belize\", 149.97, 4.46, 12.09, 4.9, 114.38, 59.46, 30.41, \"Belize\", 9.88, 36.37, 0.8500000000000001, 10.31], [\"Bermuda\", 1022.94, 13.71, 53.04, 94.9, 136.12, 99.96, 35.04, \"Bermuda\", 10.12, 6.88, 0.1, 10.47], [\"Bolivia\", 610.37, 4.76, 3.48, 60.23, 65.58, 31.47, 36.86, \"Bolivia\", 16.21, 34.54, 0.0, 9.53], [\"Bosnia and Herzegovina\", 281.42, 4.119999999999999, 6.48, 16.459999999999994, 247.89, 33.2, 14.15, \"Bosnia and Herzegovina\", 3.54, 2.41, 0.6699999999999999, 17.84], [\"Botswana\", 242.23, 1.79, 6.35, 131.67, 167.70999999999995, 2.62, 5.73, \"Botswana\", 1.91, 9.03, 0.52, 7.28], [\"Brazil\", 1211.1699999999996, 8.25, 15.98, 21.71, 212.63, 44.6, 48.34, \"Brazil\", 1.1900000000000002, 41.12000000000001, 1.63, 10.11], [\"Bulgaria\", 118.49, 7.68, 9.96, 57.08, 221.79, 92.95, 22.21, \"Bulgaria\", 4.0, 2.87, 0.02, 23.110000000000007], [\"Cambodia\", 149.66, 1.26, 63.21, 0.0, 4.94, 23.08, 1.98, \"Cambodia\", 2.21, 203.6, 1.95, 0.52], [\"Cameroon\", 128.68, 0.37, 23.49, 49.03, 21.75, 5.2, 3.53, \"Cameroon\", 16.439999999999998, 30.52, 0.29000000000000004, 4.31], [\"Canada\", 933.45, 11.9, 23.25, 33.97, 267.46, 80.74000000000002, 39.4, \"Canada\", 14.18, 16.19, 0.42, 16.2], [\"Chile\", 736.2700000000002, 9.16, 12.21, 14.71, 165.39, 87.35, 39.23, \"Chile\", 3.93, 11.33, 0.02, 19.97], [\"China\", 157.99, 17.23, 33.55, 109.61, 46.52, 136.02, 14.18, \"China\", 11.31, 100.05, 1.65, 12.08], [\"Colombia\", 504.84, 9.9, 9.6, 7.35, 154.5, 23.04, 29.62, \"Colombia\", 0.74, 35.86, 0.4, 5.68], [\"Costa Rica\", 469.97, 9.69, 18.07, 0.7, 261.06, 36.39, 26.29, \"Costa Rica\", 2.44, 58.47, 0.69, 7.5], [\"Croatia\", 382.95, 7.79, 25.28, 59.88, 329.06, 151.46, 9.15, \"Croatia\", 6.87, 3.38, 0.0, 20.33], [\"Cuba\", 197.18, 9.02, 7.6, 43.42, 142.35000000000005, 70.14999999999999, 21.65, \"Cuba\", 0.41, 86.64, 2.85, 10.42], [\"Cyprus\", 178.67, 8.25, 23.73, 176.85000000000005, 161.4, 135.85000000000002, 26.26, \"Cyprus\", 8.139999999999999, 6.3199999999999985, 0.02, 15.88], [\"Czech Republic\", 251.49, 10.71, 13.17, 11.91, 278.04, 145.72, 20.51, \"Czech Republic\", 4.37, 6.13, 0.37, 17.67], [\"Denmark\", 878.22, 14.1, 26.33, 32.22000000000001, 394.99, 88.03, 28.73, \"Denmark\", 10.51, 6.35, 0.01, 18.69], [\"Ecuador\", 512.55, 7.3599999999999985, 8.25, 15.41, 198.85, 51.11, 23.47, \"Ecuador\", 1.73, 57.68, 0.0, 7.4700000000000015], [\"Egypt\", 397.45, 4.22, 34.260000000000005, 55.33, 84.69, 0.07, 15.5, \"Egypt\", 3.22, 50.89, 0.29000000000000004, 28.0], [\"El Salvador\", 183.6, 8.739999999999998, 9.98, 0.7, 177.11, 11.43, 21.31, \"El Salvador\", 1.95, 13.48, 0.36, 5.38], [\"Estonia\", 221.87, 11.63, 20.41, 15.41, 405.74, 105.05, 22.68, \"Estonia\", 7.59, 3.28, 0.02, 17.04], [\"Ethiopia\", 111.4, 0.33, 0.38, 54.98, 62.87, 0.07, 0.71, \"Ethiopia\", 2.14, 2.88, 0.2, 5.96], [\"Fiji\", 276.48999999999995, 5.92, 55.9, 206.62, 57.26000000000001, 15.26, 21.76, \"Fiji\", 2.3, 58.38, 0.14, 16.06], [\"Finland\", 593.09, 8.77, 53.97, 18.56, 613.57, 127.92, 21.34, \"Finland\", 6.07, 5.659999999999998, 0.04, 15.64], [\"France\", 734.73, 12.06, 36.58, 114.87, 343.72, 116.98, 24.630000000000006, \"France\", 9.54, 6.24, 0.02, 20.68], [\"French Polynesia\", 953.51, 8.04, 62.19000000000001, 99.11, 133.26999999999998, 52.21, 53.23, \"French Polynesia\", 4.14, 45.54, 0.35, 13.1], [\"Gambia\", 66.64999999999999, 0.91, 36.93, 24.86, 65.11, 0.64, 2.86, \"Gambia\", 9.33, 79.14, 0.0, 7.23], [\"Georgia\", 186.38, 5.619999999999999, 16.64, 22.06, 212.61, 31.610000000000007, 13.19, \"Georgia\", 4.37, 3.38, 0.0, 31.17], [\"Germany\", 406.09, 11.21, 17.82, 25.56, 368.49, 183.38, 19.07, \"Germany\", 14.09, 4.2700000000000005, 0.4, 15.91], [\"Ghana\", 33.64, 1.11, 41.59, 60.93, 12.93, 4.81, 9.27, \"Ghana\", 9.84, 40.99, 0.0, 2.76], [\"Greece\", 496.81, 9.31, 23.02, 436.7, 363.59, 100.2, 16.91, \"Greece\", 18.59, 8.5, 0.01, 23.65], [\"Grenada\", 106.77, 9.5, 44.63, 43.77, 123.75, 40.78, 46.74, \"Grenada\", 0.32, 12.23, 0.0, 11.36], [\"Guatemala\", 172.8, 13.42, 1.72, 8.05, 66.38, 17.17, 17.67, \"Guatemala\", 3.54, 7.24, 0.14, 6.85], [\"Guinea\", 193.17, 1.79, 14.66, 56.03, 29.37, 0.5700000000000001, 1.97, \"Guinea\", 7.33, 124.28, 0.0, 3.54], [\"Honduras\", 221.87, 4.7700000000000005, 4.31, 1.4, 130.09, 22.94, 21.8, \"Honduras\", 1.33, 18.45, 0.0, 7.119999999999999], [\"Hong Kong\", 796.75, 13.32, 67.76, 77.74000000000002, 150.76999999999995, 237.54, 58.93, \"Hong Kong\", 24.44, 55.64, 1.26, 10.13], [\"Hungary\", 153.06, 11.44, 7.87, 3.85, 226.55, 123.63, 25.54, \"Hungary\", 1.13, 2.75, 0.0, 20.97], [\"Iceland\", 412.26, 7.57, 118.81, 739.62, 321.66, 76.77, 28.86, \"Iceland\", 6.87, 4.98, 0.05, 13.91], [\"India\", 24.99, 2.37, 7.52, 20.31, 120.36, 0.99, 2.02, \"India\", 3.4, 88.93, 0.18, 11.55], [\"Indonesia\", 79.92, 4.48, 40.95, 16.110000000000007, 21.110000000000007, 10.55, 8.06, \"Indonesia\", 8.709999999999999, 172.26999999999995, 0.5, 4.85], [\"Iran\", 110.47, 7.07, 15.65, 129.22, 66.51, 0.0, 27.26, \"Iran\", 21.52, 38.33, 0.0, 29.24], [\"Ireland\", 689.6700000000002, 8.229999999999999, 27.77, 143.58, 415.73, 114.68, 28.21, \"Ireland\", 7.26, 3.84, 0.11, 20.59], [\"Israel\", 888.09, 10.43, 35.41, 65.49000000000001, 275.76, 7.04, 67.14, \"Israel\", 13.65, 21.51, 0.05, 21.14], [\"Italy\", 573.9599999999998, 12.25, 24.91, 32.22000000000001, 351.66, 142.57, 19.99, \"Italy\", 13.51, 7.35, 0.0, 27.91], [\"Jamaica\", 122.51, 2.09, 35.05, 44.13, 129.81, 14.12, 56.41, \"Jamaica\", 3.22, 30.01, 0.0, 13.48], [\"Japan\", 282.35, 17.59, 49.66, 4.9, 102.64, 72.98, 20.86, \"Japan\", 4.58, 76.59, 3.3, 8.59], [\"Jordan\", 173.11, 3.6, 8.19, 198.91, 110.65, 0.07, 35.87, \"Jordan\", 6.3, 25.17, 0.01, 26.08], [\"Kazakhstan\", 721.4599999999998, 7.619999999999999, 8.32, 334.79, 410.4, 36.67, 19.74, \"Kazakhstan\", 9.1, 9.37, 0.01, 17.6], [\"Kenya\", 294.38, 1.6900000000000002, 6.8199999999999985, 65.14, 135.12, 1.03, 0.5, \"Kenya\", 2.9, 16.56, 0.09, 6.6099999999999985], [\"Kuwait\", 402.08, 11.57, 19.14, 546.66, 224.57, 0.0, 57.59, \"Kuwait\", 9.26, 56.09, 0.03, 18.45], [\"Latvia\", 157.68, 12.89, 34.01, 11.91, 248.0, 123.74, 22.05, \"Latvia\", 6.69, 2.83, 0.02, 13.76], [\"Liberia\", 24.07, 1.88, 6.59, 16.810000000000002, 4.33, 14.19, 9.57, \"Liberia\", 2.32, 121.25, 0.28, 2.09], [\"Lithuania\", 138.55, 12.04, 67.67999999999999, 8.4, 420.85, 161.65, 28.83, \"Lithuania\", 3.77, 3.93, 0.01, 23.19], [\"Luxembourg\", 922.03, 13.45, 36.87, 58.48, 363.65, 154.25, 22.96, \"Luxembourg\", 1.65, 5.37, 0.02, 19.68], [\"Macedonia\", 237.3, 5.8599999999999985, 8.729999999999999, 32.92, 224.96, 36.63, 20.16, \"Macedonia\", 10.39, 3.6, 0.21, 19.99], [\"Madagascar\", 231.74, 0.65, 7.04, 19.96, 35.37999999999999, 9.06, 3.37, \"Madagascar\", 0.62, 131.20999999999998, 0.0, 1.72], [\"Malawi\", 72.52, 0.99, 11.7, 72.49000000000002, 11.37, 19.29, 1.48, \"Malawi\", 8.99, 6.08, 0.7899999999999999, 2.24], [\"Malaysia\", 201.19, 15.22, 78.92, 32.92, 36.01, 27.47, 44.05, \"Malaysia\", 5.13, 103.98, 0.02, 9.73], [\"Maldives\", 291.3, 9.91, 286.94, 24.51, 158.78, 4.3199999999999985, 19.84, \"Maldives\", 28.02, 64.92, 0.09, 14.83], [\"Malta\", 593.09, 10.69, 39.25, 41.67, 270.72, 121.19, 28.36, \"Malta\", 9.95, 6.35, 0.02, 26.62], [\"Mauritius\", 184.84, 5.81, 31.39, 142.88000000000005, 167.04, 14.44, 41.37, \"Mauritius\", 4.119999999999999, 58.3, 0.14, 21.74], [\"Mexico\", 473.05, 16.85, 12.07, 31.17, 159.35000000000005, 53.91, 32.349999999999994, \"Mexico\", 4.44, 7.22, 0.01, 6.71], [\"Morocco\", 248.1, 6.14, 27.85, 152.69, 77.89, 0.04, 22.31, \"Morocco\", 5.72, 1.41, 0.0, 34.27], [\"Mozambique\", 32.09, 1.56, 12.36, 31.52, 6.8199999999999985, 18.16, 1.51, \"Mozambique\", 4.619999999999999, 29.96, 0.01, 2.79], [\"Myanmar\", 152.44, 5.92, 86.64, 31.17, 44.84, 40.03, 23.49, \"Myanmar\", 7.9700000000000015, 169.94, 0.17, 1.1900000000000002], [\"Namibia\", 115.72, 1.5, 17.08, 79.5, 104.05, 14.9, 13.09, \"Namibia\", 1.26, 8.07, 0.03, 6.91], [\"Nepal\", 243.47, 1.3, 3.46, 73.54, 74.21000000000002, 2.37, 1.6800000000000002, \"Nepal\", 4.28, 112.29, 0.0, 9.62], [\"Netherlands\", 545.26, 12.89, 29.76, 32.92, 486.39, 128.7, 25.67, \"Netherlands\", 14.05, 3.75, 0.05, 13.38], [\"New Caledonia\", 495.89, 8.129999999999999, 30.94, 68.29, 153.84, 70.44000000000003, 47.65, \"New Caledonia\", 5.24, 22.36, 0.25, 15.59], [\"New Zealand\", 693.99, 9.1, 32.51, 662.23, 195.5, 78.9, 37.58, \"New Zealand\", 14.55, 11.72, 0.2, 14.67], [\"Nicaragua\", 145.96, 4.5, 5.73, 0.35, 121.3, 11.96, 22.89, \"Nicaragua\", 4.18, 55.45, 0.0, 5.37], [\"Niger\", 276.8, 0.28, 4.31, 146.03, 83.93, 0.32, 1.16, \"Niger\", 12.3, 16.85, 0.0, 0.91], [\"Nigeria\", 71.9, 3.18, 25.59, 95.25, 11.27, 5.2, 1.86, \"Nigeria\", 12.27, 36.13, 1.1700000000000002, 3.97], [\"Norway\", 611.91, 10.48, 60.96, 187.01, 372.25, 83.21000000000002, 22.57, \"Norway\", 9.35, 5.58, 0.05, 18.52], [\"Oman\", 465.95, 7.17, 34.42, 450.71, 216.91, 0.04, 33.849999999999994, \"Oman\", 2.97, 72.36999999999998, 0.09, 12.22], [\"Pakistan\", 272.17, 2.71, 2.99, 86.14999999999998, 260.85, 0.0, 5.38, \"Pakistan\", 1.47, 15.68, 0.0, 21.67], [\"Panama\", 629.5, 4.159999999999998, 17.64, 0.35, 100.12, 47.71, 33.1, \"Panama\", 1.86, 85.0, 1.59, 7.4300000000000015], [\"Paraguay\", 611.2900000000002, 17.3, 5.75, 19.610000000000007, 107.86, 92.88, 6.8599999999999985, \"Paraguay\", 2.83, 6.28, 0.0, 6.01], [\"Peru\", 144.72, 8.05, 25.130000000000006, 35.02, 88.53, 13.63, 12.59, \"Peru\", 1.15, 62.6, 0.72, 10.7], [\"Philippines\", 125.28, 3.69, 45.52, 19.610000000000007, 22.31, 65.13, 12.79, \"Philippines\", 3.68, 152.85000000000005, 0.01, 4.41], [\"Poland\", 71.59, 6.92, 16.75, 0.7, 292.56, 163.49, 29.44, \"Poland\", 3.95, 1.22, 0.03, 20.75], [\"Portugal\", 507.61, 8.31, 72.47, 83.35, 292.06, 134.18, 32.379999999999995, \"Portugal\", 6.92, 19.02, 0.0, 17.979999999999997], [\"Republic of the Congo\", 134.23, 0.55, 41.86, 14.01, 15.23, 8.46, 13.99, \"Republic of the Congo\", 5.45, 21.130000000000006, 0.0, 7.64], [\"Romania\", 147.5, 11.89, 9.69, 119.42, 339.48, 89.58, 16.52, \"Romania\", 3.19, 3.31, 0.0, 25.72], [\"Russia\", 523.97, 14.17, 33.24, 49.03, 232.99, 90.82, 29.54, \"Russia\", 2.87, 6.03, 0.02, 24.98], [\"Rwanda\", 78.07, 0.15000000000000002, 6.2, 67.59, 10.3, 2.69, 1.44, \"Rwanda\", 1.03, 11.13, 0.8700000000000001, 2.16], [\"Saudi Arabia\", 199.03, 4.9300000000000015, 19.14, 229.03, 119.15, 0.0, 52.69000000000001, \"Saudi Arabia\", 5.72, 46.09, 0.02, 17.06], [\"Senegal\", 180.52, 1.5, 36.63, 111.71, 24.02, 3.33, 4.96, \"Senegal\", 7.13, 92.51, 0.0, 7.119999999999999], [\"Serbia\", 217.55, 8.17, 8.93, 124.67, 211.57, 113.41, 11.43, \"Serbia\", 5.8599999999999985, 1.56, 0.0, 20.19], [\"Sierra Leone\", 61.41, 1.76, 51.14, 22.76, 9.97, 4.3199999999999985, 5.34, \"Sierra Leone\", 9.86, 132.19, 0.0, 1.66], [\"Slovakia\", 160.15, 14.739999999999998, 13.4, 5.6, 203.89, 112.49, 16.25, \"Slovakia\", 6.55, 3.69, 0.01, 23.57], [\"Slovenia\", 568.71, 8.6, 12.39, 27.67, 334.75, 99.78, 25.2, \"Slovenia\", 9.35, 5.05, 0.34, 19.72], [\"South Africa\", 556.37, 6.619999999999999, 8.88, 149.89, 79.41000000000003, 14.72, 40.36, \"South Africa\", 1.84, 22.28, 0.5700000000000001, 11.47], [\"South Korea\", 448.37, 10.33, 52.83, 4.9, 41.38, 115.95, 17.19, \"South Korea\", 8.639999999999999, 109.0, 3.76, 9.7], [\"Spain\", 374.92, 12.239999999999998, 46.03, 75.64, 234.01, 173.15, 30.75, \"Spain\", 13.17, 10.65, 0.01, 17.9], [\"Sri Lanka\", 42.58, 4.2, 39.790000000000006, 3.15, 49.83, 0.18, 5.33, \"Sri Lanka\", 1.93, 140.41, 0.0, 7.06], [\"Swaziland\", 465.95, 1.38, 2.01, 67.94000000000001, 80.61999999999998, 8.6, 6.64, \"Swaziland\", 11.4, 27.07, 0.25, 7.08], [\"Sweden\", 758.49, 12.28, 38.1, 49.38, 486.05, 130.96, 17.87, \"Sweden\", 11.03, 7.63, 0.06, 15.18], [\"Switzerland\", 656.04, 9.67, 21.52, 49.73, 453.94, 111.46, 17.6, \"Switzerland\", 16.41, 3.11, 0.2, 17.07], [\"Taiwan\", 160.76999999999995, 12.02, 29.2, 32.22000000000001, 59.43, 139.35000000000002, 34.51, \"Taiwan\", 16.04, 58.67, 7.63, 9.71], [\"Tanzania\", 187.92, 0.53, 8.78, 44.83, 57.39, 1.13, 1.98, \"Tanzania\", 10.51, 26.89, 0.02, 3.04], [\"Thailand\", 79.0, 11.34, 31.06, 1.75, 41.81, 46.01, 14.71, \"Thailand\", 2.66, 146.62, 0.96, 2.08], [\"Togo\", 47.21, 0.7899999999999999, 18.67, 55.33, 11.34, 5.56, 7.119999999999999, \"Togo\", 6.35, 33.260000000000005, 0.0, 2.46], [\"Trinidad and Tobago\", 189.16, 3.86, 32.8, 97.71, 147.85000000000005, 31.57, 62.59, \"Trinidad and Tobago\", 6.69, 20.96, 0.02, 17.2], [\"Tunisia\", 170.64, 7.05, 20.17, 187.01, 163.05, 0.0, 19.87, \"Tunisia\", 11.22, 1.37, 0.8500000000000001, 37.66], [\"Turkey\", 359.19, 7.53, 8.91, 163.89, 276.25, 0.04, 20.17, \"Turkey\", 14.11, 13.739999999999998, 0.77, 32.41], [\"Uganda\", 158.92000000000004, 0.89, 19.96, 43.77, 53.09, 11.93, 1.62, \"Uganda\", 6.67, 5.94, 0.0, 1.93], [\"Ukraine\", 276.48999999999995, 16.54, 24.32, 14.36, 206.58, 72.77, 26.03, \"Ukraine\", 4.74, 3.84, 0.01, 20.05], [\"United Arab Emirates\", 174.04, 7.56, 32.59, 317.98, 188.96, 0.0, 44.09, \"United Arab Emirates\", 40.76000000000001, 71.98, 0.04, 19.32], [\"United Kingdom\", 559.15, 10.18, 24.73, 157.23999999999995, 330.75, 91.28, 33.89, \"United Kingdom\", 7.4, 8.18, 0.02, 18.81], [\"United States\", 1118.29, 13.39, 19.72, 15.06, 362.78, 97.83, 53.72000000000001, \"United States\", 13.91, 8.8, 0.02, 15.34], [\"Uruguay\", 897.9599999999998, 12.07, 10.43, 288.21, 299.89, 59.61, 29.49, \"Uruguay\", 1.6800000000000002, 14.72, 0.0, 20.85], [\"Venezuela\", 798.91, 5.17, 13.32, 11.21, 167.78, 25.59, 42.19000000000001, \"Venezuela\", 0.62, 29.93, 0.0, 9.38], [\"Vietnam\", 229.58, 3.53, 42.34, 4.9, 23.3, 123.88, 13.28, \"Vietnam\", 11.12, 184.99, 2.59, 2.0], [\"Zambia\", 146.88000000000005, 3.05, 9.9, 23.81, 13.83, 5.88, 3.53, \"Zambia\", 8.92, 3.9, 3.29, 2.31], [\"Zimbabwe\", 227.42, 1.61, 4.4700000000000015, 33.620000000000005, 45.44, 9.38, 5.34, \"Zimbabwe\", 3.93, 12.91, 0.24, 5.9700000000000015]], \"geo\": \"geo\", \"hovertemplate\": \"<b>%{hovertext}</b><br><br>country=%{customdata[8]}<br>Beef=%{customdata[1]}<br>Eggs=%{customdata[2]}<br>Fish=%{customdata[3]}<br>Lamb & Goat=%{customdata[4]}<br>Milk & Cheese=%{customdata[5]}<br>Pork=%{customdata[6]}<br>Poultry=%{customdata[7]}<br>Nuts & Peanut Butter=%{customdata[9]}<br>Rice=%{customdata[10]}<br>Soybeans=%{customdata[11]}<br>Wheat & Wheat Products=%{customdata[12]}<br>TOTAL=%{z}<extra></extra>\", \"hovertext\": [\"Albania\", \"Algeria\", \"Angola\", \"Argentina\", \"Armenia\", \"Australia\", \"Austria\", \"Bahamas\", \"Bangladesh\", \"Barbados\", \"Belarus\", \"Belgium\", \"Belize\", \"Bermuda\", \"Bolivia\", \"Bosnia and Herzegovina\", \"Botswana\", \"Brazil\", \"Bulgaria\", \"Cambodia\", \"Cameroon\", \"Canada\", \"Chile\", \"China\", \"Colombia\", \"Costa Rica\", \"Croatia\", \"Cuba\", \"Cyprus\", \"Czech Republic\", \"Denmark\", \"Ecuador\", \"Egypt\", \"El Salvador\", \"Estonia\", \"Ethiopia\", \"Fiji\", \"Finland\", \"France\", \"French Polynesia\", \"Gambia\", \"Georgia\", \"Germany\", \"Ghana\", \"Greece\", \"Grenada\", \"Guatemala\", \"Guinea\", \"Honduras\", \"Hong Kong\", \"Hungary\", \"Iceland\", \"India\", \"Indonesia\", \"Iran\", \"Ireland\", \"Israel\", \"Italy\", \"Jamaica\", \"Japan\", \"Jordan\", \"Kazakhstan\", \"Kenya\", \"Kuwait\", \"Latvia\", \"Liberia\", \"Lithuania\", \"Luxembourg\", \"Macedonia\", \"Madagascar\", \"Malawi\", \"Malaysia\", \"Maldives\", \"Malta\", \"Mauritius\", \"Mexico\", \"Morocco\", \"Mozambique\", \"Myanmar\", \"Namibia\", \"Nepal\", \"Netherlands\", \"New Caledonia\", \"New Zealand\", \"Nicaragua\", \"Niger\", \"Nigeria\", \"Norway\", \"Oman\", \"Pakistan\", \"Panama\", \"Paraguay\", \"Peru\", \"Philippines\", \"Poland\", \"Portugal\", \"Republic of the Congo\", \"Romania\", \"Russia\", \"Rwanda\", \"Saudi Arabia\", \"Senegal\", \"Serbia\", \"Sierra Leone\", \"Slovakia\", \"Slovenia\", \"South Africa\", \"South Korea\", \"Spain\", \"Sri Lanka\", \"Swaziland\", \"Sweden\", \"Switzerland\", \"Taiwan\", \"Tanzania\", \"Thailand\", \"Togo\", \"Trinidad and Tobago\", \"Tunisia\", \"Turkey\", \"Uganda\", \"Ukraine\", \"United Arab Emirates\", \"United Kingdom\", \"United States\", \"Uruguay\", \"Venezuela\", \"Vietnam\", \"Zambia\", \"Zimbabwe\"], \"locationmode\": \"country names\", \"locations\": [\"Albania\", \"Algeria\", \"Angola\", \"Argentina\", \"Armenia\", \"Australia\", \"Austria\", \"Bahamas\", \"Bangladesh\", \"Barbados\", \"Belarus\", \"Belgium\", \"Belize\", \"Bermuda\", \"Bolivia\", \"Bosnia and Herzegovina\", \"Botswana\", \"Brazil\", \"Bulgaria\", \"Cambodia\", \"Cameroon\", \"Canada\", \"Chile\", \"China\", \"Colombia\", \"Costa Rica\", \"Croatia\", \"Cuba\", \"Cyprus\", \"Czech Republic\", \"Denmark\", \"Ecuador\", \"Egypt\", \"El Salvador\", \"Estonia\", \"Ethiopia\", \"Fiji\", \"Finland\", \"France\", \"French Polynesia\", \"Gambia\", \"Georgia\", \"Germany\", \"Ghana\", \"Greece\", \"Grenada\", \"Guatemala\", \"Guinea\", \"Honduras\", \"Hong Kong\", \"Hungary\", \"Iceland\", \"India\", \"Indonesia\", \"Iran\", \"Ireland\", \"Israel\", \"Italy\", \"Jamaica\", \"Japan\", \"Jordan\", \"Kazakhstan\", \"Kenya\", \"Kuwait\", \"Latvia\", \"Liberia\", \"Lithuania\", \"Luxembourg\", \"Macedonia\", \"Madagascar\", \"Malawi\", \"Malaysia\", \"Maldives\", \"Malta\", \"Mauritius\", \"Mexico\", \"Morocco\", \"Mozambique\", \"Myanmar\", \"Namibia\", \"Nepal\", \"Netherlands\", \"New Caledonia\", \"New Zealand\", \"Nicaragua\", \"Niger\", \"Nigeria\", \"Norway\", \"Oman\", \"Pakistan\", \"Panama\", \"Paraguay\", \"Peru\", \"Philippines\", \"Poland\", \"Portugal\", \"Republic of the Congo\", \"Romania\", \"Russia\", \"Rwanda\", \"Saudi Arabia\", \"Senegal\", \"Serbia\", \"Sierra Leone\", \"Slovakia\", \"Slovenia\", \"South Africa\", \"South Korea\", \"Spain\", \"Sri Lanka\", \"Swaziland\", \"Sweden\", \"Switzerland\", \"Taiwan\", \"Tanzania\", \"Thailand\", \"Togo\", \"Trinidad and Tobago\", \"Tunisia\", \"Turkey\", \"Uganda\", \"Ukraine\", \"United Arab Emirates\", \"United Kingdom\", \"United States\", \"Uruguay\", \"Venezuela\", \"Vietnam\", \"Zambia\", \"Zimbabwe\"], \"name\": \"\", \"type\": \"choropleth\", \"z\": [1777.85, 707.88, 412.9899999999999, 2172.3999999999996, 1109.9300000000003, 1938.6599999999999, 1211.16, 1192.9, 374.17999999999995, 889.11, 960.22, 1102.0899999999997, 433.08000000000004, 1483.28, 873.0300000000001, 628.18, 576.8399999999998, 1616.7299999999998, 560.16, 452.40999999999997, 283.61, 1437.1600000000003, 1099.5700000000002, 640.1899999999999, 781.53, 891.2700000000001, 996.1500000000001, 591.69, 741.37, 760.09, 1498.18, 883.88, 673.9200000000001, 434.04, 830.7199999999998, 241.92, 716.0899999999998, 1464.63, 1420.0500000000002, 1424.6899999999998, 293.66, 527.03, 1066.29, 217.87000000000003, 1497.29, 439.85, 314.9800000000001, 432.71, 434.08000000000004, 1494.2800000000002, 576.79, 1731.36, 282.62000000000006, 367.51, 445.2699999999999, 1459.67, 1405.71, 1206.3299999999997, 450.83000000000004, 644.04, 587.96, 1575.0799999999995, 530.8399999999999, 1345.4399999999998, 633.5799999999999, 203.38, 868.9, 1598.41, 600.75, 440.75, 207.94000000000003, 554.64, 903.4600000000002, 1147.9099999999999, 672.07, 797.1300000000001, 576.4199999999998, 141.39999999999998, 563.8000000000001, 362.10999999999996, 526.22, 1292.82, 918.6200000000001, 1750.95, 377.68999999999994, 542.89, 267.7900000000001, 1381.8899999999999, 1296.6999999999998, 669.0699999999999, 928.46, 876.6700000000002, 402.84000000000003, 455.28000000000014, 607.4000000000001, 1174.2799999999997, 262.54999999999995, 766.3000000000001, 1007.6599999999999, 181.63, 692.86, 469.42999999999995, 723.3399999999999, 300.41, 560.34, 1111.56, 892.4100000000002, 822.0500000000001, 988.4699999999999, 294.46000000000004, 678.94, 1527.03, 1356.7499999999998, 559.5500000000001, 343.02, 378.0, 188.09, 610.4100000000001, 618.8900000000001, 897.0099999999999, 304.7200000000001, 665.7299999999999, 897.3200000000002, 1241.63, 1718.86, 1634.9099999999999, 1104.1000000000001, 641.5100000000001, 225.30000000000007, 350.33000000000004]}],                        {\"coloraxis\": {\"colorbar\": {\"title\": {\"text\": \"TOTAL\"}}, \"colorscale\": [[0.0, \"rgb(255,255,204)\"], [0.125, \"rgb(255,237,160)\"], [0.25, \"rgb(254,217,118)\"], [0.375, \"rgb(254,178,76)\"], [0.5, \"rgb(253,141,60)\"], [0.625, \"rgb(252,78,42)\"], [0.75, \"rgb(227,26,28)\"], [0.875, \"rgb(189,0,38)\"], [1.0, \"rgb(128,0,38)\"]]}, \"geo\": {\"center\": {}, \"domain\": {\"x\": [0.0, 1.0], \"y\": [0.0, 1.0]}}, \"height\": 700, \"legend\": {\"tracegroupgap\": 0}, \"margin\": {\"t\": 60}, \"template\": {\"data\": {\"bar\": [{\"error_x\": {\"color\": \"#2a3f5f\"}, \"error_y\": {\"color\": \"#2a3f5f\"}, \"marker\": {\"line\": {\"color\": \"#E5ECF6\", \"width\": 0.5}}, \"type\": \"bar\"}], \"barpolar\": [{\"marker\": {\"line\": {\"color\": \"#E5ECF6\", \"width\": 0.5}}, \"type\": \"barpolar\"}], \"carpet\": [{\"aaxis\": {\"endlinecolor\": \"#2a3f5f\", \"gridcolor\": \"white\", \"linecolor\": \"white\", \"minorgridcolor\": \"white\", \"startlinecolor\": \"#2a3f5f\"}, \"baxis\": {\"endlinecolor\": \"#2a3f5f\", \"gridcolor\": \"white\", \"linecolor\": \"white\", \"minorgridcolor\": \"white\", \"startlinecolor\": \"#2a3f5f\"}, \"type\": \"carpet\"}], \"choropleth\": [{\"colorbar\": {\"outlinewidth\": 0, \"ticks\": \"\"}, \"type\": \"choropleth\"}], \"contour\": [{\"colorbar\": {\"outlinewidth\": 0, \"ticks\": \"\"}, \"colorscale\": [[0.0, \"#0d0887\"], [0.1111111111111111, \"#46039f\"], [0.2222222222222222, \"#7201a8\"], [0.3333333333333333, \"#9c179e\"], [0.4444444444444444, \"#bd3786\"], [0.5555555555555556, \"#d8576b\"], [0.6666666666666666, \"#ed7953\"], [0.7777777777777778, \"#fb9f3a\"], [0.8888888888888888, \"#fdca26\"], [1.0, \"#f0f921\"]], \"type\": \"contour\"}], \"contourcarpet\": [{\"colorbar\": {\"outlinewidth\": 0, \"ticks\": \"\"}, \"type\": \"contourcarpet\"}], \"heatmap\": [{\"colorbar\": {\"outlinewidth\": 0, \"ticks\": \"\"}, \"colorscale\": [[0.0, \"#0d0887\"], [0.1111111111111111, \"#46039f\"], [0.2222222222222222, \"#7201a8\"], [0.3333333333333333, \"#9c179e\"], [0.4444444444444444, \"#bd3786\"], [0.5555555555555556, \"#d8576b\"], [0.6666666666666666, \"#ed7953\"], [0.7777777777777778, \"#fb9f3a\"], [0.8888888888888888, \"#fdca26\"], [1.0, \"#f0f921\"]], \"type\": \"heatmap\"}], \"heatmapgl\": [{\"colorbar\": {\"outlinewidth\": 0, \"ticks\": \"\"}, \"colorscale\": [[0.0, \"#0d0887\"], [0.1111111111111111, \"#46039f\"], [0.2222222222222222, \"#7201a8\"], [0.3333333333333333, \"#9c179e\"], [0.4444444444444444, \"#bd3786\"], [0.5555555555555556, \"#d8576b\"], [0.6666666666666666, \"#ed7953\"], [0.7777777777777778, \"#fb9f3a\"], [0.8888888888888888, \"#fdca26\"], [1.0, \"#f0f921\"]], \"type\": \"heatmapgl\"}], \"histogram\": [{\"marker\": {\"colorbar\": {\"outlinewidth\": 0, \"ticks\": \"\"}}, \"type\": \"histogram\"}], \"histogram2d\": [{\"colorbar\": {\"outlinewidth\": 0, \"ticks\": \"\"}, \"colorscale\": [[0.0, \"#0d0887\"], [0.1111111111111111, \"#46039f\"], [0.2222222222222222, \"#7201a8\"], [0.3333333333333333, \"#9c179e\"], [0.4444444444444444, \"#bd3786\"], [0.5555555555555556, \"#d8576b\"], [0.6666666666666666, \"#ed7953\"], [0.7777777777777778, \"#fb9f3a\"], [0.8888888888888888, \"#fdca26\"], [1.0, \"#f0f921\"]], \"type\": \"histogram2d\"}], \"histogram2dcontour\": [{\"colorbar\": {\"outlinewidth\": 0, \"ticks\": \"\"}, \"colorscale\": [[0.0, \"#0d0887\"], [0.1111111111111111, \"#46039f\"], [0.2222222222222222, \"#7201a8\"], [0.3333333333333333, \"#9c179e\"], [0.4444444444444444, \"#bd3786\"], [0.5555555555555556, \"#d8576b\"], [0.6666666666666666, \"#ed7953\"], [0.7777777777777778, \"#fb9f3a\"], [0.8888888888888888, \"#fdca26\"], [1.0, \"#f0f921\"]], \"type\": \"histogram2dcontour\"}], \"mesh3d\": [{\"colorbar\": {\"outlinewidth\": 0, \"ticks\": \"\"}, \"type\": \"mesh3d\"}], \"parcoords\": [{\"line\": {\"colorbar\": {\"outlinewidth\": 0, \"ticks\": \"\"}}, \"type\": \"parcoords\"}], \"pie\": [{\"automargin\": true, \"type\": \"pie\"}], \"scatter\": [{\"marker\": {\"colorbar\": {\"outlinewidth\": 0, \"ticks\": \"\"}}, \"type\": \"scatter\"}], \"scatter3d\": [{\"line\": {\"colorbar\": {\"outlinewidth\": 0, \"ticks\": \"\"}}, \"marker\": {\"colorbar\": {\"outlinewidth\": 0, \"ticks\": \"\"}}, \"type\": \"scatter3d\"}], \"scattercarpet\": [{\"marker\": {\"colorbar\": {\"outlinewidth\": 0, \"ticks\": \"\"}}, \"type\": \"scattercarpet\"}], \"scattergeo\": [{\"marker\": {\"colorbar\": {\"outlinewidth\": 0, \"ticks\": \"\"}}, \"type\": \"scattergeo\"}], \"scattergl\": [{\"marker\": {\"colorbar\": {\"outlinewidth\": 0, \"ticks\": \"\"}}, \"type\": \"scattergl\"}], \"scattermapbox\": [{\"marker\": {\"colorbar\": {\"outlinewidth\": 0, \"ticks\": \"\"}}, \"type\": \"scattermapbox\"}], \"scatterpolar\": [{\"marker\": {\"colorbar\": {\"outlinewidth\": 0, \"ticks\": \"\"}}, \"type\": \"scatterpolar\"}], \"scatterpolargl\": [{\"marker\": {\"colorbar\": {\"outlinewidth\": 0, \"ticks\": \"\"}}, \"type\": \"scatterpolargl\"}], \"scatterternary\": [{\"marker\": {\"colorbar\": {\"outlinewidth\": 0, \"ticks\": \"\"}}, \"type\": \"scatterternary\"}], \"surface\": [{\"colorbar\": {\"outlinewidth\": 0, \"ticks\": \"\"}, \"colorscale\": [[0.0, \"#0d0887\"], [0.1111111111111111, \"#46039f\"], [0.2222222222222222, \"#7201a8\"], [0.3333333333333333, \"#9c179e\"], [0.4444444444444444, \"#bd3786\"], [0.5555555555555556, \"#d8576b\"], [0.6666666666666666, \"#ed7953\"], [0.7777777777777778, \"#fb9f3a\"], [0.8888888888888888, \"#fdca26\"], [1.0, \"#f0f921\"]], \"type\": \"surface\"}], \"table\": [{\"cells\": {\"fill\": {\"color\": \"#EBF0F8\"}, \"line\": {\"color\": \"white\"}}, \"header\": {\"fill\": {\"color\": \"#C8D4E3\"}, \"line\": {\"color\": \"white\"}}, \"type\": \"table\"}]}, \"layout\": {\"annotationdefaults\": {\"arrowcolor\": \"#2a3f5f\", \"arrowhead\": 0, \"arrowwidth\": 1}, \"autotypenumbers\": \"strict\", \"coloraxis\": {\"colorbar\": {\"outlinewidth\": 0, \"ticks\": \"\"}}, \"colorscale\": {\"diverging\": [[0, \"#8e0152\"], [0.1, \"#c51b7d\"], [0.2, \"#de77ae\"], [0.3, \"#f1b6da\"], [0.4, \"#fde0ef\"], [0.5, \"#f7f7f7\"], [0.6, \"#e6f5d0\"], [0.7, \"#b8e186\"], [0.8, \"#7fbc41\"], [0.9, \"#4d9221\"], [1, \"#276419\"]], \"sequential\": [[0.0, \"#0d0887\"], [0.1111111111111111, \"#46039f\"], [0.2222222222222222, \"#7201a8\"], [0.3333333333333333, \"#9c179e\"], [0.4444444444444444, \"#bd3786\"], [0.5555555555555556, \"#d8576b\"], [0.6666666666666666, \"#ed7953\"], [0.7777777777777778, \"#fb9f3a\"], [0.8888888888888888, \"#fdca26\"], [1.0, \"#f0f921\"]], \"sequentialminus\": [[0.0, \"#0d0887\"], [0.1111111111111111, \"#46039f\"], [0.2222222222222222, \"#7201a8\"], [0.3333333333333333, \"#9c179e\"], [0.4444444444444444, \"#bd3786\"], [0.5555555555555556, \"#d8576b\"], [0.6666666666666666, \"#ed7953\"], [0.7777777777777778, \"#fb9f3a\"], [0.8888888888888888, \"#fdca26\"], [1.0, \"#f0f921\"]]}, \"colorway\": [\"#636efa\", \"#EF553B\", \"#00cc96\", \"#ab63fa\", \"#FFA15A\", \"#19d3f3\", \"#FF6692\", \"#B6E880\", \"#FF97FF\", \"#FECB52\"], \"font\": {\"color\": \"#2a3f5f\"}, \"geo\": {\"bgcolor\": \"white\", \"lakecolor\": \"white\", \"landcolor\": \"#E5ECF6\", \"showlakes\": true, \"showland\": true, \"subunitcolor\": \"white\"}, \"hoverlabel\": {\"align\": \"left\"}, \"hovermode\": \"closest\", \"mapbox\": {\"style\": \"light\"}, \"paper_bgcolor\": \"white\", \"plot_bgcolor\": \"#E5ECF6\", \"polar\": {\"angularaxis\": {\"gridcolor\": \"white\", \"linecolor\": \"white\", \"ticks\": \"\"}, \"bgcolor\": \"#E5ECF6\", \"radialaxis\": {\"gridcolor\": \"white\", \"linecolor\": \"white\", \"ticks\": \"\"}}, \"scene\": {\"xaxis\": {\"backgroundcolor\": \"#E5ECF6\", \"gridcolor\": \"white\", \"gridwidth\": 2, \"linecolor\": \"white\", \"showbackground\": true, \"ticks\": \"\", \"zerolinecolor\": \"white\"}, \"yaxis\": {\"backgroundcolor\": \"#E5ECF6\", \"gridcolor\": \"white\", \"gridwidth\": 2, \"linecolor\": \"white\", \"showbackground\": true, \"ticks\": \"\", \"zerolinecolor\": \"white\"}, \"zaxis\": {\"backgroundcolor\": \"#E5ECF6\", \"gridcolor\": \"white\", \"gridwidth\": 2, \"linecolor\": \"white\", \"showbackground\": true, \"ticks\": \"\", \"zerolinecolor\": \"white\"}}, \"shapedefaults\": {\"line\": {\"color\": \"#2a3f5f\"}}, \"ternary\": {\"aaxis\": {\"gridcolor\": \"white\", \"linecolor\": \"white\", \"ticks\": \"\"}, \"baxis\": {\"gridcolor\": \"white\", \"linecolor\": \"white\", \"ticks\": \"\"}, \"bgcolor\": \"#E5ECF6\", \"caxis\": {\"gridcolor\": \"white\", \"linecolor\": \"white\", \"ticks\": \"\"}}, \"title\": {\"x\": 0.05}, \"xaxis\": {\"automargin\": true, \"gridcolor\": \"white\", \"linecolor\": \"white\", \"ticks\": \"\", \"title\": {\"standoff\": 15}, \"zerolinecolor\": \"white\", \"zerolinewidth\": 2}, \"yaxis\": {\"automargin\": true, \"gridcolor\": \"white\", \"linecolor\": \"white\", \"ticks\": \"\", \"title\": {\"standoff\": 15}, \"zerolinecolor\": \"white\", \"zerolinewidth\": 2}}}, \"title\": {\"text\": \"Global Food Product-Related Carbon Dioxide Emission (in kg CO<sub>2</sub>/person/year)\"}},                        {\"responsive\": true}                    ).then(function(){\n",
       "                            \n",
       "var gd = document.getElementById('00fcd2ef-e18c-43bb-a8a0-ab0bc8d45b75');\n",
       "var x = new MutationObserver(function (mutations, observer) {{\n",
       "        var display = window.getComputedStyle(gd).display;\n",
       "        if (!display || display === 'none') {{\n",
       "            console.log([gd, 'removed!']);\n",
       "            Plotly.purge(gd);\n",
       "            observer.disconnect();\n",
       "        }}\n",
       "}});\n",
       "\n",
       "// Listen for the removal of the full notebook cells\n",
       "var notebookContainer = gd.closest('#notebook-container');\n",
       "if (notebookContainer) {{\n",
       "    x.observe(notebookContainer, {childList: true});\n",
       "}}\n",
       "\n",
       "// Listen for the clearing of the current output cell\n",
       "var outputEl = gd.closest('.output');\n",
       "if (outputEl) {{\n",
       "    x.observe(outputEl, {childList: true});\n",
       "}}\n",
       "\n",
       "                        })                };                });            </script>        </div>"
      ]
     },
     "metadata": {},
     "output_type": "display_data"
    }
   ],
   "source": [
    "fig = px.choropleth(co2_data,\n",
    "                    locations = \"country\",\n",
    "                    locationmode = \"country names\",\n",
    "                    color = \"TOTAL\",\n",
    "                    hover_name = \"country\",\n",
    "                    hover_data = animal_products + plant_products,\n",
    "                    height = 700,\n",
    "                    color_continuous_scale = \"YlOrRd\")\n",
    "\n",
    "fig.update_layout(title = \"Global Food Product-Related Carbon Dioxide Emission (in kg CO<sub>2</sub>/person/year)\")\n",
    "\n",
    "fig.show()"
   ]
  },
  {
   "cell_type": "markdown",
   "metadata": {},
   "source": [
    "Unlike consumption, there is no clear trend as regards the geographical concentration of the countries with the highest amount of CO<sub>2</sub> emissions. They come from different regions: South America (Argentina, Uruguay, and Brazil), Oceania (Australia and New Zealand), Europe (Albania, Iceland, and Luxembourg), Central Asia (Kazakhstan), and the United States. The highest emission is recorded by Argentina at 2172.4 kg CO<sub>2</sub>/kg/year. \n",
    "\n",
    "The overall top emitter Argentina is also the top emitter of beef-related CO<sub>2</sub> at 1712 kg CO<sub>2</sub>/kg/year, accounting for 78.82% of its total emission. Meanwhile, Iceland, which also happens to be the top consumer of lamb and goat food products, is also the top emitter for the same food category, at 739.62 kg CO<sub>2</sub>/kg/year, which corresponds to around 42.72% of its total emission.\n",
    "\n",
    "On the other hand, countries with the lowest record of food product-related emission are concentrated in Africa, with Mozambique recording the lowest emission (141.4 kg CO<sub>2</sub>/person/year), followed by Rwanda at 181.63 kg CO<sub>2</sub>/person/year. Interestingly, Rwanda also happens to be the lowest food product consumer. In fact, there is a noticeable overlap between the ten lowest emitters although their placements are shuffled. The Republic of the Congo is the only country in the ten lowest emitters that is not in the ten lowest consumers as well (Cameroon is included instead). "
   ]
  },
  {
   "cell_type": "markdown",
   "metadata": {},
   "source": [
    "These observations are further supported by the supplementary bar graph visualization below.\n",
    "\n",
    "*Note that this is an interactive graph. Hovering allows for a more granular look at the data.*"
   ]
  },
  {
   "cell_type": "code",
   "execution_count": 21,
   "metadata": {},
   "outputs": [
    {
     "data": {
      "application/vnd.plotly.v1+json": {
       "config": {
        "plotlyServerURL": "https://plot.ly"
       },
       "data": [
        {
         "name": "Beef",
         "orientation": "h",
         "type": "bar",
         "x": [
          1712,
          1044.85,
          694.3,
          693.99,
          412.26,
          1118.29,
          897.9599999999998,
          1211.1699999999996,
          922.03,
          721.4599999999998,
          758.49,
          878.22,
          496.81,
          796.75,
          1022.94,
          593.09,
          689.6700000000002,
          933.45,
          953.51,
          734.73
         ],
         "y": [
          "Argentina",
          "Australia",
          "Albania",
          "New Zealand",
          "Iceland",
          "United States",
          "Uruguay",
          "Brazil",
          "Luxembourg",
          "Kazakhstan",
          "Sweden",
          "Denmark",
          "Greece",
          "Hong Kong",
          "Bermuda",
          "Finland",
          "Ireland",
          "Canada",
          "French Polynesia",
          "France"
         ]
        },
        {
         "name": "Eggs",
         "orientation": "h",
         "type": "bar",
         "x": [
          10.46,
          7.8199999999999985,
          11.44,
          9.1,
          7.57,
          13.39,
          12.07,
          8.25,
          13.45,
          7.619999999999999,
          12.28,
          14.1,
          9.31,
          13.32,
          13.71,
          8.77,
          8.229999999999999,
          11.9,
          8.04,
          12.06
         ],
         "y": [
          "Argentina",
          "Australia",
          "Albania",
          "New Zealand",
          "Iceland",
          "United States",
          "Uruguay",
          "Brazil",
          "Luxembourg",
          "Kazakhstan",
          "Sweden",
          "Denmark",
          "Greece",
          "Hong Kong",
          "Bermuda",
          "Finland",
          "Ireland",
          "Canada",
          "French Polynesia",
          "France"
         ]
        },
        {
         "name": "Fish",
         "orientation": "h",
         "type": "bar",
         "x": [
          6.96,
          28.25,
          6.15,
          32.51,
          118.81,
          19.72,
          10.43,
          15.98,
          36.87,
          8.32,
          38.1,
          26.33,
          23.02,
          67.76,
          53.04,
          53.97,
          27.77,
          23.25,
          62.19000000000001,
          36.58
         ],
         "y": [
          "Argentina",
          "Australia",
          "Albania",
          "New Zealand",
          "Iceland",
          "United States",
          "Uruguay",
          "Brazil",
          "Luxembourg",
          "Kazakhstan",
          "Sweden",
          "Denmark",
          "Greece",
          "Hong Kong",
          "Bermuda",
          "Finland",
          "Ireland",
          "Canada",
          "French Polynesia",
          "France"
         ]
        },
        {
         "name": "Lamb & Goat",
         "orientation": "h",
         "type": "bar",
         "x": [
          54.63,
          345.6500000000001,
          536.5,
          662.23,
          739.62,
          15.06,
          288.21,
          21.71,
          58.48,
          334.79,
          49.38,
          32.22000000000001,
          436.7,
          77.74000000000002,
          94.9,
          18.56,
          143.58,
          33.97,
          99.11,
          114.87
         ],
         "y": [
          "Argentina",
          "Australia",
          "Albania",
          "New Zealand",
          "Iceland",
          "United States",
          "Uruguay",
          "Brazil",
          "Luxembourg",
          "Kazakhstan",
          "Sweden",
          "Denmark",
          "Greece",
          "Hong Kong",
          "Bermuda",
          "Finland",
          "Ireland",
          "Canada",
          "French Polynesia",
          "France"
         ]
        },
        {
         "name": "Milk & Cheese",
         "orientation": "h",
         "type": "bar",
         "x": [
          277.87,
          334.01,
          432.62,
          195.5,
          321.66,
          362.78,
          299.89,
          212.63,
          363.65,
          410.4,
          486.05,
          394.99,
          363.59,
          150.76999999999995,
          136.12,
          613.57,
          415.73,
          267.46,
          133.26999999999998,
          343.72
         ],
         "y": [
          "Argentina",
          "Australia",
          "Albania",
          "New Zealand",
          "Iceland",
          "United States",
          "Uruguay",
          "Brazil",
          "Luxembourg",
          "Kazakhstan",
          "Sweden",
          "Denmark",
          "Greece",
          "Hong Kong",
          "Bermuda",
          "Finland",
          "Ireland",
          "Canada",
          "French Polynesia",
          "France"
         ]
        },
        {
         "name": "Pork",
         "orientation": "h",
         "type": "bar",
         "x": [
          37.2,
          85.44000000000003,
          38.51,
          78.9,
          76.77,
          97.83,
          59.61,
          44.6,
          154.25,
          36.67,
          130.96,
          88.03,
          100.2,
          237.54,
          99.96,
          127.92,
          114.68,
          80.74000000000002,
          52.21,
          116.98
         ],
         "y": [
          "Argentina",
          "Australia",
          "Albania",
          "New Zealand",
          "Iceland",
          "United States",
          "Uruguay",
          "Brazil",
          "Luxembourg",
          "Kazakhstan",
          "Sweden",
          "Denmark",
          "Greece",
          "Hong Kong",
          "Bermuda",
          "Finland",
          "Ireland",
          "Canada",
          "French Polynesia",
          "France"
         ]
        },
        {
         "name": "Poultry",
         "orientation": "h",
         "type": "bar",
         "x": [
          41.53,
          49.54,
          14.21,
          37.58,
          28.86,
          53.72000000000001,
          29.49,
          48.34,
          22.96,
          19.74,
          17.87,
          28.73,
          16.91,
          58.93,
          35.04,
          21.34,
          28.21,
          39.4,
          53.23,
          24.630000000000006
         ],
         "y": [
          "Argentina",
          "Australia",
          "Albania",
          "New Zealand",
          "Iceland",
          "United States",
          "Uruguay",
          "Brazil",
          "Luxembourg",
          "Kazakhstan",
          "Sweden",
          "Denmark",
          "Greece",
          "Hong Kong",
          "Bermuda",
          "Finland",
          "Ireland",
          "Canada",
          "French Polynesia",
          "France"
         ]
        },
        {
         "name": "Nuts & Peanut Butter",
         "orientation": "h",
         "type": "bar",
         "x": [
          0.8700000000000001,
          15.45,
          7.72,
          14.55,
          6.87,
          13.91,
          1.6800000000000002,
          1.1900000000000002,
          1.65,
          9.1,
          11.03,
          10.51,
          18.59,
          24.44,
          10.12,
          6.07,
          7.26,
          14.18,
          4.14,
          9.54
         ],
         "y": [
          "Argentina",
          "Australia",
          "Albania",
          "New Zealand",
          "Iceland",
          "United States",
          "Uruguay",
          "Brazil",
          "Luxembourg",
          "Kazakhstan",
          "Sweden",
          "Denmark",
          "Greece",
          "Hong Kong",
          "Bermuda",
          "Finland",
          "Ireland",
          "Canada",
          "French Polynesia",
          "France"
         ]
        },
        {
         "name": "Rice",
         "orientation": "h",
         "type": "bar",
         "x": [
          11.22,
          14.12,
          9.96,
          11.72,
          4.98,
          8.8,
          14.72,
          41.12000000000001,
          5.37,
          9.37,
          7.63,
          6.35,
          8.5,
          55.64,
          6.88,
          5.659999999999998,
          3.84,
          16.19,
          45.54,
          6.24
         ],
         "y": [
          "Argentina",
          "Australia",
          "Albania",
          "New Zealand",
          "Iceland",
          "United States",
          "Uruguay",
          "Brazil",
          "Luxembourg",
          "Kazakhstan",
          "Sweden",
          "Denmark",
          "Greece",
          "Hong Kong",
          "Bermuda",
          "Finland",
          "Ireland",
          "Canada",
          "French Polynesia",
          "France"
         ]
        },
        {
         "name": "Soybeans",
         "orientation": "h",
         "type": "bar",
         "x": [
          0,
          0.09,
          0,
          0.2,
          0.05,
          0.02,
          0,
          1.63,
          0.02,
          0.01,
          0.06,
          0.01,
          0.01,
          1.26,
          0.1,
          0.04,
          0.11,
          0.42,
          0.35,
          0.02
         ],
         "y": [
          "Argentina",
          "Australia",
          "Albania",
          "New Zealand",
          "Iceland",
          "United States",
          "Uruguay",
          "Brazil",
          "Luxembourg",
          "Kazakhstan",
          "Sweden",
          "Denmark",
          "Greece",
          "Hong Kong",
          "Bermuda",
          "Finland",
          "Ireland",
          "Canada",
          "French Polynesia",
          "France"
         ]
        },
        {
         "marker": {
          "color": "sandybrown"
         },
         "name": "Wheat & Wheat Products",
         "orientation": "h",
         "type": "bar",
         "x": [
          19.66,
          13.44,
          26.44,
          14.67,
          13.91,
          15.34,
          20.85,
          10.11,
          19.68,
          17.6,
          15.18,
          18.69,
          23.65,
          10.13,
          10.47,
          15.64,
          20.59,
          16.2,
          13.1,
          20.68
         ],
         "y": [
          "Argentina",
          "Australia",
          "Albania",
          "New Zealand",
          "Iceland",
          "United States",
          "Uruguay",
          "Brazil",
          "Luxembourg",
          "Kazakhstan",
          "Sweden",
          "Denmark",
          "Greece",
          "Hong Kong",
          "Bermuda",
          "Finland",
          "Ireland",
          "Canada",
          "French Polynesia",
          "France"
         ]
        }
       ],
       "layout": {
        "barmode": "stack",
        "template": {
         "data": {
          "bar": [
           {
            "error_x": {
             "color": "#2a3f5f"
            },
            "error_y": {
             "color": "#2a3f5f"
            },
            "marker": {
             "line": {
              "color": "#E5ECF6",
              "width": 0.5
             }
            },
            "type": "bar"
           }
          ],
          "barpolar": [
           {
            "marker": {
             "line": {
              "color": "#E5ECF6",
              "width": 0.5
             }
            },
            "type": "barpolar"
           }
          ],
          "carpet": [
           {
            "aaxis": {
             "endlinecolor": "#2a3f5f",
             "gridcolor": "white",
             "linecolor": "white",
             "minorgridcolor": "white",
             "startlinecolor": "#2a3f5f"
            },
            "baxis": {
             "endlinecolor": "#2a3f5f",
             "gridcolor": "white",
             "linecolor": "white",
             "minorgridcolor": "white",
             "startlinecolor": "#2a3f5f"
            },
            "type": "carpet"
           }
          ],
          "choropleth": [
           {
            "colorbar": {
             "outlinewidth": 0,
             "ticks": ""
            },
            "type": "choropleth"
           }
          ],
          "contour": [
           {
            "colorbar": {
             "outlinewidth": 0,
             "ticks": ""
            },
            "colorscale": [
             [
              0,
              "#0d0887"
             ],
             [
              0.1111111111111111,
              "#46039f"
             ],
             [
              0.2222222222222222,
              "#7201a8"
             ],
             [
              0.3333333333333333,
              "#9c179e"
             ],
             [
              0.4444444444444444,
              "#bd3786"
             ],
             [
              0.5555555555555556,
              "#d8576b"
             ],
             [
              0.6666666666666666,
              "#ed7953"
             ],
             [
              0.7777777777777778,
              "#fb9f3a"
             ],
             [
              0.8888888888888888,
              "#fdca26"
             ],
             [
              1,
              "#f0f921"
             ]
            ],
            "type": "contour"
           }
          ],
          "contourcarpet": [
           {
            "colorbar": {
             "outlinewidth": 0,
             "ticks": ""
            },
            "type": "contourcarpet"
           }
          ],
          "heatmap": [
           {
            "colorbar": {
             "outlinewidth": 0,
             "ticks": ""
            },
            "colorscale": [
             [
              0,
              "#0d0887"
             ],
             [
              0.1111111111111111,
              "#46039f"
             ],
             [
              0.2222222222222222,
              "#7201a8"
             ],
             [
              0.3333333333333333,
              "#9c179e"
             ],
             [
              0.4444444444444444,
              "#bd3786"
             ],
             [
              0.5555555555555556,
              "#d8576b"
             ],
             [
              0.6666666666666666,
              "#ed7953"
             ],
             [
              0.7777777777777778,
              "#fb9f3a"
             ],
             [
              0.8888888888888888,
              "#fdca26"
             ],
             [
              1,
              "#f0f921"
             ]
            ],
            "type": "heatmap"
           }
          ],
          "heatmapgl": [
           {
            "colorbar": {
             "outlinewidth": 0,
             "ticks": ""
            },
            "colorscale": [
             [
              0,
              "#0d0887"
             ],
             [
              0.1111111111111111,
              "#46039f"
             ],
             [
              0.2222222222222222,
              "#7201a8"
             ],
             [
              0.3333333333333333,
              "#9c179e"
             ],
             [
              0.4444444444444444,
              "#bd3786"
             ],
             [
              0.5555555555555556,
              "#d8576b"
             ],
             [
              0.6666666666666666,
              "#ed7953"
             ],
             [
              0.7777777777777778,
              "#fb9f3a"
             ],
             [
              0.8888888888888888,
              "#fdca26"
             ],
             [
              1,
              "#f0f921"
             ]
            ],
            "type": "heatmapgl"
           }
          ],
          "histogram": [
           {
            "marker": {
             "colorbar": {
              "outlinewidth": 0,
              "ticks": ""
             }
            },
            "type": "histogram"
           }
          ],
          "histogram2d": [
           {
            "colorbar": {
             "outlinewidth": 0,
             "ticks": ""
            },
            "colorscale": [
             [
              0,
              "#0d0887"
             ],
             [
              0.1111111111111111,
              "#46039f"
             ],
             [
              0.2222222222222222,
              "#7201a8"
             ],
             [
              0.3333333333333333,
              "#9c179e"
             ],
             [
              0.4444444444444444,
              "#bd3786"
             ],
             [
              0.5555555555555556,
              "#d8576b"
             ],
             [
              0.6666666666666666,
              "#ed7953"
             ],
             [
              0.7777777777777778,
              "#fb9f3a"
             ],
             [
              0.8888888888888888,
              "#fdca26"
             ],
             [
              1,
              "#f0f921"
             ]
            ],
            "type": "histogram2d"
           }
          ],
          "histogram2dcontour": [
           {
            "colorbar": {
             "outlinewidth": 0,
             "ticks": ""
            },
            "colorscale": [
             [
              0,
              "#0d0887"
             ],
             [
              0.1111111111111111,
              "#46039f"
             ],
             [
              0.2222222222222222,
              "#7201a8"
             ],
             [
              0.3333333333333333,
              "#9c179e"
             ],
             [
              0.4444444444444444,
              "#bd3786"
             ],
             [
              0.5555555555555556,
              "#d8576b"
             ],
             [
              0.6666666666666666,
              "#ed7953"
             ],
             [
              0.7777777777777778,
              "#fb9f3a"
             ],
             [
              0.8888888888888888,
              "#fdca26"
             ],
             [
              1,
              "#f0f921"
             ]
            ],
            "type": "histogram2dcontour"
           }
          ],
          "mesh3d": [
           {
            "colorbar": {
             "outlinewidth": 0,
             "ticks": ""
            },
            "type": "mesh3d"
           }
          ],
          "parcoords": [
           {
            "line": {
             "colorbar": {
              "outlinewidth": 0,
              "ticks": ""
             }
            },
            "type": "parcoords"
           }
          ],
          "pie": [
           {
            "automargin": true,
            "type": "pie"
           }
          ],
          "scatter": [
           {
            "marker": {
             "colorbar": {
              "outlinewidth": 0,
              "ticks": ""
             }
            },
            "type": "scatter"
           }
          ],
          "scatter3d": [
           {
            "line": {
             "colorbar": {
              "outlinewidth": 0,
              "ticks": ""
             }
            },
            "marker": {
             "colorbar": {
              "outlinewidth": 0,
              "ticks": ""
             }
            },
            "type": "scatter3d"
           }
          ],
          "scattercarpet": [
           {
            "marker": {
             "colorbar": {
              "outlinewidth": 0,
              "ticks": ""
             }
            },
            "type": "scattercarpet"
           }
          ],
          "scattergeo": [
           {
            "marker": {
             "colorbar": {
              "outlinewidth": 0,
              "ticks": ""
             }
            },
            "type": "scattergeo"
           }
          ],
          "scattergl": [
           {
            "marker": {
             "colorbar": {
              "outlinewidth": 0,
              "ticks": ""
             }
            },
            "type": "scattergl"
           }
          ],
          "scattermapbox": [
           {
            "marker": {
             "colorbar": {
              "outlinewidth": 0,
              "ticks": ""
             }
            },
            "type": "scattermapbox"
           }
          ],
          "scatterpolar": [
           {
            "marker": {
             "colorbar": {
              "outlinewidth": 0,
              "ticks": ""
             }
            },
            "type": "scatterpolar"
           }
          ],
          "scatterpolargl": [
           {
            "marker": {
             "colorbar": {
              "outlinewidth": 0,
              "ticks": ""
             }
            },
            "type": "scatterpolargl"
           }
          ],
          "scatterternary": [
           {
            "marker": {
             "colorbar": {
              "outlinewidth": 0,
              "ticks": ""
             }
            },
            "type": "scatterternary"
           }
          ],
          "surface": [
           {
            "colorbar": {
             "outlinewidth": 0,
             "ticks": ""
            },
            "colorscale": [
             [
              0,
              "#0d0887"
             ],
             [
              0.1111111111111111,
              "#46039f"
             ],
             [
              0.2222222222222222,
              "#7201a8"
             ],
             [
              0.3333333333333333,
              "#9c179e"
             ],
             [
              0.4444444444444444,
              "#bd3786"
             ],
             [
              0.5555555555555556,
              "#d8576b"
             ],
             [
              0.6666666666666666,
              "#ed7953"
             ],
             [
              0.7777777777777778,
              "#fb9f3a"
             ],
             [
              0.8888888888888888,
              "#fdca26"
             ],
             [
              1,
              "#f0f921"
             ]
            ],
            "type": "surface"
           }
          ],
          "table": [
           {
            "cells": {
             "fill": {
              "color": "#EBF0F8"
             },
             "line": {
              "color": "white"
             }
            },
            "header": {
             "fill": {
              "color": "#C8D4E3"
             },
             "line": {
              "color": "white"
             }
            },
            "type": "table"
           }
          ]
         },
         "layout": {
          "annotationdefaults": {
           "arrowcolor": "#2a3f5f",
           "arrowhead": 0,
           "arrowwidth": 1
          },
          "autotypenumbers": "strict",
          "coloraxis": {
           "colorbar": {
            "outlinewidth": 0,
            "ticks": ""
           }
          },
          "colorscale": {
           "diverging": [
            [
             0,
             "#8e0152"
            ],
            [
             0.1,
             "#c51b7d"
            ],
            [
             0.2,
             "#de77ae"
            ],
            [
             0.3,
             "#f1b6da"
            ],
            [
             0.4,
             "#fde0ef"
            ],
            [
             0.5,
             "#f7f7f7"
            ],
            [
             0.6,
             "#e6f5d0"
            ],
            [
             0.7,
             "#b8e186"
            ],
            [
             0.8,
             "#7fbc41"
            ],
            [
             0.9,
             "#4d9221"
            ],
            [
             1,
             "#276419"
            ]
           ],
           "sequential": [
            [
             0,
             "#0d0887"
            ],
            [
             0.1111111111111111,
             "#46039f"
            ],
            [
             0.2222222222222222,
             "#7201a8"
            ],
            [
             0.3333333333333333,
             "#9c179e"
            ],
            [
             0.4444444444444444,
             "#bd3786"
            ],
            [
             0.5555555555555556,
             "#d8576b"
            ],
            [
             0.6666666666666666,
             "#ed7953"
            ],
            [
             0.7777777777777778,
             "#fb9f3a"
            ],
            [
             0.8888888888888888,
             "#fdca26"
            ],
            [
             1,
             "#f0f921"
            ]
           ],
           "sequentialminus": [
            [
             0,
             "#0d0887"
            ],
            [
             0.1111111111111111,
             "#46039f"
            ],
            [
             0.2222222222222222,
             "#7201a8"
            ],
            [
             0.3333333333333333,
             "#9c179e"
            ],
            [
             0.4444444444444444,
             "#bd3786"
            ],
            [
             0.5555555555555556,
             "#d8576b"
            ],
            [
             0.6666666666666666,
             "#ed7953"
            ],
            [
             0.7777777777777778,
             "#fb9f3a"
            ],
            [
             0.8888888888888888,
             "#fdca26"
            ],
            [
             1,
             "#f0f921"
            ]
           ]
          },
          "colorway": [
           "#636efa",
           "#EF553B",
           "#00cc96",
           "#ab63fa",
           "#FFA15A",
           "#19d3f3",
           "#FF6692",
           "#B6E880",
           "#FF97FF",
           "#FECB52"
          ],
          "font": {
           "color": "#2a3f5f"
          },
          "geo": {
           "bgcolor": "white",
           "lakecolor": "white",
           "landcolor": "#E5ECF6",
           "showlakes": true,
           "showland": true,
           "subunitcolor": "white"
          },
          "hoverlabel": {
           "align": "left"
          },
          "hovermode": "closest",
          "mapbox": {
           "style": "light"
          },
          "paper_bgcolor": "white",
          "plot_bgcolor": "#E5ECF6",
          "polar": {
           "angularaxis": {
            "gridcolor": "white",
            "linecolor": "white",
            "ticks": ""
           },
           "bgcolor": "#E5ECF6",
           "radialaxis": {
            "gridcolor": "white",
            "linecolor": "white",
            "ticks": ""
           }
          },
          "scene": {
           "xaxis": {
            "backgroundcolor": "#E5ECF6",
            "gridcolor": "white",
            "gridwidth": 2,
            "linecolor": "white",
            "showbackground": true,
            "ticks": "",
            "zerolinecolor": "white"
           },
           "yaxis": {
            "backgroundcolor": "#E5ECF6",
            "gridcolor": "white",
            "gridwidth": 2,
            "linecolor": "white",
            "showbackground": true,
            "ticks": "",
            "zerolinecolor": "white"
           },
           "zaxis": {
            "backgroundcolor": "#E5ECF6",
            "gridcolor": "white",
            "gridwidth": 2,
            "linecolor": "white",
            "showbackground": true,
            "ticks": "",
            "zerolinecolor": "white"
           }
          },
          "shapedefaults": {
           "line": {
            "color": "#2a3f5f"
           }
          },
          "ternary": {
           "aaxis": {
            "gridcolor": "white",
            "linecolor": "white",
            "ticks": ""
           },
           "baxis": {
            "gridcolor": "white",
            "linecolor": "white",
            "ticks": ""
           },
           "bgcolor": "#E5ECF6",
           "caxis": {
            "gridcolor": "white",
            "linecolor": "white",
            "ticks": ""
           }
          },
          "title": {
           "x": 0.05
          },
          "xaxis": {
           "automargin": true,
           "gridcolor": "white",
           "linecolor": "white",
           "ticks": "",
           "title": {
            "standoff": 15
           },
           "zerolinecolor": "white",
           "zerolinewidth": 2
          },
          "yaxis": {
           "automargin": true,
           "gridcolor": "white",
           "linecolor": "white",
           "ticks": "",
           "title": {
            "standoff": 15
           },
           "zerolinecolor": "white",
           "zerolinewidth": 2
          }
         }
        },
        "title": {
         "text": "Food Product-Related CO<sub>2</sub> Emission of Top 20 Emitters"
        },
        "xaxis": {
         "title": {
          "text": "Emission (kg CO<sub>2</sub>/person/year)"
         }
        },
        "yaxis": {
         "autorange": "reversed",
         "title": {
          "text": "Country"
         }
        }
       }
      },
      "text/html": [
       "<div>                            <div id=\"8f4e05f1-bd7e-4914-9e1c-5bdbf2c9b909\" class=\"plotly-graph-div\" style=\"height:525px; width:100%;\"></div>            <script type=\"text/javascript\">                require([\"plotly\"], function(Plotly) {                    window.PLOTLYENV=window.PLOTLYENV || {};                                    if (document.getElementById(\"8f4e05f1-bd7e-4914-9e1c-5bdbf2c9b909\")) {                    Plotly.newPlot(                        \"8f4e05f1-bd7e-4914-9e1c-5bdbf2c9b909\",                        [{\"name\": \"Beef\", \"orientation\": \"h\", \"type\": \"bar\", \"x\": [1712.0, 1044.85, 694.3, 693.99, 412.26, 1118.29, 897.9599999999998, 1211.1699999999996, 922.03, 721.4599999999998, 758.49, 878.22, 496.81, 796.75, 1022.94, 593.09, 689.6700000000002, 933.45, 953.51, 734.73], \"y\": [\"Argentina\", \"Australia\", \"Albania\", \"New Zealand\", \"Iceland\", \"United States\", \"Uruguay\", \"Brazil\", \"Luxembourg\", \"Kazakhstan\", \"Sweden\", \"Denmark\", \"Greece\", \"Hong Kong\", \"Bermuda\", \"Finland\", \"Ireland\", \"Canada\", \"French Polynesia\", \"France\"]}, {\"name\": \"Eggs\", \"orientation\": \"h\", \"type\": \"bar\", \"x\": [10.46, 7.8199999999999985, 11.44, 9.1, 7.57, 13.39, 12.07, 8.25, 13.45, 7.619999999999999, 12.28, 14.1, 9.31, 13.32, 13.71, 8.77, 8.229999999999999, 11.9, 8.04, 12.06], \"y\": [\"Argentina\", \"Australia\", \"Albania\", \"New Zealand\", \"Iceland\", \"United States\", \"Uruguay\", \"Brazil\", \"Luxembourg\", \"Kazakhstan\", \"Sweden\", \"Denmark\", \"Greece\", \"Hong Kong\", \"Bermuda\", \"Finland\", \"Ireland\", \"Canada\", \"French Polynesia\", \"France\"]}, {\"name\": \"Fish\", \"orientation\": \"h\", \"type\": \"bar\", \"x\": [6.96, 28.25, 6.15, 32.51, 118.81, 19.72, 10.43, 15.98, 36.87, 8.32, 38.1, 26.33, 23.02, 67.76, 53.04, 53.97, 27.77, 23.25, 62.19000000000001, 36.58], \"y\": [\"Argentina\", \"Australia\", \"Albania\", \"New Zealand\", \"Iceland\", \"United States\", \"Uruguay\", \"Brazil\", \"Luxembourg\", \"Kazakhstan\", \"Sweden\", \"Denmark\", \"Greece\", \"Hong Kong\", \"Bermuda\", \"Finland\", \"Ireland\", \"Canada\", \"French Polynesia\", \"France\"]}, {\"name\": \"Lamb & Goat\", \"orientation\": \"h\", \"type\": \"bar\", \"x\": [54.63, 345.6500000000001, 536.5, 662.23, 739.62, 15.06, 288.21, 21.71, 58.48, 334.79, 49.38, 32.22000000000001, 436.7, 77.74000000000002, 94.9, 18.56, 143.58, 33.97, 99.11, 114.87], \"y\": [\"Argentina\", \"Australia\", \"Albania\", \"New Zealand\", \"Iceland\", \"United States\", \"Uruguay\", \"Brazil\", \"Luxembourg\", \"Kazakhstan\", \"Sweden\", \"Denmark\", \"Greece\", \"Hong Kong\", \"Bermuda\", \"Finland\", \"Ireland\", \"Canada\", \"French Polynesia\", \"France\"]}, {\"name\": \"Milk & Cheese\", \"orientation\": \"h\", \"type\": \"bar\", \"x\": [277.87, 334.01, 432.62, 195.5, 321.66, 362.78, 299.89, 212.63, 363.65, 410.4, 486.05, 394.99, 363.59, 150.76999999999995, 136.12, 613.57, 415.73, 267.46, 133.26999999999998, 343.72], \"y\": [\"Argentina\", \"Australia\", \"Albania\", \"New Zealand\", \"Iceland\", \"United States\", \"Uruguay\", \"Brazil\", \"Luxembourg\", \"Kazakhstan\", \"Sweden\", \"Denmark\", \"Greece\", \"Hong Kong\", \"Bermuda\", \"Finland\", \"Ireland\", \"Canada\", \"French Polynesia\", \"France\"]}, {\"name\": \"Pork\", \"orientation\": \"h\", \"type\": \"bar\", \"x\": [37.2, 85.44000000000003, 38.51, 78.9, 76.77, 97.83, 59.61, 44.6, 154.25, 36.67, 130.96, 88.03, 100.2, 237.54, 99.96, 127.92, 114.68, 80.74000000000002, 52.21, 116.98], \"y\": [\"Argentina\", \"Australia\", \"Albania\", \"New Zealand\", \"Iceland\", \"United States\", \"Uruguay\", \"Brazil\", \"Luxembourg\", \"Kazakhstan\", \"Sweden\", \"Denmark\", \"Greece\", \"Hong Kong\", \"Bermuda\", \"Finland\", \"Ireland\", \"Canada\", \"French Polynesia\", \"France\"]}, {\"name\": \"Poultry\", \"orientation\": \"h\", \"type\": \"bar\", \"x\": [41.53, 49.54, 14.21, 37.58, 28.86, 53.72000000000001, 29.49, 48.34, 22.96, 19.74, 17.87, 28.73, 16.91, 58.93, 35.04, 21.34, 28.21, 39.4, 53.23, 24.630000000000006], \"y\": [\"Argentina\", \"Australia\", \"Albania\", \"New Zealand\", \"Iceland\", \"United States\", \"Uruguay\", \"Brazil\", \"Luxembourg\", \"Kazakhstan\", \"Sweden\", \"Denmark\", \"Greece\", \"Hong Kong\", \"Bermuda\", \"Finland\", \"Ireland\", \"Canada\", \"French Polynesia\", \"France\"]}, {\"name\": \"Nuts & Peanut Butter\", \"orientation\": \"h\", \"type\": \"bar\", \"x\": [0.8700000000000001, 15.45, 7.72, 14.55, 6.87, 13.91, 1.6800000000000002, 1.1900000000000002, 1.65, 9.1, 11.03, 10.51, 18.59, 24.44, 10.12, 6.07, 7.26, 14.18, 4.14, 9.54], \"y\": [\"Argentina\", \"Australia\", \"Albania\", \"New Zealand\", \"Iceland\", \"United States\", \"Uruguay\", \"Brazil\", \"Luxembourg\", \"Kazakhstan\", \"Sweden\", \"Denmark\", \"Greece\", \"Hong Kong\", \"Bermuda\", \"Finland\", \"Ireland\", \"Canada\", \"French Polynesia\", \"France\"]}, {\"name\": \"Rice\", \"orientation\": \"h\", \"type\": \"bar\", \"x\": [11.22, 14.12, 9.96, 11.72, 4.98, 8.8, 14.72, 41.12000000000001, 5.37, 9.37, 7.63, 6.35, 8.5, 55.64, 6.88, 5.659999999999998, 3.84, 16.19, 45.54, 6.24], \"y\": [\"Argentina\", \"Australia\", \"Albania\", \"New Zealand\", \"Iceland\", \"United States\", \"Uruguay\", \"Brazil\", \"Luxembourg\", \"Kazakhstan\", \"Sweden\", \"Denmark\", \"Greece\", \"Hong Kong\", \"Bermuda\", \"Finland\", \"Ireland\", \"Canada\", \"French Polynesia\", \"France\"]}, {\"name\": \"Soybeans\", \"orientation\": \"h\", \"type\": \"bar\", \"x\": [0.0, 0.09, 0.0, 0.2, 0.05, 0.02, 0.0, 1.63, 0.02, 0.01, 0.06, 0.01, 0.01, 1.26, 0.1, 0.04, 0.11, 0.42, 0.35, 0.02], \"y\": [\"Argentina\", \"Australia\", \"Albania\", \"New Zealand\", \"Iceland\", \"United States\", \"Uruguay\", \"Brazil\", \"Luxembourg\", \"Kazakhstan\", \"Sweden\", \"Denmark\", \"Greece\", \"Hong Kong\", \"Bermuda\", \"Finland\", \"Ireland\", \"Canada\", \"French Polynesia\", \"France\"]}, {\"marker\": {\"color\": \"sandybrown\"}, \"name\": \"Wheat & Wheat Products\", \"orientation\": \"h\", \"type\": \"bar\", \"x\": [19.66, 13.44, 26.44, 14.67, 13.91, 15.34, 20.85, 10.11, 19.68, 17.6, 15.18, 18.69, 23.65, 10.13, 10.47, 15.64, 20.59, 16.2, 13.1, 20.68], \"y\": [\"Argentina\", \"Australia\", \"Albania\", \"New Zealand\", \"Iceland\", \"United States\", \"Uruguay\", \"Brazil\", \"Luxembourg\", \"Kazakhstan\", \"Sweden\", \"Denmark\", \"Greece\", \"Hong Kong\", \"Bermuda\", \"Finland\", \"Ireland\", \"Canada\", \"French Polynesia\", \"France\"]}],                        {\"barmode\": \"stack\", \"template\": {\"data\": {\"bar\": [{\"error_x\": {\"color\": \"#2a3f5f\"}, \"error_y\": {\"color\": \"#2a3f5f\"}, \"marker\": {\"line\": {\"color\": \"#E5ECF6\", \"width\": 0.5}}, \"type\": \"bar\"}], \"barpolar\": [{\"marker\": {\"line\": {\"color\": \"#E5ECF6\", \"width\": 0.5}}, \"type\": \"barpolar\"}], \"carpet\": [{\"aaxis\": {\"endlinecolor\": \"#2a3f5f\", \"gridcolor\": \"white\", \"linecolor\": \"white\", \"minorgridcolor\": \"white\", \"startlinecolor\": \"#2a3f5f\"}, \"baxis\": {\"endlinecolor\": \"#2a3f5f\", \"gridcolor\": \"white\", \"linecolor\": \"white\", \"minorgridcolor\": \"white\", \"startlinecolor\": \"#2a3f5f\"}, \"type\": \"carpet\"}], \"choropleth\": [{\"colorbar\": {\"outlinewidth\": 0, \"ticks\": \"\"}, \"type\": \"choropleth\"}], \"contour\": [{\"colorbar\": {\"outlinewidth\": 0, \"ticks\": \"\"}, \"colorscale\": [[0.0, \"#0d0887\"], [0.1111111111111111, \"#46039f\"], [0.2222222222222222, \"#7201a8\"], [0.3333333333333333, \"#9c179e\"], [0.4444444444444444, \"#bd3786\"], [0.5555555555555556, \"#d8576b\"], [0.6666666666666666, \"#ed7953\"], [0.7777777777777778, \"#fb9f3a\"], [0.8888888888888888, \"#fdca26\"], [1.0, \"#f0f921\"]], \"type\": \"contour\"}], \"contourcarpet\": [{\"colorbar\": {\"outlinewidth\": 0, \"ticks\": \"\"}, \"type\": \"contourcarpet\"}], \"heatmap\": [{\"colorbar\": {\"outlinewidth\": 0, \"ticks\": \"\"}, \"colorscale\": [[0.0, \"#0d0887\"], [0.1111111111111111, \"#46039f\"], [0.2222222222222222, \"#7201a8\"], [0.3333333333333333, \"#9c179e\"], [0.4444444444444444, \"#bd3786\"], [0.5555555555555556, \"#d8576b\"], [0.6666666666666666, \"#ed7953\"], [0.7777777777777778, \"#fb9f3a\"], [0.8888888888888888, \"#fdca26\"], [1.0, \"#f0f921\"]], \"type\": \"heatmap\"}], \"heatmapgl\": [{\"colorbar\": {\"outlinewidth\": 0, \"ticks\": \"\"}, \"colorscale\": [[0.0, \"#0d0887\"], [0.1111111111111111, \"#46039f\"], [0.2222222222222222, \"#7201a8\"], [0.3333333333333333, \"#9c179e\"], [0.4444444444444444, \"#bd3786\"], [0.5555555555555556, \"#d8576b\"], [0.6666666666666666, \"#ed7953\"], [0.7777777777777778, \"#fb9f3a\"], [0.8888888888888888, \"#fdca26\"], [1.0, \"#f0f921\"]], \"type\": \"heatmapgl\"}], \"histogram\": [{\"marker\": {\"colorbar\": {\"outlinewidth\": 0, \"ticks\": \"\"}}, \"type\": \"histogram\"}], \"histogram2d\": [{\"colorbar\": {\"outlinewidth\": 0, \"ticks\": \"\"}, \"colorscale\": [[0.0, \"#0d0887\"], [0.1111111111111111, \"#46039f\"], [0.2222222222222222, \"#7201a8\"], [0.3333333333333333, \"#9c179e\"], [0.4444444444444444, \"#bd3786\"], [0.5555555555555556, \"#d8576b\"], [0.6666666666666666, \"#ed7953\"], [0.7777777777777778, \"#fb9f3a\"], [0.8888888888888888, \"#fdca26\"], [1.0, \"#f0f921\"]], \"type\": \"histogram2d\"}], \"histogram2dcontour\": [{\"colorbar\": {\"outlinewidth\": 0, \"ticks\": \"\"}, \"colorscale\": [[0.0, \"#0d0887\"], [0.1111111111111111, \"#46039f\"], [0.2222222222222222, \"#7201a8\"], [0.3333333333333333, \"#9c179e\"], [0.4444444444444444, \"#bd3786\"], [0.5555555555555556, \"#d8576b\"], [0.6666666666666666, \"#ed7953\"], [0.7777777777777778, \"#fb9f3a\"], [0.8888888888888888, \"#fdca26\"], [1.0, \"#f0f921\"]], \"type\": \"histogram2dcontour\"}], \"mesh3d\": [{\"colorbar\": {\"outlinewidth\": 0, \"ticks\": \"\"}, \"type\": \"mesh3d\"}], \"parcoords\": [{\"line\": {\"colorbar\": {\"outlinewidth\": 0, \"ticks\": \"\"}}, \"type\": \"parcoords\"}], \"pie\": [{\"automargin\": true, \"type\": \"pie\"}], \"scatter\": [{\"marker\": {\"colorbar\": {\"outlinewidth\": 0, \"ticks\": \"\"}}, \"type\": \"scatter\"}], \"scatter3d\": [{\"line\": {\"colorbar\": {\"outlinewidth\": 0, \"ticks\": \"\"}}, \"marker\": {\"colorbar\": {\"outlinewidth\": 0, \"ticks\": \"\"}}, \"type\": \"scatter3d\"}], \"scattercarpet\": [{\"marker\": {\"colorbar\": {\"outlinewidth\": 0, \"ticks\": \"\"}}, \"type\": \"scattercarpet\"}], \"scattergeo\": [{\"marker\": {\"colorbar\": {\"outlinewidth\": 0, \"ticks\": \"\"}}, \"type\": \"scattergeo\"}], \"scattergl\": [{\"marker\": {\"colorbar\": {\"outlinewidth\": 0, \"ticks\": \"\"}}, \"type\": \"scattergl\"}], \"scattermapbox\": [{\"marker\": {\"colorbar\": {\"outlinewidth\": 0, \"ticks\": \"\"}}, \"type\": \"scattermapbox\"}], \"scatterpolar\": [{\"marker\": {\"colorbar\": {\"outlinewidth\": 0, \"ticks\": \"\"}}, \"type\": \"scatterpolar\"}], \"scatterpolargl\": [{\"marker\": {\"colorbar\": {\"outlinewidth\": 0, \"ticks\": \"\"}}, \"type\": \"scatterpolargl\"}], \"scatterternary\": [{\"marker\": {\"colorbar\": {\"outlinewidth\": 0, \"ticks\": \"\"}}, \"type\": \"scatterternary\"}], \"surface\": [{\"colorbar\": {\"outlinewidth\": 0, \"ticks\": \"\"}, \"colorscale\": [[0.0, \"#0d0887\"], [0.1111111111111111, \"#46039f\"], [0.2222222222222222, \"#7201a8\"], [0.3333333333333333, \"#9c179e\"], [0.4444444444444444, \"#bd3786\"], [0.5555555555555556, \"#d8576b\"], [0.6666666666666666, \"#ed7953\"], [0.7777777777777778, \"#fb9f3a\"], [0.8888888888888888, \"#fdca26\"], [1.0, \"#f0f921\"]], \"type\": \"surface\"}], \"table\": [{\"cells\": {\"fill\": {\"color\": \"#EBF0F8\"}, \"line\": {\"color\": \"white\"}}, \"header\": {\"fill\": {\"color\": \"#C8D4E3\"}, \"line\": {\"color\": \"white\"}}, \"type\": \"table\"}]}, \"layout\": {\"annotationdefaults\": {\"arrowcolor\": \"#2a3f5f\", \"arrowhead\": 0, \"arrowwidth\": 1}, \"autotypenumbers\": \"strict\", \"coloraxis\": {\"colorbar\": {\"outlinewidth\": 0, \"ticks\": \"\"}}, \"colorscale\": {\"diverging\": [[0, \"#8e0152\"], [0.1, \"#c51b7d\"], [0.2, \"#de77ae\"], [0.3, \"#f1b6da\"], [0.4, \"#fde0ef\"], [0.5, \"#f7f7f7\"], [0.6, \"#e6f5d0\"], [0.7, \"#b8e186\"], [0.8, \"#7fbc41\"], [0.9, \"#4d9221\"], [1, \"#276419\"]], \"sequential\": [[0.0, \"#0d0887\"], [0.1111111111111111, \"#46039f\"], [0.2222222222222222, \"#7201a8\"], [0.3333333333333333, \"#9c179e\"], [0.4444444444444444, \"#bd3786\"], [0.5555555555555556, \"#d8576b\"], [0.6666666666666666, \"#ed7953\"], [0.7777777777777778, \"#fb9f3a\"], [0.8888888888888888, \"#fdca26\"], [1.0, \"#f0f921\"]], \"sequentialminus\": [[0.0, \"#0d0887\"], [0.1111111111111111, \"#46039f\"], [0.2222222222222222, \"#7201a8\"], [0.3333333333333333, \"#9c179e\"], [0.4444444444444444, \"#bd3786\"], [0.5555555555555556, \"#d8576b\"], [0.6666666666666666, \"#ed7953\"], [0.7777777777777778, \"#fb9f3a\"], [0.8888888888888888, \"#fdca26\"], [1.0, \"#f0f921\"]]}, \"colorway\": [\"#636efa\", \"#EF553B\", \"#00cc96\", \"#ab63fa\", \"#FFA15A\", \"#19d3f3\", \"#FF6692\", \"#B6E880\", \"#FF97FF\", \"#FECB52\"], \"font\": {\"color\": \"#2a3f5f\"}, \"geo\": {\"bgcolor\": \"white\", \"lakecolor\": \"white\", \"landcolor\": \"#E5ECF6\", \"showlakes\": true, \"showland\": true, \"subunitcolor\": \"white\"}, \"hoverlabel\": {\"align\": \"left\"}, \"hovermode\": \"closest\", \"mapbox\": {\"style\": \"light\"}, \"paper_bgcolor\": \"white\", \"plot_bgcolor\": \"#E5ECF6\", \"polar\": {\"angularaxis\": {\"gridcolor\": \"white\", \"linecolor\": \"white\", \"ticks\": \"\"}, \"bgcolor\": \"#E5ECF6\", \"radialaxis\": {\"gridcolor\": \"white\", \"linecolor\": \"white\", \"ticks\": \"\"}}, \"scene\": {\"xaxis\": {\"backgroundcolor\": \"#E5ECF6\", \"gridcolor\": \"white\", \"gridwidth\": 2, \"linecolor\": \"white\", \"showbackground\": true, \"ticks\": \"\", \"zerolinecolor\": \"white\"}, \"yaxis\": {\"backgroundcolor\": \"#E5ECF6\", \"gridcolor\": \"white\", \"gridwidth\": 2, \"linecolor\": \"white\", \"showbackground\": true, \"ticks\": \"\", \"zerolinecolor\": \"white\"}, \"zaxis\": {\"backgroundcolor\": \"#E5ECF6\", \"gridcolor\": \"white\", \"gridwidth\": 2, \"linecolor\": \"white\", \"showbackground\": true, \"ticks\": \"\", \"zerolinecolor\": \"white\"}}, \"shapedefaults\": {\"line\": {\"color\": \"#2a3f5f\"}}, \"ternary\": {\"aaxis\": {\"gridcolor\": \"white\", \"linecolor\": \"white\", \"ticks\": \"\"}, \"baxis\": {\"gridcolor\": \"white\", \"linecolor\": \"white\", \"ticks\": \"\"}, \"bgcolor\": \"#E5ECF6\", \"caxis\": {\"gridcolor\": \"white\", \"linecolor\": \"white\", \"ticks\": \"\"}}, \"title\": {\"x\": 0.05}, \"xaxis\": {\"automargin\": true, \"gridcolor\": \"white\", \"linecolor\": \"white\", \"ticks\": \"\", \"title\": {\"standoff\": 15}, \"zerolinecolor\": \"white\", \"zerolinewidth\": 2}, \"yaxis\": {\"automargin\": true, \"gridcolor\": \"white\", \"linecolor\": \"white\", \"ticks\": \"\", \"title\": {\"standoff\": 15}, \"zerolinecolor\": \"white\", \"zerolinewidth\": 2}}}, \"title\": {\"text\": \"Food Product-Related CO<sub>2</sub> Emission of Top 20 Emitters\"}, \"xaxis\": {\"title\": {\"text\": \"Emission (kg CO<sub>2</sub>/person/year)\"}}, \"yaxis\": {\"autorange\": \"reversed\", \"title\": {\"text\": \"Country\"}}},                        {\"responsive\": true}                    ).then(function(){\n",
       "                            \n",
       "var gd = document.getElementById('8f4e05f1-bd7e-4914-9e1c-5bdbf2c9b909');\n",
       "var x = new MutationObserver(function (mutations, observer) {{\n",
       "        var display = window.getComputedStyle(gd).display;\n",
       "        if (!display || display === 'none') {{\n",
       "            console.log([gd, 'removed!']);\n",
       "            Plotly.purge(gd);\n",
       "            observer.disconnect();\n",
       "        }}\n",
       "}});\n",
       "\n",
       "// Listen for the removal of the full notebook cells\n",
       "var notebookContainer = gd.closest('#notebook-container');\n",
       "if (notebookContainer) {{\n",
       "    x.observe(notebookContainer, {childList: true});\n",
       "}}\n",
       "\n",
       "// Listen for the clearing of the current output cell\n",
       "var outputEl = gd.closest('.output');\n",
       "if (outputEl) {{\n",
       "    x.observe(outputEl, {childList: true});\n",
       "}}\n",
       "\n",
       "                        })                };                });            </script>        </div>"
      ]
     },
     "metadata": {},
     "output_type": "display_data"
    }
   ],
   "source": [
    "fig = go.Figure(data = [\n",
    "    go.Bar(orientation = 'h',\n",
    "          y = sorted_co2_data['country'],\n",
    "          x = sorted_co2_data['Beef'],\n",
    "          name = 'Beef'),\n",
    "    go.Bar(orientation = 'h',\n",
    "          y = sorted_co2_data['country'],\n",
    "          x = sorted_co2_data['Eggs'],\n",
    "          name = 'Eggs'),\n",
    "    go.Bar(orientation = 'h',\n",
    "          y = sorted_co2_data['country'],\n",
    "          x = sorted_co2_data['Fish'],\n",
    "          name = 'Fish'),\n",
    "    go.Bar(orientation = 'h',\n",
    "          y = sorted_co2_data['country'],\n",
    "          x = sorted_co2_data['Lamb & Goat'],\n",
    "          name = 'Lamb & Goat'),\n",
    "    go.Bar(orientation = 'h',\n",
    "          y = sorted_co2_data['country'],\n",
    "          x = sorted_co2_data['Milk & Cheese'],\n",
    "          name = 'Milk & Cheese'),\n",
    "    go.Bar(orientation = 'h',\n",
    "          y = sorted_co2_data['country'],\n",
    "          x = sorted_co2_data['Pork'],\n",
    "          name = 'Pork'),\n",
    "    go.Bar(orientation = 'h',\n",
    "          y = sorted_co2_data['country'],\n",
    "          x = sorted_co2_data['Poultry'],\n",
    "          name = 'Poultry'),\n",
    "    go.Bar(orientation = 'h',\n",
    "          y = sorted_co2_data['country'],\n",
    "          x = sorted_co2_data['Nuts & Peanut Butter'],\n",
    "          name = 'Nuts & Peanut Butter'),\n",
    "    go.Bar(orientation = 'h',\n",
    "          y = sorted_co2_data['country'],\n",
    "          x = sorted_co2_data['Rice'],\n",
    "          name = 'Rice'),\n",
    "    go.Bar(orientation = 'h',\n",
    "          y = sorted_co2_data['country'],\n",
    "          x = sorted_co2_data['Soybeans'],\n",
    "          name = 'Soybeans'),\n",
    "    go.Bar(orientation = 'h',\n",
    "          y = sorted_co2_data['country'],\n",
    "          x = sorted_co2_data['Wheat & Wheat Products'],\n",
    "          name = 'Wheat & Wheat Products',\n",
    "          marker_color = 'sandybrown')\n",
    "])\n",
    "\n",
    "fig.update_layout(barmode = 'stack',\n",
    "                 yaxis = dict(autorange = 'reversed'),\n",
    "                 title = \"Food Product-Related CO<sub>2</sub> Emission of Top 20 Emitters\",\n",
    "                 xaxis_title = \"Emission (kg CO<sub>2</sub>/person/year)\",\n",
    "                 yaxis_title = \"Country\")\n",
    "\n",
    "fig.show()"
   ]
  },
  {
   "cell_type": "markdown",
   "metadata": {},
   "source": [
    "Beef and milk and cheese are the primary contributory products to emission although the proportion of emission due to the latter is less pronounced compared to their consumption. It may be fitting to point out that both of these food products are derived from cows. Their high carbon footprint compared to other food products is unsurprising; as Quinton (2019) of the University of California, Davis, pointed out, cattle (to which cows belong) are the foremost agricultural sources of greenhouse gases due to the high \"hoofprint\" of their belches and feces."
   ]
  },
  {
   "cell_type": "markdown",
   "metadata": {},
   "source": [
    "<hr/>"
   ]
  },
  {
   "cell_type": "markdown",
   "metadata": {},
   "source": [
    "## B. Philippine Context"
   ]
  },
  {
   "cell_type": "markdown",
   "metadata": {},
   "source": [
    "It may also be interesting to take a look at how our country (the Philippines) is situated in these global statistics. "
   ]
  },
  {
   "cell_type": "markdown",
   "metadata": {},
   "source": [
    "### 1. Consumption"
   ]
  },
  {
   "cell_type": "code",
   "execution_count": 22,
   "metadata": {},
   "outputs": [
    {
     "data": {
      "text/html": [
       "<div>\n",
       "<style scoped>\n",
       "    .dataframe tbody tr th:only-of-type {\n",
       "        vertical-align: middle;\n",
       "    }\n",
       "\n",
       "    .dataframe tbody tr th {\n",
       "        vertical-align: top;\n",
       "    }\n",
       "\n",
       "    .dataframe thead th {\n",
       "        text-align: right;\n",
       "    }\n",
       "</style>\n",
       "<table border=\"1\" class=\"dataframe\">\n",
       "  <thead>\n",
       "    <tr style=\"text-align: right;\">\n",
       "      <th>food_category</th>\n",
       "      <th>country</th>\n",
       "      <th>Beef</th>\n",
       "      <th>Eggs</th>\n",
       "      <th>Fish</th>\n",
       "      <th>Lamb &amp; Goat</th>\n",
       "      <th>Milk &amp; Cheese</th>\n",
       "      <th>Nuts &amp; Peanut Butter</th>\n",
       "      <th>Pork</th>\n",
       "      <th>Poultry</th>\n",
       "      <th>Rice</th>\n",
       "      <th>Soybeans</th>\n",
       "      <th>Wheat &amp; Wheat Products</th>\n",
       "      <th>TOTAL</th>\n",
       "    </tr>\n",
       "  </thead>\n",
       "  <tbody>\n",
       "    <tr>\n",
       "      <th>93</th>\n",
       "      <td>Philippines</td>\n",
       "      <td>4.06</td>\n",
       "      <td>4.02</td>\n",
       "      <td>28.51</td>\n",
       "      <td>0.56</td>\n",
       "      <td>15.66</td>\n",
       "      <td>2.08</td>\n",
       "      <td>18.4</td>\n",
       "      <td>11.91</td>\n",
       "      <td>119.44</td>\n",
       "      <td>0.03</td>\n",
       "      <td>23.12</td>\n",
       "      <td>227.79</td>\n",
       "    </tr>\n",
       "  </tbody>\n",
       "</table>\n",
       "</div>"
      ],
      "text/plain": [
       "food_category      country  Beef  Eggs   Fish  Lamb & Goat  Milk & Cheese  \\\n",
       "93             Philippines  4.06  4.02  28.51         0.56          15.66   \n",
       "\n",
       "food_category  Nuts & Peanut Butter  Pork  Poultry    Rice  Soybeans  \\\n",
       "93                             2.08  18.4    11.91  119.44      0.03   \n",
       "\n",
       "food_category  Wheat & Wheat Products   TOTAL  \n",
       "93                              23.12  227.79  "
      ]
     },
     "execution_count": 22,
     "metadata": {},
     "output_type": "execute_result"
    }
   ],
   "source": [
    "ph_data = country_data.loc[country_data['country'] == 'Philippines']\n",
    "ph_data"
   ]
  },
  {
   "cell_type": "markdown",
   "metadata": {},
   "source": [
    "The Philippines is 94<sup>th</sup> in terms of consumption of food products.\n",
    "\n",
    "Among these, the top three food products consumed are rice, fish, and wheat and wheat products. *Under the hood, we convert the total figures to percentages for a more efficient generation of the data visualization.*"
   ]
  },
  {
   "cell_type": "code",
   "execution_count": 23,
   "metadata": {},
   "outputs": [],
   "source": [
    "ph_rice = round(float(ph_data['Rice'] * 100 / ph_data['TOTAL']))\n",
    "ph_fish = round(float(ph_data['Fish'] * 100 / ph_data['TOTAL']))\n",
    "ph_wheat = float(ph_data['Wheat & Wheat Products'] * 100 / ph_data['TOTAL'])\n",
    "\n",
    "ph_others = 100 - ph_rice - ph_fish - ph_wheat"
   ]
  },
  {
   "cell_type": "markdown",
   "metadata": {},
   "source": [
    "The waffle chart below shows that around 52% of our total consumption can be ascribed to rice, 13% to fish, 10% to wheat and wheat products, and 25% to the remaining food categories."
   ]
  },
  {
   "cell_type": "code",
   "execution_count": 24,
   "metadata": {},
   "outputs": [
    {
     "data": {
      "image/png": "[encoded data removed]",
      "text/plain": [
       "<Waffle size 432x288 with 1 Axes>"
      ]
     },
     "metadata": {
      "needs_background": "light"
     },
     "output_type": "display_data"
    }
   ],
   "source": [
    "fig = plt.figure(\n",
    "    FigureClass = Waffle,\n",
    "    rows = 10,\n",
    "    columns = 10,\n",
    "    values = [ph_rice, ph_fish, ph_wheat, ph_others],\n",
    "    icons = ['seedling', 'fish', 'square', 'circle'],\n",
    "    colors = ['salmon', '#CCCC00', 'lightsalmon', 'olive'],\n",
    "    font_size = 20,\n",
    "    legend = {\n",
    "        'labels': ['Rice', 'Fish', 'Wheat & Wheat Products', 'Others'], \n",
    "        'loc': 'upper left', \n",
    "        'bbox_to_anchor': (1.25, 1)\n",
    "    },\n",
    "    title={\n",
    "        'label': 'Food Consumption in the Philippines',\n",
    "        'loc': 'left',\n",
    "        'fontdict': {\n",
    "            'fontsize': 14\n",
    "        }\n",
    "    }\n",
    ")"
   ]
  },
  {
   "cell_type": "markdown",
   "metadata": {},
   "source": [
    "### 2. Carbon Dioxide Emission"
   ]
  },
  {
   "cell_type": "code",
   "execution_count": 25,
   "metadata": {},
   "outputs": [
    {
     "data": {
      "text/html": [
       "<div>\n",
       "<style scoped>\n",
       "    .dataframe tbody tr th:only-of-type {\n",
       "        vertical-align: middle;\n",
       "    }\n",
       "\n",
       "    .dataframe tbody tr th {\n",
       "        vertical-align: top;\n",
       "    }\n",
       "\n",
       "    .dataframe thead th {\n",
       "        text-align: right;\n",
       "    }\n",
       "</style>\n",
       "<table border=\"1\" class=\"dataframe\">\n",
       "  <thead>\n",
       "    <tr style=\"text-align: right;\">\n",
       "      <th>food_category</th>\n",
       "      <th>country</th>\n",
       "      <th>Beef</th>\n",
       "      <th>Eggs</th>\n",
       "      <th>Fish</th>\n",
       "      <th>Lamb &amp; Goat</th>\n",
       "      <th>Milk &amp; Cheese</th>\n",
       "      <th>Nuts &amp; Peanut Butter</th>\n",
       "      <th>Pork</th>\n",
       "      <th>Poultry</th>\n",
       "      <th>Rice</th>\n",
       "      <th>Soybeans</th>\n",
       "      <th>Wheat &amp; Wheat Products</th>\n",
       "      <th>TOTAL</th>\n",
       "    </tr>\n",
       "  </thead>\n",
       "  <tbody>\n",
       "    <tr>\n",
       "      <th>93</th>\n",
       "      <td>Philippines</td>\n",
       "      <td>125.28</td>\n",
       "      <td>3.69</td>\n",
       "      <td>45.52</td>\n",
       "      <td>19.61</td>\n",
       "      <td>22.31</td>\n",
       "      <td>3.68</td>\n",
       "      <td>65.13</td>\n",
       "      <td>12.79</td>\n",
       "      <td>152.85</td>\n",
       "      <td>0.01</td>\n",
       "      <td>4.41</td>\n",
       "      <td>455.28</td>\n",
       "    </tr>\n",
       "  </tbody>\n",
       "</table>\n",
       "</div>"
      ],
      "text/plain": [
       "food_category      country    Beef  Eggs   Fish  Lamb & Goat  Milk & Cheese  \\\n",
       "93             Philippines  125.28  3.69  45.52        19.61          22.31   \n",
       "\n",
       "food_category  Nuts & Peanut Butter   Pork  Poultry    Rice  Soybeans  \\\n",
       "93                             3.68  65.13    12.79  152.85      0.01   \n",
       "\n",
       "food_category  Wheat & Wheat Products   TOTAL  \n",
       "93                               4.41  455.28  "
      ]
     },
     "execution_count": 25,
     "metadata": {},
     "output_type": "execute_result"
    }
   ],
   "source": [
    "ph_co2_data = co2_data.loc[country_data['country'] == 'Philippines']\n",
    "ph_co2_data"
   ]
  },
  {
   "cell_type": "markdown",
   "metadata": {},
   "source": [
    "The Philippines is also 94<sup>th</sup> in terms of carbon dioxide emission.\n",
    "\n",
    "Among these, the top three food products associated with emissions are rice, beef, and wheat and pork. *Under the hood, we convert the total figures to percentages for a more efficient generation of the data visualization.*"
   ]
  },
  {
   "cell_type": "code",
   "execution_count": 26,
   "metadata": {},
   "outputs": [],
   "source": [
    "ph_co2_rice = round(float(ph_co2_data['Rice'] * 100 / ph_co2_data['TOTAL']))\n",
    "ph_co2_beef = round(float(ph_co2_data['Beef'] * 100 / ph_co2_data['TOTAL']))\n",
    "ph_co2_pork = float(ph_co2_data['Pork'] * 100 / ph_co2_data['TOTAL'])\n",
    "\n",
    "ph_co2_others = 100 - ph_co2_rice - ph_co2_beef - ph_co2_pork"
   ]
  },
  {
   "cell_type": "markdown",
   "metadata": {},
   "source": [
    "The waffle chart below shows that around 34% of our total carbon dioxide emission can be ascribed to rice, 28% to beef, 14% to pork, and 24% to the remaining food categories."
   ]
  },
  {
   "cell_type": "code",
   "execution_count": 27,
   "metadata": {},
   "outputs": [
    {
     "data": {
      "image/png": "[encoded data removed]",
      "text/plain": [
       "<Waffle size 432x288 with 1 Axes>"
      ]
     },
     "metadata": {
      "needs_background": "light"
     },
     "output_type": "display_data"
    }
   ],
   "source": [
    "fig = plt.figure(\n",
    "    FigureClass = Waffle,\n",
    "    rows = 10,\n",
    "    columns = 10,\n",
    "    values = [ph_co2_rice, ph_co2_beef, ph_co2_pork, ph_co2_others],\n",
    "    icons = ['seedling', 'paw', 'piggy-bank', 'circle'],\n",
    "    colors = ['salmon', '#CCCC00', 'lightsalmon', 'olive'],\n",
    "    font_size = 20,\n",
    "    legend = {\n",
    "        'labels': ['Rice', 'Beef', 'Pork', 'Others'], \n",
    "        'loc': 'upper left', \n",
    "        'bbox_to_anchor': (1.25, 1)\n",
    "    },\n",
    "    title={\n",
    "        'label': 'Food Product-Related Carbon Dioxide Emission in the Philippines',\n",
    "        'loc': 'left',\n",
    "        'fontdict': {\n",
    "            'fontsize': 14\n",
    "        }\n",
    "    }\n",
    ")"
   ]
  },
  {
   "cell_type": "markdown",
   "metadata": {},
   "source": [
    "These proportions are explained by the fact that rice is the staple of Filipinos. Although it can sequester carbon dioxide to an extent, it is also known to produce other greenhouse gases, particularly methane (especially when it is grown on flooded plots). \n",
    "\n",
    "From a global lens, the conducted data analysis showed that the Philippines is the 6th highest emitter of plant-based food product-related carbon dioxide at 160.95 kg CO2/person/year. In addition, in the ten countries that recorded the highest emission related to plant-based food products &mdash; most of which are also in Southeast Asia &mdash; emission due to rice far outweighs the others, with close to 98% of the gross emission attributed to the said crop."
   ]
  },
  {
   "cell_type": "markdown",
   "metadata": {},
   "source": [
    "<hr/>"
   ]
  },
  {
   "cell_type": "markdown",
   "metadata": {},
   "source": [
    "## C. Animal-Based vs. Plant-Based Food Sources"
   ]
  },
  {
   "cell_type": "markdown",
   "metadata": {},
   "source": [
    "One of the angles explored in this project is the potential relationship between the food source and the gross carbon dioxide emission. In the data analysis phase, we have established via Pearson's *r* that there exists a very high positive correlation between the predominant food source of a country (that is, its \"inclination\" to plants as the predominant source) and its carbon dioxide emission, as can be gleaned visually in the scatterplot below:"
   ]
  },
  {
   "cell_type": "markdown",
   "metadata": {},
   "source": [
    "*Note that this is an interactive plot. Hovering allows for a more granular look at the data.*"
   ]
  },
  {
   "cell_type": "code",
   "execution_count": 28,
   "metadata": {},
   "outputs": [
    {
     "data": {
      "application/vnd.plotly.v1+json": {
       "config": {
        "plotlyServerURL": "https://plot.ly"
       },
       "data": [
        {
         "mode": "markers",
         "type": "scatter",
         "x": [
          1689.6099999999997,
          622.2,
          368.2099999999999,
          2108.9,
          1042.9500000000003,
          1852.46,
          1141,
          1101.98,
          -75.08000000000004,
          809.1500000000001,
          916.8600000000001,
          1011.3899999999998,
          318.26,
          1428.14,
          752.4700000000001,
          579.26,
          539.3599999999999,
          1508.6299999999997,
          500.15999999999997,
          35.849999999999966,
          180.49,
          1343.18,
          1029.0700000000002,
          390.0099999999999,
          696.1700000000001,
          753.0699999999999,
          934.99,
          391.05,
          680.65,
          703.0100000000001,
          1427.0600000000002,
          750.12,
          509.1200000000001,
          391.7,
          774.8599999999999,
          219.56,
          562.3299999999999,
          1409.81,
          1347.0900000000001,
          1298.4299999999998,
          102.25999999999998,
          449.19,
          996.9499999999999,
          110.69000000000003,
          1395.79,
          392.03000000000003,
          279.44000000000005,
          162.41,
          380.2800000000001,
          1311.34,
          527.0899999999999,
          1679.74,
          74.50000000000001,
          -5.14999999999992,
          267.09,
          1396.0700000000004,
          1293.01,
          1108.7899999999997,
          357.40999999999997,
          457.92,
          472.84,
          1502.9199999999998,
          478.52,
          1177.78,
          586.98,
          -48.5,
          807.1,
          1544.97,
          532.3699999999999,
          173.65,
          171.74,
          316.92,
          687.7400000000001,
          1062.03,
          503.4700000000001,
          760.37,
          493.6199999999999,
          66.64,
          205.26,
          329.57,
          273.8400000000001,
          1230.36,
          831.74,
          1668.6699999999998,
          247.68999999999994,
          482.7699999999999,
          160.71000000000004,
          1314.89,
          1121.4,
          591.43,
          736.7,
          846.4300000000002,
          252.5,
          133.38,
          555.5,
          1086.44,
          194.10999999999999,
          701.86,
          939.86,
          151.25,
          555.08,
          255.90999999999997,
          668.1199999999999,
          12.98999999999998,
          492.7,
          1042.64,
          820.0900000000001,
          559.85,
          905.01,
          -4.339999999999975,
          587.34,
          1459.2299999999998,
          1283.1699999999998,
          375.45,
          262.1,
          73.35999999999999,
          103.95,
          520.67,
          516.69,
          774.9499999999999,
          275.64000000000004,
          608.4499999999999,
          633.1200000000001,
          1172.81,
          1642.72,
          1560.4099999999999,
          1024.24,
          240.10999999999999,
          188.4600000000001,
          304.22999999999996
         ],
         "y": [
          1777.85,
          707.8800000000001,
          412.9899999999999,
          2172.4,
          1109.9300000000003,
          1938.6599999999999,
          1211.1599999999999,
          1192.9,
          374.18,
          889.1100000000001,
          960.22,
          1102.0899999999997,
          433.08000000000004,
          1483.28,
          873.0300000000001,
          628.1800000000001,
          576.8399999999999,
          1616.7299999999996,
          560.16,
          452.40999999999997,
          283.61,
          1437.16,
          1099.5700000000002,
          640.1899999999999,
          781.53,
          891.27,
          996.1500000000001,
          591.69,
          741.37,
          760.09,
          1498.18,
          883.88,
          673.9200000000001,
          434.04,
          830.7199999999998,
          241.92000000000002,
          716.0899999999999,
          1464.63,
          1420.0500000000002,
          1424.69,
          293.65999999999997,
          527.03,
          1066.29,
          217.87000000000003,
          1497.29,
          439.8500000000001,
          314.98,
          432.71000000000004,
          434.08000000000004,
          1494.28,
          576.79,
          1731.36,
          282.62000000000006,
          367.51,
          445.2699999999999,
          1459.6700000000003,
          1405.7099999999998,
          1206.3299999999997,
          450.83000000000004,
          644.04,
          587.96,
          1575.0799999999997,
          530.8399999999999,
          1345.4399999999998,
          633.5799999999999,
          203.38,
          868.9,
          1598.41,
          600.75,
          440.75,
          207.94,
          554.64,
          903.4600000000002,
          1147.91,
          672.07,
          797.13,
          576.4199999999998,
          141.39999999999998,
          563.8,
          362.10999999999996,
          526.2200000000001,
          1292.82,
          918.6200000000001,
          1750.95,
          377.68999999999994,
          542.8899999999999,
          267.79,
          1381.89,
          1296.6999999999998,
          669.07,
          928.46,
          876.6700000000002,
          402.84000000000003,
          455.2800000000001,
          607.4000000000001,
          1174.2800000000002,
          262.55,
          766.3000000000001,
          1007.66,
          181.63,
          692.86,
          469.42999999999995,
          723.3399999999999,
          300.40999999999997,
          560.34,
          1111.5600000000002,
          892.4100000000001,
          822.0500000000001,
          988.47,
          294.46000000000004,
          678.9399999999999,
          1527.03,
          1356.7499999999998,
          559.55,
          343.02,
          378,
          188.09000000000003,
          610.41,
          618.8900000000001,
          897.0099999999999,
          304.7200000000001,
          665.7299999999999,
          897.3200000000002,
          1241.63,
          1718.86,
          1634.9099999999999,
          1104.1000000000001,
          641.51,
          225.30000000000007,
          350.33
         ]
        }
       ],
       "layout": {
        "template": {
         "data": {
          "bar": [
           {
            "error_x": {
             "color": "#2a3f5f"
            },
            "error_y": {
             "color": "#2a3f5f"
            },
            "marker": {
             "line": {
              "color": "#E5ECF6",
              "width": 0.5
             }
            },
            "type": "bar"
           }
          ],
          "barpolar": [
           {
            "marker": {
             "line": {
              "color": "#E5ECF6",
              "width": 0.5
             }
            },
            "type": "barpolar"
           }
          ],
          "carpet": [
           {
            "aaxis": {
             "endlinecolor": "#2a3f5f",
             "gridcolor": "white",
             "linecolor": "white",
             "minorgridcolor": "white",
             "startlinecolor": "#2a3f5f"
            },
            "baxis": {
             "endlinecolor": "#2a3f5f",
             "gridcolor": "white",
             "linecolor": "white",
             "minorgridcolor": "white",
             "startlinecolor": "#2a3f5f"
            },
            "type": "carpet"
           }
          ],
          "choropleth": [
           {
            "colorbar": {
             "outlinewidth": 0,
             "ticks": ""
            },
            "type": "choropleth"
           }
          ],
          "contour": [
           {
            "colorbar": {
             "outlinewidth": 0,
             "ticks": ""
            },
            "colorscale": [
             [
              0,
              "#0d0887"
             ],
             [
              0.1111111111111111,
              "#46039f"
             ],
             [
              0.2222222222222222,
              "#7201a8"
             ],
             [
              0.3333333333333333,
              "#9c179e"
             ],
             [
              0.4444444444444444,
              "#bd3786"
             ],
             [
              0.5555555555555556,
              "#d8576b"
             ],
             [
              0.6666666666666666,
              "#ed7953"
             ],
             [
              0.7777777777777778,
              "#fb9f3a"
             ],
             [
              0.8888888888888888,
              "#fdca26"
             ],
             [
              1,
              "#f0f921"
             ]
            ],
            "type": "contour"
           }
          ],
          "contourcarpet": [
           {
            "colorbar": {
             "outlinewidth": 0,
             "ticks": ""
            },
            "type": "contourcarpet"
           }
          ],
          "heatmap": [
           {
            "colorbar": {
             "outlinewidth": 0,
             "ticks": ""
            },
            "colorscale": [
             [
              0,
              "#0d0887"
             ],
             [
              0.1111111111111111,
              "#46039f"
             ],
             [
              0.2222222222222222,
              "#7201a8"
             ],
             [
              0.3333333333333333,
              "#9c179e"
             ],
             [
              0.4444444444444444,
              "#bd3786"
             ],
             [
              0.5555555555555556,
              "#d8576b"
             ],
             [
              0.6666666666666666,
              "#ed7953"
             ],
             [
              0.7777777777777778,
              "#fb9f3a"
             ],
             [
              0.8888888888888888,
              "#fdca26"
             ],
             [
              1,
              "#f0f921"
             ]
            ],
            "type": "heatmap"
           }
          ],
          "heatmapgl": [
           {
            "colorbar": {
             "outlinewidth": 0,
             "ticks": ""
            },
            "colorscale": [
             [
              0,
              "#0d0887"
             ],
             [
              0.1111111111111111,
              "#46039f"
             ],
             [
              0.2222222222222222,
              "#7201a8"
             ],
             [
              0.3333333333333333,
              "#9c179e"
             ],
             [
              0.4444444444444444,
              "#bd3786"
             ],
             [
              0.5555555555555556,
              "#d8576b"
             ],
             [
              0.6666666666666666,
              "#ed7953"
             ],
             [
              0.7777777777777778,
              "#fb9f3a"
             ],
             [
              0.8888888888888888,
              "#fdca26"
             ],
             [
              1,
              "#f0f921"
             ]
            ],
            "type": "heatmapgl"
           }
          ],
          "histogram": [
           {
            "marker": {
             "colorbar": {
              "outlinewidth": 0,
              "ticks": ""
             }
            },
            "type": "histogram"
           }
          ],
          "histogram2d": [
           {
            "colorbar": {
             "outlinewidth": 0,
             "ticks": ""
            },
            "colorscale": [
             [
              0,
              "#0d0887"
             ],
             [
              0.1111111111111111,
              "#46039f"
             ],
             [
              0.2222222222222222,
              "#7201a8"
             ],
             [
              0.3333333333333333,
              "#9c179e"
             ],
             [
              0.4444444444444444,
              "#bd3786"
             ],
             [
              0.5555555555555556,
              "#d8576b"
             ],
             [
              0.6666666666666666,
              "#ed7953"
             ],
             [
              0.7777777777777778,
              "#fb9f3a"
             ],
             [
              0.8888888888888888,
              "#fdca26"
             ],
             [
              1,
              "#f0f921"
             ]
            ],
            "type": "histogram2d"
           }
          ],
          "histogram2dcontour": [
           {
            "colorbar": {
             "outlinewidth": 0,
             "ticks": ""
            },
            "colorscale": [
             [
              0,
              "#0d0887"
             ],
             [
              0.1111111111111111,
              "#46039f"
             ],
             [
              0.2222222222222222,
              "#7201a8"
             ],
             [
              0.3333333333333333,
              "#9c179e"
             ],
             [
              0.4444444444444444,
              "#bd3786"
             ],
             [
              0.5555555555555556,
              "#d8576b"
             ],
             [
              0.6666666666666666,
              "#ed7953"
             ],
             [
              0.7777777777777778,
              "#fb9f3a"
             ],
             [
              0.8888888888888888,
              "#fdca26"
             ],
             [
              1,
              "#f0f921"
             ]
            ],
            "type": "histogram2dcontour"
           }
          ],
          "mesh3d": [
           {
            "colorbar": {
             "outlinewidth": 0,
             "ticks": ""
            },
            "type": "mesh3d"
           }
          ],
          "parcoords": [
           {
            "line": {
             "colorbar": {
              "outlinewidth": 0,
              "ticks": ""
             }
            },
            "type": "parcoords"
           }
          ],
          "pie": [
           {
            "automargin": true,
            "type": "pie"
           }
          ],
          "scatter": [
           {
            "marker": {
             "colorbar": {
              "outlinewidth": 0,
              "ticks": ""
             }
            },
            "type": "scatter"
           }
          ],
          "scatter3d": [
           {
            "line": {
             "colorbar": {
              "outlinewidth": 0,
              "ticks": ""
             }
            },
            "marker": {
             "colorbar": {
              "outlinewidth": 0,
              "ticks": ""
             }
            },
            "type": "scatter3d"
           }
          ],
          "scattercarpet": [
           {
            "marker": {
             "colorbar": {
              "outlinewidth": 0,
              "ticks": ""
             }
            },
            "type": "scattercarpet"
           }
          ],
          "scattergeo": [
           {
            "marker": {
             "colorbar": {
              "outlinewidth": 0,
              "ticks": ""
             }
            },
            "type": "scattergeo"
           }
          ],
          "scattergl": [
           {
            "marker": {
             "colorbar": {
              "outlinewidth": 0,
              "ticks": ""
             }
            },
            "type": "scattergl"
           }
          ],
          "scattermapbox": [
           {
            "marker": {
             "colorbar": {
              "outlinewidth": 0,
              "ticks": ""
             }
            },
            "type": "scattermapbox"
           }
          ],
          "scatterpolar": [
           {
            "marker": {
             "colorbar": {
              "outlinewidth": 0,
              "ticks": ""
             }
            },
            "type": "scatterpolar"
           }
          ],
          "scatterpolargl": [
           {
            "marker": {
             "colorbar": {
              "outlinewidth": 0,
              "ticks": ""
             }
            },
            "type": "scatterpolargl"
           }
          ],
          "scatterternary": [
           {
            "marker": {
             "colorbar": {
              "outlinewidth": 0,
              "ticks": ""
             }
            },
            "type": "scatterternary"
           }
          ],
          "surface": [
           {
            "colorbar": {
             "outlinewidth": 0,
             "ticks": ""
            },
            "colorscale": [
             [
              0,
              "#0d0887"
             ],
             [
              0.1111111111111111,
              "#46039f"
             ],
             [
              0.2222222222222222,
              "#7201a8"
             ],
             [
              0.3333333333333333,
              "#9c179e"
             ],
             [
              0.4444444444444444,
              "#bd3786"
             ],
             [
              0.5555555555555556,
              "#d8576b"
             ],
             [
              0.6666666666666666,
              "#ed7953"
             ],
             [
              0.7777777777777778,
              "#fb9f3a"
             ],
             [
              0.8888888888888888,
              "#fdca26"
             ],
             [
              1,
              "#f0f921"
             ]
            ],
            "type": "surface"
           }
          ],
          "table": [
           {
            "cells": {
             "fill": {
              "color": "#EBF0F8"
             },
             "line": {
              "color": "white"
             }
            },
            "header": {
             "fill": {
              "color": "#C8D4E3"
             },
             "line": {
              "color": "white"
             }
            },
            "type": "table"
           }
          ]
         },
         "layout": {
          "annotationdefaults": {
           "arrowcolor": "#2a3f5f",
           "arrowhead": 0,
           "arrowwidth": 1
          },
          "autotypenumbers": "strict",
          "coloraxis": {
           "colorbar": {
            "outlinewidth": 0,
            "ticks": ""
           }
          },
          "colorscale": {
           "diverging": [
            [
             0,
             "#8e0152"
            ],
            [
             0.1,
             "#c51b7d"
            ],
            [
             0.2,
             "#de77ae"
            ],
            [
             0.3,
             "#f1b6da"
            ],
            [
             0.4,
             "#fde0ef"
            ],
            [
             0.5,
             "#f7f7f7"
            ],
            [
             0.6,
             "#e6f5d0"
            ],
            [
             0.7,
             "#b8e186"
            ],
            [
             0.8,
             "#7fbc41"
            ],
            [
             0.9,
             "#4d9221"
            ],
            [
             1,
             "#276419"
            ]
           ],
           "sequential": [
            [
             0,
             "#0d0887"
            ],
            [
             0.1111111111111111,
             "#46039f"
            ],
            [
             0.2222222222222222,
             "#7201a8"
            ],
            [
             0.3333333333333333,
             "#9c179e"
            ],
            [
             0.4444444444444444,
             "#bd3786"
            ],
            [
             0.5555555555555556,
             "#d8576b"
            ],
            [
             0.6666666666666666,
             "#ed7953"
            ],
            [
             0.7777777777777778,
             "#fb9f3a"
            ],
            [
             0.8888888888888888,
             "#fdca26"
            ],
            [
             1,
             "#f0f921"
            ]
           ],
           "sequentialminus": [
            [
             0,
             "#0d0887"
            ],
            [
             0.1111111111111111,
             "#46039f"
            ],
            [
             0.2222222222222222,
             "#7201a8"
            ],
            [
             0.3333333333333333,
             "#9c179e"
            ],
            [
             0.4444444444444444,
             "#bd3786"
            ],
            [
             0.5555555555555556,
             "#d8576b"
            ],
            [
             0.6666666666666666,
             "#ed7953"
            ],
            [
             0.7777777777777778,
             "#fb9f3a"
            ],
            [
             0.8888888888888888,
             "#fdca26"
            ],
            [
             1,
             "#f0f921"
            ]
           ]
          },
          "colorway": [
           "#636efa",
           "#EF553B",
           "#00cc96",
           "#ab63fa",
           "#FFA15A",
           "#19d3f3",
           "#FF6692",
           "#B6E880",
           "#FF97FF",
           "#FECB52"
          ],
          "font": {
           "color": "#2a3f5f"
          },
          "geo": {
           "bgcolor": "white",
           "lakecolor": "white",
           "landcolor": "#E5ECF6",
           "showlakes": true,
           "showland": true,
           "subunitcolor": "white"
          },
          "hoverlabel": {
           "align": "left"
          },
          "hovermode": "closest",
          "mapbox": {
           "style": "light"
          },
          "paper_bgcolor": "white",
          "plot_bgcolor": "#E5ECF6",
          "polar": {
           "angularaxis": {
            "gridcolor": "white",
            "linecolor": "white",
            "ticks": ""
           },
           "bgcolor": "#E5ECF6",
           "radialaxis": {
            "gridcolor": "white",
            "linecolor": "white",
            "ticks": ""
           }
          },
          "scene": {
           "xaxis": {
            "backgroundcolor": "#E5ECF6",
            "gridcolor": "white",
            "gridwidth": 2,
            "linecolor": "white",
            "showbackground": true,
            "ticks": "",
            "zerolinecolor": "white"
           },
           "yaxis": {
            "backgroundcolor": "#E5ECF6",
            "gridcolor": "white",
            "gridwidth": 2,
            "linecolor": "white",
            "showbackground": true,
            "ticks": "",
            "zerolinecolor": "white"
           },
           "zaxis": {
            "backgroundcolor": "#E5ECF6",
            "gridcolor": "white",
            "gridwidth": 2,
            "linecolor": "white",
            "showbackground": true,
            "ticks": "",
            "zerolinecolor": "white"
           }
          },
          "shapedefaults": {
           "line": {
            "color": "#2a3f5f"
           }
          },
          "ternary": {
           "aaxis": {
            "gridcolor": "white",
            "linecolor": "white",
            "ticks": ""
           },
           "baxis": {
            "gridcolor": "white",
            "linecolor": "white",
            "ticks": ""
           },
           "bgcolor": "#E5ECF6",
           "caxis": {
            "gridcolor": "white",
            "linecolor": "white",
            "ticks": ""
           }
          },
          "title": {
           "x": 0.05
          },
          "xaxis": {
           "automargin": true,
           "gridcolor": "white",
           "linecolor": "white",
           "ticks": "",
           "title": {
            "standoff": 15
           },
           "zerolinecolor": "white",
           "zerolinewidth": 2
          },
          "yaxis": {
           "automargin": true,
           "gridcolor": "white",
           "linecolor": "white",
           "ticks": "",
           "title": {
            "standoff": 15
           },
           "zerolinecolor": "white",
           "zerolinewidth": 2
          }
         }
        },
        "title": {
         "text": "Total Country-Level Emission versus Animal-to-Plant-Based Emission Difference"
        },
        "xaxis": {
         "title": {
          "text": "Total Country-Level Emission (kg CO<sub>2</sub>/person/year)"
         }
        },
        "yaxis": {
         "title": {
          "text": "Animal-to-Plant-Based Emission Difference (kg CO<sub>2</sub>/person/year)"
         }
        }
       }
      },
      "text/html": [
       "<div>                            <div id=\"e4d9bd97-ba9f-4765-b596-80d9ee17a7ac\" class=\"plotly-graph-div\" style=\"height:525px; width:100%;\"></div>            <script type=\"text/javascript\">                require([\"plotly\"], function(Plotly) {                    window.PLOTLYENV=window.PLOTLYENV || {};                                    if (document.getElementById(\"e4d9bd97-ba9f-4765-b596-80d9ee17a7ac\")) {                    Plotly.newPlot(                        \"e4d9bd97-ba9f-4765-b596-80d9ee17a7ac\",                        [{\"mode\": \"markers\", \"type\": \"scatter\", \"x\": [1689.6099999999997, 622.2, 368.2099999999999, 2108.9, 1042.9500000000003, 1852.46, 1141.0, 1101.98, -75.08000000000004, 809.1500000000001, 916.8600000000001, 1011.3899999999998, 318.26, 1428.14, 752.4700000000001, 579.26, 539.3599999999999, 1508.6299999999997, 500.15999999999997, 35.849999999999966, 180.49, 1343.18, 1029.0700000000002, 390.0099999999999, 696.1700000000001, 753.0699999999999, 934.99, 391.05, 680.65, 703.0100000000001, 1427.0600000000002, 750.12, 509.1200000000001, 391.7, 774.8599999999999, 219.56, 562.3299999999999, 1409.81, 1347.0900000000001, 1298.4299999999998, 102.25999999999998, 449.19, 996.9499999999999, 110.69000000000003, 1395.79, 392.03000000000003, 279.44000000000005, 162.41, 380.2800000000001, 1311.34, 527.0899999999999, 1679.74, 74.50000000000001, -5.14999999999992, 267.09, 1396.0700000000004, 1293.01, 1108.7899999999997, 357.40999999999997, 457.92, 472.84, 1502.9199999999998, 478.52, 1177.78, 586.98, -48.5, 807.1, 1544.97, 532.3699999999999, 173.65, 171.74, 316.92, 687.7400000000001, 1062.03, 503.4700000000001, 760.37, 493.6199999999999, 66.64, 205.26, 329.57, 273.8400000000001, 1230.36, 831.74, 1668.6699999999998, 247.68999999999994, 482.7699999999999, 160.71000000000004, 1314.89, 1121.4, 591.43, 736.7, 846.4300000000002, 252.5, 133.38, 555.5, 1086.44, 194.10999999999999, 701.86, 939.86, 151.25, 555.08, 255.90999999999997, 668.1199999999999, 12.98999999999998, 492.7, 1042.64, 820.0900000000001, 559.85, 905.01, -4.339999999999975, 587.34, 1459.2299999999998, 1283.1699999999998, 375.45, 262.1, 73.35999999999999, 103.95, 520.67, 516.69, 774.9499999999999, 275.64000000000004, 608.4499999999999, 633.1200000000001, 1172.81, 1642.72, 1560.4099999999999, 1024.24, 240.10999999999999, 188.4600000000001, 304.22999999999996], \"y\": [1777.85, 707.8800000000001, 412.9899999999999, 2172.4, 1109.9300000000003, 1938.6599999999999, 1211.1599999999999, 1192.9, 374.18, 889.1100000000001, 960.22, 1102.0899999999997, 433.08000000000004, 1483.28, 873.0300000000001, 628.1800000000001, 576.8399999999999, 1616.7299999999996, 560.16, 452.40999999999997, 283.61, 1437.16, 1099.5700000000002, 640.1899999999999, 781.53, 891.27, 996.1500000000001, 591.69, 741.37, 760.09, 1498.18, 883.88, 673.9200000000001, 434.04, 830.7199999999998, 241.92000000000002, 716.0899999999999, 1464.63, 1420.0500000000002, 1424.69, 293.65999999999997, 527.03, 1066.29, 217.87000000000003, 1497.29, 439.8500000000001, 314.98, 432.71000000000004, 434.08000000000004, 1494.28, 576.79, 1731.36, 282.62000000000006, 367.51, 445.2699999999999, 1459.6700000000003, 1405.7099999999998, 1206.3299999999997, 450.83000000000004, 644.04, 587.96, 1575.0799999999997, 530.8399999999999, 1345.4399999999998, 633.5799999999999, 203.38, 868.9, 1598.41, 600.75, 440.75, 207.94, 554.64, 903.4600000000002, 1147.91, 672.07, 797.13, 576.4199999999998, 141.39999999999998, 563.8, 362.10999999999996, 526.2200000000001, 1292.82, 918.6200000000001, 1750.95, 377.68999999999994, 542.8899999999999, 267.79, 1381.89, 1296.6999999999998, 669.07, 928.46, 876.6700000000002, 402.84000000000003, 455.2800000000001, 607.4000000000001, 1174.2800000000002, 262.55, 766.3000000000001, 1007.66, 181.63, 692.86, 469.42999999999995, 723.3399999999999, 300.40999999999997, 560.34, 1111.5600000000002, 892.4100000000001, 822.0500000000001, 988.47, 294.46000000000004, 678.9399999999999, 1527.03, 1356.7499999999998, 559.55, 343.02, 378.0, 188.09000000000003, 610.41, 618.8900000000001, 897.0099999999999, 304.7200000000001, 665.7299999999999, 897.3200000000002, 1241.63, 1718.86, 1634.9099999999999, 1104.1000000000001, 641.51, 225.30000000000007, 350.33]}],                        {\"template\": {\"data\": {\"bar\": [{\"error_x\": {\"color\": \"#2a3f5f\"}, \"error_y\": {\"color\": \"#2a3f5f\"}, \"marker\": {\"line\": {\"color\": \"#E5ECF6\", \"width\": 0.5}}, \"type\": \"bar\"}], \"barpolar\": [{\"marker\": {\"line\": {\"color\": \"#E5ECF6\", \"width\": 0.5}}, \"type\": \"barpolar\"}], \"carpet\": [{\"aaxis\": {\"endlinecolor\": \"#2a3f5f\", \"gridcolor\": \"white\", \"linecolor\": \"white\", \"minorgridcolor\": \"white\", \"startlinecolor\": \"#2a3f5f\"}, \"baxis\": {\"endlinecolor\": \"#2a3f5f\", \"gridcolor\": \"white\", \"linecolor\": \"white\", \"minorgridcolor\": \"white\", \"startlinecolor\": \"#2a3f5f\"}, \"type\": \"carpet\"}], \"choropleth\": [{\"colorbar\": {\"outlinewidth\": 0, \"ticks\": \"\"}, \"type\": \"choropleth\"}], \"contour\": [{\"colorbar\": {\"outlinewidth\": 0, \"ticks\": \"\"}, \"colorscale\": [[0.0, \"#0d0887\"], [0.1111111111111111, \"#46039f\"], [0.2222222222222222, \"#7201a8\"], [0.3333333333333333, \"#9c179e\"], [0.4444444444444444, \"#bd3786\"], [0.5555555555555556, \"#d8576b\"], [0.6666666666666666, \"#ed7953\"], [0.7777777777777778, \"#fb9f3a\"], [0.8888888888888888, \"#fdca26\"], [1.0, \"#f0f921\"]], \"type\": \"contour\"}], \"contourcarpet\": [{\"colorbar\": {\"outlinewidth\": 0, \"ticks\": \"\"}, \"type\": \"contourcarpet\"}], \"heatmap\": [{\"colorbar\": {\"outlinewidth\": 0, \"ticks\": \"\"}, \"colorscale\": [[0.0, \"#0d0887\"], [0.1111111111111111, \"#46039f\"], [0.2222222222222222, \"#7201a8\"], [0.3333333333333333, \"#9c179e\"], [0.4444444444444444, \"#bd3786\"], [0.5555555555555556, \"#d8576b\"], [0.6666666666666666, \"#ed7953\"], [0.7777777777777778, \"#fb9f3a\"], [0.8888888888888888, \"#fdca26\"], [1.0, \"#f0f921\"]], \"type\": \"heatmap\"}], \"heatmapgl\": [{\"colorbar\": {\"outlinewidth\": 0, \"ticks\": \"\"}, \"colorscale\": [[0.0, \"#0d0887\"], [0.1111111111111111, \"#46039f\"], [0.2222222222222222, \"#7201a8\"], [0.3333333333333333, \"#9c179e\"], [0.4444444444444444, \"#bd3786\"], [0.5555555555555556, \"#d8576b\"], [0.6666666666666666, \"#ed7953\"], [0.7777777777777778, \"#fb9f3a\"], [0.8888888888888888, \"#fdca26\"], [1.0, \"#f0f921\"]], \"type\": \"heatmapgl\"}], \"histogram\": [{\"marker\": {\"colorbar\": {\"outlinewidth\": 0, \"ticks\": \"\"}}, \"type\": \"histogram\"}], \"histogram2d\": [{\"colorbar\": {\"outlinewidth\": 0, \"ticks\": \"\"}, \"colorscale\": [[0.0, \"#0d0887\"], [0.1111111111111111, \"#46039f\"], [0.2222222222222222, \"#7201a8\"], [0.3333333333333333, \"#9c179e\"], [0.4444444444444444, \"#bd3786\"], [0.5555555555555556, \"#d8576b\"], [0.6666666666666666, \"#ed7953\"], [0.7777777777777778, \"#fb9f3a\"], [0.8888888888888888, \"#fdca26\"], [1.0, \"#f0f921\"]], \"type\": \"histogram2d\"}], \"histogram2dcontour\": [{\"colorbar\": {\"outlinewidth\": 0, \"ticks\": \"\"}, \"colorscale\": [[0.0, \"#0d0887\"], [0.1111111111111111, \"#46039f\"], [0.2222222222222222, \"#7201a8\"], [0.3333333333333333, \"#9c179e\"], [0.4444444444444444, \"#bd3786\"], [0.5555555555555556, \"#d8576b\"], [0.6666666666666666, \"#ed7953\"], [0.7777777777777778, \"#fb9f3a\"], [0.8888888888888888, \"#fdca26\"], [1.0, \"#f0f921\"]], \"type\": \"histogram2dcontour\"}], \"mesh3d\": [{\"colorbar\": {\"outlinewidth\": 0, \"ticks\": \"\"}, \"type\": \"mesh3d\"}], \"parcoords\": [{\"line\": {\"colorbar\": {\"outlinewidth\": 0, \"ticks\": \"\"}}, \"type\": \"parcoords\"}], \"pie\": [{\"automargin\": true, \"type\": \"pie\"}], \"scatter\": [{\"marker\": {\"colorbar\": {\"outlinewidth\": 0, \"ticks\": \"\"}}, \"type\": \"scatter\"}], \"scatter3d\": [{\"line\": {\"colorbar\": {\"outlinewidth\": 0, \"ticks\": \"\"}}, \"marker\": {\"colorbar\": {\"outlinewidth\": 0, \"ticks\": \"\"}}, \"type\": \"scatter3d\"}], \"scattercarpet\": [{\"marker\": {\"colorbar\": {\"outlinewidth\": 0, \"ticks\": \"\"}}, \"type\": \"scattercarpet\"}], \"scattergeo\": [{\"marker\": {\"colorbar\": {\"outlinewidth\": 0, \"ticks\": \"\"}}, \"type\": \"scattergeo\"}], \"scattergl\": [{\"marker\": {\"colorbar\": {\"outlinewidth\": 0, \"ticks\": \"\"}}, \"type\": \"scattergl\"}], \"scattermapbox\": [{\"marker\": {\"colorbar\": {\"outlinewidth\": 0, \"ticks\": \"\"}}, \"type\": \"scattermapbox\"}], \"scatterpolar\": [{\"marker\": {\"colorbar\": {\"outlinewidth\": 0, \"ticks\": \"\"}}, \"type\": \"scatterpolar\"}], \"scatterpolargl\": [{\"marker\": {\"colorbar\": {\"outlinewidth\": 0, \"ticks\": \"\"}}, \"type\": \"scatterpolargl\"}], \"scatterternary\": [{\"marker\": {\"colorbar\": {\"outlinewidth\": 0, \"ticks\": \"\"}}, \"type\": \"scatterternary\"}], \"surface\": [{\"colorbar\": {\"outlinewidth\": 0, \"ticks\": \"\"}, \"colorscale\": [[0.0, \"#0d0887\"], [0.1111111111111111, \"#46039f\"], [0.2222222222222222, \"#7201a8\"], [0.3333333333333333, \"#9c179e\"], [0.4444444444444444, \"#bd3786\"], [0.5555555555555556, \"#d8576b\"], [0.6666666666666666, \"#ed7953\"], [0.7777777777777778, \"#fb9f3a\"], [0.8888888888888888, \"#fdca26\"], [1.0, \"#f0f921\"]], \"type\": \"surface\"}], \"table\": [{\"cells\": {\"fill\": {\"color\": \"#EBF0F8\"}, \"line\": {\"color\": \"white\"}}, \"header\": {\"fill\": {\"color\": \"#C8D4E3\"}, \"line\": {\"color\": \"white\"}}, \"type\": \"table\"}]}, \"layout\": {\"annotationdefaults\": {\"arrowcolor\": \"#2a3f5f\", \"arrowhead\": 0, \"arrowwidth\": 1}, \"autotypenumbers\": \"strict\", \"coloraxis\": {\"colorbar\": {\"outlinewidth\": 0, \"ticks\": \"\"}}, \"colorscale\": {\"diverging\": [[0, \"#8e0152\"], [0.1, \"#c51b7d\"], [0.2, \"#de77ae\"], [0.3, \"#f1b6da\"], [0.4, \"#fde0ef\"], [0.5, \"#f7f7f7\"], [0.6, \"#e6f5d0\"], [0.7, \"#b8e186\"], [0.8, \"#7fbc41\"], [0.9, \"#4d9221\"], [1, \"#276419\"]], \"sequential\": [[0.0, \"#0d0887\"], [0.1111111111111111, \"#46039f\"], [0.2222222222222222, \"#7201a8\"], [0.3333333333333333, \"#9c179e\"], [0.4444444444444444, \"#bd3786\"], [0.5555555555555556, \"#d8576b\"], [0.6666666666666666, \"#ed7953\"], [0.7777777777777778, \"#fb9f3a\"], [0.8888888888888888, \"#fdca26\"], [1.0, \"#f0f921\"]], \"sequentialminus\": [[0.0, \"#0d0887\"], [0.1111111111111111, \"#46039f\"], [0.2222222222222222, \"#7201a8\"], [0.3333333333333333, \"#9c179e\"], [0.4444444444444444, \"#bd3786\"], [0.5555555555555556, \"#d8576b\"], [0.6666666666666666, \"#ed7953\"], [0.7777777777777778, \"#fb9f3a\"], [0.8888888888888888, \"#fdca26\"], [1.0, \"#f0f921\"]]}, \"colorway\": [\"#636efa\", \"#EF553B\", \"#00cc96\", \"#ab63fa\", \"#FFA15A\", \"#19d3f3\", \"#FF6692\", \"#B6E880\", \"#FF97FF\", \"#FECB52\"], \"font\": {\"color\": \"#2a3f5f\"}, \"geo\": {\"bgcolor\": \"white\", \"lakecolor\": \"white\", \"landcolor\": \"#E5ECF6\", \"showlakes\": true, \"showland\": true, \"subunitcolor\": \"white\"}, \"hoverlabel\": {\"align\": \"left\"}, \"hovermode\": \"closest\", \"mapbox\": {\"style\": \"light\"}, \"paper_bgcolor\": \"white\", \"plot_bgcolor\": \"#E5ECF6\", \"polar\": {\"angularaxis\": {\"gridcolor\": \"white\", \"linecolor\": \"white\", \"ticks\": \"\"}, \"bgcolor\": \"#E5ECF6\", \"radialaxis\": {\"gridcolor\": \"white\", \"linecolor\": \"white\", \"ticks\": \"\"}}, \"scene\": {\"xaxis\": {\"backgroundcolor\": \"#E5ECF6\", \"gridcolor\": \"white\", \"gridwidth\": 2, \"linecolor\": \"white\", \"showbackground\": true, \"ticks\": \"\", \"zerolinecolor\": \"white\"}, \"yaxis\": {\"backgroundcolor\": \"#E5ECF6\", \"gridcolor\": \"white\", \"gridwidth\": 2, \"linecolor\": \"white\", \"showbackground\": true, \"ticks\": \"\", \"zerolinecolor\": \"white\"}, \"zaxis\": {\"backgroundcolor\": \"#E5ECF6\", \"gridcolor\": \"white\", \"gridwidth\": 2, \"linecolor\": \"white\", \"showbackground\": true, \"ticks\": \"\", \"zerolinecolor\": \"white\"}}, \"shapedefaults\": {\"line\": {\"color\": \"#2a3f5f\"}}, \"ternary\": {\"aaxis\": {\"gridcolor\": \"white\", \"linecolor\": \"white\", \"ticks\": \"\"}, \"baxis\": {\"gridcolor\": \"white\", \"linecolor\": \"white\", \"ticks\": \"\"}, \"bgcolor\": \"#E5ECF6\", \"caxis\": {\"gridcolor\": \"white\", \"linecolor\": \"white\", \"ticks\": \"\"}}, \"title\": {\"x\": 0.05}, \"xaxis\": {\"automargin\": true, \"gridcolor\": \"white\", \"linecolor\": \"white\", \"ticks\": \"\", \"title\": {\"standoff\": 15}, \"zerolinecolor\": \"white\", \"zerolinewidth\": 2}, \"yaxis\": {\"automargin\": true, \"gridcolor\": \"white\", \"linecolor\": \"white\", \"ticks\": \"\", \"title\": {\"standoff\": 15}, \"zerolinecolor\": \"white\", \"zerolinewidth\": 2}}}, \"title\": {\"text\": \"Total Country-Level Emission versus Animal-to-Plant-Based Emission Difference\"}, \"xaxis\": {\"title\": {\"text\": \"Total Country-Level Emission (kg CO<sub>2</sub>/person/year)\"}}, \"yaxis\": {\"title\": {\"text\": \"Animal-to-Plant-Based Emission Difference (kg CO<sub>2</sub>/person/year)\"}}},                        {\"responsive\": true}                    ).then(function(){\n",
       "                            \n",
       "var gd = document.getElementById('e4d9bd97-ba9f-4765-b596-80d9ee17a7ac');\n",
       "var x = new MutationObserver(function (mutations, observer) {{\n",
       "        var display = window.getComputedStyle(gd).display;\n",
       "        if (!display || display === 'none') {{\n",
       "            console.log([gd, 'removed!']);\n",
       "            Plotly.purge(gd);\n",
       "            observer.disconnect();\n",
       "        }}\n",
       "}});\n",
       "\n",
       "// Listen for the removal of the full notebook cells\n",
       "var notebookContainer = gd.closest('#notebook-container');\n",
       "if (notebookContainer) {{\n",
       "    x.observe(notebookContainer, {childList: true});\n",
       "}}\n",
       "\n",
       "// Listen for the clearing of the current output cell\n",
       "var outputEl = gd.closest('.output');\n",
       "if (outputEl) {{\n",
       "    x.observe(outputEl, {childList: true});\n",
       "}}\n",
       "\n",
       "                        })                };                });            </script>        </div>"
      ]
     },
     "metadata": {},
     "output_type": "display_data"
    }
   ],
   "source": [
    "fig = go.Figure(data = [\n",
    "    go.Scatter(x = animal_plant['Difference'],\n",
    "          y = animal_plant['Total'],\n",
    "          mode = 'markers')\n",
    "])\n",
    "\n",
    "fig.update_layout(title = \"Total Country-Level Emission versus Animal-to-Plant-Based Emission Difference\",\n",
    "                 xaxis_title = \"Total Country-Level Emission (kg CO<sub>2</sub>/person/year)\",\n",
    "                 yaxis_title = \"Animal-to-Plant-Based Emission Difference (kg CO<sub>2</sub>/person/year)\")\n",
    "\n",
    "fig.show()"
   ]
  },
  {
   "cell_type": "markdown",
   "metadata": {},
   "source": [
    "The bar graph below gives a country-level overview of these animal-to-plant-based emission differences. As explained by the creators of the dataset, nu3 (2018), a lower value of this difference metric is indicative that a larger proportion of the country's population consumes plant-based food products. Consequently, a negative value implies that plants (rather than the more common animals) serve as the primary food source of the country. \n",
    "\n",
    "To manage the size of the data visualization, we limit the entries in the graph to the highest ten and the ten five animal-to-plant-based emission difference. "
   ]
  },
  {
   "cell_type": "markdown",
   "metadata": {},
   "source": [
    "*Note that this is an interactive graph. Hovering allows for a more granular look at the data.*"
   ]
  },
  {
   "cell_type": "code",
   "execution_count": 29,
   "metadata": {},
   "outputs": [
    {
     "data": {
      "application/vnd.plotly.v1+json": {
       "config": {
        "plotlyServerURL": "https://plot.ly"
       },
       "data": [
        {
         "name": "Top 10: Plant-Based over Animal-Based Food",
         "orientation": "h",
         "type": "bar",
         "x": [
          2108.9,
          1852.46,
          1689.6099999999997,
          1679.74,
          1668.6699999999998,
          1642.72,
          1560.4099999999999,
          1544.97,
          1508.6299999999997,
          1502.9199999999998
         ],
         "y": [
          "Argentina",
          "Australia",
          "Albania",
          "Iceland",
          "New Zealand",
          "United States",
          "Uruguay",
          "Luxembourg",
          "Brazil",
          "Kazakhstan"
         ]
        },
        {
         "name": "Top 10: Animal-Based over Plant-Based Food",
         "orientation": "h",
         "type": "bar",
         "x": [
          102.25999999999998,
          74.50000000000001,
          73.35999999999999,
          66.64,
          35.849999999999966,
          12.98999999999998,
          -4.339999999999975,
          -5.14999999999992,
          -48.5,
          -75.08000000000004
         ],
         "y": [
          "Gambia",
          "India",
          "Thailand",
          "Mozambique",
          "Cambodia",
          "Sierra Leone",
          "Sri Lanka",
          "Indonesia",
          "Liberia",
          "Bangladesh"
         ]
        }
       ],
       "layout": {
        "template": {
         "data": {
          "bar": [
           {
            "error_x": {
             "color": "#2a3f5f"
            },
            "error_y": {
             "color": "#2a3f5f"
            },
            "marker": {
             "line": {
              "color": "#E5ECF6",
              "width": 0.5
             }
            },
            "type": "bar"
           }
          ],
          "barpolar": [
           {
            "marker": {
             "line": {
              "color": "#E5ECF6",
              "width": 0.5
             }
            },
            "type": "barpolar"
           }
          ],
          "carpet": [
           {
            "aaxis": {
             "endlinecolor": "#2a3f5f",
             "gridcolor": "white",
             "linecolor": "white",
             "minorgridcolor": "white",
             "startlinecolor": "#2a3f5f"
            },
            "baxis": {
             "endlinecolor": "#2a3f5f",
             "gridcolor": "white",
             "linecolor": "white",
             "minorgridcolor": "white",
             "startlinecolor": "#2a3f5f"
            },
            "type": "carpet"
           }
          ],
          "choropleth": [
           {
            "colorbar": {
             "outlinewidth": 0,
             "ticks": ""
            },
            "type": "choropleth"
           }
          ],
          "contour": [
           {
            "colorbar": {
             "outlinewidth": 0,
             "ticks": ""
            },
            "colorscale": [
             [
              0,
              "#0d0887"
             ],
             [
              0.1111111111111111,
              "#46039f"
             ],
             [
              0.2222222222222222,
              "#7201a8"
             ],
             [
              0.3333333333333333,
              "#9c179e"
             ],
             [
              0.4444444444444444,
              "#bd3786"
             ],
             [
              0.5555555555555556,
              "#d8576b"
             ],
             [
              0.6666666666666666,
              "#ed7953"
             ],
             [
              0.7777777777777778,
              "#fb9f3a"
             ],
             [
              0.8888888888888888,
              "#fdca26"
             ],
             [
              1,
              "#f0f921"
             ]
            ],
            "type": "contour"
           }
          ],
          "contourcarpet": [
           {
            "colorbar": {
             "outlinewidth": 0,
             "ticks": ""
            },
            "type": "contourcarpet"
           }
          ],
          "heatmap": [
           {
            "colorbar": {
             "outlinewidth": 0,
             "ticks": ""
            },
            "colorscale": [
             [
              0,
              "#0d0887"
             ],
             [
              0.1111111111111111,
              "#46039f"
             ],
             [
              0.2222222222222222,
              "#7201a8"
             ],
             [
              0.3333333333333333,
              "#9c179e"
             ],
             [
              0.4444444444444444,
              "#bd3786"
             ],
             [
              0.5555555555555556,
              "#d8576b"
             ],
             [
              0.6666666666666666,
              "#ed7953"
             ],
             [
              0.7777777777777778,
              "#fb9f3a"
             ],
             [
              0.8888888888888888,
              "#fdca26"
             ],
             [
              1,
              "#f0f921"
             ]
            ],
            "type": "heatmap"
           }
          ],
          "heatmapgl": [
           {
            "colorbar": {
             "outlinewidth": 0,
             "ticks": ""
            },
            "colorscale": [
             [
              0,
              "#0d0887"
             ],
             [
              0.1111111111111111,
              "#46039f"
             ],
             [
              0.2222222222222222,
              "#7201a8"
             ],
             [
              0.3333333333333333,
              "#9c179e"
             ],
             [
              0.4444444444444444,
              "#bd3786"
             ],
             [
              0.5555555555555556,
              "#d8576b"
             ],
             [
              0.6666666666666666,
              "#ed7953"
             ],
             [
              0.7777777777777778,
              "#fb9f3a"
             ],
             [
              0.8888888888888888,
              "#fdca26"
             ],
             [
              1,
              "#f0f921"
             ]
            ],
            "type": "heatmapgl"
           }
          ],
          "histogram": [
           {
            "marker": {
             "colorbar": {
              "outlinewidth": 0,
              "ticks": ""
             }
            },
            "type": "histogram"
           }
          ],
          "histogram2d": [
           {
            "colorbar": {
             "outlinewidth": 0,
             "ticks": ""
            },
            "colorscale": [
             [
              0,
              "#0d0887"
             ],
             [
              0.1111111111111111,
              "#46039f"
             ],
             [
              0.2222222222222222,
              "#7201a8"
             ],
             [
              0.3333333333333333,
              "#9c179e"
             ],
             [
              0.4444444444444444,
              "#bd3786"
             ],
             [
              0.5555555555555556,
              "#d8576b"
             ],
             [
              0.6666666666666666,
              "#ed7953"
             ],
             [
              0.7777777777777778,
              "#fb9f3a"
             ],
             [
              0.8888888888888888,
              "#fdca26"
             ],
             [
              1,
              "#f0f921"
             ]
            ],
            "type": "histogram2d"
           }
          ],
          "histogram2dcontour": [
           {
            "colorbar": {
             "outlinewidth": 0,
             "ticks": ""
            },
            "colorscale": [
             [
              0,
              "#0d0887"
             ],
             [
              0.1111111111111111,
              "#46039f"
             ],
             [
              0.2222222222222222,
              "#7201a8"
             ],
             [
              0.3333333333333333,
              "#9c179e"
             ],
             [
              0.4444444444444444,
              "#bd3786"
             ],
             [
              0.5555555555555556,
              "#d8576b"
             ],
             [
              0.6666666666666666,
              "#ed7953"
             ],
             [
              0.7777777777777778,
              "#fb9f3a"
             ],
             [
              0.8888888888888888,
              "#fdca26"
             ],
             [
              1,
              "#f0f921"
             ]
            ],
            "type": "histogram2dcontour"
           }
          ],
          "mesh3d": [
           {
            "colorbar": {
             "outlinewidth": 0,
             "ticks": ""
            },
            "type": "mesh3d"
           }
          ],
          "parcoords": [
           {
            "line": {
             "colorbar": {
              "outlinewidth": 0,
              "ticks": ""
             }
            },
            "type": "parcoords"
           }
          ],
          "pie": [
           {
            "automargin": true,
            "type": "pie"
           }
          ],
          "scatter": [
           {
            "marker": {
             "colorbar": {
              "outlinewidth": 0,
              "ticks": ""
             }
            },
            "type": "scatter"
           }
          ],
          "scatter3d": [
           {
            "line": {
             "colorbar": {
              "outlinewidth": 0,
              "ticks": ""
             }
            },
            "marker": {
             "colorbar": {
              "outlinewidth": 0,
              "ticks": ""
             }
            },
            "type": "scatter3d"
           }
          ],
          "scattercarpet": [
           {
            "marker": {
             "colorbar": {
              "outlinewidth": 0,
              "ticks": ""
             }
            },
            "type": "scattercarpet"
           }
          ],
          "scattergeo": [
           {
            "marker": {
             "colorbar": {
              "outlinewidth": 0,
              "ticks": ""
             }
            },
            "type": "scattergeo"
           }
          ],
          "scattergl": [
           {
            "marker": {
             "colorbar": {
              "outlinewidth": 0,
              "ticks": ""
             }
            },
            "type": "scattergl"
           }
          ],
          "scattermapbox": [
           {
            "marker": {
             "colorbar": {
              "outlinewidth": 0,
              "ticks": ""
             }
            },
            "type": "scattermapbox"
           }
          ],
          "scatterpolar": [
           {
            "marker": {
             "colorbar": {
              "outlinewidth": 0,
              "ticks": ""
             }
            },
            "type": "scatterpolar"
           }
          ],
          "scatterpolargl": [
           {
            "marker": {
             "colorbar": {
              "outlinewidth": 0,
              "ticks": ""
             }
            },
            "type": "scatterpolargl"
           }
          ],
          "scatterternary": [
           {
            "marker": {
             "colorbar": {
              "outlinewidth": 0,
              "ticks": ""
             }
            },
            "type": "scatterternary"
           }
          ],
          "surface": [
           {
            "colorbar": {
             "outlinewidth": 0,
             "ticks": ""
            },
            "colorscale": [
             [
              0,
              "#0d0887"
             ],
             [
              0.1111111111111111,
              "#46039f"
             ],
             [
              0.2222222222222222,
              "#7201a8"
             ],
             [
              0.3333333333333333,
              "#9c179e"
             ],
             [
              0.4444444444444444,
              "#bd3786"
             ],
             [
              0.5555555555555556,
              "#d8576b"
             ],
             [
              0.6666666666666666,
              "#ed7953"
             ],
             [
              0.7777777777777778,
              "#fb9f3a"
             ],
             [
              0.8888888888888888,
              "#fdca26"
             ],
             [
              1,
              "#f0f921"
             ]
            ],
            "type": "surface"
           }
          ],
          "table": [
           {
            "cells": {
             "fill": {
              "color": "#EBF0F8"
             },
             "line": {
              "color": "white"
             }
            },
            "header": {
             "fill": {
              "color": "#C8D4E3"
             },
             "line": {
              "color": "white"
             }
            },
            "type": "table"
           }
          ]
         },
         "layout": {
          "annotationdefaults": {
           "arrowcolor": "#2a3f5f",
           "arrowhead": 0,
           "arrowwidth": 1
          },
          "autotypenumbers": "strict",
          "coloraxis": {
           "colorbar": {
            "outlinewidth": 0,
            "ticks": ""
           }
          },
          "colorscale": {
           "diverging": [
            [
             0,
             "#8e0152"
            ],
            [
             0.1,
             "#c51b7d"
            ],
            [
             0.2,
             "#de77ae"
            ],
            [
             0.3,
             "#f1b6da"
            ],
            [
             0.4,
             "#fde0ef"
            ],
            [
             0.5,
             "#f7f7f7"
            ],
            [
             0.6,
             "#e6f5d0"
            ],
            [
             0.7,
             "#b8e186"
            ],
            [
             0.8,
             "#7fbc41"
            ],
            [
             0.9,
             "#4d9221"
            ],
            [
             1,
             "#276419"
            ]
           ],
           "sequential": [
            [
             0,
             "#0d0887"
            ],
            [
             0.1111111111111111,
             "#46039f"
            ],
            [
             0.2222222222222222,
             "#7201a8"
            ],
            [
             0.3333333333333333,
             "#9c179e"
            ],
            [
             0.4444444444444444,
             "#bd3786"
            ],
            [
             0.5555555555555556,
             "#d8576b"
            ],
            [
             0.6666666666666666,
             "#ed7953"
            ],
            [
             0.7777777777777778,
             "#fb9f3a"
            ],
            [
             0.8888888888888888,
             "#fdca26"
            ],
            [
             1,
             "#f0f921"
            ]
           ],
           "sequentialminus": [
            [
             0,
             "#0d0887"
            ],
            [
             0.1111111111111111,
             "#46039f"
            ],
            [
             0.2222222222222222,
             "#7201a8"
            ],
            [
             0.3333333333333333,
             "#9c179e"
            ],
            [
             0.4444444444444444,
             "#bd3786"
            ],
            [
             0.5555555555555556,
             "#d8576b"
            ],
            [
             0.6666666666666666,
             "#ed7953"
            ],
            [
             0.7777777777777778,
             "#fb9f3a"
            ],
            [
             0.8888888888888888,
             "#fdca26"
            ],
            [
             1,
             "#f0f921"
            ]
           ]
          },
          "colorway": [
           "#636efa",
           "#EF553B",
           "#00cc96",
           "#ab63fa",
           "#FFA15A",
           "#19d3f3",
           "#FF6692",
           "#B6E880",
           "#FF97FF",
           "#FECB52"
          ],
          "font": {
           "color": "#2a3f5f"
          },
          "geo": {
           "bgcolor": "white",
           "lakecolor": "white",
           "landcolor": "#E5ECF6",
           "showlakes": true,
           "showland": true,
           "subunitcolor": "white"
          },
          "hoverlabel": {
           "align": "left"
          },
          "hovermode": "closest",
          "mapbox": {
           "style": "light"
          },
          "paper_bgcolor": "white",
          "plot_bgcolor": "#E5ECF6",
          "polar": {
           "angularaxis": {
            "gridcolor": "white",
            "linecolor": "white",
            "ticks": ""
           },
           "bgcolor": "#E5ECF6",
           "radialaxis": {
            "gridcolor": "white",
            "linecolor": "white",
            "ticks": ""
           }
          },
          "scene": {
           "xaxis": {
            "backgroundcolor": "#E5ECF6",
            "gridcolor": "white",
            "gridwidth": 2,
            "linecolor": "white",
            "showbackground": true,
            "ticks": "",
            "zerolinecolor": "white"
           },
           "yaxis": {
            "backgroundcolor": "#E5ECF6",
            "gridcolor": "white",
            "gridwidth": 2,
            "linecolor": "white",
            "showbackground": true,
            "ticks": "",
            "zerolinecolor": "white"
           },
           "zaxis": {
            "backgroundcolor": "#E5ECF6",
            "gridcolor": "white",
            "gridwidth": 2,
            "linecolor": "white",
            "showbackground": true,
            "ticks": "",
            "zerolinecolor": "white"
           }
          },
          "shapedefaults": {
           "line": {
            "color": "#2a3f5f"
           }
          },
          "ternary": {
           "aaxis": {
            "gridcolor": "white",
            "linecolor": "white",
            "ticks": ""
           },
           "baxis": {
            "gridcolor": "white",
            "linecolor": "white",
            "ticks": ""
           },
           "bgcolor": "#E5ECF6",
           "caxis": {
            "gridcolor": "white",
            "linecolor": "white",
            "ticks": ""
           }
          },
          "title": {
           "x": 0.05
          },
          "xaxis": {
           "automargin": true,
           "gridcolor": "white",
           "linecolor": "white",
           "ticks": "",
           "title": {
            "standoff": 15
           },
           "zerolinecolor": "white",
           "zerolinewidth": 2
          },
          "yaxis": {
           "automargin": true,
           "gridcolor": "white",
           "linecolor": "white",
           "ticks": "",
           "title": {
            "standoff": 15
           },
           "zerolinecolor": "white",
           "zerolinewidth": 2
          }
         }
        },
        "xaxis": {
         "title": {
          "text": "Animal-to-Plant-Based Emission Difference (kg CO<sub>2</sub>/person/year)"
         }
        },
        "yaxis": {
         "autorange": "reversed",
         "title": {
          "text": "Country"
         }
        }
       }
      },
      "text/html": [
       "<div>                            <div id=\"e28d1ca2-091c-4228-ae1d-8573c3d5ecac\" class=\"plotly-graph-div\" style=\"height:525px; width:100%;\"></div>            <script type=\"text/javascript\">                require([\"plotly\"], function(Plotly) {                    window.PLOTLYENV=window.PLOTLYENV || {};                                    if (document.getElementById(\"e28d1ca2-091c-4228-ae1d-8573c3d5ecac\")) {                    Plotly.newPlot(                        \"e28d1ca2-091c-4228-ae1d-8573c3d5ecac\",                        [{\"name\": \"Top 10: Plant-Based over Animal-Based Food\", \"orientation\": \"h\", \"type\": \"bar\", \"x\": [2108.9, 1852.46, 1689.6099999999997, 1679.74, 1668.6699999999998, 1642.72, 1560.4099999999999, 1544.97, 1508.6299999999997, 1502.9199999999998], \"y\": [\"Argentina\", \"Australia\", \"Albania\", \"Iceland\", \"New Zealand\", \"United States\", \"Uruguay\", \"Luxembourg\", \"Brazil\", \"Kazakhstan\"]}, {\"name\": \"Top 10: Animal-Based over Plant-Based Food\", \"orientation\": \"h\", \"type\": \"bar\", \"x\": [102.25999999999998, 74.50000000000001, 73.35999999999999, 66.64, 35.849999999999966, 12.98999999999998, -4.339999999999975, -5.14999999999992, -48.5, -75.08000000000004], \"y\": [\"Gambia\", \"India\", \"Thailand\", \"Mozambique\", \"Cambodia\", \"Sierra Leone\", \"Sri Lanka\", \"Indonesia\", \"Liberia\", \"Bangladesh\"]}],                        {\"template\": {\"data\": {\"bar\": [{\"error_x\": {\"color\": \"#2a3f5f\"}, \"error_y\": {\"color\": \"#2a3f5f\"}, \"marker\": {\"line\": {\"color\": \"#E5ECF6\", \"width\": 0.5}}, \"type\": \"bar\"}], \"barpolar\": [{\"marker\": {\"line\": {\"color\": \"#E5ECF6\", \"width\": 0.5}}, \"type\": \"barpolar\"}], \"carpet\": [{\"aaxis\": {\"endlinecolor\": \"#2a3f5f\", \"gridcolor\": \"white\", \"linecolor\": \"white\", \"minorgridcolor\": \"white\", \"startlinecolor\": \"#2a3f5f\"}, \"baxis\": {\"endlinecolor\": \"#2a3f5f\", \"gridcolor\": \"white\", \"linecolor\": \"white\", \"minorgridcolor\": \"white\", \"startlinecolor\": \"#2a3f5f\"}, \"type\": \"carpet\"}], \"choropleth\": [{\"colorbar\": {\"outlinewidth\": 0, \"ticks\": \"\"}, \"type\": \"choropleth\"}], \"contour\": [{\"colorbar\": {\"outlinewidth\": 0, \"ticks\": \"\"}, \"colorscale\": [[0.0, \"#0d0887\"], [0.1111111111111111, \"#46039f\"], [0.2222222222222222, \"#7201a8\"], [0.3333333333333333, \"#9c179e\"], [0.4444444444444444, \"#bd3786\"], [0.5555555555555556, \"#d8576b\"], [0.6666666666666666, \"#ed7953\"], [0.7777777777777778, \"#fb9f3a\"], [0.8888888888888888, \"#fdca26\"], [1.0, \"#f0f921\"]], \"type\": \"contour\"}], \"contourcarpet\": [{\"colorbar\": {\"outlinewidth\": 0, \"ticks\": \"\"}, \"type\": \"contourcarpet\"}], \"heatmap\": [{\"colorbar\": {\"outlinewidth\": 0, \"ticks\": \"\"}, \"colorscale\": [[0.0, \"#0d0887\"], [0.1111111111111111, \"#46039f\"], [0.2222222222222222, \"#7201a8\"], [0.3333333333333333, \"#9c179e\"], [0.4444444444444444, \"#bd3786\"], [0.5555555555555556, \"#d8576b\"], [0.6666666666666666, \"#ed7953\"], [0.7777777777777778, \"#fb9f3a\"], [0.8888888888888888, \"#fdca26\"], [1.0, \"#f0f921\"]], \"type\": \"heatmap\"}], \"heatmapgl\": [{\"colorbar\": {\"outlinewidth\": 0, \"ticks\": \"\"}, \"colorscale\": [[0.0, \"#0d0887\"], [0.1111111111111111, \"#46039f\"], [0.2222222222222222, \"#7201a8\"], [0.3333333333333333, \"#9c179e\"], [0.4444444444444444, \"#bd3786\"], [0.5555555555555556, \"#d8576b\"], [0.6666666666666666, \"#ed7953\"], [0.7777777777777778, \"#fb9f3a\"], [0.8888888888888888, \"#fdca26\"], [1.0, \"#f0f921\"]], \"type\": \"heatmapgl\"}], \"histogram\": [{\"marker\": {\"colorbar\": {\"outlinewidth\": 0, \"ticks\": \"\"}}, \"type\": \"histogram\"}], \"histogram2d\": [{\"colorbar\": {\"outlinewidth\": 0, \"ticks\": \"\"}, \"colorscale\": [[0.0, \"#0d0887\"], [0.1111111111111111, \"#46039f\"], [0.2222222222222222, \"#7201a8\"], [0.3333333333333333, \"#9c179e\"], [0.4444444444444444, \"#bd3786\"], [0.5555555555555556, \"#d8576b\"], [0.6666666666666666, \"#ed7953\"], [0.7777777777777778, \"#fb9f3a\"], [0.8888888888888888, \"#fdca26\"], [1.0, \"#f0f921\"]], \"type\": \"histogram2d\"}], \"histogram2dcontour\": [{\"colorbar\": {\"outlinewidth\": 0, \"ticks\": \"\"}, \"colorscale\": [[0.0, \"#0d0887\"], [0.1111111111111111, \"#46039f\"], [0.2222222222222222, \"#7201a8\"], [0.3333333333333333, \"#9c179e\"], [0.4444444444444444, \"#bd3786\"], [0.5555555555555556, \"#d8576b\"], [0.6666666666666666, \"#ed7953\"], [0.7777777777777778, \"#fb9f3a\"], [0.8888888888888888, \"#fdca26\"], [1.0, \"#f0f921\"]], \"type\": \"histogram2dcontour\"}], \"mesh3d\": [{\"colorbar\": {\"outlinewidth\": 0, \"ticks\": \"\"}, \"type\": \"mesh3d\"}], \"parcoords\": [{\"line\": {\"colorbar\": {\"outlinewidth\": 0, \"ticks\": \"\"}}, \"type\": \"parcoords\"}], \"pie\": [{\"automargin\": true, \"type\": \"pie\"}], \"scatter\": [{\"marker\": {\"colorbar\": {\"outlinewidth\": 0, \"ticks\": \"\"}}, \"type\": \"scatter\"}], \"scatter3d\": [{\"line\": {\"colorbar\": {\"outlinewidth\": 0, \"ticks\": \"\"}}, \"marker\": {\"colorbar\": {\"outlinewidth\": 0, \"ticks\": \"\"}}, \"type\": \"scatter3d\"}], \"scattercarpet\": [{\"marker\": {\"colorbar\": {\"outlinewidth\": 0, \"ticks\": \"\"}}, \"type\": \"scattercarpet\"}], \"scattergeo\": [{\"marker\": {\"colorbar\": {\"outlinewidth\": 0, \"ticks\": \"\"}}, \"type\": \"scattergeo\"}], \"scattergl\": [{\"marker\": {\"colorbar\": {\"outlinewidth\": 0, \"ticks\": \"\"}}, \"type\": \"scattergl\"}], \"scattermapbox\": [{\"marker\": {\"colorbar\": {\"outlinewidth\": 0, \"ticks\": \"\"}}, \"type\": \"scattermapbox\"}], \"scatterpolar\": [{\"marker\": {\"colorbar\": {\"outlinewidth\": 0, \"ticks\": \"\"}}, \"type\": \"scatterpolar\"}], \"scatterpolargl\": [{\"marker\": {\"colorbar\": {\"outlinewidth\": 0, \"ticks\": \"\"}}, \"type\": \"scatterpolargl\"}], \"scatterternary\": [{\"marker\": {\"colorbar\": {\"outlinewidth\": 0, \"ticks\": \"\"}}, \"type\": \"scatterternary\"}], \"surface\": [{\"colorbar\": {\"outlinewidth\": 0, \"ticks\": \"\"}, \"colorscale\": [[0.0, \"#0d0887\"], [0.1111111111111111, \"#46039f\"], [0.2222222222222222, \"#7201a8\"], [0.3333333333333333, \"#9c179e\"], [0.4444444444444444, \"#bd3786\"], [0.5555555555555556, \"#d8576b\"], [0.6666666666666666, \"#ed7953\"], [0.7777777777777778, \"#fb9f3a\"], [0.8888888888888888, \"#fdca26\"], [1.0, \"#f0f921\"]], \"type\": \"surface\"}], \"table\": [{\"cells\": {\"fill\": {\"color\": \"#EBF0F8\"}, \"line\": {\"color\": \"white\"}}, \"header\": {\"fill\": {\"color\": \"#C8D4E3\"}, \"line\": {\"color\": \"white\"}}, \"type\": \"table\"}]}, \"layout\": {\"annotationdefaults\": {\"arrowcolor\": \"#2a3f5f\", \"arrowhead\": 0, \"arrowwidth\": 1}, \"autotypenumbers\": \"strict\", \"coloraxis\": {\"colorbar\": {\"outlinewidth\": 0, \"ticks\": \"\"}}, \"colorscale\": {\"diverging\": [[0, \"#8e0152\"], [0.1, \"#c51b7d\"], [0.2, \"#de77ae\"], [0.3, \"#f1b6da\"], [0.4, \"#fde0ef\"], [0.5, \"#f7f7f7\"], [0.6, \"#e6f5d0\"], [0.7, \"#b8e186\"], [0.8, \"#7fbc41\"], [0.9, \"#4d9221\"], [1, \"#276419\"]], \"sequential\": [[0.0, \"#0d0887\"], [0.1111111111111111, \"#46039f\"], [0.2222222222222222, \"#7201a8\"], [0.3333333333333333, \"#9c179e\"], [0.4444444444444444, \"#bd3786\"], [0.5555555555555556, \"#d8576b\"], [0.6666666666666666, \"#ed7953\"], [0.7777777777777778, \"#fb9f3a\"], [0.8888888888888888, \"#fdca26\"], [1.0, \"#f0f921\"]], \"sequentialminus\": [[0.0, \"#0d0887\"], [0.1111111111111111, \"#46039f\"], [0.2222222222222222, \"#7201a8\"], [0.3333333333333333, \"#9c179e\"], [0.4444444444444444, \"#bd3786\"], [0.5555555555555556, \"#d8576b\"], [0.6666666666666666, \"#ed7953\"], [0.7777777777777778, \"#fb9f3a\"], [0.8888888888888888, \"#fdca26\"], [1.0, \"#f0f921\"]]}, \"colorway\": [\"#636efa\", \"#EF553B\", \"#00cc96\", \"#ab63fa\", \"#FFA15A\", \"#19d3f3\", \"#FF6692\", \"#B6E880\", \"#FF97FF\", \"#FECB52\"], \"font\": {\"color\": \"#2a3f5f\"}, \"geo\": {\"bgcolor\": \"white\", \"lakecolor\": \"white\", \"landcolor\": \"#E5ECF6\", \"showlakes\": true, \"showland\": true, \"subunitcolor\": \"white\"}, \"hoverlabel\": {\"align\": \"left\"}, \"hovermode\": \"closest\", \"mapbox\": {\"style\": \"light\"}, \"paper_bgcolor\": \"white\", \"plot_bgcolor\": \"#E5ECF6\", \"polar\": {\"angularaxis\": {\"gridcolor\": \"white\", \"linecolor\": \"white\", \"ticks\": \"\"}, \"bgcolor\": \"#E5ECF6\", \"radialaxis\": {\"gridcolor\": \"white\", \"linecolor\": \"white\", \"ticks\": \"\"}}, \"scene\": {\"xaxis\": {\"backgroundcolor\": \"#E5ECF6\", \"gridcolor\": \"white\", \"gridwidth\": 2, \"linecolor\": \"white\", \"showbackground\": true, \"ticks\": \"\", \"zerolinecolor\": \"white\"}, \"yaxis\": {\"backgroundcolor\": \"#E5ECF6\", \"gridcolor\": \"white\", \"gridwidth\": 2, \"linecolor\": \"white\", \"showbackground\": true, \"ticks\": \"\", \"zerolinecolor\": \"white\"}, \"zaxis\": {\"backgroundcolor\": \"#E5ECF6\", \"gridcolor\": \"white\", \"gridwidth\": 2, \"linecolor\": \"white\", \"showbackground\": true, \"ticks\": \"\", \"zerolinecolor\": \"white\"}}, \"shapedefaults\": {\"line\": {\"color\": \"#2a3f5f\"}}, \"ternary\": {\"aaxis\": {\"gridcolor\": \"white\", \"linecolor\": \"white\", \"ticks\": \"\"}, \"baxis\": {\"gridcolor\": \"white\", \"linecolor\": \"white\", \"ticks\": \"\"}, \"bgcolor\": \"#E5ECF6\", \"caxis\": {\"gridcolor\": \"white\", \"linecolor\": \"white\", \"ticks\": \"\"}}, \"title\": {\"x\": 0.05}, \"xaxis\": {\"automargin\": true, \"gridcolor\": \"white\", \"linecolor\": \"white\", \"ticks\": \"\", \"title\": {\"standoff\": 15}, \"zerolinecolor\": \"white\", \"zerolinewidth\": 2}, \"yaxis\": {\"automargin\": true, \"gridcolor\": \"white\", \"linecolor\": \"white\", \"ticks\": \"\", \"title\": {\"standoff\": 15}, \"zerolinecolor\": \"white\", \"zerolinewidth\": 2}}}, \"xaxis\": {\"title\": {\"text\": \"Animal-to-Plant-Based Emission Difference (kg CO<sub>2</sub>/person/year)\"}}, \"yaxis\": {\"autorange\": \"reversed\", \"title\": {\"text\": \"Country\"}}},                        {\"responsive\": true}                    ).then(function(){\n",
       "                            \n",
       "var gd = document.getElementById('e28d1ca2-091c-4228-ae1d-8573c3d5ecac');\n",
       "var x = new MutationObserver(function (mutations, observer) {{\n",
       "        var display = window.getComputedStyle(gd).display;\n",
       "        if (!display || display === 'none') {{\n",
       "            console.log([gd, 'removed!']);\n",
       "            Plotly.purge(gd);\n",
       "            observer.disconnect();\n",
       "        }}\n",
       "}});\n",
       "\n",
       "// Listen for the removal of the full notebook cells\n",
       "var notebookContainer = gd.closest('#notebook-container');\n",
       "if (notebookContainer) {{\n",
       "    x.observe(notebookContainer, {childList: true});\n",
       "}}\n",
       "\n",
       "// Listen for the clearing of the current output cell\n",
       "var outputEl = gd.closest('.output');\n",
       "if (outputEl) {{\n",
       "    x.observe(outputEl, {childList: true});\n",
       "}}\n",
       "\n",
       "                        })                };                });            </script>        </div>"
      ]
     },
     "metadata": {},
     "output_type": "display_data"
    }
   ],
   "source": [
    "fig = go.Figure(data = [\n",
    "    go.Bar(orientation = 'h',\n",
    "          y = sorted_animal_plant_head['country'],\n",
    "          x = sorted_animal_plant_head['Difference'],\n",
    "          name = 'Top 10: Plant-Based over Animal-Based Food'),\n",
    "    go.Bar(orientation = 'h',\n",
    "          y = sorted_animal_plant_tail['country'],\n",
    "          x = sorted_animal_plant_tail['Difference'],\n",
    "          name = 'Top 10: Animal-Based over Plant-Based Food')\n",
    "])\n",
    "\n",
    "fig.update_layout(yaxis = dict(autorange = 'reversed'),\n",
    "                  xaxis_title = \"Animal-to-Plant-Based Emission Difference (kg CO<sub>2</sub>/person/year)\",\n",
    "                  yaxis_title = \"Country\")\n",
    "\n",
    "fig.show()"
   ]
  },
  {
   "cell_type": "markdown",
   "metadata": {},
   "source": [
    "Notice that, among the 130 countries in the entire dataset, there are only two countries with a negative difference: Liberia and Bangladesh. "
   ]
  },
  {
   "cell_type": "markdown",
   "metadata": {},
   "source": [
    "**To further put things into perspective, it may also be helpful to visualize how animal- and plant-based food products contribute to the gross carbon dioxide emission worldwide.**\n",
    "\n",
    "First, we perform the necessary computations and convert numerical figures into percentages for a more efficient generation of the visualization. Note that the food products are split into beef, milk and cheese, animal-based products (excluding the previous two), and plant-based products to represent the four major classifications based on earlier analyses."
   ]
  },
  {
   "cell_type": "code",
   "execution_count": 30,
   "metadata": {},
   "outputs": [],
   "source": [
    "NUM_COUNTRIES = len(animal_plant)\n",
    "\n",
    "total_animal_plant = animal_plant.append(animal_plant.sum(numeric_only = True), ignore_index = True)\n",
    "\n",
    "total_animal = total_animal_plant.loc[NUM_COUNTRIES]['Animal-Based Food Product Emission']\n",
    "total_plant = total_animal_plant.loc[NUM_COUNTRIES]['Plant-Based Food Product Emission']\n",
    "\n",
    "total_beef = float(food_data.loc[food_data['food_category'] == 'Beef']['co2_emmission'])\n",
    "total_cheese = float(food_data.loc[food_data['food_category'] == 'Milk & Cheese']['co2_emmission'])\n",
    "\n",
    "total_beef = round(total_beef * 100 / (total_animal + total_plant))\n",
    "total_cheese = round(total_cheese * 100 / (total_animal + total_plant))\n",
    "total_animal = round(total_animal * 100 / (total_animal + total_plant))\n",
    "total_animal_no_beef_cheese = total_animal - total_beef - total_cheese\n",
    "total_plant = 100.0 - total_animal_no_beef_cheese - total_beef - total_cheese"
   ]
  },
  {
   "cell_type": "markdown",
   "metadata": {},
   "source": [
    "We are now ready to generate the waffle chart. It can be seen that 46% of the world's total food product-related carbon dioxide emission can be ascribed to beef, 22% to milk and cheese, 25% to other animal-based food products, and 7% to plant-based food products. \n",
    "\n",
    "Taking the first three categories collectively, 93% of the gross food product-related CO<sub>2</sub> emission is due to animal-based food products alone."
   ]
  },
  {
   "cell_type": "code",
   "execution_count": 31,
   "metadata": {},
   "outputs": [
    {
     "data": {
      "image/png": "[encoded data removed]",
      "text/plain": [
       "<Waffle size 432x288 with 1 Axes>"
      ]
     },
     "metadata": {
      "needs_background": "light"
     },
     "output_type": "display_data"
    }
   ],
   "source": [
    "fig = plt.figure(\n",
    "    FigureClass = Waffle,\n",
    "    rows = 10,\n",
    "    columns = 10,\n",
    "    values = [total_beef, total_cheese, total_animal_no_beef_cheese, total_plant],\n",
    "    icons = ['paw', 'wine-bottle', 'drumstick-bite', 'leaf'],\n",
    "    colors = ['salmon', '#CCCC00', 'lightsalmon', 'olive'],\n",
    "    font_size = 20,\n",
    "    legend = {\n",
    "        'labels': ['Beef', 'Milk & Cheese', 'Animal-Based (Excluding Beef, Milk & Cheese)', 'Plant-Based'], \n",
    "        'loc': 'upper left', \n",
    "        'bbox_to_anchor': (1.25, 1)\n",
    "    },\n",
    "    title={\n",
    "        'label': 'Food Product-Related Carbon Dioxide Emission in the World',\n",
    "        'loc': 'left',\n",
    "        'fontdict': {\n",
    "            'fontsize': 14\n",
    "        }\n",
    "    }\n",
    ")"
   ]
  },
  {
   "cell_type": "markdown",
   "metadata": {},
   "source": [
    "Although giving a conclusive answer as to whether a certain type of diet must be preferred by individuals to significantly mitigate their carbon footprint is outside the scope of the data at hand, the results of this project have established a strong correlation between the predominant food source of a country and its food product-related CO<sub>2</sub> emission. "
   ]
  },
  {
   "cell_type": "markdown",
   "metadata": {},
   "source": [
    "<hr/>"
   ]
  },
  {
   "cell_type": "markdown",
   "metadata": {},
   "source": [
    "## D. Economics & Mileage of Carbon Footprints"
   ]
  },
  {
   "cell_type": "markdown",
   "metadata": {},
   "source": [
    "Numerous studies have explored the dynamics between the economic growth of countries and their carbon footprints. In the data analysis phase of this project, an economic facet that has been explored is the interplay between consumption and emission. This is founded on the assumption that states that are able to sustain a beyond-sufficient food supply for the consumption of their citizens are most likely to also have above-adequate resources for production or participation in regional or transnational trade of goods. \n",
    "\n",
    "Empirically, this can be gleaned in the observation that most of the top emitters have developed economies while most of the countries with the least emissions are characterized by low-income economies. Treating consumption as an economic marker, a statistical correlation has also been established in the data analysis phase &mdash; there exists a high positive correlation between correlation and CO<sub>2</sub> emission, as seen in the scatterplot below:"
   ]
  },
  {
   "cell_type": "markdown",
   "metadata": {},
   "source": [
    "*Note that this is an interactive plot. Hovering allows for a more granular look at the data.*"
   ]
  },
  {
   "cell_type": "code",
   "execution_count": 32,
   "metadata": {},
   "outputs": [
    {
     "data": {
      "application/vnd.plotly.v1+json": {
       "config": {
        "plotlyServerURL": "https://plot.ly"
       },
       "data": [
        {
         "mode": "markers",
         "type": "scatter",
         "x": [
          532.73,
          364.51,
          115.99000000000001,
          429.40999999999997,
          407.11,
          465.09000000000003,
          469.14,
          301.45,
          236.6,
          311.26,
          321.5300000000001,
          463.4599999999999,
          232.76999999999998,
          306.62,
          204.25,
          313.64,
          188.85000000000002,
          355.15999999999997,
          348.42999999999995,
          225.06000000000003,
          97.09,
          412.55,
          335.06,
          283.9,
          235.02999999999994,
          343.07,
          433.87,
          291.01000000000005,
          303.65,
          384.61,
          499.06999999999994,
          291.36,
          303.48,
          209.76,
          464.9600000000001,
          85.77000000000001,
          252.52,
          639.7900000000001,
          479.17,
          346.65999999999997,
          180.56000000000003,
          362.22,
          461.09999999999997,
          101.21000000000001,
          493.63,
          254.25,
          133.29999999999998,
          161.41000000000003,
          185.76,
          426.02000000000004,
          352.99,
          472.31000000000006,
          227.7,
          224.99,
          292.26,
          518.65,
          457.75,
          513.98,
          273.02,
          286.46000000000004,
          291.41999999999996,
          468.09999999999997,
          162.56,
          410.37999999999994,
          348.54,
          131.04,
          555.01,
          497.90000000000003,
          321.47,
          155.63,
          51,
          282.74,
          476.32999999999987,
          457.53999999999996,
          358.12,
          242.72,
          296.01,
          63.410000000000004,
          275.1,
          151.14999999999998,
          208.55,
          534.17,
          321.24,
          360.9200000000001,
          196.95,
          101.14000000000001,
          94.22999999999999,
          487.49,
          363.66999999999996,
          330.95,
          260.53000000000003,
          189.17,
          215.19000000000003,
          227.79,
          411.42,
          459.44,
          117.33000000000001,
          445.49,
          408.73,
          40.379999999999995,
          291.82,
          169.67,
          326.71000000000004,
          167.36999999999998,
          350.05999999999995,
          436.4099999999999,
          212.41,
          286.05999999999995,
          407.96,
          218.76999999999998,
          150.3,
          550,
          514.9,
          273.5,
          98.83000000000001,
          219.57999999999998,
          74.32000000000001,
          315.02,
          370.92999999999995,
          433.2099999999999,
          80.58000000000001,
          343.28,
          397.71,
          447.97,
          491.15000000000003,
          433.5999999999999,
          277.39,
          268.74,
          57.11,
          96.56
         ],
         "y": [
          1777.85,
          707.88,
          412.9899999999999,
          2172.3999999999996,
          1109.9300000000003,
          1938.6599999999999,
          1211.16,
          1192.9,
          374.17999999999995,
          889.11,
          960.22,
          1102.0899999999997,
          433.08000000000004,
          1483.28,
          873.0300000000001,
          628.18,
          576.8399999999998,
          1616.7299999999998,
          560.16,
          452.40999999999997,
          283.61,
          1437.1600000000003,
          1099.5700000000002,
          640.1899999999999,
          781.53,
          891.2700000000001,
          996.1500000000001,
          591.69,
          741.37,
          760.09,
          1498.18,
          883.88,
          673.9200000000001,
          434.04,
          830.7199999999998,
          241.92,
          716.0899999999998,
          1464.63,
          1420.0500000000002,
          1424.6899999999998,
          293.66,
          527.03,
          1066.29,
          217.87000000000003,
          1497.29,
          439.85,
          314.9800000000001,
          432.71,
          434.08000000000004,
          1494.2800000000002,
          576.79,
          1731.36,
          282.62000000000006,
          367.51,
          445.2699999999999,
          1459.67,
          1405.71,
          1206.3299999999997,
          450.83000000000004,
          644.04,
          587.96,
          1575.0799999999995,
          530.8399999999999,
          1345.4399999999998,
          633.5799999999999,
          203.38,
          868.9,
          1598.41,
          600.75,
          440.75,
          207.94000000000003,
          554.64,
          903.4600000000002,
          1147.9099999999999,
          672.07,
          797.1300000000001,
          576.4199999999998,
          141.39999999999998,
          563.8000000000001,
          362.10999999999996,
          526.22,
          1292.82,
          918.6200000000001,
          1750.95,
          377.68999999999994,
          542.89,
          267.7900000000001,
          1381.8899999999999,
          1296.6999999999998,
          669.0699999999999,
          928.46,
          876.6700000000002,
          402.84000000000003,
          455.28000000000014,
          607.4000000000001,
          1174.2799999999997,
          262.54999999999995,
          766.3000000000001,
          1007.6599999999999,
          181.63,
          692.86,
          469.42999999999995,
          723.3399999999999,
          300.41,
          560.34,
          1111.56,
          892.4100000000002,
          822.0500000000001,
          988.4699999999999,
          294.46000000000004,
          678.94,
          1527.03,
          1356.7499999999998,
          559.5500000000001,
          343.02,
          378,
          188.09,
          610.4100000000001,
          618.8900000000001,
          897.0099999999999,
          304.7200000000001,
          665.7299999999999,
          897.3200000000002,
          1241.63,
          1718.86,
          1634.9099999999999,
          1104.1000000000001,
          641.5100000000001,
          225.30000000000007,
          350.33000000000004
         ]
        }
       ],
       "layout": {
        "template": {
         "data": {
          "bar": [
           {
            "error_x": {
             "color": "#2a3f5f"
            },
            "error_y": {
             "color": "#2a3f5f"
            },
            "marker": {
             "line": {
              "color": "#E5ECF6",
              "width": 0.5
             }
            },
            "type": "bar"
           }
          ],
          "barpolar": [
           {
            "marker": {
             "line": {
              "color": "#E5ECF6",
              "width": 0.5
             }
            },
            "type": "barpolar"
           }
          ],
          "carpet": [
           {
            "aaxis": {
             "endlinecolor": "#2a3f5f",
             "gridcolor": "white",
             "linecolor": "white",
             "minorgridcolor": "white",
             "startlinecolor": "#2a3f5f"
            },
            "baxis": {
             "endlinecolor": "#2a3f5f",
             "gridcolor": "white",
             "linecolor": "white",
             "minorgridcolor": "white",
             "startlinecolor": "#2a3f5f"
            },
            "type": "carpet"
           }
          ],
          "choropleth": [
           {
            "colorbar": {
             "outlinewidth": 0,
             "ticks": ""
            },
            "type": "choropleth"
           }
          ],
          "contour": [
           {
            "colorbar": {
             "outlinewidth": 0,
             "ticks": ""
            },
            "colorscale": [
             [
              0,
              "#0d0887"
             ],
             [
              0.1111111111111111,
              "#46039f"
             ],
             [
              0.2222222222222222,
              "#7201a8"
             ],
             [
              0.3333333333333333,
              "#9c179e"
             ],
             [
              0.4444444444444444,
              "#bd3786"
             ],
             [
              0.5555555555555556,
              "#d8576b"
             ],
             [
              0.6666666666666666,
              "#ed7953"
             ],
             [
              0.7777777777777778,
              "#fb9f3a"
             ],
             [
              0.8888888888888888,
              "#fdca26"
             ],
             [
              1,
              "#f0f921"
             ]
            ],
            "type": "contour"
           }
          ],
          "contourcarpet": [
           {
            "colorbar": {
             "outlinewidth": 0,
             "ticks": ""
            },
            "type": "contourcarpet"
           }
          ],
          "heatmap": [
           {
            "colorbar": {
             "outlinewidth": 0,
             "ticks": ""
            },
            "colorscale": [
             [
              0,
              "#0d0887"
             ],
             [
              0.1111111111111111,
              "#46039f"
             ],
             [
              0.2222222222222222,
              "#7201a8"
             ],
             [
              0.3333333333333333,
              "#9c179e"
             ],
             [
              0.4444444444444444,
              "#bd3786"
             ],
             [
              0.5555555555555556,
              "#d8576b"
             ],
             [
              0.6666666666666666,
              "#ed7953"
             ],
             [
              0.7777777777777778,
              "#fb9f3a"
             ],
             [
              0.8888888888888888,
              "#fdca26"
             ],
             [
              1,
              "#f0f921"
             ]
            ],
            "type": "heatmap"
           }
          ],
          "heatmapgl": [
           {
            "colorbar": {
             "outlinewidth": 0,
             "ticks": ""
            },
            "colorscale": [
             [
              0,
              "#0d0887"
             ],
             [
              0.1111111111111111,
              "#46039f"
             ],
             [
              0.2222222222222222,
              "#7201a8"
             ],
             [
              0.3333333333333333,
              "#9c179e"
             ],
             [
              0.4444444444444444,
              "#bd3786"
             ],
             [
              0.5555555555555556,
              "#d8576b"
             ],
             [
              0.6666666666666666,
              "#ed7953"
             ],
             [
              0.7777777777777778,
              "#fb9f3a"
             ],
             [
              0.8888888888888888,
              "#fdca26"
             ],
             [
              1,
              "#f0f921"
             ]
            ],
            "type": "heatmapgl"
           }
          ],
          "histogram": [
           {
            "marker": {
             "colorbar": {
              "outlinewidth": 0,
              "ticks": ""
             }
            },
            "type": "histogram"
           }
          ],
          "histogram2d": [
           {
            "colorbar": {
             "outlinewidth": 0,
             "ticks": ""
            },
            "colorscale": [
             [
              0,
              "#0d0887"
             ],
             [
              0.1111111111111111,
              "#46039f"
             ],
             [
              0.2222222222222222,
              "#7201a8"
             ],
             [
              0.3333333333333333,
              "#9c179e"
             ],
             [
              0.4444444444444444,
              "#bd3786"
             ],
             [
              0.5555555555555556,
              "#d8576b"
             ],
             [
              0.6666666666666666,
              "#ed7953"
             ],
             [
              0.7777777777777778,
              "#fb9f3a"
             ],
             [
              0.8888888888888888,
              "#fdca26"
             ],
             [
              1,
              "#f0f921"
             ]
            ],
            "type": "histogram2d"
           }
          ],
          "histogram2dcontour": [
           {
            "colorbar": {
             "outlinewidth": 0,
             "ticks": ""
            },
            "colorscale": [
             [
              0,
              "#0d0887"
             ],
             [
              0.1111111111111111,
              "#46039f"
             ],
             [
              0.2222222222222222,
              "#7201a8"
             ],
             [
              0.3333333333333333,
              "#9c179e"
             ],
             [
              0.4444444444444444,
              "#bd3786"
             ],
             [
              0.5555555555555556,
              "#d8576b"
             ],
             [
              0.6666666666666666,
              "#ed7953"
             ],
             [
              0.7777777777777778,
              "#fb9f3a"
             ],
             [
              0.8888888888888888,
              "#fdca26"
             ],
             [
              1,
              "#f0f921"
             ]
            ],
            "type": "histogram2dcontour"
           }
          ],
          "mesh3d": [
           {
            "colorbar": {
             "outlinewidth": 0,
             "ticks": ""
            },
            "type": "mesh3d"
           }
          ],
          "parcoords": [
           {
            "line": {
             "colorbar": {
              "outlinewidth": 0,
              "ticks": ""
             }
            },
            "type": "parcoords"
           }
          ],
          "pie": [
           {
            "automargin": true,
            "type": "pie"
           }
          ],
          "scatter": [
           {
            "marker": {
             "colorbar": {
              "outlinewidth": 0,
              "ticks": ""
             }
            },
            "type": "scatter"
           }
          ],
          "scatter3d": [
           {
            "line": {
             "colorbar": {
              "outlinewidth": 0,
              "ticks": ""
             }
            },
            "marker": {
             "colorbar": {
              "outlinewidth": 0,
              "ticks": ""
             }
            },
            "type": "scatter3d"
           }
          ],
          "scattercarpet": [
           {
            "marker": {
             "colorbar": {
              "outlinewidth": 0,
              "ticks": ""
             }
            },
            "type": "scattercarpet"
           }
          ],
          "scattergeo": [
           {
            "marker": {
             "colorbar": {
              "outlinewidth": 0,
              "ticks": ""
             }
            },
            "type": "scattergeo"
           }
          ],
          "scattergl": [
           {
            "marker": {
             "colorbar": {
              "outlinewidth": 0,
              "ticks": ""
             }
            },
            "type": "scattergl"
           }
          ],
          "scattermapbox": [
           {
            "marker": {
             "colorbar": {
              "outlinewidth": 0,
              "ticks": ""
             }
            },
            "type": "scattermapbox"
           }
          ],
          "scatterpolar": [
           {
            "marker": {
             "colorbar": {
              "outlinewidth": 0,
              "ticks": ""
             }
            },
            "type": "scatterpolar"
           }
          ],
          "scatterpolargl": [
           {
            "marker": {
             "colorbar": {
              "outlinewidth": 0,
              "ticks": ""
             }
            },
            "type": "scatterpolargl"
           }
          ],
          "scatterternary": [
           {
            "marker": {
             "colorbar": {
              "outlinewidth": 0,
              "ticks": ""
             }
            },
            "type": "scatterternary"
           }
          ],
          "surface": [
           {
            "colorbar": {
             "outlinewidth": 0,
             "ticks": ""
            },
            "colorscale": [
             [
              0,
              "#0d0887"
             ],
             [
              0.1111111111111111,
              "#46039f"
             ],
             [
              0.2222222222222222,
              "#7201a8"
             ],
             [
              0.3333333333333333,
              "#9c179e"
             ],
             [
              0.4444444444444444,
              "#bd3786"
             ],
             [
              0.5555555555555556,
              "#d8576b"
             ],
             [
              0.6666666666666666,
              "#ed7953"
             ],
             [
              0.7777777777777778,
              "#fb9f3a"
             ],
             [
              0.8888888888888888,
              "#fdca26"
             ],
             [
              1,
              "#f0f921"
             ]
            ],
            "type": "surface"
           }
          ],
          "table": [
           {
            "cells": {
             "fill": {
              "color": "#EBF0F8"
             },
             "line": {
              "color": "white"
             }
            },
            "header": {
             "fill": {
              "color": "#C8D4E3"
             },
             "line": {
              "color": "white"
             }
            },
            "type": "table"
           }
          ]
         },
         "layout": {
          "annotationdefaults": {
           "arrowcolor": "#2a3f5f",
           "arrowhead": 0,
           "arrowwidth": 1
          },
          "autotypenumbers": "strict",
          "coloraxis": {
           "colorbar": {
            "outlinewidth": 0,
            "ticks": ""
           }
          },
          "colorscale": {
           "diverging": [
            [
             0,
             "#8e0152"
            ],
            [
             0.1,
             "#c51b7d"
            ],
            [
             0.2,
             "#de77ae"
            ],
            [
             0.3,
             "#f1b6da"
            ],
            [
             0.4,
             "#fde0ef"
            ],
            [
             0.5,
             "#f7f7f7"
            ],
            [
             0.6,
             "#e6f5d0"
            ],
            [
             0.7,
             "#b8e186"
            ],
            [
             0.8,
             "#7fbc41"
            ],
            [
             0.9,
             "#4d9221"
            ],
            [
             1,
             "#276419"
            ]
           ],
           "sequential": [
            [
             0,
             "#0d0887"
            ],
            [
             0.1111111111111111,
             "#46039f"
            ],
            [
             0.2222222222222222,
             "#7201a8"
            ],
            [
             0.3333333333333333,
             "#9c179e"
            ],
            [
             0.4444444444444444,
             "#bd3786"
            ],
            [
             0.5555555555555556,
             "#d8576b"
            ],
            [
             0.6666666666666666,
             "#ed7953"
            ],
            [
             0.7777777777777778,
             "#fb9f3a"
            ],
            [
             0.8888888888888888,
             "#fdca26"
            ],
            [
             1,
             "#f0f921"
            ]
           ],
           "sequentialminus": [
            [
             0,
             "#0d0887"
            ],
            [
             0.1111111111111111,
             "#46039f"
            ],
            [
             0.2222222222222222,
             "#7201a8"
            ],
            [
             0.3333333333333333,
             "#9c179e"
            ],
            [
             0.4444444444444444,
             "#bd3786"
            ],
            [
             0.5555555555555556,
             "#d8576b"
            ],
            [
             0.6666666666666666,
             "#ed7953"
            ],
            [
             0.7777777777777778,
             "#fb9f3a"
            ],
            [
             0.8888888888888888,
             "#fdca26"
            ],
            [
             1,
             "#f0f921"
            ]
           ]
          },
          "colorway": [
           "#636efa",
           "#EF553B",
           "#00cc96",
           "#ab63fa",
           "#FFA15A",
           "#19d3f3",
           "#FF6692",
           "#B6E880",
           "#FF97FF",
           "#FECB52"
          ],
          "font": {
           "color": "#2a3f5f"
          },
          "geo": {
           "bgcolor": "white",
           "lakecolor": "white",
           "landcolor": "#E5ECF6",
           "showlakes": true,
           "showland": true,
           "subunitcolor": "white"
          },
          "hoverlabel": {
           "align": "left"
          },
          "hovermode": "closest",
          "mapbox": {
           "style": "light"
          },
          "paper_bgcolor": "white",
          "plot_bgcolor": "#E5ECF6",
          "polar": {
           "angularaxis": {
            "gridcolor": "white",
            "linecolor": "white",
            "ticks": ""
           },
           "bgcolor": "#E5ECF6",
           "radialaxis": {
            "gridcolor": "white",
            "linecolor": "white",
            "ticks": ""
           }
          },
          "scene": {
           "xaxis": {
            "backgroundcolor": "#E5ECF6",
            "gridcolor": "white",
            "gridwidth": 2,
            "linecolor": "white",
            "showbackground": true,
            "ticks": "",
            "zerolinecolor": "white"
           },
           "yaxis": {
            "backgroundcolor": "#E5ECF6",
            "gridcolor": "white",
            "gridwidth": 2,
            "linecolor": "white",
            "showbackground": true,
            "ticks": "",
            "zerolinecolor": "white"
           },
           "zaxis": {
            "backgroundcolor": "#E5ECF6",
            "gridcolor": "white",
            "gridwidth": 2,
            "linecolor": "white",
            "showbackground": true,
            "ticks": "",
            "zerolinecolor": "white"
           }
          },
          "shapedefaults": {
           "line": {
            "color": "#2a3f5f"
           }
          },
          "ternary": {
           "aaxis": {
            "gridcolor": "white",
            "linecolor": "white",
            "ticks": ""
           },
           "baxis": {
            "gridcolor": "white",
            "linecolor": "white",
            "ticks": ""
           },
           "bgcolor": "#E5ECF6",
           "caxis": {
            "gridcolor": "white",
            "linecolor": "white",
            "ticks": ""
           }
          },
          "title": {
           "x": 0.05
          },
          "xaxis": {
           "automargin": true,
           "gridcolor": "white",
           "linecolor": "white",
           "ticks": "",
           "title": {
            "standoff": 15
           },
           "zerolinecolor": "white",
           "zerolinewidth": 2
          },
          "yaxis": {
           "automargin": true,
           "gridcolor": "white",
           "linecolor": "white",
           "ticks": "",
           "title": {
            "standoff": 15
           },
           "zerolinecolor": "white",
           "zerolinewidth": 2
          }
         }
        },
        "title": {
         "text": "Total Country-Level Consumption versus Total CO<sub>2</sub> Emission"
        },
        "xaxis": {
         "title": {
          "text": "Total Consumption (kg/person/year)"
         }
        },
        "yaxis": {
         "title": {
          "text": "Total CO<sub>2</sub> Emission (kg CO<sub>2</sub>/person/year)"
         }
        }
       }
      },
      "text/html": [
       "<div>                            <div id=\"85b6113c-293d-4cab-a887-398073404e06\" class=\"plotly-graph-div\" style=\"height:525px; width:100%;\"></div>            <script type=\"text/javascript\">                require([\"plotly\"], function(Plotly) {                    window.PLOTLYENV=window.PLOTLYENV || {};                                    if (document.getElementById(\"85b6113c-293d-4cab-a887-398073404e06\")) {                    Plotly.newPlot(                        \"85b6113c-293d-4cab-a887-398073404e06\",                        [{\"mode\": \"markers\", \"type\": \"scatter\", \"x\": [532.73, 364.51, 115.99000000000001, 429.40999999999997, 407.11, 465.09000000000003, 469.14, 301.45, 236.6, 311.26, 321.5300000000001, 463.4599999999999, 232.76999999999998, 306.62, 204.25, 313.64, 188.85000000000002, 355.15999999999997, 348.42999999999995, 225.06000000000003, 97.09, 412.55, 335.06, 283.9, 235.02999999999994, 343.07, 433.87, 291.01000000000005, 303.65, 384.61, 499.06999999999994, 291.36, 303.48, 209.76, 464.9600000000001, 85.77000000000001, 252.52, 639.7900000000001, 479.17, 346.65999999999997, 180.56000000000003, 362.22, 461.09999999999997, 101.21000000000001, 493.63, 254.25, 133.29999999999998, 161.41000000000003, 185.76, 426.02000000000004, 352.99, 472.31000000000006, 227.7, 224.99, 292.26, 518.65, 457.75, 513.98, 273.02, 286.46000000000004, 291.41999999999996, 468.09999999999997, 162.56, 410.37999999999994, 348.54, 131.04, 555.01, 497.90000000000003, 321.47, 155.63, 51.0, 282.74, 476.32999999999987, 457.53999999999996, 358.12, 242.72, 296.01, 63.410000000000004, 275.1, 151.14999999999998, 208.55, 534.17, 321.24, 360.9200000000001, 196.95, 101.14000000000001, 94.22999999999999, 487.49, 363.66999999999996, 330.95, 260.53000000000003, 189.17, 215.19000000000003, 227.79, 411.42, 459.44, 117.33000000000001, 445.49, 408.73, 40.379999999999995, 291.82, 169.67, 326.71000000000004, 167.36999999999998, 350.05999999999995, 436.4099999999999, 212.41, 286.05999999999995, 407.96, 218.76999999999998, 150.3, 550.0, 514.9, 273.5, 98.83000000000001, 219.57999999999998, 74.32000000000001, 315.02, 370.92999999999995, 433.2099999999999, 80.58000000000001, 343.28, 397.71, 447.97, 491.15000000000003, 433.5999999999999, 277.39, 268.74, 57.11, 96.56], \"y\": [1777.85, 707.88, 412.9899999999999, 2172.3999999999996, 1109.9300000000003, 1938.6599999999999, 1211.16, 1192.9, 374.17999999999995, 889.11, 960.22, 1102.0899999999997, 433.08000000000004, 1483.28, 873.0300000000001, 628.18, 576.8399999999998, 1616.7299999999998, 560.16, 452.40999999999997, 283.61, 1437.1600000000003, 1099.5700000000002, 640.1899999999999, 781.53, 891.2700000000001, 996.1500000000001, 591.69, 741.37, 760.09, 1498.18, 883.88, 673.9200000000001, 434.04, 830.7199999999998, 241.92, 716.0899999999998, 1464.63, 1420.0500000000002, 1424.6899999999998, 293.66, 527.03, 1066.29, 217.87000000000003, 1497.29, 439.85, 314.9800000000001, 432.71, 434.08000000000004, 1494.2800000000002, 576.79, 1731.36, 282.62000000000006, 367.51, 445.2699999999999, 1459.67, 1405.71, 1206.3299999999997, 450.83000000000004, 644.04, 587.96, 1575.0799999999995, 530.8399999999999, 1345.4399999999998, 633.5799999999999, 203.38, 868.9, 1598.41, 600.75, 440.75, 207.94000000000003, 554.64, 903.4600000000002, 1147.9099999999999, 672.07, 797.1300000000001, 576.4199999999998, 141.39999999999998, 563.8000000000001, 362.10999999999996, 526.22, 1292.82, 918.6200000000001, 1750.95, 377.68999999999994, 542.89, 267.7900000000001, 1381.8899999999999, 1296.6999999999998, 669.0699999999999, 928.46, 876.6700000000002, 402.84000000000003, 455.28000000000014, 607.4000000000001, 1174.2799999999997, 262.54999999999995, 766.3000000000001, 1007.6599999999999, 181.63, 692.86, 469.42999999999995, 723.3399999999999, 300.41, 560.34, 1111.56, 892.4100000000002, 822.0500000000001, 988.4699999999999, 294.46000000000004, 678.94, 1527.03, 1356.7499999999998, 559.5500000000001, 343.02, 378.0, 188.09, 610.4100000000001, 618.8900000000001, 897.0099999999999, 304.7200000000001, 665.7299999999999, 897.3200000000002, 1241.63, 1718.86, 1634.9099999999999, 1104.1000000000001, 641.5100000000001, 225.30000000000007, 350.33000000000004]}],                        {\"template\": {\"data\": {\"bar\": [{\"error_x\": {\"color\": \"#2a3f5f\"}, \"error_y\": {\"color\": \"#2a3f5f\"}, \"marker\": {\"line\": {\"color\": \"#E5ECF6\", \"width\": 0.5}}, \"type\": \"bar\"}], \"barpolar\": [{\"marker\": {\"line\": {\"color\": \"#E5ECF6\", \"width\": 0.5}}, \"type\": \"barpolar\"}], \"carpet\": [{\"aaxis\": {\"endlinecolor\": \"#2a3f5f\", \"gridcolor\": \"white\", \"linecolor\": \"white\", \"minorgridcolor\": \"white\", \"startlinecolor\": \"#2a3f5f\"}, \"baxis\": {\"endlinecolor\": \"#2a3f5f\", \"gridcolor\": \"white\", \"linecolor\": \"white\", \"minorgridcolor\": \"white\", \"startlinecolor\": \"#2a3f5f\"}, \"type\": \"carpet\"}], \"choropleth\": [{\"colorbar\": {\"outlinewidth\": 0, \"ticks\": \"\"}, \"type\": \"choropleth\"}], \"contour\": [{\"colorbar\": {\"outlinewidth\": 0, \"ticks\": \"\"}, \"colorscale\": [[0.0, \"#0d0887\"], [0.1111111111111111, \"#46039f\"], [0.2222222222222222, \"#7201a8\"], [0.3333333333333333, \"#9c179e\"], [0.4444444444444444, \"#bd3786\"], [0.5555555555555556, \"#d8576b\"], [0.6666666666666666, \"#ed7953\"], [0.7777777777777778, \"#fb9f3a\"], [0.8888888888888888, \"#fdca26\"], [1.0, \"#f0f921\"]], \"type\": \"contour\"}], \"contourcarpet\": [{\"colorbar\": {\"outlinewidth\": 0, \"ticks\": \"\"}, \"type\": \"contourcarpet\"}], \"heatmap\": [{\"colorbar\": {\"outlinewidth\": 0, \"ticks\": \"\"}, \"colorscale\": [[0.0, \"#0d0887\"], [0.1111111111111111, \"#46039f\"], [0.2222222222222222, \"#7201a8\"], [0.3333333333333333, \"#9c179e\"], [0.4444444444444444, \"#bd3786\"], [0.5555555555555556, \"#d8576b\"], [0.6666666666666666, \"#ed7953\"], [0.7777777777777778, \"#fb9f3a\"], [0.8888888888888888, \"#fdca26\"], [1.0, \"#f0f921\"]], \"type\": \"heatmap\"}], \"heatmapgl\": [{\"colorbar\": {\"outlinewidth\": 0, \"ticks\": \"\"}, \"colorscale\": [[0.0, \"#0d0887\"], [0.1111111111111111, \"#46039f\"], [0.2222222222222222, \"#7201a8\"], [0.3333333333333333, \"#9c179e\"], [0.4444444444444444, \"#bd3786\"], [0.5555555555555556, \"#d8576b\"], [0.6666666666666666, \"#ed7953\"], [0.7777777777777778, \"#fb9f3a\"], [0.8888888888888888, \"#fdca26\"], [1.0, \"#f0f921\"]], \"type\": \"heatmapgl\"}], \"histogram\": [{\"marker\": {\"colorbar\": {\"outlinewidth\": 0, \"ticks\": \"\"}}, \"type\": \"histogram\"}], \"histogram2d\": [{\"colorbar\": {\"outlinewidth\": 0, \"ticks\": \"\"}, \"colorscale\": [[0.0, \"#0d0887\"], [0.1111111111111111, \"#46039f\"], [0.2222222222222222, \"#7201a8\"], [0.3333333333333333, \"#9c179e\"], [0.4444444444444444, \"#bd3786\"], [0.5555555555555556, \"#d8576b\"], [0.6666666666666666, \"#ed7953\"], [0.7777777777777778, \"#fb9f3a\"], [0.8888888888888888, \"#fdca26\"], [1.0, \"#f0f921\"]], \"type\": \"histogram2d\"}], \"histogram2dcontour\": [{\"colorbar\": {\"outlinewidth\": 0, \"ticks\": \"\"}, \"colorscale\": [[0.0, \"#0d0887\"], [0.1111111111111111, \"#46039f\"], [0.2222222222222222, \"#7201a8\"], [0.3333333333333333, \"#9c179e\"], [0.4444444444444444, \"#bd3786\"], [0.5555555555555556, \"#d8576b\"], [0.6666666666666666, \"#ed7953\"], [0.7777777777777778, \"#fb9f3a\"], [0.8888888888888888, \"#fdca26\"], [1.0, \"#f0f921\"]], \"type\": \"histogram2dcontour\"}], \"mesh3d\": [{\"colorbar\": {\"outlinewidth\": 0, \"ticks\": \"\"}, \"type\": \"mesh3d\"}], \"parcoords\": [{\"line\": {\"colorbar\": {\"outlinewidth\": 0, \"ticks\": \"\"}}, \"type\": \"parcoords\"}], \"pie\": [{\"automargin\": true, \"type\": \"pie\"}], \"scatter\": [{\"marker\": {\"colorbar\": {\"outlinewidth\": 0, \"ticks\": \"\"}}, \"type\": \"scatter\"}], \"scatter3d\": [{\"line\": {\"colorbar\": {\"outlinewidth\": 0, \"ticks\": \"\"}}, \"marker\": {\"colorbar\": {\"outlinewidth\": 0, \"ticks\": \"\"}}, \"type\": \"scatter3d\"}], \"scattercarpet\": [{\"marker\": {\"colorbar\": {\"outlinewidth\": 0, \"ticks\": \"\"}}, \"type\": \"scattercarpet\"}], \"scattergeo\": [{\"marker\": {\"colorbar\": {\"outlinewidth\": 0, \"ticks\": \"\"}}, \"type\": \"scattergeo\"}], \"scattergl\": [{\"marker\": {\"colorbar\": {\"outlinewidth\": 0, \"ticks\": \"\"}}, \"type\": \"scattergl\"}], \"scattermapbox\": [{\"marker\": {\"colorbar\": {\"outlinewidth\": 0, \"ticks\": \"\"}}, \"type\": \"scattermapbox\"}], \"scatterpolar\": [{\"marker\": {\"colorbar\": {\"outlinewidth\": 0, \"ticks\": \"\"}}, \"type\": \"scatterpolar\"}], \"scatterpolargl\": [{\"marker\": {\"colorbar\": {\"outlinewidth\": 0, \"ticks\": \"\"}}, \"type\": \"scatterpolargl\"}], \"scatterternary\": [{\"marker\": {\"colorbar\": {\"outlinewidth\": 0, \"ticks\": \"\"}}, \"type\": \"scatterternary\"}], \"surface\": [{\"colorbar\": {\"outlinewidth\": 0, \"ticks\": \"\"}, \"colorscale\": [[0.0, \"#0d0887\"], [0.1111111111111111, \"#46039f\"], [0.2222222222222222, \"#7201a8\"], [0.3333333333333333, \"#9c179e\"], [0.4444444444444444, \"#bd3786\"], [0.5555555555555556, \"#d8576b\"], [0.6666666666666666, \"#ed7953\"], [0.7777777777777778, \"#fb9f3a\"], [0.8888888888888888, \"#fdca26\"], [1.0, \"#f0f921\"]], \"type\": \"surface\"}], \"table\": [{\"cells\": {\"fill\": {\"color\": \"#EBF0F8\"}, \"line\": {\"color\": \"white\"}}, \"header\": {\"fill\": {\"color\": \"#C8D4E3\"}, \"line\": {\"color\": \"white\"}}, \"type\": \"table\"}]}, \"layout\": {\"annotationdefaults\": {\"arrowcolor\": \"#2a3f5f\", \"arrowhead\": 0, \"arrowwidth\": 1}, \"autotypenumbers\": \"strict\", \"coloraxis\": {\"colorbar\": {\"outlinewidth\": 0, \"ticks\": \"\"}}, \"colorscale\": {\"diverging\": [[0, \"#8e0152\"], [0.1, \"#c51b7d\"], [0.2, \"#de77ae\"], [0.3, \"#f1b6da\"], [0.4, \"#fde0ef\"], [0.5, \"#f7f7f7\"], [0.6, \"#e6f5d0\"], [0.7, \"#b8e186\"], [0.8, \"#7fbc41\"], [0.9, \"#4d9221\"], [1, \"#276419\"]], \"sequential\": [[0.0, \"#0d0887\"], [0.1111111111111111, \"#46039f\"], [0.2222222222222222, \"#7201a8\"], [0.3333333333333333, \"#9c179e\"], [0.4444444444444444, \"#bd3786\"], [0.5555555555555556, \"#d8576b\"], [0.6666666666666666, \"#ed7953\"], [0.7777777777777778, \"#fb9f3a\"], [0.8888888888888888, \"#fdca26\"], [1.0, \"#f0f921\"]], \"sequentialminus\": [[0.0, \"#0d0887\"], [0.1111111111111111, \"#46039f\"], [0.2222222222222222, \"#7201a8\"], [0.3333333333333333, \"#9c179e\"], [0.4444444444444444, \"#bd3786\"], [0.5555555555555556, \"#d8576b\"], [0.6666666666666666, \"#ed7953\"], [0.7777777777777778, \"#fb9f3a\"], [0.8888888888888888, \"#fdca26\"], [1.0, \"#f0f921\"]]}, \"colorway\": [\"#636efa\", \"#EF553B\", \"#00cc96\", \"#ab63fa\", \"#FFA15A\", \"#19d3f3\", \"#FF6692\", \"#B6E880\", \"#FF97FF\", \"#FECB52\"], \"font\": {\"color\": \"#2a3f5f\"}, \"geo\": {\"bgcolor\": \"white\", \"lakecolor\": \"white\", \"landcolor\": \"#E5ECF6\", \"showlakes\": true, \"showland\": true, \"subunitcolor\": \"white\"}, \"hoverlabel\": {\"align\": \"left\"}, \"hovermode\": \"closest\", \"mapbox\": {\"style\": \"light\"}, \"paper_bgcolor\": \"white\", \"plot_bgcolor\": \"#E5ECF6\", \"polar\": {\"angularaxis\": {\"gridcolor\": \"white\", \"linecolor\": \"white\", \"ticks\": \"\"}, \"bgcolor\": \"#E5ECF6\", \"radialaxis\": {\"gridcolor\": \"white\", \"linecolor\": \"white\", \"ticks\": \"\"}}, \"scene\": {\"xaxis\": {\"backgroundcolor\": \"#E5ECF6\", \"gridcolor\": \"white\", \"gridwidth\": 2, \"linecolor\": \"white\", \"showbackground\": true, \"ticks\": \"\", \"zerolinecolor\": \"white\"}, \"yaxis\": {\"backgroundcolor\": \"#E5ECF6\", \"gridcolor\": \"white\", \"gridwidth\": 2, \"linecolor\": \"white\", \"showbackground\": true, \"ticks\": \"\", \"zerolinecolor\": \"white\"}, \"zaxis\": {\"backgroundcolor\": \"#E5ECF6\", \"gridcolor\": \"white\", \"gridwidth\": 2, \"linecolor\": \"white\", \"showbackground\": true, \"ticks\": \"\", \"zerolinecolor\": \"white\"}}, \"shapedefaults\": {\"line\": {\"color\": \"#2a3f5f\"}}, \"ternary\": {\"aaxis\": {\"gridcolor\": \"white\", \"linecolor\": \"white\", \"ticks\": \"\"}, \"baxis\": {\"gridcolor\": \"white\", \"linecolor\": \"white\", \"ticks\": \"\"}, \"bgcolor\": \"#E5ECF6\", \"caxis\": {\"gridcolor\": \"white\", \"linecolor\": \"white\", \"ticks\": \"\"}}, \"title\": {\"x\": 0.05}, \"xaxis\": {\"automargin\": true, \"gridcolor\": \"white\", \"linecolor\": \"white\", \"ticks\": \"\", \"title\": {\"standoff\": 15}, \"zerolinecolor\": \"white\", \"zerolinewidth\": 2}, \"yaxis\": {\"automargin\": true, \"gridcolor\": \"white\", \"linecolor\": \"white\", \"ticks\": \"\", \"title\": {\"standoff\": 15}, \"zerolinecolor\": \"white\", \"zerolinewidth\": 2}}}, \"title\": {\"text\": \"Total Country-Level Consumption versus Total CO<sub>2</sub> Emission\"}, \"xaxis\": {\"title\": {\"text\": \"Total Consumption (kg/person/year)\"}}, \"yaxis\": {\"title\": {\"text\": \"Total CO<sub>2</sub> Emission (kg CO<sub>2</sub>/person/year)\"}}},                        {\"responsive\": true}                    ).then(function(){\n",
       "                            \n",
       "var gd = document.getElementById('85b6113c-293d-4cab-a887-398073404e06');\n",
       "var x = new MutationObserver(function (mutations, observer) {{\n",
       "        var display = window.getComputedStyle(gd).display;\n",
       "        if (!display || display === 'none') {{\n",
       "            console.log([gd, 'removed!']);\n",
       "            Plotly.purge(gd);\n",
       "            observer.disconnect();\n",
       "        }}\n",
       "}});\n",
       "\n",
       "// Listen for the removal of the full notebook cells\n",
       "var notebookContainer = gd.closest('#notebook-container');\n",
       "if (notebookContainer) {{\n",
       "    x.observe(notebookContainer, {childList: true});\n",
       "}}\n",
       "\n",
       "// Listen for the clearing of the current output cell\n",
       "var outputEl = gd.closest('.output');\n",
       "if (outputEl) {{\n",
       "    x.observe(outputEl, {childList: true});\n",
       "}}\n",
       "\n",
       "                        })                };                });            </script>        </div>"
      ]
     },
     "metadata": {},
     "output_type": "display_data"
    }
   ],
   "source": [
    "fig = go.Figure(data = [\n",
    "    go.Scatter(x = consumption_co2['Total Consumption'],\n",
    "          y = consumption_co2['Total CO2 Emission'],\n",
    "          mode = 'markers')\n",
    "])\n",
    "\n",
    "fig.update_layout(title = \"Total Country-Level Consumption versus Total CO<sub>2</sub> Emission\",\n",
    "                 xaxis_title = \"Total Consumption (kg/person/year)\",\n",
    "                 yaxis_title = \"Total CO<sub>2</sub> Emission (kg CO<sub>2</sub>/person/year)\")\n",
    "fig.show()"
   ]
  },
  {
   "cell_type": "markdown",
   "metadata": {},
   "source": [
    "We now proceed to a more direct analysis and visualization of the economics of carbon footprints. Using the economic classification of countries given by the World Bank for the 2018 fiscal year (as explained in the *More Data Preparation* section of this notebook), the total carbon dioxide emission per economic classification is computed."
   ]
  },
  {
   "cell_type": "code",
   "execution_count": 33,
   "metadata": {},
   "outputs": [
    {
     "data": {
      "text/html": [
       "<div>\n",
       "<style scoped>\n",
       "    .dataframe tbody tr th:only-of-type {\n",
       "        vertical-align: middle;\n",
       "    }\n",
       "\n",
       "    .dataframe tbody tr th {\n",
       "        vertical-align: top;\n",
       "    }\n",
       "\n",
       "    .dataframe thead th {\n",
       "        text-align: right;\n",
       "    }\n",
       "</style>\n",
       "<table border=\"1\" class=\"dataframe\">\n",
       "  <thead>\n",
       "    <tr style=\"text-align: right;\">\n",
       "      <th></th>\n",
       "      <th>economy</th>\n",
       "      <th>Beef</th>\n",
       "      <th>Eggs</th>\n",
       "      <th>Fish</th>\n",
       "      <th>Lamb &amp; Goat</th>\n",
       "      <th>Milk &amp; Cheese</th>\n",
       "      <th>Nuts &amp; Peanut Butter</th>\n",
       "      <th>Pork</th>\n",
       "      <th>Poultry</th>\n",
       "      <th>Rice</th>\n",
       "      <th>Soybeans</th>\n",
       "      <th>Wheat &amp; Wheat Products</th>\n",
       "      <th>TOTAL</th>\n",
       "    </tr>\n",
       "  </thead>\n",
       "  <tbody>\n",
       "    <tr>\n",
       "      <th>0</th>\n",
       "      <td>High income</td>\n",
       "      <td>891.01</td>\n",
       "      <td>590.25</td>\n",
       "      <td>1113.10</td>\n",
       "      <td>192.05</td>\n",
       "      <td>10219.76</td>\n",
       "      <td>283.21</td>\n",
       "      <td>1508.28</td>\n",
       "      <td>1581.67</td>\n",
       "      <td>866.64</td>\n",
       "      <td>49.53</td>\n",
       "      <td>4771.82</td>\n",
       "      <td>22067.32</td>\n",
       "    </tr>\n",
       "    <tr>\n",
       "      <th>1</th>\n",
       "      <td>Upper middle income</td>\n",
       "      <td>451.95</td>\n",
       "      <td>341.52</td>\n",
       "      <td>588.20</td>\n",
       "      <td>81.92</td>\n",
       "      <td>4250.35</td>\n",
       "      <td>111.16</td>\n",
       "      <td>424.61</td>\n",
       "      <td>832.05</td>\n",
       "      <td>1010.39</td>\n",
       "      <td>30.25</td>\n",
       "      <td>2760.48</td>\n",
       "      <td>10882.88</td>\n",
       "    </tr>\n",
       "    <tr>\n",
       "      <th>2</th>\n",
       "      <td>Lower middle income</td>\n",
       "      <td>189.20</td>\n",
       "      <td>116.47</td>\n",
       "      <td>427.06</td>\n",
       "      <td>46.57</td>\n",
       "      <td>1611.10</td>\n",
       "      <td>103.04</td>\n",
       "      <td>138.67</td>\n",
       "      <td>309.26</td>\n",
       "      <td>1399.29</td>\n",
       "      <td>27.27</td>\n",
       "      <td>1587.14</td>\n",
       "      <td>5955.07</td>\n",
       "    </tr>\n",
       "    <tr>\n",
       "      <th>3</th>\n",
       "      <td>Low income</td>\n",
       "      <td>43.88</td>\n",
       "      <td>13.05</td>\n",
       "      <td>118.96</td>\n",
       "      <td>17.48</td>\n",
       "      <td>269.50</td>\n",
       "      <td>40.43</td>\n",
       "      <td>24.52</td>\n",
       "      <td>35.52</td>\n",
       "      <td>542.45</td>\n",
       "      <td>4.82</td>\n",
       "      <td>182.00</td>\n",
       "      <td>1292.61</td>\n",
       "    </tr>\n",
       "  </tbody>\n",
       "</table>\n",
       "</div>"
      ],
      "text/plain": [
       "               economy    Beef    Eggs     Fish  Lamb & Goat  Milk & Cheese  \\\n",
       "0          High income  891.01  590.25  1113.10       192.05       10219.76   \n",
       "1  Upper middle income  451.95  341.52   588.20        81.92        4250.35   \n",
       "2  Lower middle income  189.20  116.47   427.06        46.57        1611.10   \n",
       "3           Low income   43.88   13.05   118.96        17.48         269.50   \n",
       "\n",
       "   Nuts & Peanut Butter     Pork  Poultry     Rice  Soybeans  \\\n",
       "0                283.21  1508.28  1581.67   866.64     49.53   \n",
       "1                111.16   424.61   832.05  1010.39     30.25   \n",
       "2                103.04   138.67   309.26  1399.29     27.27   \n",
       "3                 40.43    24.52    35.52   542.45      4.82   \n",
       "\n",
       "   Wheat & Wheat Products     TOTAL  \n",
       "0                 4771.82  22067.32  \n",
       "1                 2760.48  10882.88  \n",
       "2                 1587.14   5955.07  \n",
       "3                  182.00   1292.61  "
      ]
     },
     "execution_count": 33,
     "metadata": {},
     "output_type": "execute_result"
    }
   ],
   "source": [
    "economies_co2 = countries_economies.groupby(['economy'], as_index = False).sum()\n",
    "economies_co2 = economies_co2.sort_values(by = 'TOTAL', ascending = False).reset_index(drop = True)\n",
    "\n",
    "economies_co2"
   ]
  },
  {
   "cell_type": "markdown",
   "metadata": {},
   "source": [
    "**An interesting statistic to be included in the bar graph generated below is the \"mileage\" of carbon dioxide emission.** \n",
    "\n",
    "Oftentimes, it is easy to take the carbon footprint of food production for granted since most of us are on the consuming side. However, the volume of carbon dioxide and greenhouse gas emission from farm gates alone (not even including additional footprint left by the transportation of these products and wastage) is comparable to that from a more familiar example of a climate change-contributory habit &mdash; driving petrol-fueled vehicles. \n",
    "\n",
    "The computation used here is borrowed from the information provided by Stylianou, Guibourg, and Briggs of BBC (2019): <blockquote>[D]riving a regular petrol car produces 392g of CO<sub>2</sub>/mile over its entire lifecycle, including emissions from the vehicle's production, fuel production and exhaust emissions per mile.</blockquote>"
   ]
  },
  {
   "cell_type": "code",
   "execution_count": 34,
   "metadata": {},
   "outputs": [],
   "source": [
    "# Divide 392g by 1000 since this project uses kg\n",
    "MILEAGE_CONVERSION = 0.392\n",
    "\n",
    "mileage = economies_co2['TOTAL'] / MILEAGE_CONVERSION\n",
    "mileage = ['%.2f miles' % m for m in mileage]"
   ]
  },
  {
   "cell_type": "markdown",
   "metadata": {},
   "source": [
    "*Note that this is an interactive graph. Hovering allows for a more granular look at the data.*"
   ]
  },
  {
   "cell_type": "code",
   "execution_count": 35,
   "metadata": {
    "scrolled": false
   },
   "outputs": [
    {
     "data": {
      "application/vnd.plotly.v1+json": {
       "config": {
        "plotlyServerURL": "https://plot.ly"
       },
       "data": [
        {
         "name": "Consumption",
         "text": [
          "56294.18 miles",
          "27762.45 miles",
          "15191.51 miles",
          "3297.47 miles"
         ],
         "textposition": "auto",
         "type": "bar",
         "x": [
          "High income",
          "Upper middle income",
          "Lower middle income",
          "Low income"
         ],
         "y": [
          22067.320000000003,
          10882.88,
          5955.069999999999,
          1292.61
         ]
        }
       ],
       "layout": {
        "template": {
         "data": {
          "bar": [
           {
            "error_x": {
             "color": "#2a3f5f"
            },
            "error_y": {
             "color": "#2a3f5f"
            },
            "marker": {
             "line": {
              "color": "#E5ECF6",
              "width": 0.5
             }
            },
            "type": "bar"
           }
          ],
          "barpolar": [
           {
            "marker": {
             "line": {
              "color": "#E5ECF6",
              "width": 0.5
             }
            },
            "type": "barpolar"
           }
          ],
          "carpet": [
           {
            "aaxis": {
             "endlinecolor": "#2a3f5f",
             "gridcolor": "white",
             "linecolor": "white",
             "minorgridcolor": "white",
             "startlinecolor": "#2a3f5f"
            },
            "baxis": {
             "endlinecolor": "#2a3f5f",
             "gridcolor": "white",
             "linecolor": "white",
             "minorgridcolor": "white",
             "startlinecolor": "#2a3f5f"
            },
            "type": "carpet"
           }
          ],
          "choropleth": [
           {
            "colorbar": {
             "outlinewidth": 0,
             "ticks": ""
            },
            "type": "choropleth"
           }
          ],
          "contour": [
           {
            "colorbar": {
             "outlinewidth": 0,
             "ticks": ""
            },
            "colorscale": [
             [
              0,
              "#0d0887"
             ],
             [
              0.1111111111111111,
              "#46039f"
             ],
             [
              0.2222222222222222,
              "#7201a8"
             ],
             [
              0.3333333333333333,
              "#9c179e"
             ],
             [
              0.4444444444444444,
              "#bd3786"
             ],
             [
              0.5555555555555556,
              "#d8576b"
             ],
             [
              0.6666666666666666,
              "#ed7953"
             ],
             [
              0.7777777777777778,
              "#fb9f3a"
             ],
             [
              0.8888888888888888,
              "#fdca26"
             ],
             [
              1,
              "#f0f921"
             ]
            ],
            "type": "contour"
           }
          ],
          "contourcarpet": [
           {
            "colorbar": {
             "outlinewidth": 0,
             "ticks": ""
            },
            "type": "contourcarpet"
           }
          ],
          "heatmap": [
           {
            "colorbar": {
             "outlinewidth": 0,
             "ticks": ""
            },
            "colorscale": [
             [
              0,
              "#0d0887"
             ],
             [
              0.1111111111111111,
              "#46039f"
             ],
             [
              0.2222222222222222,
              "#7201a8"
             ],
             [
              0.3333333333333333,
              "#9c179e"
             ],
             [
              0.4444444444444444,
              "#bd3786"
             ],
             [
              0.5555555555555556,
              "#d8576b"
             ],
             [
              0.6666666666666666,
              "#ed7953"
             ],
             [
              0.7777777777777778,
              "#fb9f3a"
             ],
             [
              0.8888888888888888,
              "#fdca26"
             ],
             [
              1,
              "#f0f921"
             ]
            ],
            "type": "heatmap"
           }
          ],
          "heatmapgl": [
           {
            "colorbar": {
             "outlinewidth": 0,
             "ticks": ""
            },
            "colorscale": [
             [
              0,
              "#0d0887"
             ],
             [
              0.1111111111111111,
              "#46039f"
             ],
             [
              0.2222222222222222,
              "#7201a8"
             ],
             [
              0.3333333333333333,
              "#9c179e"
             ],
             [
              0.4444444444444444,
              "#bd3786"
             ],
             [
              0.5555555555555556,
              "#d8576b"
             ],
             [
              0.6666666666666666,
              "#ed7953"
             ],
             [
              0.7777777777777778,
              "#fb9f3a"
             ],
             [
              0.8888888888888888,
              "#fdca26"
             ],
             [
              1,
              "#f0f921"
             ]
            ],
            "type": "heatmapgl"
           }
          ],
          "histogram": [
           {
            "marker": {
             "colorbar": {
              "outlinewidth": 0,
              "ticks": ""
             }
            },
            "type": "histogram"
           }
          ],
          "histogram2d": [
           {
            "colorbar": {
             "outlinewidth": 0,
             "ticks": ""
            },
            "colorscale": [
             [
              0,
              "#0d0887"
             ],
             [
              0.1111111111111111,
              "#46039f"
             ],
             [
              0.2222222222222222,
              "#7201a8"
             ],
             [
              0.3333333333333333,
              "#9c179e"
             ],
             [
              0.4444444444444444,
              "#bd3786"
             ],
             [
              0.5555555555555556,
              "#d8576b"
             ],
             [
              0.6666666666666666,
              "#ed7953"
             ],
             [
              0.7777777777777778,
              "#fb9f3a"
             ],
             [
              0.8888888888888888,
              "#fdca26"
             ],
             [
              1,
              "#f0f921"
             ]
            ],
            "type": "histogram2d"
           }
          ],
          "histogram2dcontour": [
           {
            "colorbar": {
             "outlinewidth": 0,
             "ticks": ""
            },
            "colorscale": [
             [
              0,
              "#0d0887"
             ],
             [
              0.1111111111111111,
              "#46039f"
             ],
             [
              0.2222222222222222,
              "#7201a8"
             ],
             [
              0.3333333333333333,
              "#9c179e"
             ],
             [
              0.4444444444444444,
              "#bd3786"
             ],
             [
              0.5555555555555556,
              "#d8576b"
             ],
             [
              0.6666666666666666,
              "#ed7953"
             ],
             [
              0.7777777777777778,
              "#fb9f3a"
             ],
             [
              0.8888888888888888,
              "#fdca26"
             ],
             [
              1,
              "#f0f921"
             ]
            ],
            "type": "histogram2dcontour"
           }
          ],
          "mesh3d": [
           {
            "colorbar": {
             "outlinewidth": 0,
             "ticks": ""
            },
            "type": "mesh3d"
           }
          ],
          "parcoords": [
           {
            "line": {
             "colorbar": {
              "outlinewidth": 0,
              "ticks": ""
             }
            },
            "type": "parcoords"
           }
          ],
          "pie": [
           {
            "automargin": true,
            "type": "pie"
           }
          ],
          "scatter": [
           {
            "marker": {
             "colorbar": {
              "outlinewidth": 0,
              "ticks": ""
             }
            },
            "type": "scatter"
           }
          ],
          "scatter3d": [
           {
            "line": {
             "colorbar": {
              "outlinewidth": 0,
              "ticks": ""
             }
            },
            "marker": {
             "colorbar": {
              "outlinewidth": 0,
              "ticks": ""
             }
            },
            "type": "scatter3d"
           }
          ],
          "scattercarpet": [
           {
            "marker": {
             "colorbar": {
              "outlinewidth": 0,
              "ticks": ""
             }
            },
            "type": "scattercarpet"
           }
          ],
          "scattergeo": [
           {
            "marker": {
             "colorbar": {
              "outlinewidth": 0,
              "ticks": ""
             }
            },
            "type": "scattergeo"
           }
          ],
          "scattergl": [
           {
            "marker": {
             "colorbar": {
              "outlinewidth": 0,
              "ticks": ""
             }
            },
            "type": "scattergl"
           }
          ],
          "scattermapbox": [
           {
            "marker": {
             "colorbar": {
              "outlinewidth": 0,
              "ticks": ""
             }
            },
            "type": "scattermapbox"
           }
          ],
          "scatterpolar": [
           {
            "marker": {
             "colorbar": {
              "outlinewidth": 0,
              "ticks": ""
             }
            },
            "type": "scatterpolar"
           }
          ],
          "scatterpolargl": [
           {
            "marker": {
             "colorbar": {
              "outlinewidth": 0,
              "ticks": ""
             }
            },
            "type": "scatterpolargl"
           }
          ],
          "scatterternary": [
           {
            "marker": {
             "colorbar": {
              "outlinewidth": 0,
              "ticks": ""
             }
            },
            "type": "scatterternary"
           }
          ],
          "surface": [
           {
            "colorbar": {
             "outlinewidth": 0,
             "ticks": ""
            },
            "colorscale": [
             [
              0,
              "#0d0887"
             ],
             [
              0.1111111111111111,
              "#46039f"
             ],
             [
              0.2222222222222222,
              "#7201a8"
             ],
             [
              0.3333333333333333,
              "#9c179e"
             ],
             [
              0.4444444444444444,
              "#bd3786"
             ],
             [
              0.5555555555555556,
              "#d8576b"
             ],
             [
              0.6666666666666666,
              "#ed7953"
             ],
             [
              0.7777777777777778,
              "#fb9f3a"
             ],
             [
              0.8888888888888888,
              "#fdca26"
             ],
             [
              1,
              "#f0f921"
             ]
            ],
            "type": "surface"
           }
          ],
          "table": [
           {
            "cells": {
             "fill": {
              "color": "#EBF0F8"
             },
             "line": {
              "color": "white"
             }
            },
            "header": {
             "fill": {
              "color": "#C8D4E3"
             },
             "line": {
              "color": "white"
             }
            },
            "type": "table"
           }
          ]
         },
         "layout": {
          "annotationdefaults": {
           "arrowcolor": "#2a3f5f",
           "arrowhead": 0,
           "arrowwidth": 1
          },
          "autotypenumbers": "strict",
          "coloraxis": {
           "colorbar": {
            "outlinewidth": 0,
            "ticks": ""
           }
          },
          "colorscale": {
           "diverging": [
            [
             0,
             "#8e0152"
            ],
            [
             0.1,
             "#c51b7d"
            ],
            [
             0.2,
             "#de77ae"
            ],
            [
             0.3,
             "#f1b6da"
            ],
            [
             0.4,
             "#fde0ef"
            ],
            [
             0.5,
             "#f7f7f7"
            ],
            [
             0.6,
             "#e6f5d0"
            ],
            [
             0.7,
             "#b8e186"
            ],
            [
             0.8,
             "#7fbc41"
            ],
            [
             0.9,
             "#4d9221"
            ],
            [
             1,
             "#276419"
            ]
           ],
           "sequential": [
            [
             0,
             "#0d0887"
            ],
            [
             0.1111111111111111,
             "#46039f"
            ],
            [
             0.2222222222222222,
             "#7201a8"
            ],
            [
             0.3333333333333333,
             "#9c179e"
            ],
            [
             0.4444444444444444,
             "#bd3786"
            ],
            [
             0.5555555555555556,
             "#d8576b"
            ],
            [
             0.6666666666666666,
             "#ed7953"
            ],
            [
             0.7777777777777778,
             "#fb9f3a"
            ],
            [
             0.8888888888888888,
             "#fdca26"
            ],
            [
             1,
             "#f0f921"
            ]
           ],
           "sequentialminus": [
            [
             0,
             "#0d0887"
            ],
            [
             0.1111111111111111,
             "#46039f"
            ],
            [
             0.2222222222222222,
             "#7201a8"
            ],
            [
             0.3333333333333333,
             "#9c179e"
            ],
            [
             0.4444444444444444,
             "#bd3786"
            ],
            [
             0.5555555555555556,
             "#d8576b"
            ],
            [
             0.6666666666666666,
             "#ed7953"
            ],
            [
             0.7777777777777778,
             "#fb9f3a"
            ],
            [
             0.8888888888888888,
             "#fdca26"
            ],
            [
             1,
             "#f0f921"
            ]
           ]
          },
          "colorway": [
           "#636efa",
           "#EF553B",
           "#00cc96",
           "#ab63fa",
           "#FFA15A",
           "#19d3f3",
           "#FF6692",
           "#B6E880",
           "#FF97FF",
           "#FECB52"
          ],
          "font": {
           "color": "#2a3f5f"
          },
          "geo": {
           "bgcolor": "white",
           "lakecolor": "white",
           "landcolor": "#E5ECF6",
           "showlakes": true,
           "showland": true,
           "subunitcolor": "white"
          },
          "hoverlabel": {
           "align": "left"
          },
          "hovermode": "closest",
          "mapbox": {
           "style": "light"
          },
          "paper_bgcolor": "white",
          "plot_bgcolor": "#E5ECF6",
          "polar": {
           "angularaxis": {
            "gridcolor": "white",
            "linecolor": "white",
            "ticks": ""
           },
           "bgcolor": "#E5ECF6",
           "radialaxis": {
            "gridcolor": "white",
            "linecolor": "white",
            "ticks": ""
           }
          },
          "scene": {
           "xaxis": {
            "backgroundcolor": "#E5ECF6",
            "gridcolor": "white",
            "gridwidth": 2,
            "linecolor": "white",
            "showbackground": true,
            "ticks": "",
            "zerolinecolor": "white"
           },
           "yaxis": {
            "backgroundcolor": "#E5ECF6",
            "gridcolor": "white",
            "gridwidth": 2,
            "linecolor": "white",
            "showbackground": true,
            "ticks": "",
            "zerolinecolor": "white"
           },
           "zaxis": {
            "backgroundcolor": "#E5ECF6",
            "gridcolor": "white",
            "gridwidth": 2,
            "linecolor": "white",
            "showbackground": true,
            "ticks": "",
            "zerolinecolor": "white"
           }
          },
          "shapedefaults": {
           "line": {
            "color": "#2a3f5f"
           }
          },
          "ternary": {
           "aaxis": {
            "gridcolor": "white",
            "linecolor": "white",
            "ticks": ""
           },
           "baxis": {
            "gridcolor": "white",
            "linecolor": "white",
            "ticks": ""
           },
           "bgcolor": "#E5ECF6",
           "caxis": {
            "gridcolor": "white",
            "linecolor": "white",
            "ticks": ""
           }
          },
          "title": {
           "x": 0.05
          },
          "xaxis": {
           "automargin": true,
           "gridcolor": "white",
           "linecolor": "white",
           "ticks": "",
           "title": {
            "standoff": 15
           },
           "zerolinecolor": "white",
           "zerolinewidth": 2
          },
          "yaxis": {
           "automargin": true,
           "gridcolor": "white",
           "linecolor": "white",
           "ticks": "",
           "title": {
            "standoff": 15
           },
           "zerolinecolor": "white",
           "zerolinewidth": 2
          }
         }
        },
        "title": {
         "text": "Total Carbon Dioxide Emission per Income-Based Economic Classification"
        },
        "xaxis": {
         "title": {
          "text": "Economic Classifications"
         }
        },
        "yaxis": {
         "title": {
          "text": "Total Carbon Dioxide Emission (in kg CO<sub>2</sub>/person/year)"
         }
        }
       }
      },
      "text/html": [
       "<div>                            <div id=\"808bf3c5-5135-4881-bb69-0decc4070e90\" class=\"plotly-graph-div\" style=\"height:525px; width:100%;\"></div>            <script type=\"text/javascript\">                require([\"plotly\"], function(Plotly) {                    window.PLOTLYENV=window.PLOTLYENV || {};                                    if (document.getElementById(\"808bf3c5-5135-4881-bb69-0decc4070e90\")) {                    Plotly.newPlot(                        \"808bf3c5-5135-4881-bb69-0decc4070e90\",                        [{\"name\": \"Consumption\", \"text\": [\"56294.18 miles\", \"27762.45 miles\", \"15191.51 miles\", \"3297.47 miles\"], \"textposition\": \"auto\", \"type\": \"bar\", \"x\": [\"High income\", \"Upper middle income\", \"Lower middle income\", \"Low income\"], \"y\": [22067.320000000003, 10882.88, 5955.069999999999, 1292.61]}],                        {\"template\": {\"data\": {\"bar\": [{\"error_x\": {\"color\": \"#2a3f5f\"}, \"error_y\": {\"color\": \"#2a3f5f\"}, \"marker\": {\"line\": {\"color\": \"#E5ECF6\", \"width\": 0.5}}, \"type\": \"bar\"}], \"barpolar\": [{\"marker\": {\"line\": {\"color\": \"#E5ECF6\", \"width\": 0.5}}, \"type\": \"barpolar\"}], \"carpet\": [{\"aaxis\": {\"endlinecolor\": \"#2a3f5f\", \"gridcolor\": \"white\", \"linecolor\": \"white\", \"minorgridcolor\": \"white\", \"startlinecolor\": \"#2a3f5f\"}, \"baxis\": {\"endlinecolor\": \"#2a3f5f\", \"gridcolor\": \"white\", \"linecolor\": \"white\", \"minorgridcolor\": \"white\", \"startlinecolor\": \"#2a3f5f\"}, \"type\": \"carpet\"}], \"choropleth\": [{\"colorbar\": {\"outlinewidth\": 0, \"ticks\": \"\"}, \"type\": \"choropleth\"}], \"contour\": [{\"colorbar\": {\"outlinewidth\": 0, \"ticks\": \"\"}, \"colorscale\": [[0.0, \"#0d0887\"], [0.1111111111111111, \"#46039f\"], [0.2222222222222222, \"#7201a8\"], [0.3333333333333333, \"#9c179e\"], [0.4444444444444444, \"#bd3786\"], [0.5555555555555556, \"#d8576b\"], [0.6666666666666666, \"#ed7953\"], [0.7777777777777778, \"#fb9f3a\"], [0.8888888888888888, \"#fdca26\"], [1.0, \"#f0f921\"]], \"type\": \"contour\"}], \"contourcarpet\": [{\"colorbar\": {\"outlinewidth\": 0, \"ticks\": \"\"}, \"type\": \"contourcarpet\"}], \"heatmap\": [{\"colorbar\": {\"outlinewidth\": 0, \"ticks\": \"\"}, \"colorscale\": [[0.0, \"#0d0887\"], [0.1111111111111111, \"#46039f\"], [0.2222222222222222, \"#7201a8\"], [0.3333333333333333, \"#9c179e\"], [0.4444444444444444, \"#bd3786\"], [0.5555555555555556, \"#d8576b\"], [0.6666666666666666, \"#ed7953\"], [0.7777777777777778, \"#fb9f3a\"], [0.8888888888888888, \"#fdca26\"], [1.0, \"#f0f921\"]], \"type\": \"heatmap\"}], \"heatmapgl\": [{\"colorbar\": {\"outlinewidth\": 0, \"ticks\": \"\"}, \"colorscale\": [[0.0, \"#0d0887\"], [0.1111111111111111, \"#46039f\"], [0.2222222222222222, \"#7201a8\"], [0.3333333333333333, \"#9c179e\"], [0.4444444444444444, \"#bd3786\"], [0.5555555555555556, \"#d8576b\"], [0.6666666666666666, \"#ed7953\"], [0.7777777777777778, \"#fb9f3a\"], [0.8888888888888888, \"#fdca26\"], [1.0, \"#f0f921\"]], \"type\": \"heatmapgl\"}], \"histogram\": [{\"marker\": {\"colorbar\": {\"outlinewidth\": 0, \"ticks\": \"\"}}, \"type\": \"histogram\"}], \"histogram2d\": [{\"colorbar\": {\"outlinewidth\": 0, \"ticks\": \"\"}, \"colorscale\": [[0.0, \"#0d0887\"], [0.1111111111111111, \"#46039f\"], [0.2222222222222222, \"#7201a8\"], [0.3333333333333333, \"#9c179e\"], [0.4444444444444444, \"#bd3786\"], [0.5555555555555556, \"#d8576b\"], [0.6666666666666666, \"#ed7953\"], [0.7777777777777778, \"#fb9f3a\"], [0.8888888888888888, \"#fdca26\"], [1.0, \"#f0f921\"]], \"type\": \"histogram2d\"}], \"histogram2dcontour\": [{\"colorbar\": {\"outlinewidth\": 0, \"ticks\": \"\"}, \"colorscale\": [[0.0, \"#0d0887\"], [0.1111111111111111, \"#46039f\"], [0.2222222222222222, \"#7201a8\"], [0.3333333333333333, \"#9c179e\"], [0.4444444444444444, \"#bd3786\"], [0.5555555555555556, \"#d8576b\"], [0.6666666666666666, \"#ed7953\"], [0.7777777777777778, \"#fb9f3a\"], [0.8888888888888888, \"#fdca26\"], [1.0, \"#f0f921\"]], \"type\": \"histogram2dcontour\"}], \"mesh3d\": [{\"colorbar\": {\"outlinewidth\": 0, \"ticks\": \"\"}, \"type\": \"mesh3d\"}], \"parcoords\": [{\"line\": {\"colorbar\": {\"outlinewidth\": 0, \"ticks\": \"\"}}, \"type\": \"parcoords\"}], \"pie\": [{\"automargin\": true, \"type\": \"pie\"}], \"scatter\": [{\"marker\": {\"colorbar\": {\"outlinewidth\": 0, \"ticks\": \"\"}}, \"type\": \"scatter\"}], \"scatter3d\": [{\"line\": {\"colorbar\": {\"outlinewidth\": 0, \"ticks\": \"\"}}, \"marker\": {\"colorbar\": {\"outlinewidth\": 0, \"ticks\": \"\"}}, \"type\": \"scatter3d\"}], \"scattercarpet\": [{\"marker\": {\"colorbar\": {\"outlinewidth\": 0, \"ticks\": \"\"}}, \"type\": \"scattercarpet\"}], \"scattergeo\": [{\"marker\": {\"colorbar\": {\"outlinewidth\": 0, \"ticks\": \"\"}}, \"type\": \"scattergeo\"}], \"scattergl\": [{\"marker\": {\"colorbar\": {\"outlinewidth\": 0, \"ticks\": \"\"}}, \"type\": \"scattergl\"}], \"scattermapbox\": [{\"marker\": {\"colorbar\": {\"outlinewidth\": 0, \"ticks\": \"\"}}, \"type\": \"scattermapbox\"}], \"scatterpolar\": [{\"marker\": {\"colorbar\": {\"outlinewidth\": 0, \"ticks\": \"\"}}, \"type\": \"scatterpolar\"}], \"scatterpolargl\": [{\"marker\": {\"colorbar\": {\"outlinewidth\": 0, \"ticks\": \"\"}}, \"type\": \"scatterpolargl\"}], \"scatterternary\": [{\"marker\": {\"colorbar\": {\"outlinewidth\": 0, \"ticks\": \"\"}}, \"type\": \"scatterternary\"}], \"surface\": [{\"colorbar\": {\"outlinewidth\": 0, \"ticks\": \"\"}, \"colorscale\": [[0.0, \"#0d0887\"], [0.1111111111111111, \"#46039f\"], [0.2222222222222222, \"#7201a8\"], [0.3333333333333333, \"#9c179e\"], [0.4444444444444444, \"#bd3786\"], [0.5555555555555556, \"#d8576b\"], [0.6666666666666666, \"#ed7953\"], [0.7777777777777778, \"#fb9f3a\"], [0.8888888888888888, \"#fdca26\"], [1.0, \"#f0f921\"]], \"type\": \"surface\"}], \"table\": [{\"cells\": {\"fill\": {\"color\": \"#EBF0F8\"}, \"line\": {\"color\": \"white\"}}, \"header\": {\"fill\": {\"color\": \"#C8D4E3\"}, \"line\": {\"color\": \"white\"}}, \"type\": \"table\"}]}, \"layout\": {\"annotationdefaults\": {\"arrowcolor\": \"#2a3f5f\", \"arrowhead\": 0, \"arrowwidth\": 1}, \"autotypenumbers\": \"strict\", \"coloraxis\": {\"colorbar\": {\"outlinewidth\": 0, \"ticks\": \"\"}}, \"colorscale\": {\"diverging\": [[0, \"#8e0152\"], [0.1, \"#c51b7d\"], [0.2, \"#de77ae\"], [0.3, \"#f1b6da\"], [0.4, \"#fde0ef\"], [0.5, \"#f7f7f7\"], [0.6, \"#e6f5d0\"], [0.7, \"#b8e186\"], [0.8, \"#7fbc41\"], [0.9, \"#4d9221\"], [1, \"#276419\"]], \"sequential\": [[0.0, \"#0d0887\"], [0.1111111111111111, \"#46039f\"], [0.2222222222222222, \"#7201a8\"], [0.3333333333333333, \"#9c179e\"], [0.4444444444444444, \"#bd3786\"], [0.5555555555555556, \"#d8576b\"], [0.6666666666666666, \"#ed7953\"], [0.7777777777777778, \"#fb9f3a\"], [0.8888888888888888, \"#fdca26\"], [1.0, \"#f0f921\"]], \"sequentialminus\": [[0.0, \"#0d0887\"], [0.1111111111111111, \"#46039f\"], [0.2222222222222222, \"#7201a8\"], [0.3333333333333333, \"#9c179e\"], [0.4444444444444444, \"#bd3786\"], [0.5555555555555556, \"#d8576b\"], [0.6666666666666666, \"#ed7953\"], [0.7777777777777778, \"#fb9f3a\"], [0.8888888888888888, \"#fdca26\"], [1.0, \"#f0f921\"]]}, \"colorway\": [\"#636efa\", \"#EF553B\", \"#00cc96\", \"#ab63fa\", \"#FFA15A\", \"#19d3f3\", \"#FF6692\", \"#B6E880\", \"#FF97FF\", \"#FECB52\"], \"font\": {\"color\": \"#2a3f5f\"}, \"geo\": {\"bgcolor\": \"white\", \"lakecolor\": \"white\", \"landcolor\": \"#E5ECF6\", \"showlakes\": true, \"showland\": true, \"subunitcolor\": \"white\"}, \"hoverlabel\": {\"align\": \"left\"}, \"hovermode\": \"closest\", \"mapbox\": {\"style\": \"light\"}, \"paper_bgcolor\": \"white\", \"plot_bgcolor\": \"#E5ECF6\", \"polar\": {\"angularaxis\": {\"gridcolor\": \"white\", \"linecolor\": \"white\", \"ticks\": \"\"}, \"bgcolor\": \"#E5ECF6\", \"radialaxis\": {\"gridcolor\": \"white\", \"linecolor\": \"white\", \"ticks\": \"\"}}, \"scene\": {\"xaxis\": {\"backgroundcolor\": \"#E5ECF6\", \"gridcolor\": \"white\", \"gridwidth\": 2, \"linecolor\": \"white\", \"showbackground\": true, \"ticks\": \"\", \"zerolinecolor\": \"white\"}, \"yaxis\": {\"backgroundcolor\": \"#E5ECF6\", \"gridcolor\": \"white\", \"gridwidth\": 2, \"linecolor\": \"white\", \"showbackground\": true, \"ticks\": \"\", \"zerolinecolor\": \"white\"}, \"zaxis\": {\"backgroundcolor\": \"#E5ECF6\", \"gridcolor\": \"white\", \"gridwidth\": 2, \"linecolor\": \"white\", \"showbackground\": true, \"ticks\": \"\", \"zerolinecolor\": \"white\"}}, \"shapedefaults\": {\"line\": {\"color\": \"#2a3f5f\"}}, \"ternary\": {\"aaxis\": {\"gridcolor\": \"white\", \"linecolor\": \"white\", \"ticks\": \"\"}, \"baxis\": {\"gridcolor\": \"white\", \"linecolor\": \"white\", \"ticks\": \"\"}, \"bgcolor\": \"#E5ECF6\", \"caxis\": {\"gridcolor\": \"white\", \"linecolor\": \"white\", \"ticks\": \"\"}}, \"title\": {\"x\": 0.05}, \"xaxis\": {\"automargin\": true, \"gridcolor\": \"white\", \"linecolor\": \"white\", \"ticks\": \"\", \"title\": {\"standoff\": 15}, \"zerolinecolor\": \"white\", \"zerolinewidth\": 2}, \"yaxis\": {\"automargin\": true, \"gridcolor\": \"white\", \"linecolor\": \"white\", \"ticks\": \"\", \"title\": {\"standoff\": 15}, \"zerolinecolor\": \"white\", \"zerolinewidth\": 2}}}, \"title\": {\"text\": \"Total Carbon Dioxide Emission per Income-Based Economic Classification\"}, \"xaxis\": {\"title\": {\"text\": \"Economic Classifications\"}}, \"yaxis\": {\"title\": {\"text\": \"Total Carbon Dioxide Emission (in kg CO<sub>2</sub>/person/year)\"}}},                        {\"responsive\": true}                    ).then(function(){\n",
       "                            \n",
       "var gd = document.getElementById('808bf3c5-5135-4881-bb69-0decc4070e90');\n",
       "var x = new MutationObserver(function (mutations, observer) {{\n",
       "        var display = window.getComputedStyle(gd).display;\n",
       "        if (!display || display === 'none') {{\n",
       "            console.log([gd, 'removed!']);\n",
       "            Plotly.purge(gd);\n",
       "            observer.disconnect();\n",
       "        }}\n",
       "}});\n",
       "\n",
       "// Listen for the removal of the full notebook cells\n",
       "var notebookContainer = gd.closest('#notebook-container');\n",
       "if (notebookContainer) {{\n",
       "    x.observe(notebookContainer, {childList: true});\n",
       "}}\n",
       "\n",
       "// Listen for the clearing of the current output cell\n",
       "var outputEl = gd.closest('.output');\n",
       "if (outputEl) {{\n",
       "    x.observe(outputEl, {childList: true});\n",
       "}}\n",
       "\n",
       "                        })                };                });            </script>        </div>"
      ]
     },
     "metadata": {},
     "output_type": "display_data"
    }
   ],
   "source": [
    "fig = go.Figure(data = [\n",
    "    go.Bar(x = economies_co2['economy'],\n",
    "          y = economies_co2['TOTAL'],\n",
    "          text = mileage,\n",
    "          name = 'Consumption',\n",
    "          textposition = 'auto')\n",
    "])\n",
    "\n",
    "fig.update_layout(title = \"Total Carbon Dioxide Emission per Income-Based Economic Classification\",\n",
    "                  xaxis_title = \"Economic Classifications\",\n",
    "                  yaxis_title = \"Total Carbon Dioxide Emission (in kg CO<sub>2</sub>/person/year)\")\n",
    "\n",
    "fig.show()"
   ]
  },
  {
   "cell_type": "markdown",
   "metadata": {},
   "source": [
    "The bar graph above shows the great disparity among the carbon footprints of economies:\n",
    "- The gross emission of high-income economies (22.07 thousand kg CO<sub>2</sub>/person/year, or around 56294.18 miles) is over twice that of upper-middle-income economies (10.88 thousang kg CO<sub>2</sub>/person/year, or around 27762.45 miles)\n",
    "- The gross emission of upper-middle-income economies, in turn, is roughly twice that of lower-middle-income economies (5.96 thousand  kg CO<sub>2</sub>/person/year, or around 15191.51 miles). \n",
    "- The gap widens, as the gross emission of lower-middle-income economies is roughly five times that of low-income economies (1.29 thousand kg CO<sub>2</sub>/person/year, or around 3297.47 miles)."
   ]
  },
  {
   "cell_type": "markdown",
   "metadata": {},
   "source": [
    "*Nonetheless, this still comes with the postscript that eating, unlike other \"optional\" anthropogenic contributors to climate change (e.g., using petrol-powered cars and traveling by air), is a requisite human activity &mdash; with strong ties to personal preferences, cultural praxes, national demand and supply, and socioeconomic considerations &mdash; that we cannot alter that easily.*\n",
    "\n",
    "*A more feasible solution would begin at the scientific or institutional level, focusing on the development of more sustainable technologies or practices and lobbying for stronger policy implementations related to the production, distribution, and consumption chain of these agricultural necessities.* "
   ]
  },
  {
   "cell_type": "markdown",
   "metadata": {},
   "source": [
    "# References"
   ]
  },
  {
   "cell_type": "markdown",
   "metadata": {},
   "source": [
    "- European Union. (2021). *Animal products*. https://ec.europa.eu/info/food-farming-fisheries/animals-and-animal-products/animal-products/\n",
    "- Mottaleb, K., Rahut, D.N., Kruseman, G., & Erenstein, O. (2017). Wheat production and consumption dynamics in an Asian rice economy: The Bangladesh case. *European Journal of Development Research, 30*(1), 1-24. doi:10.1057/s41287-017-0096-1\n",
    "- nu3. (2018). *Food carbon footprint index 2018*. https://www.nu3.de/blogs/nutrition/food-carbon-footprint-index-2018\n",
    "- Quinton, A. (2019, June 27). *Cows and climate change*. University of California, Davis. https://www.ucdavis.edu/food/news/making-cattle-more-sustainable\n",
    "- Stylianou, N., Guibourg, C., & Briggs, H. (2019, August 9). *Climate change calculator: What's your diet's carbon footprint?* https://www.bbc.com/news/science-environment-46459714\n",
    "- World Health Organization. (n.d.). *Congo*. https://www.who.int/countries/cog/"
   ]
  }
 ],
 "metadata": {
  "kernelspec": {
   "display_name": "Python 3",
   "language": "python",
   "name": "python3"
  },
  "language_info": {
   "codemirror_mode": {
    "name": "ipython",
    "version": 3
   },
   "file_extension": ".py",
   "mimetype": "text/x-python",
   "name": "python",
   "nbconvert_exporter": "python",
   "pygments_lexer": "ipython3",
   "version": "3.7.6"
  }
 },
 "nbformat": 4,
 "nbformat_minor": 4
}

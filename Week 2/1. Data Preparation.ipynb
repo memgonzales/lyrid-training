{
 "cells": [
  {
   "cell_type": "markdown",
   "metadata": {},
   "source": [
    "### This project features interactive maps and HTML markup. Since Github does not support dynamic displays for notebooks, it is necessary to download the project to render the elements and to manipulate the data visualizations.\n",
    "\n",
    "# Data Preparation\n",
    "\n",
    "This is the <b>first in a series of three Jupyter notebooks</b> on the 2018 Food Consumption and CO<sub>2</sub> Emissions. This activity is in partial fulfillment of the Tidy Tuesdays deliverables for probationary Lyrids of the <b>Center for Complexity and Emerging Technologies, College of Computer Studies, De La Salle University</b>.\n",
    "\n",
    "<b>Climate change and global warming are pressing environmental issues &mdash; and among the foremost drivers of these are human-induced emissions of greenhouse gases, such as carbon dioxide (CO<sub>2</sub>)</b>. While this project does not seek to present a professional or rigorous statistical analysis, the author of this series of Jupyter notebooks would like to increase awareness on the importance of data-driven policy directions and to hopefully contribute to the present discourse on how food consumption can greatly impact our carbon footprint. \n",
    "\n",
    "<hr/>\n",
    "\n",
    "The required dataset for this Tidy Tuesdays activity is the 2018 Food Consumption and CO<sub>2</sub> Emissions from the R Community's Tidy Tuesdays (Github): https://github.com/rfordatascience/tidytuesday/tree/master/data/2020/2020-02-18. \n",
    "\n",
    "To enrich the analysis and visualization, the following datasets were integrated:\n",
    "\n",
    "- Country Codes and Names - http://country.io/names.json\n",
    "- World Bank Country and Lending Groups (Classification for the 2018 Fiscal Year) - https://datahelpdesk.worldbank.org/knowledgebase/articles/906519-world-bank-country-and-lending-groups\n",
    "\n",
    "These datasets are stored in the folder <code>data</code> of the repository."
   ]
  },
  {
   "cell_type": "markdown",
   "metadata": {},
   "source": [
    "# PRELIMINARIES"
   ]
  },
  {
   "cell_type": "markdown",
   "metadata": {},
   "source": [
    "We will be using the following modules and libraries in our project:\n",
    "- <code>re</code> - for performing operations involving regular expressions (https://docs.python.org/3/library/re.html)\n",
    "- <code>json</code> - for working with JSON (JavaScript object notation) data (https://docs.python.org/3/library/json.html)\n",
    "- <code>pandas</code> - for performing some data manipulation (https://pandas.pydata.org/)\n",
    "- <code>numpy</code> - for performing efficient numerical analysis (https://numpy.org/)\n",
    "- <code>scipy</code> - for carrying out scientific computing tasks (https://www.scipy.org/)\n",
    "- <code>pywaffle</code> - for creating waffle charts (https://pywaffle.readthedocs.io/en/latest/)\n",
    "- <code>matplotlib</code> - for generating data visualizations (https://matplotlib.org/)\n",
    "- <code>plotly</code> - for generating data visualizations (https://plotly.com/)\n",
    "\n",
    "Note that <code>plotly</code> is not automatically bundled with an Anaconda installation. To install this package with conda (https://anaconda.org/plotly/plotly), either of these commands has to be run:\n",
    "\n",
    "<code>conda install -c plotly plotly</code> <br/>\n",
    "<code>conda install -c plotly/label/test plotly</code>\n",
    "\n",
    "The same goes for <code>pywaffle</code>. To install this package with conda, either of these commands has to be run:\n",
    "\n",
    "<code>conda install -c conda-forge pywaffle</code> <br/>\n",
    "<code>conda install -c conda-forge/label/cf201901 pywaffle</code> <br/>\n",
    "<code>conda install -c conda-forge/label/cf202003 pywaffle</code> <br/>"
   ]
  },
  {
   "cell_type": "code",
   "execution_count": 1,
   "metadata": {},
   "outputs": [
    {
     "data": {
      "text/html": [
       "        <script type=\"text/javascript\">\n",
       "        window.PlotlyConfig = {MathJaxConfig: 'local'};\n",
       "        if (window.MathJax) {MathJax.Hub.Config({SVG: {font: \"STIX-Web\"}});}\n",
       "        if (typeof require !== 'undefined') {\n",
       "        require.undef(\"plotly\");\n",
       "        requirejs.config({\n",
       "            paths: {\n",
       "                'plotly': ['https://cdn.plot.ly/plotly-latest.min']\n",
       "            }\n",
       "        });\n",
       "        require(['plotly'], function(Plotly) {\n",
       "            window._Plotly = Plotly;\n",
       "        });\n",
       "        }\n",
       "        </script>\n",
       "        "
      ]
     },
     "metadata": {},
     "output_type": "display_data"
    }
   ],
   "source": [
    "import re\n",
    "import json\n",
    "\n",
    "import pandas as pd\n",
    "import numpy as np\n",
    "import scipy.stats\n",
    "import matplotlib.pyplot as plt\n",
    "from pywaffle import Waffle\n",
    "\n",
    "import plotly.express as px\n",
    "import plotly.graph_objs as go\n",
    "from plotly.subplots import make_subplots\n",
    "from plotly.offline import iplot, init_notebook_mode\n",
    "init_notebook_mode(connected = True)"
   ]
  },
  {
   "cell_type": "markdown",
   "metadata": {},
   "source": [
    "The last two lines of code are for displaying the figures (generated via <code>plotly</code>) on the Jupyter notebook itself.\n",
    "\n",
    "Moreover, we also suppress the warning generated by Pandas for chained assignments."
   ]
  },
  {
   "cell_type": "code",
   "execution_count": 2,
   "metadata": {},
   "outputs": [],
   "source": [
    "pd.options.mode.chained_assignment = None  "
   ]
  },
  {
   "cell_type": "markdown",
   "metadata": {},
   "source": [
    "We set the number of rows to be displayed when the data are presented in tabular form via <code>pandas</code>. Note that, during actual data preparation and analysis, this is usually set to a high value (or the entire datasets themselves are printed) in order to view more rows, preliminarily identify issues related to formatting or encoding, and understand anomalous results. "
   ]
  },
  {
   "cell_type": "code",
   "execution_count": 3,
   "metadata": {},
   "outputs": [],
   "source": [
    "NUM_ROWS = 10\n",
    "\n",
    "pd.set_option('display.max_rows', NUM_ROWS)\n",
    "pd.set_option('display.min_rows', NUM_ROWS)"
   ]
  },
  {
   "cell_type": "markdown",
   "metadata": {},
   "source": [
    "<hr/>"
   ]
  },
  {
   "cell_type": "markdown",
   "metadata": {},
   "source": [
    "# DATA PREPARATION"
   ]
  },
  {
   "cell_type": "markdown",
   "metadata": {},
   "source": [
    "Before we can perform any form of data analysis, we first have to load the dataset and perform some preliminary data cleaning. This is necessary in order to have an initial understanding of the nature and structure of the data at hand, standardize the formatting and encoding of entries, and improve the quality of the data before exploratory analysis is conducted. "
   ]
  },
  {
   "cell_type": "markdown",
   "metadata": {},
   "source": [
    "## A. Load the Dataset"
   ]
  },
  {
   "cell_type": "markdown",
   "metadata": {},
   "source": [
    "The 2018 Food Consumption and CO2 Emissions from the R community's Tidy Tuesdays (Github) consists of a single CSV file. This dataset has four columns:\n",
    "- <code>country</code>: name of the country or region\n",
    "- <code>food_category</code>: food product\n",
    "- <code>consumption</code>: food product consumption (including wastage) in kg/person/year\n",
    "- <code>co2_emmission</code>: median carbon dioxide produced in kg CO<sub>2</sub>/person/year \n",
    "\n",
    "The methodological process for the construction of this dataset is explained by the German-based group nu3 (2018) in https://www.nu3.de/blogs/nutrition/food-carbon-footprint-index-2018."
   ]
  },
  {
   "cell_type": "code",
   "execution_count": 4,
   "metadata": {},
   "outputs": [],
   "source": [
    "data_raw = pd.read_csv('data/food_consumption.csv')"
   ]
  },
  {
   "cell_type": "markdown",
   "metadata": {},
   "source": [
    "It is a good idea to manipulate a copy of the dataset to avoid accidental modification of the contents of the original."
   ]
  },
  {
   "cell_type": "code",
   "execution_count": 5,
   "metadata": {},
   "outputs": [
    {
     "data": {
      "text/html": [
       "<div>\n",
       "<style scoped>\n",
       "    .dataframe tbody tr th:only-of-type {\n",
       "        vertical-align: middle;\n",
       "    }\n",
       "\n",
       "    .dataframe tbody tr th {\n",
       "        vertical-align: top;\n",
       "    }\n",
       "\n",
       "    .dataframe thead th {\n",
       "        text-align: right;\n",
       "    }\n",
       "</style>\n",
       "<table border=\"1\" class=\"dataframe\">\n",
       "  <thead>\n",
       "    <tr style=\"text-align: right;\">\n",
       "      <th></th>\n",
       "      <th>country</th>\n",
       "      <th>food_category</th>\n",
       "      <th>consumption</th>\n",
       "      <th>co2_emmission</th>\n",
       "    </tr>\n",
       "  </thead>\n",
       "  <tbody>\n",
       "    <tr>\n",
       "      <th>0</th>\n",
       "      <td>Argentina</td>\n",
       "      <td>Pork</td>\n",
       "      <td>10.51</td>\n",
       "      <td>37.20</td>\n",
       "    </tr>\n",
       "    <tr>\n",
       "      <th>1</th>\n",
       "      <td>Argentina</td>\n",
       "      <td>Poultry</td>\n",
       "      <td>38.66</td>\n",
       "      <td>41.53</td>\n",
       "    </tr>\n",
       "    <tr>\n",
       "      <th>2</th>\n",
       "      <td>Argentina</td>\n",
       "      <td>Beef</td>\n",
       "      <td>55.48</td>\n",
       "      <td>1712.00</td>\n",
       "    </tr>\n",
       "    <tr>\n",
       "      <th>3</th>\n",
       "      <td>Argentina</td>\n",
       "      <td>Lamb &amp; Goat</td>\n",
       "      <td>1.56</td>\n",
       "      <td>54.63</td>\n",
       "    </tr>\n",
       "    <tr>\n",
       "      <th>4</th>\n",
       "      <td>Argentina</td>\n",
       "      <td>Fish</td>\n",
       "      <td>4.36</td>\n",
       "      <td>6.96</td>\n",
       "    </tr>\n",
       "    <tr>\n",
       "      <th>...</th>\n",
       "      <td>...</td>\n",
       "      <td>...</td>\n",
       "      <td>...</td>\n",
       "      <td>...</td>\n",
       "    </tr>\n",
       "    <tr>\n",
       "      <th>1425</th>\n",
       "      <td>Bangladesh</td>\n",
       "      <td>Milk - inc. cheese</td>\n",
       "      <td>21.91</td>\n",
       "      <td>31.21</td>\n",
       "    </tr>\n",
       "    <tr>\n",
       "      <th>1426</th>\n",
       "      <td>Bangladesh</td>\n",
       "      <td>Wheat and Wheat Products</td>\n",
       "      <td>17.47</td>\n",
       "      <td>3.33</td>\n",
       "    </tr>\n",
       "    <tr>\n",
       "      <th>1427</th>\n",
       "      <td>Bangladesh</td>\n",
       "      <td>Rice</td>\n",
       "      <td>171.73</td>\n",
       "      <td>219.76</td>\n",
       "    </tr>\n",
       "    <tr>\n",
       "      <th>1428</th>\n",
       "      <td>Bangladesh</td>\n",
       "      <td>Soybeans</td>\n",
       "      <td>0.61</td>\n",
       "      <td>0.27</td>\n",
       "    </tr>\n",
       "    <tr>\n",
       "      <th>1429</th>\n",
       "      <td>Bangladesh</td>\n",
       "      <td>Nuts inc. Peanut Butter</td>\n",
       "      <td>0.72</td>\n",
       "      <td>1.27</td>\n",
       "    </tr>\n",
       "  </tbody>\n",
       "</table>\n",
       "<p>1430 rows × 4 columns</p>\n",
       "</div>"
      ],
      "text/plain": [
       "         country             food_category  consumption  co2_emmission\n",
       "0      Argentina                      Pork        10.51          37.20\n",
       "1      Argentina                   Poultry        38.66          41.53\n",
       "2      Argentina                      Beef        55.48        1712.00\n",
       "3      Argentina               Lamb & Goat         1.56          54.63\n",
       "4      Argentina                      Fish         4.36           6.96\n",
       "...          ...                       ...          ...            ...\n",
       "1425  Bangladesh        Milk - inc. cheese        21.91          31.21\n",
       "1426  Bangladesh  Wheat and Wheat Products        17.47           3.33\n",
       "1427  Bangladesh                      Rice       171.73         219.76\n",
       "1428  Bangladesh                  Soybeans         0.61           0.27\n",
       "1429  Bangladesh   Nuts inc. Peanut Butter         0.72           1.27\n",
       "\n",
       "[1430 rows x 4 columns]"
      ]
     },
     "execution_count": 5,
     "metadata": {},
     "output_type": "execute_result"
    }
   ],
   "source": [
    "data = data_raw.copy(deep = True)\n",
    "data"
   ]
  },
  {
   "cell_type": "markdown",
   "metadata": {},
   "source": [
    "<hr/>"
   ]
  },
  {
   "cell_type": "markdown",
   "metadata": {},
   "source": [
    "## B. Clean the Dataset"
   ]
  },
  {
   "cell_type": "markdown",
   "metadata": {},
   "source": [
    "We now proceed to the process of data cleaning per se. In particular, null values, duplicate entries, improper data types, and inconsistent representations or values are handled in this step."
   ]
  },
  {
   "cell_type": "markdown",
   "metadata": {},
   "source": [
    "### 1. Checking of Size, Shape, and Data Types"
   ]
  },
  {
   "cell_type": "markdown",
   "metadata": {},
   "source": [
    "Looking at the shape of the dataset, we find that there are 1430 rows and 4 columns, corresponding to the following details:\n",
    "- name of the country or region\n",
    "- food product\n",
    "- food product consumption (including wastage) in kg/person/year\n",
    "- median carbon dioxide in kg CO<sub>2</sub>/person/year\n",
    "\n",
    "We also print the number of null values per column and the data types in order to identify areas that need to be addressed during data preparation."
   ]
  },
  {
   "cell_type": "code",
   "execution_count": 6,
   "metadata": {},
   "outputs": [
    {
     "name": "stdout",
     "output_type": "stream",
     "text": [
      "Size/Shape:  (1430, 4) \n",
      "\n",
      "Checking for null values:\n",
      " country          0\n",
      "food_category    0\n",
      "consumption      0\n",
      "co2_emmission    0\n",
      "dtype: int64 \n",
      "\n",
      "Data types:\n",
      " country           object\n",
      "food_category     object\n",
      "consumption      float64\n",
      "co2_emmission    float64\n",
      "dtype: object\n"
     ]
    }
   ],
   "source": [
    "print(\"Size/Shape: \", data.shape, \"\\n\") \n",
    "print(\"Checking for null values:\\n\", data.isnull().sum(), \"\\n\")\n",
    "print(\"Data types:\\n\", data.dtypes)"
   ]
  },
  {
   "cell_type": "markdown",
   "metadata": {},
   "source": [
    "As seen in the details above, there are no null values in the dataset. Moreover, all the data types are correct."
   ]
  },
  {
   "cell_type": "markdown",
   "metadata": {},
   "source": [
    "### 2. Removal of Duplicates"
   ]
  },
  {
   "cell_type": "markdown",
   "metadata": {},
   "source": [
    "Since each entry is unique identified by the combination of the country and the food category, we discard duplicates since they are most likely instances of misencoding. "
   ]
  },
  {
   "cell_type": "code",
   "execution_count": 7,
   "metadata": {},
   "outputs": [
    {
     "name": "stdout",
     "output_type": "stream",
     "text": [
      "AFTER DROPPING DUPLICATES\n",
      "\n",
      "Size/Shape:  (1430, 4) \n",
      "\n",
      "Checking for null values:\n",
      " country          0\n",
      "food_category    0\n",
      "consumption      0\n",
      "co2_emmission    0\n",
      "dtype: int64 \n",
      "\n",
      "Data types:\n",
      " country           object\n",
      "food_category     object\n",
      "consumption      float64\n",
      "co2_emmission    float64\n",
      "dtype: object\n"
     ]
    }
   ],
   "source": [
    "data = data.drop_duplicates()\n",
    "\n",
    "print(\"AFTER DROPPING DUPLICATES\\n\")\n",
    "print(\"Size/Shape: \", data.shape, \"\\n\") \n",
    "print(\"Checking for null values:\\n\", data.isnull().sum(), \"\\n\")\n",
    "print(\"Data types:\\n\", data.dtypes)"
   ]
  },
  {
   "cell_type": "markdown",
   "metadata": {},
   "source": [
    "Observe that the shape of the dataset did not change, evincing that the dataset does not contain any duplicates."
   ]
  },
  {
   "cell_type": "markdown",
   "metadata": {},
   "source": [
    "<hr/>"
   ]
  },
  {
   "cell_type": "markdown",
   "metadata": {},
   "source": [
    "## C. Standardize Names and Labels"
   ]
  },
  {
   "cell_type": "markdown",
   "metadata": {},
   "source": [
    "Going through the entries shows that the values and representations are consistent all throughout the dataset. Nevertheless, in the interest of data visualization, it may be helpful (1) to standardize the names of the countries to conform with those used in third-party map-generating libraries (e.g., <code>plotly</code>) and (2) to tweak the labels of the food categories to be more grammatically formal."
   ]
  },
  {
   "cell_type": "markdown",
   "metadata": {},
   "source": [
    "### 1. Standardization of Country Names"
   ]
  },
  {
   "cell_type": "markdown",
   "metadata": {},
   "source": [
    "The following JSON file was consulted as reference in standardizing the names of countries: http://country.io/names.json. We load it onto our notebook via the <code>json</code> module:"
   ]
  },
  {
   "cell_type": "code",
   "execution_count": 8,
   "metadata": {},
   "outputs": [
    {
     "name": "stdout",
     "output_type": "stream",
     "text": [
      "{'BD': 'Bangladesh', 'BE': 'Belgium', 'BF': 'Burkina Faso', 'BG': 'Bulgaria', 'BA': 'Bosnia and Herzegovina', 'BB': 'Barbados', 'WF': 'Wallis and Futuna', 'BL': 'Saint Barthelemy', 'BM': 'Bermuda', 'BN': 'Brunei', 'BO': 'Bolivia', 'BH': 'Bahrain', 'BI': 'Burundi', 'BJ': 'Benin', 'BT': 'Bhutan', 'JM': 'Jamaica', 'BV': 'Bouvet Island', 'BW': 'Botswana', 'WS': 'Samoa', 'BQ': 'Bonaire, Saint Eustatius and Saba ', 'BR': 'Brazil', 'BS': 'Bahamas', 'JE': 'Jersey', 'BY': 'Belarus', 'BZ': 'Belize', 'RU': 'Russia', 'RW': 'Rwanda', 'RS': 'Serbia', 'TL': 'East Timor', 'RE': 'Reunion', 'TM': 'Turkmenistan', 'TJ': 'Tajikistan', 'RO': 'Romania', 'TK': 'Tokelau', 'GW': 'Guinea-Bissau', 'GU': 'Guam', 'GT': 'Guatemala', 'GS': 'South Georgia and the South Sandwich Islands', 'GR': 'Greece', 'GQ': 'Equatorial Guinea', 'GP': 'Guadeloupe', 'JP': 'Japan', 'GY': 'Guyana', 'GG': 'Guernsey', 'GF': 'French Guiana', 'GE': 'Georgia', 'GD': 'Grenada', 'GB': 'United Kingdom', 'GA': 'Gabon', 'SV': 'El Salvador', 'GN': 'Guinea', 'GM': 'Gambia', 'GL': 'Greenland', 'GI': 'Gibraltar', 'GH': 'Ghana', 'OM': 'Oman', 'TN': 'Tunisia', 'JO': 'Jordan', 'HR': 'Croatia', 'HT': 'Haiti', 'HU': 'Hungary', 'HK': 'Hong Kong', 'HN': 'Honduras', 'HM': 'Heard Island and McDonald Islands', 'VE': 'Venezuela', 'PR': 'Puerto Rico', 'PS': 'Palestinian Territory', 'PW': 'Palau', 'PT': 'Portugal', 'SJ': 'Svalbard and Jan Mayen', 'PY': 'Paraguay', 'IQ': 'Iraq', 'PA': 'Panama', 'PF': 'French Polynesia', 'PG': 'Papua New Guinea', 'PE': 'Peru', 'PK': 'Pakistan', 'PH': 'Philippines', 'PN': 'Pitcairn', 'PL': 'Poland', 'PM': 'Saint Pierre and Miquelon', 'ZM': 'Zambia', 'EH': 'Western Sahara', 'EE': 'Estonia', 'EG': 'Egypt', 'ZA': 'South Africa', 'EC': 'Ecuador', 'IT': 'Italy', 'VN': 'Vietnam', 'SB': 'Solomon Islands', 'ET': 'Ethiopia', 'SO': 'Somalia', 'ZW': 'Zimbabwe', 'SA': 'Saudi Arabia', 'ES': 'Spain', 'ER': 'Eritrea', 'ME': 'Montenegro', 'MD': 'Moldova', 'MG': 'Madagascar', 'MF': 'Saint Martin', 'MA': 'Morocco', 'MC': 'Monaco', 'UZ': 'Uzbekistan', 'MM': 'Myanmar', 'ML': 'Mali', 'MO': 'Macao', 'MN': 'Mongolia', 'MH': 'Marshall Islands', 'MK': 'Macedonia', 'MU': 'Mauritius', 'MT': 'Malta', 'MW': 'Malawi', 'MV': 'Maldives', 'MQ': 'Martinique', 'MP': 'Northern Mariana Islands', 'MS': 'Montserrat', 'MR': 'Mauritania', 'IM': 'Isle of Man', 'UG': 'Uganda', 'TZ': 'Tanzania', 'MY': 'Malaysia', 'MX': 'Mexico', 'IL': 'Israel', 'FR': 'France', 'IO': 'British Indian Ocean Territory', 'SH': 'Saint Helena', 'FI': 'Finland', 'FJ': 'Fiji', 'FK': 'Falkland Islands', 'FM': 'Micronesia', 'FO': 'Faroe Islands', 'NI': 'Nicaragua', 'NL': 'Netherlands', 'NO': 'Norway', 'NA': 'Namibia', 'VU': 'Vanuatu', 'NC': 'New Caledonia', 'NE': 'Niger', 'NF': 'Norfolk Island', 'NG': 'Nigeria', 'NZ': 'New Zealand', 'NP': 'Nepal', 'NR': 'Nauru', 'NU': 'Niue', 'CK': 'Cook Islands', 'XK': 'Kosovo', 'CI': 'Ivory Coast', 'CH': 'Switzerland', 'CO': 'Colombia', 'CN': 'China', 'CM': 'Cameroon', 'CL': 'Chile', 'CC': 'Cocos Islands', 'CA': 'Canada', 'CG': 'Republic of the Congo', 'CF': 'Central African Republic', 'CD': 'Democratic Republic of the Congo', 'CZ': 'Czech Republic', 'CY': 'Cyprus', 'CX': 'Christmas Island', 'CR': 'Costa Rica', 'CW': 'Curacao', 'CV': 'Cape Verde', 'CU': 'Cuba', 'SZ': 'Swaziland', 'SY': 'Syria', 'SX': 'Sint Maarten', 'KG': 'Kyrgyzstan', 'KE': 'Kenya', 'SS': 'South Sudan', 'SR': 'Suriname', 'KI': 'Kiribati', 'KH': 'Cambodia', 'KN': 'Saint Kitts and Nevis', 'KM': 'Comoros', 'ST': 'Sao Tome and Principe', 'SK': 'Slovakia', 'KR': 'South Korea', 'SI': 'Slovenia', 'KP': 'North Korea', 'KW': 'Kuwait', 'SN': 'Senegal', 'SM': 'San Marino', 'SL': 'Sierra Leone', 'SC': 'Seychelles', 'KZ': 'Kazakhstan', 'KY': 'Cayman Islands', 'SG': 'Singapore', 'SE': 'Sweden', 'SD': 'Sudan', 'DO': 'Dominican Republic', 'DM': 'Dominica', 'DJ': 'Djibouti', 'DK': 'Denmark', 'VG': 'British Virgin Islands', 'DE': 'Germany', 'YE': 'Yemen', 'DZ': 'Algeria', 'US': 'United States', 'UY': 'Uruguay', 'YT': 'Mayotte', 'UM': 'United States Minor Outlying Islands', 'LB': 'Lebanon', 'LC': 'Saint Lucia', 'LA': 'Laos', 'TV': 'Tuvalu', 'TW': 'Taiwan', 'TT': 'Trinidad and Tobago', 'TR': 'Turkey', 'LK': 'Sri Lanka', 'LI': 'Liechtenstein', 'LV': 'Latvia', 'TO': 'Tonga', 'LT': 'Lithuania', 'LU': 'Luxembourg', 'LR': 'Liberia', 'LS': 'Lesotho', 'TH': 'Thailand', 'TF': 'French Southern Territories', 'TG': 'Togo', 'TD': 'Chad', 'TC': 'Turks and Caicos Islands', 'LY': 'Libya', 'VA': 'Vatican', 'VC': 'Saint Vincent and the Grenadines', 'AE': 'United Arab Emirates', 'AD': 'Andorra', 'AG': 'Antigua and Barbuda', 'AF': 'Afghanistan', 'AI': 'Anguilla', 'VI': 'U.S. Virgin Islands', 'IS': 'Iceland', 'IR': 'Iran', 'AM': 'Armenia', 'AL': 'Albania', 'AO': 'Angola', 'AQ': 'Antarctica', 'AS': 'American Samoa', 'AR': 'Argentina', 'AU': 'Australia', 'AT': 'Austria', 'AW': 'Aruba', 'IN': 'India', 'AX': 'Aland Islands', 'AZ': 'Azerbaijan', 'IE': 'Ireland', 'ID': 'Indonesia', 'UA': 'Ukraine', 'QA': 'Qatar', 'MZ': 'Mozambique'}\n"
     ]
    }
   ],
   "source": [
    "with open('data/countries.json') as f:\n",
    "    countries = json.load(f)\n",
    "    \n",
    "print(countries)"
   ]
  },
  {
   "cell_type": "markdown",
   "metadata": {},
   "source": [
    "To identify the countries whose names have to be standardized, we filter country names that are present in our CO<sub>2</sub> Emissions dataset but are not found in the reference JSON file. "
   ]
  },
  {
   "cell_type": "code",
   "execution_count": 9,
   "metadata": {},
   "outputs": [
    {
     "name": "stdout",
     "output_type": "stream",
     "text": [
      "{'USA', 'Hong Kong SAR. China', 'Taiwan. ROC', 'Congo'}\n"
     ]
    }
   ],
   "source": [
    "ref_countries = set(countries.values())\n",
    "data_countries = set(data['country'])\n",
    "\n",
    "print(data_countries - ref_countries)"
   ]
  },
  {
   "cell_type": "markdown",
   "metadata": {},
   "source": [
    "In this regard, a list, <code>standardized_names</code>, consisting of tuples is constructed. The first element in each tuple refers to the non-standardized name found in the datasets while the second element refers to the standardized one."
   ]
  },
  {
   "cell_type": "code",
   "execution_count": 10,
   "metadata": {},
   "outputs": [],
   "source": [
    "standardized_names = [(\"Taiwan. ROC\", \"Taiwan\"),\n",
    "                      (\"USA\", \"United States\"),\n",
    "                      (\"Hong Kong SAR. China\", \"Hong Kong\"),\n",
    "                      (\"Congo\", \"Republic of the Congo\")]"
   ]
  },
  {
   "cell_type": "markdown",
   "metadata": {},
   "source": [
    "Note that Congo can be quite ambiguous, as it can refer to either the Democratic Republic of the Congo (with capital Kinshasa) and the Republic of the Congo (with capital Brazzaville). In this project, <code>Congo</code> is standardized to <code>Republic of the Congo</code> following the convention by the World Health Organization (n.d.): https://www.who.int/countries/cog/.\n",
    "\n",
    "To verify that the names have been standardized, we print the (updated) unique countries."
   ]
  },
  {
   "cell_type": "code",
   "execution_count": 11,
   "metadata": {},
   "outputs": [
    {
     "name": "stdout",
     "output_type": "stream",
     "text": [
      "['Argentina' 'Australia' 'Albania' 'Iceland' 'New Zealand' 'United States'\n",
      " 'Uruguay' 'Luxembourg' 'Brazil' 'Kazakhstan' 'Sweden' 'Bermuda' 'Denmark'\n",
      " 'Finland' 'Ireland' 'Greece' 'France' 'Canada' 'Norway' 'Hong Kong'\n",
      " 'French Polynesia' 'Israel' 'Switzerland' 'Netherlands' 'Kuwait'\n",
      " 'United Kingdom' 'Austria' 'Oman' 'Italy' 'Bahamas' 'Portugal' 'Malta'\n",
      " 'Armenia' 'Slovenia' 'Chile' 'Venezuela' 'Belgium' 'Germany' 'Russia'\n",
      " 'Croatia' 'Belarus' 'Spain' 'Paraguay' 'New Caledonia' 'South Africa'\n",
      " 'Barbados' 'Lithuania' 'Turkey' 'Estonia' 'Mexico' 'Costa Rica' 'Bolivia'\n",
      " 'Ecuador' 'Panama' 'Czech Republic' 'Romania' 'Colombia' 'Maldives'\n",
      " 'Cyprus' 'Serbia' 'United Arab Emirates' 'Algeria' 'Ukraine' 'Pakistan'\n",
      " 'Swaziland' 'Latvia' 'Bosnia and Herzegovina' 'Fiji' 'South Korea'\n",
      " 'Poland' 'Saudi Arabia' 'Botswana' 'Macedonia' 'Hungary'\n",
      " 'Trinidad and Tobago' 'Tunisia' 'Egypt' 'Mauritius' 'Bulgaria' 'Morocco'\n",
      " 'Slovakia' 'Niger' 'Kenya' 'Jordan' 'Japan' 'Georgia' 'Grenada'\n",
      " 'El Salvador' 'Cuba' 'China' 'Honduras' 'Taiwan' 'Angola' 'Jamaica'\n",
      " 'Namibia' 'Belize' 'Malaysia' 'Zimbabwe' 'Guatemala' 'Uganda' 'Nepal'\n",
      " 'Iran' 'Tanzania' 'Senegal' 'Peru' 'Nicaragua' 'Vietnam' 'Ethiopia'\n",
      " 'Myanmar' 'Republic of the Congo' 'Zambia' 'Cameroon' 'Madagascar'\n",
      " 'Malawi' 'Guinea' 'Nigeria' 'Rwanda' 'Philippines' 'Ghana' 'Togo'\n",
      " 'Gambia' 'India' 'Thailand' 'Mozambique' 'Cambodia' 'Sierra Leone'\n",
      " 'Sri Lanka' 'Indonesia' 'Liberia' 'Bangladesh']\n"
     ]
    }
   ],
   "source": [
    "for name in standardized_names:\n",
    "    data['country'] = data['country'].str.replace(re.escape(name[0]), name[1])\n",
    "   \n",
    "print(data['country'].unique())"
   ]
  },
  {
   "cell_type": "markdown",
   "metadata": {},
   "source": [
    "### 2. Standardization of Food Categories"
   ]
  },
  {
   "cell_type": "markdown",
   "metadata": {},
   "source": [
    "The dataset consists of 11 unique food categories, which are printed below:"
   ]
  },
  {
   "cell_type": "code",
   "execution_count": 12,
   "metadata": {},
   "outputs": [
    {
     "name": "stdout",
     "output_type": "stream",
     "text": [
      "['Pork' 'Poultry' 'Beef' 'Lamb & Goat' 'Fish' 'Eggs' 'Milk - inc. cheese'\n",
      " 'Wheat and Wheat Products' 'Rice' 'Soybeans' 'Nuts inc. Peanut Butter']\n"
     ]
    }
   ],
   "source": [
    "print(data['food_category'].unique())"
   ]
  },
  {
   "cell_type": "markdown",
   "metadata": {},
   "source": [
    "Tweaking these labels for grammatical formality and consistency, we replace instances of the conjunction <code>and</code> and the abbreviation <code>inc.</code> with an ampersand symbol <code>&</code>."
   ]
  },
  {
   "cell_type": "code",
   "execution_count": 13,
   "metadata": {},
   "outputs": [],
   "source": [
    "standardized_categories = [(\"Milk - inc. cheese\", \"Milk & Cheese\"),\n",
    "                           (\"Wheat and Wheat Products\", \"Wheat & Wheat Products\"),\n",
    "                           (\"Nuts inc. Peanut Butter\", \"Nuts & Peanut Butter\")]"
   ]
  },
  {
   "cell_type": "markdown",
   "metadata": {},
   "source": [
    "To verify that the labels have been standardized, we print the (updated) unique food categories."
   ]
  },
  {
   "cell_type": "code",
   "execution_count": 14,
   "metadata": {},
   "outputs": [
    {
     "name": "stdout",
     "output_type": "stream",
     "text": [
      "['Pork' 'Poultry' 'Beef' 'Lamb & Goat' 'Fish' 'Eggs' 'Milk & Cheese'\n",
      " 'Wheat & Wheat Products' 'Rice' 'Soybeans' 'Nuts & Peanut Butter']\n"
     ]
    }
   ],
   "source": [
    "for category in standardized_categories:\n",
    "    data['food_category'] = data['food_category'].str.replace(re.escape(category[0]), category[1])\n",
    "    \n",
    "print(data['food_category'].unique())"
   ]
  },
  {
   "cell_type": "markdown",
   "metadata": {},
   "source": [
    "## *One Final Check*"
   ]
  },
  {
   "cell_type": "markdown",
   "metadata": {},
   "source": [
    "As a final sanity check, we print the cleaned dataset."
   ]
  },
  {
   "cell_type": "code",
   "execution_count": 15,
   "metadata": {},
   "outputs": [
    {
     "data": {
      "text/html": [
       "<div>\n",
       "<style scoped>\n",
       "    .dataframe tbody tr th:only-of-type {\n",
       "        vertical-align: middle;\n",
       "    }\n",
       "\n",
       "    .dataframe tbody tr th {\n",
       "        vertical-align: top;\n",
       "    }\n",
       "\n",
       "    .dataframe thead th {\n",
       "        text-align: right;\n",
       "    }\n",
       "</style>\n",
       "<table border=\"1\" class=\"dataframe\">\n",
       "  <thead>\n",
       "    <tr style=\"text-align: right;\">\n",
       "      <th></th>\n",
       "      <th>country</th>\n",
       "      <th>food_category</th>\n",
       "      <th>consumption</th>\n",
       "      <th>co2_emmission</th>\n",
       "    </tr>\n",
       "  </thead>\n",
       "  <tbody>\n",
       "    <tr>\n",
       "      <th>0</th>\n",
       "      <td>Argentina</td>\n",
       "      <td>Pork</td>\n",
       "      <td>10.51</td>\n",
       "      <td>37.20</td>\n",
       "    </tr>\n",
       "    <tr>\n",
       "      <th>1</th>\n",
       "      <td>Argentina</td>\n",
       "      <td>Poultry</td>\n",
       "      <td>38.66</td>\n",
       "      <td>41.53</td>\n",
       "    </tr>\n",
       "    <tr>\n",
       "      <th>2</th>\n",
       "      <td>Argentina</td>\n",
       "      <td>Beef</td>\n",
       "      <td>55.48</td>\n",
       "      <td>1712.00</td>\n",
       "    </tr>\n",
       "    <tr>\n",
       "      <th>3</th>\n",
       "      <td>Argentina</td>\n",
       "      <td>Lamb &amp; Goat</td>\n",
       "      <td>1.56</td>\n",
       "      <td>54.63</td>\n",
       "    </tr>\n",
       "    <tr>\n",
       "      <th>4</th>\n",
       "      <td>Argentina</td>\n",
       "      <td>Fish</td>\n",
       "      <td>4.36</td>\n",
       "      <td>6.96</td>\n",
       "    </tr>\n",
       "    <tr>\n",
       "      <th>...</th>\n",
       "      <td>...</td>\n",
       "      <td>...</td>\n",
       "      <td>...</td>\n",
       "      <td>...</td>\n",
       "    </tr>\n",
       "    <tr>\n",
       "      <th>1425</th>\n",
       "      <td>Bangladesh</td>\n",
       "      <td>Milk &amp; Cheese</td>\n",
       "      <td>21.91</td>\n",
       "      <td>31.21</td>\n",
       "    </tr>\n",
       "    <tr>\n",
       "      <th>1426</th>\n",
       "      <td>Bangladesh</td>\n",
       "      <td>Wheat &amp; Wheat Products</td>\n",
       "      <td>17.47</td>\n",
       "      <td>3.33</td>\n",
       "    </tr>\n",
       "    <tr>\n",
       "      <th>1427</th>\n",
       "      <td>Bangladesh</td>\n",
       "      <td>Rice</td>\n",
       "      <td>171.73</td>\n",
       "      <td>219.76</td>\n",
       "    </tr>\n",
       "    <tr>\n",
       "      <th>1428</th>\n",
       "      <td>Bangladesh</td>\n",
       "      <td>Soybeans</td>\n",
       "      <td>0.61</td>\n",
       "      <td>0.27</td>\n",
       "    </tr>\n",
       "    <tr>\n",
       "      <th>1429</th>\n",
       "      <td>Bangladesh</td>\n",
       "      <td>Nuts &amp; Peanut Butter</td>\n",
       "      <td>0.72</td>\n",
       "      <td>1.27</td>\n",
       "    </tr>\n",
       "  </tbody>\n",
       "</table>\n",
       "<p>1430 rows × 4 columns</p>\n",
       "</div>"
      ],
      "text/plain": [
       "         country           food_category  consumption  co2_emmission\n",
       "0      Argentina                    Pork        10.51          37.20\n",
       "1      Argentina                 Poultry        38.66          41.53\n",
       "2      Argentina                    Beef        55.48        1712.00\n",
       "3      Argentina             Lamb & Goat         1.56          54.63\n",
       "4      Argentina                    Fish         4.36           6.96\n",
       "...          ...                     ...          ...            ...\n",
       "1425  Bangladesh           Milk & Cheese        21.91          31.21\n",
       "1426  Bangladesh  Wheat & Wheat Products        17.47           3.33\n",
       "1427  Bangladesh                    Rice       171.73         219.76\n",
       "1428  Bangladesh                Soybeans         0.61           0.27\n",
       "1429  Bangladesh    Nuts & Peanut Butter         0.72           1.27\n",
       "\n",
       "[1430 rows x 4 columns]"
      ]
     },
     "execution_count": 15,
     "metadata": {},
     "output_type": "execute_result"
    }
   ],
   "source": [
    "data"
   ]
  },
  {
   "cell_type": "markdown",
   "metadata": {},
   "source": [
    "# References"
   ]
  },
  {
   "cell_type": "markdown",
   "metadata": {},
   "source": [
    "- European Union. (2021). *Animal products*. https://ec.europa.eu/info/food-farming-fisheries/animals-and-animal-products/animal-products/\n",
    "- Mottaleb, K., Rahut, D.N., Kruseman, G., & Erenstein, O. (2017). Wheat production and consumption dynamics in an Asian rice economy: The Bangladesh case. *European Journal of Development Research, 30*(1), 1-24. doi:10.1057/s41287-017-0096-1\n",
    "- nu3. (2018). *Food carbon footprint index 2018*. https://www.nu3.de/blogs/nutrition/food-carbon-footprint-index-2018\n",
    "- Quinton, A. (2019, June 27). *Cows and climate change*. University of California, Davis. https://www.ucdavis.edu/food/news/making-cattle-more-sustainable\n",
    "- Stylianou, N., Guibourg, C., & Briggs, H. (2019, August 9). *Climate change calculator: What's your diet's carbon footprint?* https://www.bbc.com/news/science-environment-46459714\n",
    "- World Health Organization. (n.d.). *Congo*. https://www.who.int/countries/cog/"
   ]
  }
 ],
 "metadata": {
  "kernelspec": {
   "display_name": "Python 3",
   "language": "python",
   "name": "python3"
  },
  "language_info": {
   "codemirror_mode": {
    "name": "ipython",
    "version": 3
   },
   "file_extension": ".py",
   "mimetype": "text/x-python",
   "name": "python",
   "nbconvert_exporter": "python",
   "pygments_lexer": "ipython3",
   "version": "3.7.6"
  }
 },
 "nbformat": 4,
 "nbformat_minor": 4
}
